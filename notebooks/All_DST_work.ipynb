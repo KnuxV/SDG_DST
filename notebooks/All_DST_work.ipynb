{
 "cells": [
  {
   "cell_type": "code",
   "execution_count": 1,
   "outputs": [],
   "source": [
    "import pandas as pd\n",
    "import pyarrow.parquet as pq\n",
    "import pyarrow as pa"
   ],
   "metadata": {
    "collapsed": false,
    "pycharm": {
     "name": "#%%\n"
    }
   }
  },
  {
   "cell_type": "code",
   "execution_count": 2,
   "outputs": [
    {
     "data": {
      "text/plain": "        PT                                                 AU  \\\n0        J             Ondra, V; Sever, IA; Schwingshackl, CW   \n1        J                                    Liu, K; Kang, G   \n2        J               Ali, MS; Balasubramaniam, P; Zhu, QX   \n3        J  Benvidi, A; Abbasi, S; Gharaghani, S; Tezerjan...   \n4        J      Rajagopal, K; Balakrishnan, SN; Busemeyer, JR   \n...     ..                                                ...   \n1253123  J                                  Wei, FF; Feng, JQ   \n1253124  C  Hu, Y; Huang, XM; Baker, AH; Tseng, YH; Bryan,...   \n1253125  J                          Kim, TJ; Sun, X; Yoon, SE   \n1253126  J                       Kavouklis, C; Kallinderis, Y   \n1253127  J                  Zhao, B; Liu, Y; Goh, SH; Lee, FH   \n\n                                                        TI  \\\n0        A method for detection and characterisation of...   \n1        Multiview convolutional neural networks for lu...   \n2        Stability of stochastic fuzzy BAM neural netwo...   \n3        Spectrophotometric determination of synthetic ...   \n4        Neural Network-Based Solutions for Stochastic ...   \n...                                                    ...   \n1253123  Real-time ray casting of algebraic B-spline su...   \n1253124  Improving the Scalability of the Ocean Barotro...   \n1253125  T-ReX: Interactive Global Illumination of Mass...   \n1253126  Parallel adaptation of general three-dimension...   \n1253127  Parallel finite element analysis of seismic so...   \n\n                                                        SO  \\\n0                 MECHANICAL SYSTEMS AND SIGNAL PROCESSING   \n1        INTERNATIONAL JOURNAL OF IMAGING SYSTEMS AND T...   \n2        INTERNATIONAL JOURNAL OF MACHINE LEARNING AND ...   \n3                                           FOOD CHEMISTRY   \n4        IEEE TRANSACTIONS ON NEURAL NETWORKS AND LEARN...   \n...                                                    ...   \n1253123                            COMPUTERS & GRAPHICS-UK   \n1253124  PROCEEDINGS OF SC15: THE INTERNATIONAL CONFERE...   \n1253125  IEEE TRANSACTIONS ON VISUALIZATION AND COMPUTE...   \n1253126                   JOURNAL OF COMPUTATIONAL PHYSICS   \n1253127                          COMPUTERS AND GEOTECHNICS   \n\n                                                        DE  \\\n0        Non-linear system characterisation; Hilbert tr...   \n1        lung nodule classification; multiview convolut...   \n2        Discrete and distributed time-varying delay; G...   \n3        Multicomponent analysis; Artificial neural net...   \n4        Adaptive dynamic programming; neural network-b...   \n...                                                    ...   \n1253123  Piecewise algebraic surface; B-spline; Newton-...   \n1253124  parallel computing; linear solver; ocean modeling   \n1253125  Massive models; ray tracing; photon mapping; g...   \n1253126  Parallel computing; Hybrid meshes; Mesh adapta...   \n1253127  Parallel finite element analysis; Pre-conditio...   \n\n                                                        AB  \\\n0        This paper presents a method for detection and...   \n1        To find a better way to screen early lung canc...   \n2        Among the various fuzzy models, the well-known...   \n3        Four common food colorants, containing tartraz...   \n4        In this paper, an offline approximate dynamic ...   \n...                                                    ...   \n1253123  Piecewise algebraic B-spline surfaces (ABS sur...   \n1253124  High-resolution climate simulations are increa...   \n1253125  We propose several interactive global illumina...   \n1253126  A new parallel dynamic mesh adaptation and loa...   \n1253127  This paper describes an implementation of a hi...   \n\n                                                        C1  \\\n0        [Ondra, V.; Schwingshackl, C. W.] Imperial Col...   \n1        [Liu, Kui; Kang, Guixia] Beijing Univ Posts & ...   \n2        [Ali, M. Syed] Thiruvalluvar Univ, Dept Math, ...   \n3        [Benvidi, Ali; Abbasi, Saleheh; Tezerjani, Mar...   \n4        [Rajagopal, Karthikeyan] Gen Motors Co, Global...   \n...                                                    ...   \n1253123  [Wei, Feifei; Feng, Jieqing] Zhejiang Univ, St...   \n1253124  [Hu, Yong; Huang, Xiaomeng; Yang, Guangwen] Ts...   \n1253125  [Kim, Tae-Joon; Yoon, Sung-Eui] Korea Adv Inst...   \n1253126  [Kavouklis, Christos; Kallinderis, Yannis] Uni...   \n1253127  [Zhao, B.] Keppel Offshore & Marine Technol Ct...   \n\n                                                        EM  TC    PY  ...  \\\n0        v.ondra14@imperial.ac.uk; Ibrahim.Sever@Rolls-...  26  2017  ...   \n1                                       liukui_006@126.com  55  2017  ...   \n2                         syedgru@gmail.com; zqx22@126.com  39  2017  ...   \n3                                      abenvidi@yazd.ac.ir  48  2017  ...   \n4        krg2d@mst.edu; bala@mst.edu; jbusemey@indiana.edu  12  2017  ...   \n...                                                    ...  ..   ...  ...   \n1253123      weifeifeicad@gmail.com; jqfeng@cad.zju.edu.cn   2  2011  ...   \n1253124  huyong11@tsinghua.edu.cn; hxm@tsinghua.edu.cn;...  10  2015  ...   \n1253125  tjkim.kaist@gmail.com; sunxin@microsoft.com; s...   6  2014  ...   \n1253126  christos.kavouklis@gmail.com; kallind@veltisto...   8  2010  ...   \n1253127  ben.zhao@KOMtech.com.sg; ceeliuy@gmail.com; ce...   4  2016  ...   \n\n                          UT  \\\n0        WOS:000385209000012   \n1        WOS:000397734700002   \n2        WOS:000393309600022   \n3        WOS:000388112500048   \n4        WOS:000395980500005   \n...                      ...   \n1253123  WOS:000294034600008   \n1253124  WOS:000382162500043   \n1253125  WOS:000338118700013   \n1253126  WOS:000276124400020   \n1253127  WOS:000387523300015   \n\n                                                        CN     AI big_data  \\\n0           United Kingdom, United Kingdom, United Kingdom   True    False   \n1                                      China, China, China   True    False   \n2                                      India, India, China   True    False   \n3                                                            True    False   \n4        United States, United States, United States, I...   True    False   \n...                                                    ...    ...      ...   \n1253123                                       China, China  False    False   \n1253124  China, China, China, United States, United Sta...  False    False   \n1253125                    South Korea, South Korea, China  False    False   \n1253126                       United States, United States  False    False   \n1253127         Singapore, Singapore, Singapore, Singapore  False    False   \n\n           IOT computing_infrastructure blockchain robotics  \\\n0        False                    False      False    False   \n1        False                    False      False    False   \n2        False                    False      False    False   \n3        False                    False      False    False   \n4        False                    False      False    False   \n...        ...                      ...        ...      ...   \n1253123  False                     True      False    False   \n1253124  False                     True      False    False   \n1253125  False                     True      False    False   \n1253126  False                     True      False    False   \n1253127  False                     True      False    False   \n\n        additive_manufacturing     EU  \n0                        False   True  \n1                        False  False  \n2                        False  False  \n3                        False  False  \n4                        False  False  \n...                        ...    ...  \n1253123                  False  False  \n1253124                  False  False  \n1253125                  False  False  \n1253126                  False  False  \n1253127                  False  False  \n\n[1253128 rows x 21 columns]",
      "text/html": "<div>\n<style scoped>\n    .dataframe tbody tr th:only-of-type {\n        vertical-align: middle;\n    }\n\n    .dataframe tbody tr th {\n        vertical-align: top;\n    }\n\n    .dataframe thead th {\n        text-align: right;\n    }\n</style>\n<table border=\"1\" class=\"dataframe\">\n  <thead>\n    <tr style=\"text-align: right;\">\n      <th></th>\n      <th>PT</th>\n      <th>AU</th>\n      <th>TI</th>\n      <th>SO</th>\n      <th>DE</th>\n      <th>AB</th>\n      <th>C1</th>\n      <th>EM</th>\n      <th>TC</th>\n      <th>PY</th>\n      <th>...</th>\n      <th>UT</th>\n      <th>CN</th>\n      <th>AI</th>\n      <th>big_data</th>\n      <th>IOT</th>\n      <th>computing_infrastructure</th>\n      <th>blockchain</th>\n      <th>robotics</th>\n      <th>additive_manufacturing</th>\n      <th>EU</th>\n    </tr>\n  </thead>\n  <tbody>\n    <tr>\n      <th>0</th>\n      <td>J</td>\n      <td>Ondra, V; Sever, IA; Schwingshackl, CW</td>\n      <td>A method for detection and characterisation of...</td>\n      <td>MECHANICAL SYSTEMS AND SIGNAL PROCESSING</td>\n      <td>Non-linear system characterisation; Hilbert tr...</td>\n      <td>This paper presents a method for detection and...</td>\n      <td>[Ondra, V.; Schwingshackl, C. W.] Imperial Col...</td>\n      <td>v.ondra14@imperial.ac.uk; Ibrahim.Sever@Rolls-...</td>\n      <td>26</td>\n      <td>2017</td>\n      <td>...</td>\n      <td>WOS:000385209000012</td>\n      <td>United Kingdom, United Kingdom, United Kingdom</td>\n      <td>True</td>\n      <td>False</td>\n      <td>False</td>\n      <td>False</td>\n      <td>False</td>\n      <td>False</td>\n      <td>False</td>\n      <td>True</td>\n    </tr>\n    <tr>\n      <th>1</th>\n      <td>J</td>\n      <td>Liu, K; Kang, G</td>\n      <td>Multiview convolutional neural networks for lu...</td>\n      <td>INTERNATIONAL JOURNAL OF IMAGING SYSTEMS AND T...</td>\n      <td>lung nodule classification; multiview convolut...</td>\n      <td>To find a better way to screen early lung canc...</td>\n      <td>[Liu, Kui; Kang, Guixia] Beijing Univ Posts &amp; ...</td>\n      <td>liukui_006@126.com</td>\n      <td>55</td>\n      <td>2017</td>\n      <td>...</td>\n      <td>WOS:000397734700002</td>\n      <td>China, China, China</td>\n      <td>True</td>\n      <td>False</td>\n      <td>False</td>\n      <td>False</td>\n      <td>False</td>\n      <td>False</td>\n      <td>False</td>\n      <td>False</td>\n    </tr>\n    <tr>\n      <th>2</th>\n      <td>J</td>\n      <td>Ali, MS; Balasubramaniam, P; Zhu, QX</td>\n      <td>Stability of stochastic fuzzy BAM neural netwo...</td>\n      <td>INTERNATIONAL JOURNAL OF MACHINE LEARNING AND ...</td>\n      <td>Discrete and distributed time-varying delay; G...</td>\n      <td>Among the various fuzzy models, the well-known...</td>\n      <td>[Ali, M. Syed] Thiruvalluvar Univ, Dept Math, ...</td>\n      <td>syedgru@gmail.com; zqx22@126.com</td>\n      <td>39</td>\n      <td>2017</td>\n      <td>...</td>\n      <td>WOS:000393309600022</td>\n      <td>India, India, China</td>\n      <td>True</td>\n      <td>False</td>\n      <td>False</td>\n      <td>False</td>\n      <td>False</td>\n      <td>False</td>\n      <td>False</td>\n      <td>False</td>\n    </tr>\n    <tr>\n      <th>3</th>\n      <td>J</td>\n      <td>Benvidi, A; Abbasi, S; Gharaghani, S; Tezerjan...</td>\n      <td>Spectrophotometric determination of synthetic ...</td>\n      <td>FOOD CHEMISTRY</td>\n      <td>Multicomponent analysis; Artificial neural net...</td>\n      <td>Four common food colorants, containing tartraz...</td>\n      <td>[Benvidi, Ali; Abbasi, Saleheh; Tezerjani, Mar...</td>\n      <td>abenvidi@yazd.ac.ir</td>\n      <td>48</td>\n      <td>2017</td>\n      <td>...</td>\n      <td>WOS:000388112500048</td>\n      <td></td>\n      <td>True</td>\n      <td>False</td>\n      <td>False</td>\n      <td>False</td>\n      <td>False</td>\n      <td>False</td>\n      <td>False</td>\n      <td>False</td>\n    </tr>\n    <tr>\n      <th>4</th>\n      <td>J</td>\n      <td>Rajagopal, K; Balakrishnan, SN; Busemeyer, JR</td>\n      <td>Neural Network-Based Solutions for Stochastic ...</td>\n      <td>IEEE TRANSACTIONS ON NEURAL NETWORKS AND LEARN...</td>\n      <td>Adaptive dynamic programming; neural network-b...</td>\n      <td>In this paper, an offline approximate dynamic ...</td>\n      <td>[Rajagopal, Karthikeyan] Gen Motors Co, Global...</td>\n      <td>krg2d@mst.edu; bala@mst.edu; jbusemey@indiana.edu</td>\n      <td>12</td>\n      <td>2017</td>\n      <td>...</td>\n      <td>WOS:000395980500005</td>\n      <td>United States, United States, United States, I...</td>\n      <td>True</td>\n      <td>False</td>\n      <td>False</td>\n      <td>False</td>\n      <td>False</td>\n      <td>False</td>\n      <td>False</td>\n      <td>False</td>\n    </tr>\n    <tr>\n      <th>...</th>\n      <td>...</td>\n      <td>...</td>\n      <td>...</td>\n      <td>...</td>\n      <td>...</td>\n      <td>...</td>\n      <td>...</td>\n      <td>...</td>\n      <td>...</td>\n      <td>...</td>\n      <td>...</td>\n      <td>...</td>\n      <td>...</td>\n      <td>...</td>\n      <td>...</td>\n      <td>...</td>\n      <td>...</td>\n      <td>...</td>\n      <td>...</td>\n      <td>...</td>\n      <td>...</td>\n    </tr>\n    <tr>\n      <th>1253123</th>\n      <td>J</td>\n      <td>Wei, FF; Feng, JQ</td>\n      <td>Real-time ray casting of algebraic B-spline su...</td>\n      <td>COMPUTERS &amp; GRAPHICS-UK</td>\n      <td>Piecewise algebraic surface; B-spline; Newton-...</td>\n      <td>Piecewise algebraic B-spline surfaces (ABS sur...</td>\n      <td>[Wei, Feifei; Feng, Jieqing] Zhejiang Univ, St...</td>\n      <td>weifeifeicad@gmail.com; jqfeng@cad.zju.edu.cn</td>\n      <td>2</td>\n      <td>2011</td>\n      <td>...</td>\n      <td>WOS:000294034600008</td>\n      <td>China, China</td>\n      <td>False</td>\n      <td>False</td>\n      <td>False</td>\n      <td>True</td>\n      <td>False</td>\n      <td>False</td>\n      <td>False</td>\n      <td>False</td>\n    </tr>\n    <tr>\n      <th>1253124</th>\n      <td>C</td>\n      <td>Hu, Y; Huang, XM; Baker, AH; Tseng, YH; Bryan,...</td>\n      <td>Improving the Scalability of the Ocean Barotro...</td>\n      <td>PROCEEDINGS OF SC15: THE INTERNATIONAL CONFERE...</td>\n      <td>parallel computing; linear solver; ocean modeling</td>\n      <td>High-resolution climate simulations are increa...</td>\n      <td>[Hu, Yong; Huang, Xiaomeng; Yang, Guangwen] Ts...</td>\n      <td>huyong11@tsinghua.edu.cn; hxm@tsinghua.edu.cn;...</td>\n      <td>10</td>\n      <td>2015</td>\n      <td>...</td>\n      <td>WOS:000382162500043</td>\n      <td>China, China, China, United States, United Sta...</td>\n      <td>False</td>\n      <td>False</td>\n      <td>False</td>\n      <td>True</td>\n      <td>False</td>\n      <td>False</td>\n      <td>False</td>\n      <td>False</td>\n    </tr>\n    <tr>\n      <th>1253125</th>\n      <td>J</td>\n      <td>Kim, TJ; Sun, X; Yoon, SE</td>\n      <td>T-ReX: Interactive Global Illumination of Mass...</td>\n      <td>IEEE TRANSACTIONS ON VISUALIZATION AND COMPUTE...</td>\n      <td>Massive models; ray tracing; photon mapping; g...</td>\n      <td>We propose several interactive global illumina...</td>\n      <td>[Kim, Tae-Joon; Yoon, Sung-Eui] Korea Adv Inst...</td>\n      <td>tjkim.kaist@gmail.com; sunxin@microsoft.com; s...</td>\n      <td>6</td>\n      <td>2014</td>\n      <td>...</td>\n      <td>WOS:000338118700013</td>\n      <td>South Korea, South Korea, China</td>\n      <td>False</td>\n      <td>False</td>\n      <td>False</td>\n      <td>True</td>\n      <td>False</td>\n      <td>False</td>\n      <td>False</td>\n      <td>False</td>\n    </tr>\n    <tr>\n      <th>1253126</th>\n      <td>J</td>\n      <td>Kavouklis, C; Kallinderis, Y</td>\n      <td>Parallel adaptation of general three-dimension...</td>\n      <td>JOURNAL OF COMPUTATIONAL PHYSICS</td>\n      <td>Parallel computing; Hybrid meshes; Mesh adapta...</td>\n      <td>A new parallel dynamic mesh adaptation and loa...</td>\n      <td>[Kavouklis, Christos; Kallinderis, Yannis] Uni...</td>\n      <td>christos.kavouklis@gmail.com; kallind@veltisto...</td>\n      <td>8</td>\n      <td>2010</td>\n      <td>...</td>\n      <td>WOS:000276124400020</td>\n      <td>United States, United States</td>\n      <td>False</td>\n      <td>False</td>\n      <td>False</td>\n      <td>True</td>\n      <td>False</td>\n      <td>False</td>\n      <td>False</td>\n      <td>False</td>\n    </tr>\n    <tr>\n      <th>1253127</th>\n      <td>J</td>\n      <td>Zhao, B; Liu, Y; Goh, SH; Lee, FH</td>\n      <td>Parallel finite element analysis of seismic so...</td>\n      <td>COMPUTERS AND GEOTECHNICS</td>\n      <td>Parallel finite element analysis; Pre-conditio...</td>\n      <td>This paper describes an implementation of a hi...</td>\n      <td>[Zhao, B.] Keppel Offshore &amp; Marine Technol Ct...</td>\n      <td>ben.zhao@KOMtech.com.sg; ceeliuy@gmail.com; ce...</td>\n      <td>4</td>\n      <td>2016</td>\n      <td>...</td>\n      <td>WOS:000387523300015</td>\n      <td>Singapore, Singapore, Singapore, Singapore</td>\n      <td>False</td>\n      <td>False</td>\n      <td>False</td>\n      <td>True</td>\n      <td>False</td>\n      <td>False</td>\n      <td>False</td>\n      <td>False</td>\n    </tr>\n  </tbody>\n</table>\n<p>1253128 rows × 21 columns</p>\n</div>"
     },
     "execution_count": 2,
     "metadata": {},
     "output_type": "execute_result"
    }
   ],
   "source": [
    "df_all_dst = pd.read_pickle(\"../data/output/all_digital.pkl\")\n",
    "df_all_dst"
   ],
   "metadata": {
    "collapsed": false,
    "pycharm": {
     "name": "#%%\n"
    }
   }
  },
  {
   "cell_type": "code",
   "execution_count": 3,
   "outputs": [],
   "source": [
    "lst_dst = ['AI',\n",
    "           'big_data',\n",
    "           'IOT',\n",
    "           'computing_infrastructure',\n",
    "           'blockchain',\n",
    "           'robotics',\n",
    "           'additive_manufacturing']"
   ],
   "metadata": {
    "collapsed": false,
    "pycharm": {
     "name": "#%%\n"
    }
   }
  },
  {
   "cell_type": "code",
   "execution_count": 4,
   "outputs": [
    {
     "data": {
      "text/plain": "        PT                                                 AU  \\\n91       C               Khan, F; Zhang, B; Khan, S; Chen, SQ   \n131      J  Nasseri, A; Jamshidi, S; Yazdifar, H; Percy, D...   \n347      J         Khalifa, N; Abd Elghany, M; Abd Elghany, M   \n356      J       Emmanuel, O; Ananya, M; Misra, S; Koyuncu, M   \n437      J    Kharal, AY; Khalid, HA; Gastli, A; Guerrero, JM   \n...     ..                                                ...   \n1199513  C                Yang, WM; Li, DD; Sun, DR; Liao, QM   \n1200138  C                Shaheen, M; Shahbaz, M; Jadoon, KAK   \n1200469  J  Wolfson, M; Wallace, SE; Masca, N; Rowe, G; Sh...   \n1200644  J                                      Palsdottir, A   \n1200651  C               Singh, SR; Murthy, HA; Gonsalves, TA   \n\n                                                        TI  \\\n91       TECHNOLOGICAL LEAP FROGGING E-GOVERNMENT THROU...   \n131      Evaluating the performances of over-the-counte...   \n347      Exploratory research on digitalization transfo...   \n356      A Deep Neural Network-Based Advisory Framework...   \n437      A Novel Features-Based Multivariate Gaussian D...   \n...                                                    ...   \n1199513  Hydraulic Excavators Recognition Based on Inve...   \n1200138         Data Mining For Wind Energy Site Selection   \n1200469  DataSHIELD: resolving a conflict in contempora...   \n1200644  The connection between purposive information s...   \n1200651  Feature Selection for Text Classification Base...   \n\n                                                        SO  \\\n91       2011 4TH IEEE INTERNATIONAL CONFERENCE ON BROA...   \n131                 JOURNAL OF APPLIED ACCOUNTING RESEARCH   \n347                           COGENT BUSINESS & MANAGEMENT   \n356                                         SUSTAINABILITY   \n437                                            IEEE ACCESS   \n...                                                    ...   \n1199513             PATTERN RECOGNITION (CCPR 2014), PT II   \n1200138  WORLD CONGRESS ON ENGINEERING AND COMPUTER SCI...   \n1200469              INTERNATIONAL JOURNAL OF EPIDEMIOLOGY   \n1200644                           JOURNAL OF DOCUMENTATION   \n1200651  PROCEEDINGS OF THE FOURTH INTERNATIONAL WORKSH...   \n\n                                                        DE  \\\n91       eGovernment; Public-Private Partnership; Cloud...   \n131      Developing countries; Portfolio optimization; ...   \n347      Artificial intelligence; supply chain; supply ...   \n356      sustainability development goals; predictive a...   \n437      Developing countries; Meters; Companies; Tarif...   \n...                                                    ...   \n1199513  Computer vision; Object recognition; Hydraulic...   \n1200138  Site Selection; Data Mining; Wind Turbine; Pri...   \n1200469  Pooling; analysis; meta-analysis; individual-l...   \n1200644  Personal health; Lifestyles; Iceland; Informat...   \n1200651  Text categorization; feature selection; gini c...   \n\n                                                        AB  \\\n91       Building, operating, maintaining, and updating...   \n131      Purpose With suitable optimization criteria, h...   \n347      With no doubt, the adoption of Artificial Inte...   \n356      Research in sustainable development, program d...   \n437      According to statistics, developing countries ...   \n...                                                    ...   \n1199513  Detecting hydraulic excavators in videos can i...   \n1200138  The objective of this paper is to analyze suit...   \n1200469  Methods Data aggregation through anonymous sum...   \n1200644  Purpose - This paper aims to explore health an...   \n1200651  A number of feature selection mechanisms have ...   \n\n                                                        C1  \\\n91       [Khan, Faizullah; Zhang, Bin; Khan, Surat; Che...   \n131      [Nasseri, Ahmad; Jamshidi, Sajad] Univ Sistan ...   \n347      [Khalifa, Nermin; Abd Elghany, Marwa] Arab Aca...   \n356      [Emmanuel, Okewu] Univ Lagos, Ctr Informat & T...   \n437      [Kharal, Ammar Yousaf; Khalid, Hassan Abdullah...   \n...                                                    ...   \n1199513  [Yang, Wenming; Li, Dedi; Sun, Daren; Liao, Qi...   \n1200138  [Shaheen, Muhammad] Univ Arid Agr, Univ Inst I...   \n1200469  [Masca, Nicholas; Sheehan, Nuala A.; Tobin, Ma...   \n1200644  Univ Iceland, Dept Lib & Informat Sci, Reykjav...   \n1200651  [Singh, Sanasam Ranbir] Indian Inst Technol Gu...   \n\n                                                        EM  TC    PY  ...  \\\n91       khan_kakar@yahoo.com; binzhang@bupt.edu.cn; su...  11  2011  ...   \n131      nasseri@acc.usb.ac.ir; usb.sajad@gmail.com; hy...   0  2020  ...   \n347      nermine_khalifa@aast.edu; monam@aast.edu; marw...   0  2021  ...   \n356      eokewu@unilag.edu.ng; ge25daj@mytum.de; Sanjay...   1  2020  ...   \n437                                  adel.gastli@qu.edu.qa   0  2021  ...   \n...                                                    ...  ..   ...  ...   \n1199513                                                NaN   4  2014  ...   \n1200138  dr.shaheen@uaar.edu.pk; m.shahbaz@uet.edu.pk; ...   1  2012  ...   \n1200469                                      pb51@le.ac.uk  86  2010  ...   \n1200644                                      agustap@hi.is  31  2010  ...   \n1200651  RANBIR@IITG.ERNET.IN; HEMA@LANTANA.TENET.RES.I...  42  2010  ...   \n\n           IOT computing_infrastructure blockchain robotics  \\\n91       False                     True      False    False   \n131      False                    False      False    False   \n347      False                    False      False    False   \n356      False                    False      False    False   \n437      False                    False      False    False   \n...        ...                      ...        ...      ...   \n1199513  False                    False      False    False   \n1200138  False                    False      False    False   \n1200469  False                     True      False    False   \n1200644  False                    False      False    False   \n1200651  False                    False      False    False   \n\n        additive_manufacturing Society Economy Environment     EU   DST  \n91                       False    True    True       False  False  True  \n131                      False   False    True       False   True  True  \n347                       True   False    True       False  False  True  \n356                      False    True    True       False   True  True  \n437                      False   False    True       False   True  True  \n...                        ...     ...     ...         ...    ...   ...  \n1199513                  False    True   False       False  False  True  \n1200138                  False    True   False       False  False  True  \n1200469                  False    True   False       False   True  True  \n1200644                  False    True   False       False   True  True  \n1200651                  False    True   False       False  False  True  \n\n[47343 rows x 42 columns]",
      "text/html": "<div>\n<style scoped>\n    .dataframe tbody tr th:only-of-type {\n        vertical-align: middle;\n    }\n\n    .dataframe tbody tr th {\n        vertical-align: top;\n    }\n\n    .dataframe thead th {\n        text-align: right;\n    }\n</style>\n<table border=\"1\" class=\"dataframe\">\n  <thead>\n    <tr style=\"text-align: right;\">\n      <th></th>\n      <th>PT</th>\n      <th>AU</th>\n      <th>TI</th>\n      <th>SO</th>\n      <th>DE</th>\n      <th>AB</th>\n      <th>C1</th>\n      <th>EM</th>\n      <th>TC</th>\n      <th>PY</th>\n      <th>...</th>\n      <th>IOT</th>\n      <th>computing_infrastructure</th>\n      <th>blockchain</th>\n      <th>robotics</th>\n      <th>additive_manufacturing</th>\n      <th>Society</th>\n      <th>Economy</th>\n      <th>Environment</th>\n      <th>EU</th>\n      <th>DST</th>\n    </tr>\n  </thead>\n  <tbody>\n    <tr>\n      <th>91</th>\n      <td>C</td>\n      <td>Khan, F; Zhang, B; Khan, S; Chen, SQ</td>\n      <td>TECHNOLOGICAL LEAP FROGGING E-GOVERNMENT THROU...</td>\n      <td>2011 4TH IEEE INTERNATIONAL CONFERENCE ON BROA...</td>\n      <td>eGovernment; Public-Private Partnership; Cloud...</td>\n      <td>Building, operating, maintaining, and updating...</td>\n      <td>[Khan, Faizullah; Zhang, Bin; Khan, Surat; Che...</td>\n      <td>khan_kakar@yahoo.com; binzhang@bupt.edu.cn; su...</td>\n      <td>11</td>\n      <td>2011</td>\n      <td>...</td>\n      <td>False</td>\n      <td>True</td>\n      <td>False</td>\n      <td>False</td>\n      <td>False</td>\n      <td>True</td>\n      <td>True</td>\n      <td>False</td>\n      <td>False</td>\n      <td>True</td>\n    </tr>\n    <tr>\n      <th>131</th>\n      <td>J</td>\n      <td>Nasseri, A; Jamshidi, S; Yazdifar, H; Percy, D...</td>\n      <td>Evaluating the performances of over-the-counte...</td>\n      <td>JOURNAL OF APPLIED ACCOUNTING RESEARCH</td>\n      <td>Developing countries; Portfolio optimization; ...</td>\n      <td>Purpose With suitable optimization criteria, h...</td>\n      <td>[Nasseri, Ahmad; Jamshidi, Sajad] Univ Sistan ...</td>\n      <td>nasseri@acc.usb.ac.ir; usb.sajad@gmail.com; hy...</td>\n      <td>0</td>\n      <td>2020</td>\n      <td>...</td>\n      <td>False</td>\n      <td>False</td>\n      <td>False</td>\n      <td>False</td>\n      <td>False</td>\n      <td>False</td>\n      <td>True</td>\n      <td>False</td>\n      <td>True</td>\n      <td>True</td>\n    </tr>\n    <tr>\n      <th>347</th>\n      <td>J</td>\n      <td>Khalifa, N; Abd Elghany, M; Abd Elghany, M</td>\n      <td>Exploratory research on digitalization transfo...</td>\n      <td>COGENT BUSINESS &amp; MANAGEMENT</td>\n      <td>Artificial intelligence; supply chain; supply ...</td>\n      <td>With no doubt, the adoption of Artificial Inte...</td>\n      <td>[Khalifa, Nermin; Abd Elghany, Marwa] Arab Aca...</td>\n      <td>nermine_khalifa@aast.edu; monam@aast.edu; marw...</td>\n      <td>0</td>\n      <td>2021</td>\n      <td>...</td>\n      <td>False</td>\n      <td>False</td>\n      <td>False</td>\n      <td>False</td>\n      <td>True</td>\n      <td>False</td>\n      <td>True</td>\n      <td>False</td>\n      <td>False</td>\n      <td>True</td>\n    </tr>\n    <tr>\n      <th>356</th>\n      <td>J</td>\n      <td>Emmanuel, O; Ananya, M; Misra, S; Koyuncu, M</td>\n      <td>A Deep Neural Network-Based Advisory Framework...</td>\n      <td>SUSTAINABILITY</td>\n      <td>sustainability development goals; predictive a...</td>\n      <td>Research in sustainable development, program d...</td>\n      <td>[Emmanuel, Okewu] Univ Lagos, Ctr Informat &amp; T...</td>\n      <td>eokewu@unilag.edu.ng; ge25daj@mytum.de; Sanjay...</td>\n      <td>1</td>\n      <td>2020</td>\n      <td>...</td>\n      <td>False</td>\n      <td>False</td>\n      <td>False</td>\n      <td>False</td>\n      <td>False</td>\n      <td>True</td>\n      <td>True</td>\n      <td>False</td>\n      <td>True</td>\n      <td>True</td>\n    </tr>\n    <tr>\n      <th>437</th>\n      <td>J</td>\n      <td>Kharal, AY; Khalid, HA; Gastli, A; Guerrero, JM</td>\n      <td>A Novel Features-Based Multivariate Gaussian D...</td>\n      <td>IEEE ACCESS</td>\n      <td>Developing countries; Meters; Companies; Tarif...</td>\n      <td>According to statistics, developing countries ...</td>\n      <td>[Kharal, Ammar Yousaf; Khalid, Hassan Abdullah...</td>\n      <td>adel.gastli@qu.edu.qa</td>\n      <td>0</td>\n      <td>2021</td>\n      <td>...</td>\n      <td>False</td>\n      <td>False</td>\n      <td>False</td>\n      <td>False</td>\n      <td>False</td>\n      <td>False</td>\n      <td>True</td>\n      <td>False</td>\n      <td>True</td>\n      <td>True</td>\n    </tr>\n    <tr>\n      <th>...</th>\n      <td>...</td>\n      <td>...</td>\n      <td>...</td>\n      <td>...</td>\n      <td>...</td>\n      <td>...</td>\n      <td>...</td>\n      <td>...</td>\n      <td>...</td>\n      <td>...</td>\n      <td>...</td>\n      <td>...</td>\n      <td>...</td>\n      <td>...</td>\n      <td>...</td>\n      <td>...</td>\n      <td>...</td>\n      <td>...</td>\n      <td>...</td>\n      <td>...</td>\n      <td>...</td>\n    </tr>\n    <tr>\n      <th>1199513</th>\n      <td>C</td>\n      <td>Yang, WM; Li, DD; Sun, DR; Liao, QM</td>\n      <td>Hydraulic Excavators Recognition Based on Inve...</td>\n      <td>PATTERN RECOGNITION (CCPR 2014), PT II</td>\n      <td>Computer vision; Object recognition; Hydraulic...</td>\n      <td>Detecting hydraulic excavators in videos can i...</td>\n      <td>[Yang, Wenming; Li, Dedi; Sun, Daren; Liao, Qi...</td>\n      <td>NaN</td>\n      <td>4</td>\n      <td>2014</td>\n      <td>...</td>\n      <td>False</td>\n      <td>False</td>\n      <td>False</td>\n      <td>False</td>\n      <td>False</td>\n      <td>True</td>\n      <td>False</td>\n      <td>False</td>\n      <td>False</td>\n      <td>True</td>\n    </tr>\n    <tr>\n      <th>1200138</th>\n      <td>C</td>\n      <td>Shaheen, M; Shahbaz, M; Jadoon, KAK</td>\n      <td>Data Mining For Wind Energy Site Selection</td>\n      <td>WORLD CONGRESS ON ENGINEERING AND COMPUTER SCI...</td>\n      <td>Site Selection; Data Mining; Wind Turbine; Pri...</td>\n      <td>The objective of this paper is to analyze suit...</td>\n      <td>[Shaheen, Muhammad] Univ Arid Agr, Univ Inst I...</td>\n      <td>dr.shaheen@uaar.edu.pk; m.shahbaz@uet.edu.pk; ...</td>\n      <td>1</td>\n      <td>2012</td>\n      <td>...</td>\n      <td>False</td>\n      <td>False</td>\n      <td>False</td>\n      <td>False</td>\n      <td>False</td>\n      <td>True</td>\n      <td>False</td>\n      <td>False</td>\n      <td>False</td>\n      <td>True</td>\n    </tr>\n    <tr>\n      <th>1200469</th>\n      <td>J</td>\n      <td>Wolfson, M; Wallace, SE; Masca, N; Rowe, G; Sh...</td>\n      <td>DataSHIELD: resolving a conflict in contempora...</td>\n      <td>INTERNATIONAL JOURNAL OF EPIDEMIOLOGY</td>\n      <td>Pooling; analysis; meta-analysis; individual-l...</td>\n      <td>Methods Data aggregation through anonymous sum...</td>\n      <td>[Masca, Nicholas; Sheehan, Nuala A.; Tobin, Ma...</td>\n      <td>pb51@le.ac.uk</td>\n      <td>86</td>\n      <td>2010</td>\n      <td>...</td>\n      <td>False</td>\n      <td>True</td>\n      <td>False</td>\n      <td>False</td>\n      <td>False</td>\n      <td>True</td>\n      <td>False</td>\n      <td>False</td>\n      <td>True</td>\n      <td>True</td>\n    </tr>\n    <tr>\n      <th>1200644</th>\n      <td>J</td>\n      <td>Palsdottir, A</td>\n      <td>The connection between purposive information s...</td>\n      <td>JOURNAL OF DOCUMENTATION</td>\n      <td>Personal health; Lifestyles; Iceland; Informat...</td>\n      <td>Purpose - This paper aims to explore health an...</td>\n      <td>Univ Iceland, Dept Lib &amp; Informat Sci, Reykjav...</td>\n      <td>agustap@hi.is</td>\n      <td>31</td>\n      <td>2010</td>\n      <td>...</td>\n      <td>False</td>\n      <td>False</td>\n      <td>False</td>\n      <td>False</td>\n      <td>False</td>\n      <td>True</td>\n      <td>False</td>\n      <td>False</td>\n      <td>True</td>\n      <td>True</td>\n    </tr>\n    <tr>\n      <th>1200651</th>\n      <td>C</td>\n      <td>Singh, SR; Murthy, HA; Gonsalves, TA</td>\n      <td>Feature Selection for Text Classification Base...</td>\n      <td>PROCEEDINGS OF THE FOURTH INTERNATIONAL WORKSH...</td>\n      <td>Text categorization; feature selection; gini c...</td>\n      <td>A number of feature selection mechanisms have ...</td>\n      <td>[Singh, Sanasam Ranbir] Indian Inst Technol Gu...</td>\n      <td>RANBIR@IITG.ERNET.IN; HEMA@LANTANA.TENET.RES.I...</td>\n      <td>42</td>\n      <td>2010</td>\n      <td>...</td>\n      <td>False</td>\n      <td>False</td>\n      <td>False</td>\n      <td>False</td>\n      <td>False</td>\n      <td>True</td>\n      <td>False</td>\n      <td>False</td>\n      <td>False</td>\n      <td>True</td>\n    </tr>\n  </tbody>\n</table>\n<p>47343 rows × 42 columns</p>\n</div>"
     },
     "execution_count": 4,
     "metadata": {},
     "output_type": "execute_result"
    }
   ],
   "source": [
    "df_sdg_dst = pd.read_pickle(\"../data/output/all_sdg_fixed_dst.pkl\")\n",
    "df_sdg_dst = df_sdg_dst[df_sdg_dst[\"DST\"]]\n",
    "df_sdg_dst"
   ],
   "metadata": {
    "collapsed": false,
    "pycharm": {
     "name": "#%%\n"
    }
   }
  },
  {
   "cell_type": "code",
   "execution_count": 5,
   "outputs": [],
   "source": [
    "all_dst = []\n",
    "sdg_dst = []\n",
    "for dst in lst_dst:\n",
    "    n1 = df_all_dst[dst].value_counts()[True] / len(df_all_dst)\n",
    "    n2 = df_sdg_dst[dst].value_counts()[True] / len(df_sdg_dst)\n",
    "    all_dst.append(round(n1,2))\n",
    "    sdg_dst.append(round(n2,2))"
   ],
   "metadata": {
    "collapsed": false,
    "pycharm": {
     "name": "#%%\n"
    }
   }
  },
  {
   "cell_type": "code",
   "execution_count": 6,
   "outputs": [
    {
     "data": {
      "text/plain": "[0.58, 0.07, 0.14, 0.11, 0.01, 0.17, 0.05]"
     },
     "execution_count": 6,
     "metadata": {},
     "output_type": "execute_result"
    }
   ],
   "source": [
    "all_dst"
   ],
   "metadata": {
    "collapsed": false,
    "pycharm": {
     "name": "#%%\n"
    }
   }
  },
  {
   "cell_type": "code",
   "execution_count": 7,
   "outputs": [
    {
     "data": {
      "text/plain": "[0.5, 0.13, 0.23, 0.12, 0.02, 0.12, 0.04]"
     },
     "execution_count": 7,
     "metadata": {},
     "output_type": "execute_result"
    }
   ],
   "source": [
    "sdg_dst"
   ],
   "metadata": {
    "collapsed": false,
    "pycharm": {
     "name": "#%%\n"
    }
   }
  },
  {
   "cell_type": "code",
   "execution_count": 8,
   "outputs": [
    {
     "data": {
      "text/plain": "           AI  big_data   IOT  computing_infrastructure  blockchain  robotics  \\\nall_dst  0.58      0.07  0.14                      0.11        0.01      0.17   \nsdg_dst  0.50      0.13  0.23                      0.12        0.02      0.12   \n\n         additive_manufacturing  \nall_dst                    0.05  \nsdg_dst                    0.04  ",
      "text/html": "<div>\n<style scoped>\n    .dataframe tbody tr th:only-of-type {\n        vertical-align: middle;\n    }\n\n    .dataframe tbody tr th {\n        vertical-align: top;\n    }\n\n    .dataframe thead th {\n        text-align: right;\n    }\n</style>\n<table border=\"1\" class=\"dataframe\">\n  <thead>\n    <tr style=\"text-align: right;\">\n      <th></th>\n      <th>AI</th>\n      <th>big_data</th>\n      <th>IOT</th>\n      <th>computing_infrastructure</th>\n      <th>blockchain</th>\n      <th>robotics</th>\n      <th>additive_manufacturing</th>\n    </tr>\n  </thead>\n  <tbody>\n    <tr>\n      <th>all_dst</th>\n      <td>0.58</td>\n      <td>0.07</td>\n      <td>0.14</td>\n      <td>0.11</td>\n      <td>0.01</td>\n      <td>0.17</td>\n      <td>0.05</td>\n    </tr>\n    <tr>\n      <th>sdg_dst</th>\n      <td>0.50</td>\n      <td>0.13</td>\n      <td>0.23</td>\n      <td>0.12</td>\n      <td>0.02</td>\n      <td>0.12</td>\n      <td>0.04</td>\n    </tr>\n  </tbody>\n</table>\n</div>"
     },
     "execution_count": 8,
     "metadata": {},
     "output_type": "execute_result"
    }
   ],
   "source": [
    "df_table = pd.DataFrame(data=[all_dst,sdg_dst], columns=lst_dst, index=['all_dst', 'sdg_dst'])\n",
    "df_table"
   ],
   "metadata": {
    "collapsed": false,
    "pycharm": {
     "name": "#%%\n"
    }
   }
  },
  {
   "cell_type": "code",
   "execution_count": null,
   "outputs": [],
   "source": [],
   "metadata": {
    "collapsed": false,
    "pycharm": {
     "name": "#%%\n"
    }
   }
  }
 ],
 "metadata": {
  "kernelspec": {
   "display_name": "Python 3",
   "language": "python",
   "name": "python3"
  },
  "language_info": {
   "codemirror_mode": {
    "name": "ipython",
    "version": 2
   },
   "file_extension": ".py",
   "mimetype": "text/x-python",
   "name": "python",
   "nbconvert_exporter": "python",
   "pygments_lexer": "ipython2",
   "version": "2.7.6"
  }
 },
 "nbformat": 4,
 "nbformat_minor": 0
}