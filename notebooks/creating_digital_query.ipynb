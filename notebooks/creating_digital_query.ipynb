{
 "cells": [
  {
   "cell_type": "code",
   "execution_count": 32,
   "outputs": [],
   "source": [
    "import numpy as np\n",
    "import pandas as pd"
   ],
   "metadata": {
    "collapsed": false,
    "pycharm": {
     "name": "#%%\n"
    }
   }
  },
  {
   "cell_type": "code",
   "execution_count": 20,
   "outputs": [],
   "source": [
    "dic_country = {'Peoples R China': \"China\", 'England': 'United Kingdom',\n",
    "               'Scotland': 'United Kingdom',\n",
    "               'Wales': 'United Kingdom',\n",
    "               'Northen Ireland': 'United Kingdom',\n",
    "               'North Ireland': 'United Kingdom',\n",
    "               'U Arab Emirates': 'United Arab Emirates',\n",
    "               'Bosnia & Herceg': 'Bosnia and Herzegovina',\n",
    "               'Trinidad Tobago': 'Trinidad and Tobago',\n",
    "               'North Macedonia': 'Macedonia',\n",
    "               'Papua N Guinea': 'Papua New Guinea',\n",
    "               'DEM REP CONGO': 'Congo [DRC]',\n",
    "               'Rep Congo': 'Congo [DRC]',\n",
    "               'BELARUS': 'Belarus',\n",
    "               'Cote Ivoire': 'Cote d\\'Ivoire',\n",
    "               'Marshall Island': 'Marshall Islands',\n",
    "               'Dominican Rep': 'Dominican Republic',\n",
    "               'Turks & Caicos': 'Turks and Caicos Islands',\n",
    "               'St Helena': 'Saint Helena',\n",
    "               'St Kitts & Nevi': 'Saint Kitts and Nevis',\n",
    "               'St Vincent': 'Saint Vincent and the Grenadines',\n",
    "               'Antigua & Barbu': 'Antigua and Barbuda',\n",
    "               'Cent Afr Republ': 'Central African Republic',\n",
    "               'Neth Antilles': 'Netherlands Antilles',\n",
    "               }\n",
    "\n",
    "def get_key(val):\n",
    "    for key, value in dic_country.items():\n",
    "        if val == value:\n",
    "            return key\n",
    "\n",
    "    return \"key doesn't exist\""
   ],
   "metadata": {
    "collapsed": false,
    "pycharm": {
     "name": "#%%\n"
    }
   }
  },
  {
   "cell_type": "code",
   "execution_count": 18,
   "outputs": [
    {
     "data": {
      "text/plain": "['Andorra',\n 'Albania',\n 'Armenia',\n 'Austria',\n 'Azerbaijan',\n 'Bosnia and Herzegovina',\n 'Belgium',\n 'Bulgaria',\n 'Belarus',\n 'Switzerland',\n 'Czech Republic',\n 'Germany',\n 'Denmark',\n 'Estonia',\n 'Spain',\n 'Finland',\n 'Faroe Islands',\n 'France',\n 'United Kingdom',\n 'Georgia',\n 'Guernsey',\n 'Gibraltar',\n 'Greenland',\n 'Greece',\n 'Croatia',\n 'Hungary',\n 'Ireland',\n 'Isle of Man',\n 'Iceland',\n 'Italy',\n 'Jersey',\n 'Liechtenstein',\n 'Lithuania',\n 'Luxembourg',\n 'Latvia',\n 'Monaco',\n 'Moldova',\n 'Montenegro',\n 'Macedonia',\n 'Montserrat',\n 'Malta',\n 'Netherlands',\n 'Norway',\n 'Poland',\n 'Portugal',\n 'Romania',\n 'Serbia',\n 'Sweden',\n 'Slovenia',\n 'Svalbard and Jan Mayen',\n 'Slovakia',\n 'San Marino',\n 'Ukraine',\n 'Vatican City',\n 'Kosovo',\n 'Europe']"
     },
     "execution_count": 18,
     "metadata": {},
     "output_type": "execute_result"
    }
   ],
   "source": [
    "df_country = pd.read_csv(\"../data/country_continent.csv\", index_col=0)\n",
    "df_euro = df_country[df_country.continent == \"Europe\"]\n",
    "lst_euro = df_euro.name.tolist()\n",
    "lst_euro"
   ],
   "metadata": {
    "collapsed": false,
    "pycharm": {
     "name": "#%%\n"
    }
   }
  },
  {
   "cell_type": "code",
   "execution_count": 24,
   "outputs": [
    {
     "data": {
      "text/plain": "['(\"Andorra\")',\n '(\"Albania\")',\n '(\"Armenia\")',\n '(\"Austria\")',\n '(\"Azerbaijan\")',\n '(\"Bosnia & Herceg\")',\n '(\"Belgium\")',\n '(\"Bulgaria\")',\n '(\"BELARUS\")',\n '(\"Switzerland\")',\n '(\"Czech Republic\")',\n '(\"Germany\")',\n '(\"Denmark\")',\n '(\"Estonia\")',\n '(\"Spain\")',\n '(\"Finland\")',\n '(\"Faroe Islands\")',\n '(\"France\")',\n '(\"England\")',\n '(\"Georgia\")',\n '(\"Guernsey\")',\n '(\"Gibraltar\")',\n '(\"Greenland\")',\n '(\"Greece\")',\n '(\"Croatia\")',\n '(\"Hungary\")',\n '(\"Ireland\")',\n '(\"Isle of Man\")',\n '(\"Iceland\")',\n '(\"Italy\")',\n '(\"Jersey\")',\n '(\"Liechtenstein\")',\n '(\"Lithuania\")',\n '(\"Luxembourg\")',\n '(\"Latvia\")',\n '(\"Monaco\")',\n '(\"Moldova\")',\n '(\"Montenegro\")',\n '(\"North Macedonia\")',\n '(\"Montserrat\")',\n '(\"Malta\")',\n '(\"Netherlands\")',\n '(\"Norway\")',\n '(\"Poland\")',\n '(\"Portugal\")',\n '(\"Romania\")',\n '(\"Serbia\")',\n '(\"Sweden\")',\n '(\"Slovenia\")',\n '(\"Svalbard and Jan Mayen\")',\n '(\"Slovakia\")',\n '(\"San Marino\")',\n '(\"Ukraine\")',\n '(\"Vatican City\")',\n '(\"Kosovo\")']"
     },
     "execution_count": 24,
     "metadata": {},
     "output_type": "execute_result"
    }
   ],
   "source": [
    "wos_lst_euro = []\n",
    "for country in lst_euro:\n",
    "    if country in dic_country.values():\n",
    "        wos_lst_euro.append(get_key(country))\n",
    "    else:\n",
    "        wos_lst_euro.append(country)\n",
    "wos_lst_euro = ['(\"'+ elem + '\")' for elem in wos_lst_euro]\n",
    "wos_lst_euro.pop(-1)\n",
    "wos_lst_euro"
   ],
   "metadata": {
    "collapsed": false,
    "pycharm": {
     "name": "#%%\n"
    }
   }
  },
  {
   "cell_type": "code",
   "execution_count": 27,
   "outputs": [],
   "source": [
    "txt_euro_countries = \"CU = (\" + \" OR \".join(wos_lst_euro) + \")\"\n",
    "with open(\"../query/digital_europe/digital_europe.txt\", \"w\", encoding=\"utf-8\") as f:\n",
    "    f.write(txt_euro_countries)"
   ],
   "metadata": {
    "collapsed": false,
    "pycharm": {
     "name": "#%%\n"
    }
   }
  },
  {
   "cell_type": "code",
   "execution_count": null,
   "outputs": [],
   "source": [],
   "metadata": {
    "collapsed": false,
    "pycharm": {
     "name": "#%%\n"
    }
   }
  },
  {
   "cell_type": "code",
   "execution_count": 3,
   "outputs": [
    {
     "data": {
      "text/plain": "                                 AI                  big_data  \\\n0              Artificial intellig*              Apache Spark   \n1               Automated reasoning          Apache Cassandra   \n2                  Backpropagation                   Big data   \n3                   Computer vision              Data center*   \n4                      Data mining               Data centre*   \n5                      Data science                    Hadoop   \n6                     Deep learning         Large-scale data*   \n7                    Expert system*                 MapReduce   \n8                    Face detection             Massive data*   \n9                Feature extraction              Apache Kafka   \n10  Generative adversarial network*                     HBase   \n11              Gesture recognition                  BigTable   \n12             Image classification                    Docker   \n13                Image recognition               Apache Hive   \n14               Image segmentation  Distributed file system*   \n15            Information retrieval                       NaN   \n16             Intelligent machine*                       NaN   \n17                   Kernel machine                       NaN   \n18         Knowledge representation                       NaN   \n19             Machine intelligence                       NaN   \n20                 Machine learning                       NaN   \n21              Machine translation                       NaN   \n22                    Meta-learning                       NaN   \n23           Multilayer perceptron*                       NaN   \n24      Natural language processing                       NaN   \n25                      Neural net*                       NaN   \n26                 Object detection                       NaN   \n27            Object identification                       NaN   \n28               Object recognition                       NaN   \n29              Pattern recognition                       NaN   \n30                  Pose estimation                       NaN   \n31           Reinforcement learning                       NaN   \n32                  Semantic search                       NaN   \n33         Semi-supervised learning                       NaN   \n34               Sentiment analysis                       NaN   \n35               Speech recognition                       NaN   \n36             Statistical learning                       NaN   \n37              Supervised learning                       NaN   \n38              Text classification                       NaN   \n39                Transfer learning                       NaN   \n40             Transformer network*                       NaN   \n41            Unsupervised learning                       NaN   \n42                Voice recognition                       NaN   \n43                       TensorFlow                       NaN   \n44                            Keras                       NaN   \n45                          PyTorch                       NaN   \n46                             amrv                       NaN   \n47               Artificial realit*                       NaN   \n48                Augmented realit*                       NaN   \n49        Computer-mediated realit*                       NaN   \n50                    Mixed realit*                       NaN   \n51                  Virtual realit*                       NaN   \n\n                              IOT       computing_infrastructure  \\\n0               Connected device*             Cloud application*   \n1                 Connected home*            Cloud architecture*   \n2          Cyber-physical system*                   Cloud broker   \n3        Human-machine interface*                   Cloud client   \n4              Hyper connectivity                Cloud computing   \n5   Industrial internet of things          Cloud infrastructure*   \n6             Intelligent factor*                Cloud migration   \n7          Internet of everything                Cloud optimizer   \n8              Internet of things                Cloud portfolio   \n9                             IoT                 Cloud provider   \n10          Machine-to-enterprise                  Cloud server*   \n11               Machine-to-human                 Cloud service*   \n12             Machine-to-machine                 Cloud sourcing   \n13              Pervasive sensing                  Cloud storage   \n14                Sensor network*                Cloud platform*   \n15                  Smart device*               Community cloud*   \n16                  Smart factor*                 Dynamic cloud*   \n17                    Smart home*               Federated cloud*   \n18                  Smart sensor*                  Hybrid cloud*   \n19                      Wearable*    Infrastructure as a service   \n20    Wireless body area network*          Inter-cloud computing   \n21       Wireless sensor network*                   Multi-cloud*   \n22                            NaN            On-demand computing   \n23                            NaN          Platform as a service   \n24                            NaN                 Private cloud*   \n25                            NaN                  Public cloud*   \n26                            NaN          Software as a service   \n27                            NaN          Distributed computing   \n28                            NaN             Parallel computing   \n29                            NaN        Decentralized computing   \n30                            NaN                 Edge computing   \n31                            NaN                  Fog computing   \n32                            NaN                 Grid computing   \n33                            NaN              Cluster computing   \n34                            NaN  Massively parallel processing   \n35                            NaN                  Dew Computing   \n36                            NaN              Cognitive comput*   \n37                            NaN           Cyberinfrastructure*   \n38                            NaN         Data-intensive comput*   \n39                            NaN          Hardware accelerator*   \n40                            NaN       High performance comput*   \n41                            NaN           Neuromorphic comput*   \n42                            NaN                Optical comput*   \n43                            NaN               Photonic comput*   \n44                            NaN                Quantum comput*   \n45                            NaN              Real-time comput*   \n46                            NaN                   Supercomput*   \n47                            NaN                             5G   \n48                            NaN          5th generation mobile   \n49                            NaN        Fifth generation mobile   \n50                            NaN                    5G networks   \n51                            NaN                            NaN   \n\n             blockchain                        robotics  \\\n0               Altcoin                 Autonomous car*   \n1               Bitcoin  Autonomous underwater vehicle*   \n2           Blockchain*             Autonomous vehicle*   \n3        Cryptocurrenc*                             AUV   \n4   Private blockchain*                        Chatbot*   \n5    Public blockchain*                     Cybernetics   \n6                   NaN                          Drone*   \n7                   NaN                 Humanoid robot*   \n8                   NaN                    Manipulator*   \n9                   NaN             Mobile manipulator*   \n10                  NaN                   Mobile robot*   \n11                  NaN                          Robot*   \n12                  NaN                        Robotic*   \n13                  NaN               Self-driving car*   \n14                  NaN           Self-driving vehicle*   \n15                  NaN                             UAV   \n16                  NaN                             UGV   \n17                  NaN               Uncrewed vehicle*   \n18                  NaN        Unmanned aerial vehicle*   \n19                  NaN           Unmanned air vehicle*   \n20                  NaN       Unmanned aircraft system*   \n21                  NaN        Unmanned ground vehicle*   \n22                  NaN             Unmanned spacecraft   \n23                  NaN   Unmanned underwater vehicles*   \n24                  NaN               Unmanned vehicle*   \n25                  NaN                             NaN   \n26                  NaN                             NaN   \n27                  NaN                             NaN   \n28                  NaN                             NaN   \n29                  NaN                             NaN   \n30                  NaN                             NaN   \n31                  NaN                             NaN   \n32                  NaN                             NaN   \n33                  NaN                             NaN   \n34                  NaN                             NaN   \n35                  NaN                             NaN   \n36                  NaN                             NaN   \n37                  NaN                             NaN   \n38                  NaN                             NaN   \n39                  NaN                             NaN   \n40                  NaN                             NaN   \n41                  NaN                             NaN   \n42                  NaN                             NaN   \n43                  NaN                             NaN   \n44                  NaN                             NaN   \n45                  NaN                             NaN   \n46                  NaN                             NaN   \n47                  NaN                             NaN   \n48                  NaN                             NaN   \n49                  NaN                             NaN   \n50                  NaN                             NaN   \n51                  NaN                             NaN   \n\n                    additive_manufacturing  \n0                                3D print*  \n1                           3D prototyping  \n2                     Additive fabrication  \n3             Additive layer manufacturing  \n4                   Additive manufacturing  \n5            Direct digital manufacturing   \n6                             Industry 4.0  \n7                    Layered manufacturing  \n8                        Rapid prototyping  \n9                  Vat photopolymerization  \n10                        Material jetting  \n11                          Binder jetting  \n12                       Powder bed fusion  \n13                      Material extrusion  \n14              Directed energy deposition  \n15                        Sheet lamination  \n16          Composite filament fabrication  \n17  Continuous liquid interface production  \n18                      Direct ink writing  \n19            Direct metal laser sintering  \n20              Directed energy deposition  \n21      Electron-beam freeform fabrication  \n22                   Electron-beam melting  \n23               Fused deposition modeling  \n24              Fused filament fabrication  \n25          Laminated object manufacturing  \n26                             Robocasting  \n27                 Selective laser melting  \n28               Selective laser sintering  \n29                       Stereolithography  \n30                                     NaN  \n31                                     NaN  \n32                                     NaN  \n33                                     NaN  \n34                                     NaN  \n35                                     NaN  \n36                                     NaN  \n37                                     NaN  \n38                                     NaN  \n39                                     NaN  \n40                                     NaN  \n41                                     NaN  \n42                                     NaN  \n43                                     NaN  \n44                                     NaN  \n45                                     NaN  \n46                                     NaN  \n47                                     NaN  \n48                                     NaN  \n49                                     NaN  \n50                                     NaN  \n51                                     NaN  ",
      "text/html": "<div>\n<style scoped>\n    .dataframe tbody tr th:only-of-type {\n        vertical-align: middle;\n    }\n\n    .dataframe tbody tr th {\n        vertical-align: top;\n    }\n\n    .dataframe thead th {\n        text-align: right;\n    }\n</style>\n<table border=\"1\" class=\"dataframe\">\n  <thead>\n    <tr style=\"text-align: right;\">\n      <th></th>\n      <th>AI</th>\n      <th>big_data</th>\n      <th>IOT</th>\n      <th>computing_infrastructure</th>\n      <th>blockchain</th>\n      <th>robotics</th>\n      <th>additive_manufacturing</th>\n    </tr>\n  </thead>\n  <tbody>\n    <tr>\n      <th>0</th>\n      <td>Artificial intellig*</td>\n      <td>Apache Spark</td>\n      <td>Connected device*</td>\n      <td>Cloud application*</td>\n      <td>Altcoin</td>\n      <td>Autonomous car*</td>\n      <td>3D print*</td>\n    </tr>\n    <tr>\n      <th>1</th>\n      <td>Automated reasoning</td>\n      <td>Apache Cassandra</td>\n      <td>Connected home*</td>\n      <td>Cloud architecture*</td>\n      <td>Bitcoin</td>\n      <td>Autonomous underwater vehicle*</td>\n      <td>3D prototyping</td>\n    </tr>\n    <tr>\n      <th>2</th>\n      <td>Backpropagation</td>\n      <td>Big data</td>\n      <td>Cyber-physical system*</td>\n      <td>Cloud broker</td>\n      <td>Blockchain*</td>\n      <td>Autonomous vehicle*</td>\n      <td>Additive fabrication</td>\n    </tr>\n    <tr>\n      <th>3</th>\n      <td>Computer vision</td>\n      <td>Data center*</td>\n      <td>Human-machine interface*</td>\n      <td>Cloud client</td>\n      <td>Cryptocurrenc*</td>\n      <td>AUV</td>\n      <td>Additive layer manufacturing</td>\n    </tr>\n    <tr>\n      <th>4</th>\n      <td>Data mining</td>\n      <td>Data centre*</td>\n      <td>Hyper connectivity</td>\n      <td>Cloud computing</td>\n      <td>Private blockchain*</td>\n      <td>Chatbot*</td>\n      <td>Additive manufacturing</td>\n    </tr>\n    <tr>\n      <th>5</th>\n      <td>Data science</td>\n      <td>Hadoop</td>\n      <td>Industrial internet of things</td>\n      <td>Cloud infrastructure*</td>\n      <td>Public blockchain*</td>\n      <td>Cybernetics</td>\n      <td>Direct digital manufacturing</td>\n    </tr>\n    <tr>\n      <th>6</th>\n      <td>Deep learning</td>\n      <td>Large-scale data*</td>\n      <td>Intelligent factor*</td>\n      <td>Cloud migration</td>\n      <td>NaN</td>\n      <td>Drone*</td>\n      <td>Industry 4.0</td>\n    </tr>\n    <tr>\n      <th>7</th>\n      <td>Expert system*</td>\n      <td>MapReduce</td>\n      <td>Internet of everything</td>\n      <td>Cloud optimizer</td>\n      <td>NaN</td>\n      <td>Humanoid robot*</td>\n      <td>Layered manufacturing</td>\n    </tr>\n    <tr>\n      <th>8</th>\n      <td>Face detection</td>\n      <td>Massive data*</td>\n      <td>Internet of things</td>\n      <td>Cloud portfolio</td>\n      <td>NaN</td>\n      <td>Manipulator*</td>\n      <td>Rapid prototyping</td>\n    </tr>\n    <tr>\n      <th>9</th>\n      <td>Feature extraction</td>\n      <td>Apache Kafka</td>\n      <td>IoT</td>\n      <td>Cloud provider</td>\n      <td>NaN</td>\n      <td>Mobile manipulator*</td>\n      <td>Vat photopolymerization</td>\n    </tr>\n    <tr>\n      <th>10</th>\n      <td>Generative adversarial network*</td>\n      <td>HBase</td>\n      <td>Machine-to-enterprise</td>\n      <td>Cloud server*</td>\n      <td>NaN</td>\n      <td>Mobile robot*</td>\n      <td>Material jetting</td>\n    </tr>\n    <tr>\n      <th>11</th>\n      <td>Gesture recognition</td>\n      <td>BigTable</td>\n      <td>Machine-to-human</td>\n      <td>Cloud service*</td>\n      <td>NaN</td>\n      <td>Robot*</td>\n      <td>Binder jetting</td>\n    </tr>\n    <tr>\n      <th>12</th>\n      <td>Image classification</td>\n      <td>Docker</td>\n      <td>Machine-to-machine</td>\n      <td>Cloud sourcing</td>\n      <td>NaN</td>\n      <td>Robotic*</td>\n      <td>Powder bed fusion</td>\n    </tr>\n    <tr>\n      <th>13</th>\n      <td>Image recognition</td>\n      <td>Apache Hive</td>\n      <td>Pervasive sensing</td>\n      <td>Cloud storage</td>\n      <td>NaN</td>\n      <td>Self-driving car*</td>\n      <td>Material extrusion</td>\n    </tr>\n    <tr>\n      <th>14</th>\n      <td>Image segmentation</td>\n      <td>Distributed file system*</td>\n      <td>Sensor network*</td>\n      <td>Cloud platform*</td>\n      <td>NaN</td>\n      <td>Self-driving vehicle*</td>\n      <td>Directed energy deposition</td>\n    </tr>\n    <tr>\n      <th>15</th>\n      <td>Information retrieval</td>\n      <td>NaN</td>\n      <td>Smart device*</td>\n      <td>Community cloud*</td>\n      <td>NaN</td>\n      <td>UAV</td>\n      <td>Sheet lamination</td>\n    </tr>\n    <tr>\n      <th>16</th>\n      <td>Intelligent machine*</td>\n      <td>NaN</td>\n      <td>Smart factor*</td>\n      <td>Dynamic cloud*</td>\n      <td>NaN</td>\n      <td>UGV</td>\n      <td>Composite filament fabrication</td>\n    </tr>\n    <tr>\n      <th>17</th>\n      <td>Kernel machine</td>\n      <td>NaN</td>\n      <td>Smart home*</td>\n      <td>Federated cloud*</td>\n      <td>NaN</td>\n      <td>Uncrewed vehicle*</td>\n      <td>Continuous liquid interface production</td>\n    </tr>\n    <tr>\n      <th>18</th>\n      <td>Knowledge representation</td>\n      <td>NaN</td>\n      <td>Smart sensor*</td>\n      <td>Hybrid cloud*</td>\n      <td>NaN</td>\n      <td>Unmanned aerial vehicle*</td>\n      <td>Direct ink writing</td>\n    </tr>\n    <tr>\n      <th>19</th>\n      <td>Machine intelligence</td>\n      <td>NaN</td>\n      <td>Wearable*</td>\n      <td>Infrastructure as a service</td>\n      <td>NaN</td>\n      <td>Unmanned air vehicle*</td>\n      <td>Direct metal laser sintering</td>\n    </tr>\n    <tr>\n      <th>20</th>\n      <td>Machine learning</td>\n      <td>NaN</td>\n      <td>Wireless body area network*</td>\n      <td>Inter-cloud computing</td>\n      <td>NaN</td>\n      <td>Unmanned aircraft system*</td>\n      <td>Directed energy deposition</td>\n    </tr>\n    <tr>\n      <th>21</th>\n      <td>Machine translation</td>\n      <td>NaN</td>\n      <td>Wireless sensor network*</td>\n      <td>Multi-cloud*</td>\n      <td>NaN</td>\n      <td>Unmanned ground vehicle*</td>\n      <td>Electron-beam freeform fabrication</td>\n    </tr>\n    <tr>\n      <th>22</th>\n      <td>Meta-learning</td>\n      <td>NaN</td>\n      <td>NaN</td>\n      <td>On-demand computing</td>\n      <td>NaN</td>\n      <td>Unmanned spacecraft</td>\n      <td>Electron-beam melting</td>\n    </tr>\n    <tr>\n      <th>23</th>\n      <td>Multilayer perceptron*</td>\n      <td>NaN</td>\n      <td>NaN</td>\n      <td>Platform as a service</td>\n      <td>NaN</td>\n      <td>Unmanned underwater vehicles*</td>\n      <td>Fused deposition modeling</td>\n    </tr>\n    <tr>\n      <th>24</th>\n      <td>Natural language processing</td>\n      <td>NaN</td>\n      <td>NaN</td>\n      <td>Private cloud*</td>\n      <td>NaN</td>\n      <td>Unmanned vehicle*</td>\n      <td>Fused filament fabrication</td>\n    </tr>\n    <tr>\n      <th>25</th>\n      <td>Neural net*</td>\n      <td>NaN</td>\n      <td>NaN</td>\n      <td>Public cloud*</td>\n      <td>NaN</td>\n      <td>NaN</td>\n      <td>Laminated object manufacturing</td>\n    </tr>\n    <tr>\n      <th>26</th>\n      <td>Object detection</td>\n      <td>NaN</td>\n      <td>NaN</td>\n      <td>Software as a service</td>\n      <td>NaN</td>\n      <td>NaN</td>\n      <td>Robocasting</td>\n    </tr>\n    <tr>\n      <th>27</th>\n      <td>Object identification</td>\n      <td>NaN</td>\n      <td>NaN</td>\n      <td>Distributed computing</td>\n      <td>NaN</td>\n      <td>NaN</td>\n      <td>Selective laser melting</td>\n    </tr>\n    <tr>\n      <th>28</th>\n      <td>Object recognition</td>\n      <td>NaN</td>\n      <td>NaN</td>\n      <td>Parallel computing</td>\n      <td>NaN</td>\n      <td>NaN</td>\n      <td>Selective laser sintering</td>\n    </tr>\n    <tr>\n      <th>29</th>\n      <td>Pattern recognition</td>\n      <td>NaN</td>\n      <td>NaN</td>\n      <td>Decentralized computing</td>\n      <td>NaN</td>\n      <td>NaN</td>\n      <td>Stereolithography</td>\n    </tr>\n    <tr>\n      <th>30</th>\n      <td>Pose estimation</td>\n      <td>NaN</td>\n      <td>NaN</td>\n      <td>Edge computing</td>\n      <td>NaN</td>\n      <td>NaN</td>\n      <td>NaN</td>\n    </tr>\n    <tr>\n      <th>31</th>\n      <td>Reinforcement learning</td>\n      <td>NaN</td>\n      <td>NaN</td>\n      <td>Fog computing</td>\n      <td>NaN</td>\n      <td>NaN</td>\n      <td>NaN</td>\n    </tr>\n    <tr>\n      <th>32</th>\n      <td>Semantic search</td>\n      <td>NaN</td>\n      <td>NaN</td>\n      <td>Grid computing</td>\n      <td>NaN</td>\n      <td>NaN</td>\n      <td>NaN</td>\n    </tr>\n    <tr>\n      <th>33</th>\n      <td>Semi-supervised learning</td>\n      <td>NaN</td>\n      <td>NaN</td>\n      <td>Cluster computing</td>\n      <td>NaN</td>\n      <td>NaN</td>\n      <td>NaN</td>\n    </tr>\n    <tr>\n      <th>34</th>\n      <td>Sentiment analysis</td>\n      <td>NaN</td>\n      <td>NaN</td>\n      <td>Massively parallel processing</td>\n      <td>NaN</td>\n      <td>NaN</td>\n      <td>NaN</td>\n    </tr>\n    <tr>\n      <th>35</th>\n      <td>Speech recognition</td>\n      <td>NaN</td>\n      <td>NaN</td>\n      <td>Dew Computing</td>\n      <td>NaN</td>\n      <td>NaN</td>\n      <td>NaN</td>\n    </tr>\n    <tr>\n      <th>36</th>\n      <td>Statistical learning</td>\n      <td>NaN</td>\n      <td>NaN</td>\n      <td>Cognitive comput*</td>\n      <td>NaN</td>\n      <td>NaN</td>\n      <td>NaN</td>\n    </tr>\n    <tr>\n      <th>37</th>\n      <td>Supervised learning</td>\n      <td>NaN</td>\n      <td>NaN</td>\n      <td>Cyberinfrastructure*</td>\n      <td>NaN</td>\n      <td>NaN</td>\n      <td>NaN</td>\n    </tr>\n    <tr>\n      <th>38</th>\n      <td>Text classification</td>\n      <td>NaN</td>\n      <td>NaN</td>\n      <td>Data-intensive comput*</td>\n      <td>NaN</td>\n      <td>NaN</td>\n      <td>NaN</td>\n    </tr>\n    <tr>\n      <th>39</th>\n      <td>Transfer learning</td>\n      <td>NaN</td>\n      <td>NaN</td>\n      <td>Hardware accelerator*</td>\n      <td>NaN</td>\n      <td>NaN</td>\n      <td>NaN</td>\n    </tr>\n    <tr>\n      <th>40</th>\n      <td>Transformer network*</td>\n      <td>NaN</td>\n      <td>NaN</td>\n      <td>High performance comput*</td>\n      <td>NaN</td>\n      <td>NaN</td>\n      <td>NaN</td>\n    </tr>\n    <tr>\n      <th>41</th>\n      <td>Unsupervised learning</td>\n      <td>NaN</td>\n      <td>NaN</td>\n      <td>Neuromorphic comput*</td>\n      <td>NaN</td>\n      <td>NaN</td>\n      <td>NaN</td>\n    </tr>\n    <tr>\n      <th>42</th>\n      <td>Voice recognition</td>\n      <td>NaN</td>\n      <td>NaN</td>\n      <td>Optical comput*</td>\n      <td>NaN</td>\n      <td>NaN</td>\n      <td>NaN</td>\n    </tr>\n    <tr>\n      <th>43</th>\n      <td>TensorFlow</td>\n      <td>NaN</td>\n      <td>NaN</td>\n      <td>Photonic comput*</td>\n      <td>NaN</td>\n      <td>NaN</td>\n      <td>NaN</td>\n    </tr>\n    <tr>\n      <th>44</th>\n      <td>Keras</td>\n      <td>NaN</td>\n      <td>NaN</td>\n      <td>Quantum comput*</td>\n      <td>NaN</td>\n      <td>NaN</td>\n      <td>NaN</td>\n    </tr>\n    <tr>\n      <th>45</th>\n      <td>PyTorch</td>\n      <td>NaN</td>\n      <td>NaN</td>\n      <td>Real-time comput*</td>\n      <td>NaN</td>\n      <td>NaN</td>\n      <td>NaN</td>\n    </tr>\n    <tr>\n      <th>46</th>\n      <td>amrv</td>\n      <td>NaN</td>\n      <td>NaN</td>\n      <td>Supercomput*</td>\n      <td>NaN</td>\n      <td>NaN</td>\n      <td>NaN</td>\n    </tr>\n    <tr>\n      <th>47</th>\n      <td>Artificial realit*</td>\n      <td>NaN</td>\n      <td>NaN</td>\n      <td>5G</td>\n      <td>NaN</td>\n      <td>NaN</td>\n      <td>NaN</td>\n    </tr>\n    <tr>\n      <th>48</th>\n      <td>Augmented realit*</td>\n      <td>NaN</td>\n      <td>NaN</td>\n      <td>5th generation mobile</td>\n      <td>NaN</td>\n      <td>NaN</td>\n      <td>NaN</td>\n    </tr>\n    <tr>\n      <th>49</th>\n      <td>Computer-mediated realit*</td>\n      <td>NaN</td>\n      <td>NaN</td>\n      <td>Fifth generation mobile</td>\n      <td>NaN</td>\n      <td>NaN</td>\n      <td>NaN</td>\n    </tr>\n    <tr>\n      <th>50</th>\n      <td>Mixed realit*</td>\n      <td>NaN</td>\n      <td>NaN</td>\n      <td>5G networks</td>\n      <td>NaN</td>\n      <td>NaN</td>\n      <td>NaN</td>\n    </tr>\n    <tr>\n      <th>51</th>\n      <td>Virtual realit*</td>\n      <td>NaN</td>\n      <td>NaN</td>\n      <td>NaN</td>\n      <td>NaN</td>\n      <td>NaN</td>\n      <td>NaN</td>\n    </tr>\n  </tbody>\n</table>\n</div>"
     },
     "execution_count": 3,
     "metadata": {},
     "output_type": "execute_result"
    }
   ],
   "source": [
    "df = pd.read_csv(\"../data/keyword_digital_simplified.csv\", encoding='utf-8', sep=\"\\t\")\n",
    "df"
   ],
   "metadata": {
    "collapsed": false,
    "pycharm": {
     "name": "#%%\n"
    }
   }
  },
  {
   "cell_type": "code",
   "execution_count": 42,
   "outputs": [],
   "source": [
    "for column in df.columns:\n",
    "    lst = [elem for elem in df[column][df[column].notna()].tolist()]\n",
    "    # lst = [\"(\\\"\" + elem + \"\\\")\" for elem in lst]\n",
    "    # txt = \"TS = (\" + \" OR \".join(lst) + \")\"\n",
    "    lst = [\"TS = (\\\"\" + elem + \"\\\")\" for elem in lst]\n",
    "    txt = \" OR \".join(lst)\n",
    "    with open(\"../query/digital_europe/digital_europe_test.txt\", \"a\", encoding=\"utf-8\") as f:\n",
    "        f.write(column)\n",
    "        f.write(\"\\n\")\n",
    "        f.write(txt)\n",
    "        f.write(\"\\n\")\n",
    "        f.write(\"\\n\")\n"
   ],
   "metadata": {
    "collapsed": false,
    "pycharm": {
     "name": "#%%\n"
    }
   }
  },
  {
   "cell_type": "code",
   "execution_count": null,
   "outputs": [],
   "source": [],
   "metadata": {
    "collapsed": false,
    "pycharm": {
     "name": "#%%\n"
    }
   }
  }
 ],
 "metadata": {
  "kernelspec": {
   "display_name": "Python 3",
   "language": "python",
   "name": "python3"
  },
  "language_info": {
   "codemirror_mode": {
    "name": "ipython",
    "version": 2
   },
   "file_extension": ".py",
   "mimetype": "text/x-python",
   "name": "python",
   "nbconvert_exporter": "python",
   "pygments_lexer": "ipython2",
   "version": "2.7.6"
  }
 },
 "nbformat": 4,
 "nbformat_minor": 0
}