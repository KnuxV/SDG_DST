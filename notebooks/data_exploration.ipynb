{
 "cells": [
  {
   "cell_type": "code",
   "execution_count": 1,
   "outputs": [
    {
     "data": {
      "text/plain": "        PT                                                 AU  \\\n0        J       Pauw, WP; Castro, P; Pickering, J; Bhasin, S   \n1        C  Morozova, IM; Litvinova, TN; Przhedetskaya, NV...   \n2        J               Hourcade, JC; Dasgupta, D; Ghersi, F   \n3        J                         Larionova, M; Safonkina, E   \n4        J        Kim, DH; Kim, DH; Lee, DH; Park, S; Kim, SI   \n...     ..                                                ...   \n1200662  J                                 Zhang, H; Smith, M   \n1200663  C                                  Zhang, HF; Wu, YZ   \n1200664  C                                  Zhang, J; Chen, S   \n1200665  J                   Zhou, YJ; Dominici, F; Louis, TA   \n1200666  J                                         Zoomers, A   \n\n                                                        TI  \\\n0        Conditional nationally determined contribution...   \n1        The Problems of Financing of Entrepreneurship ...   \n2        Accelerating the speed and scale of climate fi...   \n3        The First Five Decades of Cooperation for Deve...   \n4        Centralization of the Global REDD plus Financi...   \n...                                                    ...   \n1200662  EXPOSURE TO GLOBAL MARKETS, INTERNAL LABOUR MA...   \n1200663  WHY THE LAND OWNERSHIP CANNOT PRODUCE HIGH INC...   \n1200664  Does Technology Disparities Affect the Regiona...   \n1200665  Racial disparities in risks of mortality in a ...   \n1200666  Globalisation and the foreignisation of space:...   \n\n                                                        SO  \\\n0                                           CLIMATE POLICY   \n1                   IMPACT OF INFORMATION ON MODERN HUMANS   \n2                                           CLIMATE POLICY   \n3        VESTNIK MEZHDUNARODNYKH ORGANIZATSII-INTERNATI...   \n4                                                  FORESTS   \n...                                                    ...   \n1200662  CANADIAN JOURNAL OF SOCIOLOGY-CAHIERS CANADIEN...   \n1200663  PROCEEDINGS OF THE SECOND INTERNATIONAL POSTGR...   \n1200664  PROCEEDINGS OF SHANGHAI CONFERENCE ON MANAGEME...   \n1200665  JOURNAL OF THE ROYAL STATISTICAL SOCIETY SERIE...   \n1200666                         JOURNAL OF PEASANT STUDIES   \n\n                                                        DE  \\\n0        Nationally determined contributions; UNFCCC; c...   \n1        Problems of financing; Entrepreneurship infras...   \n2        Climate finance; public guarantees; de-risking...   \n3        cooperation for development; United Nations; G...   \n4        REDD plus; Global Governance Network; global R...   \n...                                                    ...   \n1200662  globalization; exporting; foreign ownership; c...   \n1200663        Land Property; property Income; land Reform   \n1200664  technology disparities; income difference; eco...   \n1200665  Hierarchical model; Markov chain Monte Carlo m...   \n1200666  globalisation; land grab; local development; e...   \n\n                                                        AB  \\\n0        The Paris Agreement's success depends on parti...   \n1        The purpose of the research is to determine th...   \n2        In this paper, we examine how to trigger a wav...   \n3        The sustainable development goals (SDGs) adopt...   \n4        With the institutionalization of reducing emis...   \n...                                                    ...   \n1200662  In this paper we address two bodies of sociolo...   \n1200663  In China, the urban land belongs to the state ...   \n1200664  In this paper, we examine China's regional gro...   \n1200665  Racial disparities in risks of mortality adjus...   \n1200666  The current global land grab is causing radica...   \n\n                                                        C1  \\\n0        [Pauw, W. P.] Frankfurt Sch Finance & Manageme...   \n1        [Morozova, Irina M.] Volgograd State Tech Univ...   \n2        [Hourcade, Jean-Charles] CNRS, CIRED, EHESS, N...   \n3        [Larionova, M.; Safonkina, E.] Natl Econ & Pub...   \n4        [Kim, Do-hun; Kim, Dong-hwan; Park, Sunjoo; Ki...   \n...                                                    ...   \n1200662  [Smith, Michael] McGill Univ, Montreal, PQ H3A...   \n1200663  [Zhang Huifang; Wu Yuzhe] Zhejiang Univ, Dept ...   \n1200664  [Zhang Jian; Chen Song] Tongji Univ, Sch Econ ...   \n1200665  [Zhou, Yijie] Merck Res Labs, Rahway, NJ 07065...   \n1200666      Univ Utrecht, NL-3508 TC Utrecht, Netherlands   \n\n                                                        EM   TC    PY  ...  \\\n0                                             p.pauw@fs.de   22  2020  ...   \n1        morozovaira@list.ru; litvinova1358@yandex.ru; ...    0  2018  ...   \n2                                   ghersi@centre-cired.fr    1  2021  ...   \n3           larionova-mv@ranepa.ru; safonkina-ea@ranepa.ru    3  2018  ...   \n4                                        seongil@snu.ac.kr    8  2019  ...   \n...                                                    ...  ...   ...  ...   \n1200662  heather.zhang@mail.mcgill.ca; michael.smith@mc...    0  2010  ...   \n1200663                                                NaN   11  2010  ...   \n1200664                                                NaN    1  2010  ...   \n1200665                               yijie_zhou@merck.com    1  2010  ...   \n1200666                                a.zoomers@geo.uu.nl  432  2010  ...   \n\n           IOT computing_infrastructure blockchain robotics  \\\n0        False                    False      False    False   \n1        False                    False      False    False   \n2        False                    False      False    False   \n3        False                    False      False    False   \n4        False                    False      False    False   \n...        ...                      ...        ...      ...   \n1200662  False                    False      False    False   \n1200663  False                    False      False    False   \n1200664  False                    False      False    False   \n1200665  False                    False      False    False   \n1200666  False                    False      False    False   \n\n        additive_manufacturing Society Economy Environment     EU    DST  \n0                        False    True    True       False   True  False  \n1                        False   False    True       False  False  False  \n2                        False    True    True       False   True  False  \n3                        False    True    True       False  False  False  \n4                        False    True    True       False  False  False  \n...                        ...     ...     ...         ...    ...    ...  \n1200662                  False    True   False       False  False  False  \n1200663                  False    True   False       False  False  False  \n1200664                  False    True   False       False  False  False  \n1200665                  False    True   False       False  False  False  \n1200666                  False    True   False       False   True  False  \n\n[1200667 rows x 42 columns]",
      "text/html": "<div>\n<style scoped>\n    .dataframe tbody tr th:only-of-type {\n        vertical-align: middle;\n    }\n\n    .dataframe tbody tr th {\n        vertical-align: top;\n    }\n\n    .dataframe thead th {\n        text-align: right;\n    }\n</style>\n<table border=\"1\" class=\"dataframe\">\n  <thead>\n    <tr style=\"text-align: right;\">\n      <th></th>\n      <th>PT</th>\n      <th>AU</th>\n      <th>TI</th>\n      <th>SO</th>\n      <th>DE</th>\n      <th>AB</th>\n      <th>C1</th>\n      <th>EM</th>\n      <th>TC</th>\n      <th>PY</th>\n      <th>...</th>\n      <th>IOT</th>\n      <th>computing_infrastructure</th>\n      <th>blockchain</th>\n      <th>robotics</th>\n      <th>additive_manufacturing</th>\n      <th>Society</th>\n      <th>Economy</th>\n      <th>Environment</th>\n      <th>EU</th>\n      <th>DST</th>\n    </tr>\n  </thead>\n  <tbody>\n    <tr>\n      <th>0</th>\n      <td>J</td>\n      <td>Pauw, WP; Castro, P; Pickering, J; Bhasin, S</td>\n      <td>Conditional nationally determined contribution...</td>\n      <td>CLIMATE POLICY</td>\n      <td>Nationally determined contributions; UNFCCC; c...</td>\n      <td>The Paris Agreement's success depends on parti...</td>\n      <td>[Pauw, W. P.] Frankfurt Sch Finance &amp; Manageme...</td>\n      <td>p.pauw@fs.de</td>\n      <td>22</td>\n      <td>2020</td>\n      <td>...</td>\n      <td>False</td>\n      <td>False</td>\n      <td>False</td>\n      <td>False</td>\n      <td>False</td>\n      <td>True</td>\n      <td>True</td>\n      <td>False</td>\n      <td>True</td>\n      <td>False</td>\n    </tr>\n    <tr>\n      <th>1</th>\n      <td>C</td>\n      <td>Morozova, IM; Litvinova, TN; Przhedetskaya, NV...</td>\n      <td>The Problems of Financing of Entrepreneurship ...</td>\n      <td>IMPACT OF INFORMATION ON MODERN HUMANS</td>\n      <td>Problems of financing; Entrepreneurship infras...</td>\n      <td>The purpose of the research is to determine th...</td>\n      <td>[Morozova, Irina M.] Volgograd State Tech Univ...</td>\n      <td>morozovaira@list.ru; litvinova1358@yandex.ru; ...</td>\n      <td>0</td>\n      <td>2018</td>\n      <td>...</td>\n      <td>False</td>\n      <td>False</td>\n      <td>False</td>\n      <td>False</td>\n      <td>False</td>\n      <td>False</td>\n      <td>True</td>\n      <td>False</td>\n      <td>False</td>\n      <td>False</td>\n    </tr>\n    <tr>\n      <th>2</th>\n      <td>J</td>\n      <td>Hourcade, JC; Dasgupta, D; Ghersi, F</td>\n      <td>Accelerating the speed and scale of climate fi...</td>\n      <td>CLIMATE POLICY</td>\n      <td>Climate finance; public guarantees; de-risking...</td>\n      <td>In this paper, we examine how to trigger a wav...</td>\n      <td>[Hourcade, Jean-Charles] CNRS, CIRED, EHESS, N...</td>\n      <td>ghersi@centre-cired.fr</td>\n      <td>1</td>\n      <td>2021</td>\n      <td>...</td>\n      <td>False</td>\n      <td>False</td>\n      <td>False</td>\n      <td>False</td>\n      <td>False</td>\n      <td>True</td>\n      <td>True</td>\n      <td>False</td>\n      <td>True</td>\n      <td>False</td>\n    </tr>\n    <tr>\n      <th>3</th>\n      <td>J</td>\n      <td>Larionova, M; Safonkina, E</td>\n      <td>The First Five Decades of Cooperation for Deve...</td>\n      <td>VESTNIK MEZHDUNARODNYKH ORGANIZATSII-INTERNATI...</td>\n      <td>cooperation for development; United Nations; G...</td>\n      <td>The sustainable development goals (SDGs) adopt...</td>\n      <td>[Larionova, M.; Safonkina, E.] Natl Econ &amp; Pub...</td>\n      <td>larionova-mv@ranepa.ru; safonkina-ea@ranepa.ru</td>\n      <td>3</td>\n      <td>2018</td>\n      <td>...</td>\n      <td>False</td>\n      <td>False</td>\n      <td>False</td>\n      <td>False</td>\n      <td>False</td>\n      <td>True</td>\n      <td>True</td>\n      <td>False</td>\n      <td>False</td>\n      <td>False</td>\n    </tr>\n    <tr>\n      <th>4</th>\n      <td>J</td>\n      <td>Kim, DH; Kim, DH; Lee, DH; Park, S; Kim, SI</td>\n      <td>Centralization of the Global REDD plus Financi...</td>\n      <td>FORESTS</td>\n      <td>REDD plus; Global Governance Network; global R...</td>\n      <td>With the institutionalization of reducing emis...</td>\n      <td>[Kim, Do-hun; Kim, Dong-hwan; Park, Sunjoo; Ki...</td>\n      <td>seongil@snu.ac.kr</td>\n      <td>8</td>\n      <td>2019</td>\n      <td>...</td>\n      <td>False</td>\n      <td>False</td>\n      <td>False</td>\n      <td>False</td>\n      <td>False</td>\n      <td>True</td>\n      <td>True</td>\n      <td>False</td>\n      <td>False</td>\n      <td>False</td>\n    </tr>\n    <tr>\n      <th>...</th>\n      <td>...</td>\n      <td>...</td>\n      <td>...</td>\n      <td>...</td>\n      <td>...</td>\n      <td>...</td>\n      <td>...</td>\n      <td>...</td>\n      <td>...</td>\n      <td>...</td>\n      <td>...</td>\n      <td>...</td>\n      <td>...</td>\n      <td>...</td>\n      <td>...</td>\n      <td>...</td>\n      <td>...</td>\n      <td>...</td>\n      <td>...</td>\n      <td>...</td>\n      <td>...</td>\n    </tr>\n    <tr>\n      <th>1200662</th>\n      <td>J</td>\n      <td>Zhang, H; Smith, M</td>\n      <td>EXPOSURE TO GLOBAL MARKETS, INTERNAL LABOUR MA...</td>\n      <td>CANADIAN JOURNAL OF SOCIOLOGY-CAHIERS CANADIEN...</td>\n      <td>globalization; exporting; foreign ownership; c...</td>\n      <td>In this paper we address two bodies of sociolo...</td>\n      <td>[Smith, Michael] McGill Univ, Montreal, PQ H3A...</td>\n      <td>heather.zhang@mail.mcgill.ca; michael.smith@mc...</td>\n      <td>0</td>\n      <td>2010</td>\n      <td>...</td>\n      <td>False</td>\n      <td>False</td>\n      <td>False</td>\n      <td>False</td>\n      <td>False</td>\n      <td>True</td>\n      <td>False</td>\n      <td>False</td>\n      <td>False</td>\n      <td>False</td>\n    </tr>\n    <tr>\n      <th>1200663</th>\n      <td>C</td>\n      <td>Zhang, HF; Wu, YZ</td>\n      <td>WHY THE LAND OWNERSHIP CANNOT PRODUCE HIGH INC...</td>\n      <td>PROCEEDINGS OF THE SECOND INTERNATIONAL POSTGR...</td>\n      <td>Land Property; property Income; land Reform</td>\n      <td>In China, the urban land belongs to the state ...</td>\n      <td>[Zhang Huifang; Wu Yuzhe] Zhejiang Univ, Dept ...</td>\n      <td>NaN</td>\n      <td>11</td>\n      <td>2010</td>\n      <td>...</td>\n      <td>False</td>\n      <td>False</td>\n      <td>False</td>\n      <td>False</td>\n      <td>False</td>\n      <td>True</td>\n      <td>False</td>\n      <td>False</td>\n      <td>False</td>\n      <td>False</td>\n    </tr>\n    <tr>\n      <th>1200664</th>\n      <td>C</td>\n      <td>Zhang, J; Chen, S</td>\n      <td>Does Technology Disparities Affect the Regiona...</td>\n      <td>PROCEEDINGS OF SHANGHAI CONFERENCE ON MANAGEME...</td>\n      <td>technology disparities; income difference; eco...</td>\n      <td>In this paper, we examine China's regional gro...</td>\n      <td>[Zhang Jian; Chen Song] Tongji Univ, Sch Econ ...</td>\n      <td>NaN</td>\n      <td>1</td>\n      <td>2010</td>\n      <td>...</td>\n      <td>False</td>\n      <td>False</td>\n      <td>False</td>\n      <td>False</td>\n      <td>False</td>\n      <td>True</td>\n      <td>False</td>\n      <td>False</td>\n      <td>False</td>\n      <td>False</td>\n    </tr>\n    <tr>\n      <th>1200665</th>\n      <td>J</td>\n      <td>Zhou, YJ; Dominici, F; Louis, TA</td>\n      <td>Racial disparities in risks of mortality in a ...</td>\n      <td>JOURNAL OF THE ROYAL STATISTICAL SOCIETY SERIE...</td>\n      <td>Hierarchical model; Markov chain Monte Carlo m...</td>\n      <td>Racial disparities in risks of mortality adjus...</td>\n      <td>[Zhou, Yijie] Merck Res Labs, Rahway, NJ 07065...</td>\n      <td>yijie_zhou@merck.com</td>\n      <td>1</td>\n      <td>2010</td>\n      <td>...</td>\n      <td>False</td>\n      <td>False</td>\n      <td>False</td>\n      <td>False</td>\n      <td>False</td>\n      <td>True</td>\n      <td>False</td>\n      <td>False</td>\n      <td>False</td>\n      <td>False</td>\n    </tr>\n    <tr>\n      <th>1200666</th>\n      <td>J</td>\n      <td>Zoomers, A</td>\n      <td>Globalisation and the foreignisation of space:...</td>\n      <td>JOURNAL OF PEASANT STUDIES</td>\n      <td>globalisation; land grab; local development; e...</td>\n      <td>The current global land grab is causing radica...</td>\n      <td>Univ Utrecht, NL-3508 TC Utrecht, Netherlands</td>\n      <td>a.zoomers@geo.uu.nl</td>\n      <td>432</td>\n      <td>2010</td>\n      <td>...</td>\n      <td>False</td>\n      <td>False</td>\n      <td>False</td>\n      <td>False</td>\n      <td>False</td>\n      <td>True</td>\n      <td>False</td>\n      <td>False</td>\n      <td>True</td>\n      <td>False</td>\n    </tr>\n  </tbody>\n</table>\n<p>1200667 rows × 42 columns</p>\n</div>"
     },
     "execution_count": 1,
     "metadata": {},
     "output_type": "execute_result"
    }
   ],
   "source": [
    "import pandas as pd\n",
    "import numpy as np\n",
    "\n",
    "from IPython.display import display\n",
    "pd.options.display.float_format = '{:,.1f}'.format\n",
    "df = pd.read_pickle(\"../data/output/all_sdg_fixed_dst.pkl\")\n",
    "df"
   ],
   "metadata": {
    "collapsed": false,
    "pycharm": {
     "name": "#%%\n"
    }
   }
  },
  {
   "cell_type": "code",
   "execution_count": 2,
   "outputs": [
    {
     "data": {
      "text/plain": "['SDG1',\n 'SDG2',\n 'SDG3',\n 'SDG4',\n 'SDG5',\n 'SDG6',\n 'SDG7',\n 'SDG8',\n 'SDG9',\n 'SDG10',\n 'SDG11',\n 'SDG12',\n 'SDG13',\n 'SDG14',\n 'SDG15',\n 'SDG16',\n 'SDG17']"
     },
     "execution_count": 2,
     "metadata": {},
     "output_type": "execute_result"
    }
   ],
   "source": [
    "dst_lst = df.columns[30:37].to_list()\n",
    "sdg_list = df.columns[13:30].to_list()\n",
    "sdg_list\n"
   ],
   "metadata": {
    "collapsed": false,
    "pycharm": {
     "name": "#%%\n"
    }
   }
  },
  {
   "cell_type": "code",
   "execution_count": 3,
   "outputs": [],
   "source": [
    "from collections import defaultdict\n",
    "\n",
    "# Preparing df_summary, a table with digital science techs as columns and SDGs as rows\n",
    "\n",
    "dic_summary = defaultdict(list)\n",
    "for dst in dst_lst:\n",
    "    dic_summary[dst] = []\n",
    "# Filtering df by SDG everytime\n",
    "for sdg in sdg_list:\n",
    "    df_sdg = df[df[sdg]]\n",
    "    # Updating each list of the dictionary\n",
    "    total_ds = 0\n",
    "    for key, value_list in dic_summary.items():\n",
    "        if key in df_sdg.columns:\n",
    "            df_filtered = df_sdg[df_sdg[key]]\n",
    "            value_list.append(int(len(df_filtered)))\n",
    "            total_ds += len(df_filtered)\n",
    "    # Updating and appending statistics\n",
    "    total_sdg = len(df_sdg)\n",
    "    percentage_ds = total_ds*100/total_sdg\n",
    "    dic_summary['total_ds'].append(int(total_ds))\n",
    "    dic_summary['total_sdg'].append(int(total_sdg))\n",
    "    dic_summary['total_ds/sdg'].append(percentage_ds)\n",
    "\n",
    "lst_lst = [value_list for value_list in dic_summary.values()]\n",
    "\n",
    "\n",
    "\n"
   ],
   "metadata": {
    "collapsed": false,
    "pycharm": {
     "name": "#%%\n"
    }
   }
  },
  {
   "cell_type": "code",
   "execution_count": 4,
   "outputs": [],
   "source": [
    "df_summary = pd.DataFrame(lst_lst, index=dic_summary.keys(), columns=['SDG'+str(i) for i in range(1,18)], dtype=object)\n",
    "df_summary['total'] = df_summary[list(df_summary.columns)].sum(axis=1)\n",
    "df_summary['total'] = df_summary['total'].astype(int)\n",
    "df_summary['percentage_ds'] = df_summary['total'].apply(lambda x:x*100/len(df))\n"
   ],
   "metadata": {
    "collapsed": false,
    "pycharm": {
     "name": "#%%\n"
    }
   }
  },
  {
   "cell_type": "code",
   "execution_count": 5,
   "metadata": {
    "pycharm": {
     "name": "#%%\n"
    }
   },
   "outputs": [
    {
     "data": {
      "text/plain": "                  AI big_data    IOT computing_infrastructure blockchain  \\\nSDG1             145       64     29                       13         17   \nSDG2             233       41     91                       50         21   \nSDG3            2997      472    574                      260        224   \nSDG4            1004      183    169                       77         19   \nSDG5             662      128     98                       73         10   \nSDG6            1989      214    434                      247         39   \nSDG7            3005     1484   5381                     2383        100   \nSDG8             440      167    228                      250         48   \nSDG9             565      323    483                      420         59   \nSDG10            423      147    118                       99         23   \nSDG11           3010     1011   1132                      522         78   \nSDG12           1295      480    629                      394         99   \nSDG13           5597     1219   1283                      853         96   \nSDG14           1916      255    344                      206         14   \nSDG15           1555      360    484                      233         86   \nSDG16           1540      299    300                      252        234   \nSDG17            591      249    283                      180         76   \ntotal          26967     7096  12060                     6512       1243   \npercentage_ds    2.2      0.6    1.0                      0.5        0.1   \n\n              robotics additive_manufacturing total_ds total_sdg total_ds/sdg  \nSDG1                28                     11      307     29894          1.0  \nSDG2                71                      8      515     18104          2.8  \nSDG3               530                    215     5272    119269          4.4  \nSDG4               217                     70     1739     57351          3.0  \nSDG5               218                     50     1239     63331          2.0  \nSDG6               199                    227     3349    131579          2.5  \nSDG7               799                    146    13298     70331         18.9  \nSDG8               117                    138     1388     28674          4.8  \nSDG9               190                    357     2397     28758          8.3  \nSDG10               91                     61      962     27318          3.5  \nSDG11              542                    140     6435     79531          8.1  \nSDG12              247                    357     3501     85863          4.1  \nSDG13             1344                    330    10722    314964          3.4  \nSDG14             1075                    101     3911    167947          2.3  \nSDG15              405                    214     3337     88991          3.7  \nSDG16              248                     26     2899     62484          4.6  \nSDG17              137                     77     1593     53030          3.0  \ntotal             6458                   2528    62864   1427419           80  \npercentage_ds      0.5                    0.2      5.2     118.9          0.0  ",
      "text/html": "<div>\n<style scoped>\n    .dataframe tbody tr th:only-of-type {\n        vertical-align: middle;\n    }\n\n    .dataframe tbody tr th {\n        vertical-align: top;\n    }\n\n    .dataframe thead th {\n        text-align: right;\n    }\n</style>\n<table border=\"1\" class=\"dataframe\">\n  <thead>\n    <tr style=\"text-align: right;\">\n      <th></th>\n      <th>AI</th>\n      <th>big_data</th>\n      <th>IOT</th>\n      <th>computing_infrastructure</th>\n      <th>blockchain</th>\n      <th>robotics</th>\n      <th>additive_manufacturing</th>\n      <th>total_ds</th>\n      <th>total_sdg</th>\n      <th>total_ds/sdg</th>\n    </tr>\n  </thead>\n  <tbody>\n    <tr>\n      <th>SDG1</th>\n      <td>145</td>\n      <td>64</td>\n      <td>29</td>\n      <td>13</td>\n      <td>17</td>\n      <td>28</td>\n      <td>11</td>\n      <td>307</td>\n      <td>29894</td>\n      <td>1.0</td>\n    </tr>\n    <tr>\n      <th>SDG2</th>\n      <td>233</td>\n      <td>41</td>\n      <td>91</td>\n      <td>50</td>\n      <td>21</td>\n      <td>71</td>\n      <td>8</td>\n      <td>515</td>\n      <td>18104</td>\n      <td>2.8</td>\n    </tr>\n    <tr>\n      <th>SDG3</th>\n      <td>2997</td>\n      <td>472</td>\n      <td>574</td>\n      <td>260</td>\n      <td>224</td>\n      <td>530</td>\n      <td>215</td>\n      <td>5272</td>\n      <td>119269</td>\n      <td>4.4</td>\n    </tr>\n    <tr>\n      <th>SDG4</th>\n      <td>1004</td>\n      <td>183</td>\n      <td>169</td>\n      <td>77</td>\n      <td>19</td>\n      <td>217</td>\n      <td>70</td>\n      <td>1739</td>\n      <td>57351</td>\n      <td>3.0</td>\n    </tr>\n    <tr>\n      <th>SDG5</th>\n      <td>662</td>\n      <td>128</td>\n      <td>98</td>\n      <td>73</td>\n      <td>10</td>\n      <td>218</td>\n      <td>50</td>\n      <td>1239</td>\n      <td>63331</td>\n      <td>2.0</td>\n    </tr>\n    <tr>\n      <th>SDG6</th>\n      <td>1989</td>\n      <td>214</td>\n      <td>434</td>\n      <td>247</td>\n      <td>39</td>\n      <td>199</td>\n      <td>227</td>\n      <td>3349</td>\n      <td>131579</td>\n      <td>2.5</td>\n    </tr>\n    <tr>\n      <th>SDG7</th>\n      <td>3005</td>\n      <td>1484</td>\n      <td>5381</td>\n      <td>2383</td>\n      <td>100</td>\n      <td>799</td>\n      <td>146</td>\n      <td>13298</td>\n      <td>70331</td>\n      <td>18.9</td>\n    </tr>\n    <tr>\n      <th>SDG8</th>\n      <td>440</td>\n      <td>167</td>\n      <td>228</td>\n      <td>250</td>\n      <td>48</td>\n      <td>117</td>\n      <td>138</td>\n      <td>1388</td>\n      <td>28674</td>\n      <td>4.8</td>\n    </tr>\n    <tr>\n      <th>SDG9</th>\n      <td>565</td>\n      <td>323</td>\n      <td>483</td>\n      <td>420</td>\n      <td>59</td>\n      <td>190</td>\n      <td>357</td>\n      <td>2397</td>\n      <td>28758</td>\n      <td>8.3</td>\n    </tr>\n    <tr>\n      <th>SDG10</th>\n      <td>423</td>\n      <td>147</td>\n      <td>118</td>\n      <td>99</td>\n      <td>23</td>\n      <td>91</td>\n      <td>61</td>\n      <td>962</td>\n      <td>27318</td>\n      <td>3.5</td>\n    </tr>\n    <tr>\n      <th>SDG11</th>\n      <td>3010</td>\n      <td>1011</td>\n      <td>1132</td>\n      <td>522</td>\n      <td>78</td>\n      <td>542</td>\n      <td>140</td>\n      <td>6435</td>\n      <td>79531</td>\n      <td>8.1</td>\n    </tr>\n    <tr>\n      <th>SDG12</th>\n      <td>1295</td>\n      <td>480</td>\n      <td>629</td>\n      <td>394</td>\n      <td>99</td>\n      <td>247</td>\n      <td>357</td>\n      <td>3501</td>\n      <td>85863</td>\n      <td>4.1</td>\n    </tr>\n    <tr>\n      <th>SDG13</th>\n      <td>5597</td>\n      <td>1219</td>\n      <td>1283</td>\n      <td>853</td>\n      <td>96</td>\n      <td>1344</td>\n      <td>330</td>\n      <td>10722</td>\n      <td>314964</td>\n      <td>3.4</td>\n    </tr>\n    <tr>\n      <th>SDG14</th>\n      <td>1916</td>\n      <td>255</td>\n      <td>344</td>\n      <td>206</td>\n      <td>14</td>\n      <td>1075</td>\n      <td>101</td>\n      <td>3911</td>\n      <td>167947</td>\n      <td>2.3</td>\n    </tr>\n    <tr>\n      <th>SDG15</th>\n      <td>1555</td>\n      <td>360</td>\n      <td>484</td>\n      <td>233</td>\n      <td>86</td>\n      <td>405</td>\n      <td>214</td>\n      <td>3337</td>\n      <td>88991</td>\n      <td>3.7</td>\n    </tr>\n    <tr>\n      <th>SDG16</th>\n      <td>1540</td>\n      <td>299</td>\n      <td>300</td>\n      <td>252</td>\n      <td>234</td>\n      <td>248</td>\n      <td>26</td>\n      <td>2899</td>\n      <td>62484</td>\n      <td>4.6</td>\n    </tr>\n    <tr>\n      <th>SDG17</th>\n      <td>591</td>\n      <td>249</td>\n      <td>283</td>\n      <td>180</td>\n      <td>76</td>\n      <td>137</td>\n      <td>77</td>\n      <td>1593</td>\n      <td>53030</td>\n      <td>3.0</td>\n    </tr>\n    <tr>\n      <th>total</th>\n      <td>26967</td>\n      <td>7096</td>\n      <td>12060</td>\n      <td>6512</td>\n      <td>1243</td>\n      <td>6458</td>\n      <td>2528</td>\n      <td>62864</td>\n      <td>1427419</td>\n      <td>80</td>\n    </tr>\n    <tr>\n      <th>percentage_ds</th>\n      <td>2.2</td>\n      <td>0.6</td>\n      <td>1.0</td>\n      <td>0.5</td>\n      <td>0.1</td>\n      <td>0.5</td>\n      <td>0.2</td>\n      <td>5.2</td>\n      <td>118.9</td>\n      <td>0.0</td>\n    </tr>\n  </tbody>\n</table>\n</div>"
     },
     "execution_count": 5,
     "metadata": {},
     "output_type": "execute_result"
    }
   ],
   "source": [
    "df_summary = df_summary.transpose()\n",
    "df_summary"
   ]
  },
  {
   "cell_type": "code",
   "execution_count": 6,
   "metadata": {
    "pycharm": {
     "name": "#%%\n"
    }
   },
   "outputs": [
    {
     "data": {
      "text/plain": "                  AI big_data    IOT computing_infrastructure blockchain  \\\nSDG1             145       64     29                       13         17   \nSDG2             233       41     91                       50         21   \nSDG3            2997      472    574                      260        224   \nSDG4            1004      183    169                       77         19   \nSDG5             662      128     98                       73         10   \nSDG6            1989      214    434                      247         39   \nSDG7            3005     1484   5381                     2383        100   \nSDG8             440      167    228                      250         48   \nSDG9             565      323    483                      420         59   \nSDG10            423      147    118                       99         23   \nSDG11           3010     1011   1132                      522         78   \nSDG12           1295      480    629                      394         99   \nSDG13           5597     1219   1283                      853         96   \nSDG14           1916      255    344                      206         14   \nSDG15           1555      360    484                      233         86   \nSDG16           1540      299    300                      252        234   \nSDG17            591      249    283                      180         76   \ntotal          26967     7096  12060                     6512       1243   \npercentage_ds    2.2      0.6    1.0                      0.5        0.1   \n\n              robotics additive_manufacturing total_ds total_sdg total_ds/sdg  \nSDG1                28                     11      307     29894          1.0  \nSDG2                71                      8      515     18104          2.8  \nSDG3               530                    215     5272    119269          4.4  \nSDG4               217                     70     1739     57351          3.0  \nSDG5               218                     50     1239     63331          2.0  \nSDG6               199                    227     3349    131579          2.5  \nSDG7               799                    146    13298     70331         18.9  \nSDG8               117                    138     1388     28674          4.8  \nSDG9               190                    357     2397     28758          8.3  \nSDG10               91                     61      962     27318          3.5  \nSDG11              542                    140     6435     79531          8.1  \nSDG12              247                    357     3501     85863          4.1  \nSDG13             1344                    330    10722    314964          3.4  \nSDG14             1075                    101     3911    167947          2.3  \nSDG15              405                    214     3337     88991          3.7  \nSDG16              248                     26     2899     62484          4.6  \nSDG17              137                     77     1593     53030          3.0  \ntotal             6458                   2528    62864   1427419          4.7  \npercentage_ds      0.5                    0.2      5.2     118.9          NaN  ",
      "text/html": "<div>\n<style scoped>\n    .dataframe tbody tr th:only-of-type {\n        vertical-align: middle;\n    }\n\n    .dataframe tbody tr th {\n        vertical-align: top;\n    }\n\n    .dataframe thead th {\n        text-align: right;\n    }\n</style>\n<table border=\"1\" class=\"dataframe\">\n  <thead>\n    <tr style=\"text-align: right;\">\n      <th></th>\n      <th>AI</th>\n      <th>big_data</th>\n      <th>IOT</th>\n      <th>computing_infrastructure</th>\n      <th>blockchain</th>\n      <th>robotics</th>\n      <th>additive_manufacturing</th>\n      <th>total_ds</th>\n      <th>total_sdg</th>\n      <th>total_ds/sdg</th>\n    </tr>\n  </thead>\n  <tbody>\n    <tr>\n      <th>SDG1</th>\n      <td>145</td>\n      <td>64</td>\n      <td>29</td>\n      <td>13</td>\n      <td>17</td>\n      <td>28</td>\n      <td>11</td>\n      <td>307</td>\n      <td>29894</td>\n      <td>1.0</td>\n    </tr>\n    <tr>\n      <th>SDG2</th>\n      <td>233</td>\n      <td>41</td>\n      <td>91</td>\n      <td>50</td>\n      <td>21</td>\n      <td>71</td>\n      <td>8</td>\n      <td>515</td>\n      <td>18104</td>\n      <td>2.8</td>\n    </tr>\n    <tr>\n      <th>SDG3</th>\n      <td>2997</td>\n      <td>472</td>\n      <td>574</td>\n      <td>260</td>\n      <td>224</td>\n      <td>530</td>\n      <td>215</td>\n      <td>5272</td>\n      <td>119269</td>\n      <td>4.4</td>\n    </tr>\n    <tr>\n      <th>SDG4</th>\n      <td>1004</td>\n      <td>183</td>\n      <td>169</td>\n      <td>77</td>\n      <td>19</td>\n      <td>217</td>\n      <td>70</td>\n      <td>1739</td>\n      <td>57351</td>\n      <td>3.0</td>\n    </tr>\n    <tr>\n      <th>SDG5</th>\n      <td>662</td>\n      <td>128</td>\n      <td>98</td>\n      <td>73</td>\n      <td>10</td>\n      <td>218</td>\n      <td>50</td>\n      <td>1239</td>\n      <td>63331</td>\n      <td>2.0</td>\n    </tr>\n    <tr>\n      <th>SDG6</th>\n      <td>1989</td>\n      <td>214</td>\n      <td>434</td>\n      <td>247</td>\n      <td>39</td>\n      <td>199</td>\n      <td>227</td>\n      <td>3349</td>\n      <td>131579</td>\n      <td>2.5</td>\n    </tr>\n    <tr>\n      <th>SDG7</th>\n      <td>3005</td>\n      <td>1484</td>\n      <td>5381</td>\n      <td>2383</td>\n      <td>100</td>\n      <td>799</td>\n      <td>146</td>\n      <td>13298</td>\n      <td>70331</td>\n      <td>18.9</td>\n    </tr>\n    <tr>\n      <th>SDG8</th>\n      <td>440</td>\n      <td>167</td>\n      <td>228</td>\n      <td>250</td>\n      <td>48</td>\n      <td>117</td>\n      <td>138</td>\n      <td>1388</td>\n      <td>28674</td>\n      <td>4.8</td>\n    </tr>\n    <tr>\n      <th>SDG9</th>\n      <td>565</td>\n      <td>323</td>\n      <td>483</td>\n      <td>420</td>\n      <td>59</td>\n      <td>190</td>\n      <td>357</td>\n      <td>2397</td>\n      <td>28758</td>\n      <td>8.3</td>\n    </tr>\n    <tr>\n      <th>SDG10</th>\n      <td>423</td>\n      <td>147</td>\n      <td>118</td>\n      <td>99</td>\n      <td>23</td>\n      <td>91</td>\n      <td>61</td>\n      <td>962</td>\n      <td>27318</td>\n      <td>3.5</td>\n    </tr>\n    <tr>\n      <th>SDG11</th>\n      <td>3010</td>\n      <td>1011</td>\n      <td>1132</td>\n      <td>522</td>\n      <td>78</td>\n      <td>542</td>\n      <td>140</td>\n      <td>6435</td>\n      <td>79531</td>\n      <td>8.1</td>\n    </tr>\n    <tr>\n      <th>SDG12</th>\n      <td>1295</td>\n      <td>480</td>\n      <td>629</td>\n      <td>394</td>\n      <td>99</td>\n      <td>247</td>\n      <td>357</td>\n      <td>3501</td>\n      <td>85863</td>\n      <td>4.1</td>\n    </tr>\n    <tr>\n      <th>SDG13</th>\n      <td>5597</td>\n      <td>1219</td>\n      <td>1283</td>\n      <td>853</td>\n      <td>96</td>\n      <td>1344</td>\n      <td>330</td>\n      <td>10722</td>\n      <td>314964</td>\n      <td>3.4</td>\n    </tr>\n    <tr>\n      <th>SDG14</th>\n      <td>1916</td>\n      <td>255</td>\n      <td>344</td>\n      <td>206</td>\n      <td>14</td>\n      <td>1075</td>\n      <td>101</td>\n      <td>3911</td>\n      <td>167947</td>\n      <td>2.3</td>\n    </tr>\n    <tr>\n      <th>SDG15</th>\n      <td>1555</td>\n      <td>360</td>\n      <td>484</td>\n      <td>233</td>\n      <td>86</td>\n      <td>405</td>\n      <td>214</td>\n      <td>3337</td>\n      <td>88991</td>\n      <td>3.7</td>\n    </tr>\n    <tr>\n      <th>SDG16</th>\n      <td>1540</td>\n      <td>299</td>\n      <td>300</td>\n      <td>252</td>\n      <td>234</td>\n      <td>248</td>\n      <td>26</td>\n      <td>2899</td>\n      <td>62484</td>\n      <td>4.6</td>\n    </tr>\n    <tr>\n      <th>SDG17</th>\n      <td>591</td>\n      <td>249</td>\n      <td>283</td>\n      <td>180</td>\n      <td>76</td>\n      <td>137</td>\n      <td>77</td>\n      <td>1593</td>\n      <td>53030</td>\n      <td>3.0</td>\n    </tr>\n    <tr>\n      <th>total</th>\n      <td>26967</td>\n      <td>7096</td>\n      <td>12060</td>\n      <td>6512</td>\n      <td>1243</td>\n      <td>6458</td>\n      <td>2528</td>\n      <td>62864</td>\n      <td>1427419</td>\n      <td>4.7</td>\n    </tr>\n    <tr>\n      <th>percentage_ds</th>\n      <td>2.2</td>\n      <td>0.6</td>\n      <td>1.0</td>\n      <td>0.5</td>\n      <td>0.1</td>\n      <td>0.5</td>\n      <td>0.2</td>\n      <td>5.2</td>\n      <td>118.9</td>\n      <td>NaN</td>\n    </tr>\n  </tbody>\n</table>\n</div>"
     },
     "execution_count": 6,
     "metadata": {},
     "output_type": "execute_result"
    }
   ],
   "source": [
    "import numpy as np\n",
    "df_summary['total_ds/sdg']['total'] = df_summary['total_ds/sdg'].iloc[0:17].mean()\n",
    "df_summary['total_ds/sdg']['percentage_ds'] = np.NAN\n",
    "df_summary\n"
   ]
  },
  {
   "cell_type": "code",
   "execution_count": 7,
   "metadata": {
    "pycharm": {
     "name": "#%%\n"
    }
   },
   "outputs": [
    {
     "ename": "FileNotFoundError",
     "evalue": "[Errno 2] No such file or directory: '/media/kevin/My Passport/SDG/img/summary.html'",
     "output_type": "error",
     "traceback": [
      "\u001B[0;31m---------------------------------------------------------------------------\u001B[0m",
      "\u001B[0;31mFileNotFoundError\u001B[0m                         Traceback (most recent call last)",
      "Input \u001B[0;32mIn [7]\u001B[0m, in \u001B[0;36m<cell line: 3>\u001B[0;34m()\u001B[0m\n\u001B[1;32m      1\u001B[0m html \u001B[38;5;241m=\u001B[39m df_summary\u001B[38;5;241m.\u001B[39mto_html(justify\u001B[38;5;241m=\u001B[39m\u001B[38;5;124m\"\u001B[39m\u001B[38;5;124mcenter\u001B[39m\u001B[38;5;124m\"\u001B[39m, classes\u001B[38;5;241m=\u001B[39m\u001B[38;5;124m\"\u001B[39m\u001B[38;5;124mtable table-striped\u001B[39m\u001B[38;5;124m\"\u001B[39m)\n\u001B[1;32m      2\u001B[0m \u001B[38;5;66;03m#write html to file\u001B[39;00m\n\u001B[0;32m----> 3\u001B[0m \u001B[38;5;28;01mwith\u001B[39;00m \u001B[38;5;28;43mopen\u001B[39;49m\u001B[43m(\u001B[49m\u001B[38;5;124;43m\"\u001B[39;49m\u001B[38;5;124;43m/media/kevin/My Passport/SDG/img/summary.html\u001B[39;49m\u001B[38;5;124;43m\"\u001B[39;49m\u001B[43m,\u001B[49m\u001B[43m \u001B[49m\u001B[38;5;124;43m\"\u001B[39;49m\u001B[38;5;124;43mw\u001B[39;49m\u001B[38;5;124;43m\"\u001B[39;49m\u001B[43m,\u001B[49m\u001B[43m \u001B[49m\u001B[43mencoding\u001B[49m\u001B[38;5;241;43m=\u001B[39;49m\u001B[38;5;124;43m\"\u001B[39;49m\u001B[38;5;124;43mutf-8\u001B[39;49m\u001B[38;5;124;43m\"\u001B[39;49m\u001B[43m)\u001B[49m \u001B[38;5;28;01mas\u001B[39;00m f:\n\u001B[1;32m      4\u001B[0m     f\u001B[38;5;241m.\u001B[39mwrite(html)\n",
      "\u001B[0;31mFileNotFoundError\u001B[0m: [Errno 2] No such file or directory: '/media/kevin/My Passport/SDG/img/summary.html'"
     ]
    }
   ],
   "source": [
    "html = df_summary.to_html(justify=\"center\", classes=\"table table-striped\")\n",
    "#write html to file\n",
    "with open(\"/media/kevin/My Passport/SDG/img/summary.html\", \"w\", encoding=\"utf-8\") as f:\n",
    "    f.write(html)"
   ]
  },
  {
   "cell_type": "code",
   "execution_count": 12,
   "metadata": {
    "pycharm": {
     "name": "#%%\n"
    }
   },
   "outputs": [],
   "source": [
    "summary_md = df_summary.to_markdown()\n",
    "with open(\"/media/kevin/My Passport/SDG/img/summary.md\", \"w\", encoding=\"utf-8\") as f:\n",
    "    f.write(summary_md)"
   ]
  },
  {
   "cell_type": "code",
   "execution_count": 10,
   "metadata": {
    "pycharm": {
     "name": "#%%\n"
    }
   },
   "outputs": [],
   "source": [
    "df_summary.to_pickle(\"../data/output/summary.pkl\")"
   ]
  },
  {
   "cell_type": "code",
   "execution_count": 11,
   "metadata": {
    "pycharm": {
     "name": "#%%\n"
    }
   },
   "outputs": [
    {
     "data": {
      "text/plain": "                  AI big_data    IOT computing_infrastructure blockchain  \\\nSDG1             145       64     29                       13         17   \nSDG2             233       41     91                       50         21   \nSDG3            2997      472    574                      260        224   \nSDG4            1004      183    169                       77         19   \nSDG5             662      128     98                       73         10   \nSDG6            1989      214    434                      247         39   \nSDG7            3005     1484   5381                     2383        100   \nSDG8             440      167    228                      250         48   \nSDG9             565      323    483                      420         59   \nSDG10            423      147    118                       99         23   \nSDG11           3010     1011   1132                      522         78   \nSDG12           1295      480    629                      394         99   \nSDG13           5597     1219   1283                      853         96   \nSDG14           1916      255    344                      206         14   \nSDG15           1555      360    484                      233         86   \nSDG16           1540      299    300                      252        234   \nSDG17            591      249    283                      180         76   \ntotal          26967     7096  12060                     6512       1243   \npercentage_ds    2.2      0.6    1.0                      0.5        0.1   \n\n              robotics additive_manufacturing total_ds total_sdg total_ds/sdg  \nSDG1                28                     11      307     29894          1.0  \nSDG2                71                      8      515     18104          2.8  \nSDG3               530                    215     5272    119269          4.4  \nSDG4               217                     70     1739     57351          3.0  \nSDG5               218                     50     1239     63331          2.0  \nSDG6               199                    227     3349    131579          2.5  \nSDG7               799                    146    13298     70331         18.9  \nSDG8               117                    138     1388     28674          4.8  \nSDG9               190                    357     2397     28758          8.3  \nSDG10               91                     61      962     27318          3.5  \nSDG11              542                    140     6435     79531          8.1  \nSDG12              247                    357     3501     85863          4.1  \nSDG13             1344                    330    10722    314964          3.4  \nSDG14             1075                    101     3911    167947          2.3  \nSDG15              405                    214     3337     88991          3.7  \nSDG16              248                     26     2899     62484          4.6  \nSDG17              137                     77     1593     53030          3.0  \ntotal             6458                   2528    62864   1427419          4.7  \npercentage_ds      0.5                    0.2      5.2     118.9          NaN  ",
      "text/html": "<div>\n<style scoped>\n    .dataframe tbody tr th:only-of-type {\n        vertical-align: middle;\n    }\n\n    .dataframe tbody tr th {\n        vertical-align: top;\n    }\n\n    .dataframe thead th {\n        text-align: right;\n    }\n</style>\n<table border=\"1\" class=\"dataframe\">\n  <thead>\n    <tr style=\"text-align: right;\">\n      <th></th>\n      <th>AI</th>\n      <th>big_data</th>\n      <th>IOT</th>\n      <th>computing_infrastructure</th>\n      <th>blockchain</th>\n      <th>robotics</th>\n      <th>additive_manufacturing</th>\n      <th>total_ds</th>\n      <th>total_sdg</th>\n      <th>total_ds/sdg</th>\n    </tr>\n  </thead>\n  <tbody>\n    <tr>\n      <th>SDG1</th>\n      <td>145</td>\n      <td>64</td>\n      <td>29</td>\n      <td>13</td>\n      <td>17</td>\n      <td>28</td>\n      <td>11</td>\n      <td>307</td>\n      <td>29894</td>\n      <td>1.0</td>\n    </tr>\n    <tr>\n      <th>SDG2</th>\n      <td>233</td>\n      <td>41</td>\n      <td>91</td>\n      <td>50</td>\n      <td>21</td>\n      <td>71</td>\n      <td>8</td>\n      <td>515</td>\n      <td>18104</td>\n      <td>2.8</td>\n    </tr>\n    <tr>\n      <th>SDG3</th>\n      <td>2997</td>\n      <td>472</td>\n      <td>574</td>\n      <td>260</td>\n      <td>224</td>\n      <td>530</td>\n      <td>215</td>\n      <td>5272</td>\n      <td>119269</td>\n      <td>4.4</td>\n    </tr>\n    <tr>\n      <th>SDG4</th>\n      <td>1004</td>\n      <td>183</td>\n      <td>169</td>\n      <td>77</td>\n      <td>19</td>\n      <td>217</td>\n      <td>70</td>\n      <td>1739</td>\n      <td>57351</td>\n      <td>3.0</td>\n    </tr>\n    <tr>\n      <th>SDG5</th>\n      <td>662</td>\n      <td>128</td>\n      <td>98</td>\n      <td>73</td>\n      <td>10</td>\n      <td>218</td>\n      <td>50</td>\n      <td>1239</td>\n      <td>63331</td>\n      <td>2.0</td>\n    </tr>\n    <tr>\n      <th>SDG6</th>\n      <td>1989</td>\n      <td>214</td>\n      <td>434</td>\n      <td>247</td>\n      <td>39</td>\n      <td>199</td>\n      <td>227</td>\n      <td>3349</td>\n      <td>131579</td>\n      <td>2.5</td>\n    </tr>\n    <tr>\n      <th>SDG7</th>\n      <td>3005</td>\n      <td>1484</td>\n      <td>5381</td>\n      <td>2383</td>\n      <td>100</td>\n      <td>799</td>\n      <td>146</td>\n      <td>13298</td>\n      <td>70331</td>\n      <td>18.9</td>\n    </tr>\n    <tr>\n      <th>SDG8</th>\n      <td>440</td>\n      <td>167</td>\n      <td>228</td>\n      <td>250</td>\n      <td>48</td>\n      <td>117</td>\n      <td>138</td>\n      <td>1388</td>\n      <td>28674</td>\n      <td>4.8</td>\n    </tr>\n    <tr>\n      <th>SDG9</th>\n      <td>565</td>\n      <td>323</td>\n      <td>483</td>\n      <td>420</td>\n      <td>59</td>\n      <td>190</td>\n      <td>357</td>\n      <td>2397</td>\n      <td>28758</td>\n      <td>8.3</td>\n    </tr>\n    <tr>\n      <th>SDG10</th>\n      <td>423</td>\n      <td>147</td>\n      <td>118</td>\n      <td>99</td>\n      <td>23</td>\n      <td>91</td>\n      <td>61</td>\n      <td>962</td>\n      <td>27318</td>\n      <td>3.5</td>\n    </tr>\n    <tr>\n      <th>SDG11</th>\n      <td>3010</td>\n      <td>1011</td>\n      <td>1132</td>\n      <td>522</td>\n      <td>78</td>\n      <td>542</td>\n      <td>140</td>\n      <td>6435</td>\n      <td>79531</td>\n      <td>8.1</td>\n    </tr>\n    <tr>\n      <th>SDG12</th>\n      <td>1295</td>\n      <td>480</td>\n      <td>629</td>\n      <td>394</td>\n      <td>99</td>\n      <td>247</td>\n      <td>357</td>\n      <td>3501</td>\n      <td>85863</td>\n      <td>4.1</td>\n    </tr>\n    <tr>\n      <th>SDG13</th>\n      <td>5597</td>\n      <td>1219</td>\n      <td>1283</td>\n      <td>853</td>\n      <td>96</td>\n      <td>1344</td>\n      <td>330</td>\n      <td>10722</td>\n      <td>314964</td>\n      <td>3.4</td>\n    </tr>\n    <tr>\n      <th>SDG14</th>\n      <td>1916</td>\n      <td>255</td>\n      <td>344</td>\n      <td>206</td>\n      <td>14</td>\n      <td>1075</td>\n      <td>101</td>\n      <td>3911</td>\n      <td>167947</td>\n      <td>2.3</td>\n    </tr>\n    <tr>\n      <th>SDG15</th>\n      <td>1555</td>\n      <td>360</td>\n      <td>484</td>\n      <td>233</td>\n      <td>86</td>\n      <td>405</td>\n      <td>214</td>\n      <td>3337</td>\n      <td>88991</td>\n      <td>3.7</td>\n    </tr>\n    <tr>\n      <th>SDG16</th>\n      <td>1540</td>\n      <td>299</td>\n      <td>300</td>\n      <td>252</td>\n      <td>234</td>\n      <td>248</td>\n      <td>26</td>\n      <td>2899</td>\n      <td>62484</td>\n      <td>4.6</td>\n    </tr>\n    <tr>\n      <th>SDG17</th>\n      <td>591</td>\n      <td>249</td>\n      <td>283</td>\n      <td>180</td>\n      <td>76</td>\n      <td>137</td>\n      <td>77</td>\n      <td>1593</td>\n      <td>53030</td>\n      <td>3.0</td>\n    </tr>\n    <tr>\n      <th>total</th>\n      <td>26967</td>\n      <td>7096</td>\n      <td>12060</td>\n      <td>6512</td>\n      <td>1243</td>\n      <td>6458</td>\n      <td>2528</td>\n      <td>62864</td>\n      <td>1427419</td>\n      <td>4.7</td>\n    </tr>\n    <tr>\n      <th>percentage_ds</th>\n      <td>2.2</td>\n      <td>0.6</td>\n      <td>1.0</td>\n      <td>0.5</td>\n      <td>0.1</td>\n      <td>0.5</td>\n      <td>0.2</td>\n      <td>5.2</td>\n      <td>118.9</td>\n      <td>NaN</td>\n    </tr>\n  </tbody>\n</table>\n</div>"
     },
     "execution_count": 11,
     "metadata": {},
     "output_type": "execute_result"
    }
   ],
   "source": [
    "df_summary"
   ]
  },
  {
   "cell_type": "code",
   "execution_count": null,
   "metadata": {
    "pycharm": {
     "name": "#%%\n"
    }
   },
   "outputs": [],
   "source": []
  }
 ],
 "metadata": {
  "kernelspec": {
   "display_name": "Python 3 (ipykernel)",
   "language": "python",
   "name": "python3"
  },
  "language_info": {
   "codemirror_mode": {
    "name": "ipython",
    "version": 3
   },
   "file_extension": ".py",
   "mimetype": "text/x-python",
   "name": "python",
   "nbconvert_exporter": "python",
   "pygments_lexer": "ipython3",
   "version": "3.8.12"
  }
 },
 "nbformat": 4,
 "nbformat_minor": 1
}