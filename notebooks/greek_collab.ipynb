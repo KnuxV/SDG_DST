{
 "cells": [
  {
   "cell_type": "code",
   "execution_count": 1,
   "outputs": [],
   "source": [
    "from itertools import combinations\n",
    "from collections import Counter\n",
    "import plotly.express as px"
   ],
   "metadata": {
    "collapsed": false,
    "pycharm": {
     "name": "#%%\n"
    }
   }
  },
  {
   "cell_type": "code",
   "execution_count": 2,
   "outputs": [],
   "source": [
    "import pandas as pd\n",
    "df = pd.read_pickle(\"../data/output/WoS_SDG_updated.pkl\")"
   ],
   "metadata": {
    "collapsed": false,
    "pycharm": {
     "name": "#%%\n"
    }
   }
  },
  {
   "cell_type": "code",
   "execution_count": 3,
   "outputs": [
    {
     "data": {
      "text/plain": "        PT                                                 AU  \\\n0        C                            Das, S; Mukhopadhyay, P   \n1        J                                             Das, T   \n2        J  Paulson, K; Brazauskas, R; Khera, N; He, N; Ma...   \n3        J          Sudharsanan, N; Romano, S; Cunningham, SA   \n4        J                                    Abdel-Rahman, O   \n...     ..                                                ...   \n1202013  C                                    Yin, S; Liu, YS   \n1202014  J         Yuan, JF; Skibniewski, MJ; Li, QM; Shan, J   \n1202015  C        Yuan, JF; Skibniewski, MJ; Li, QM; Xiong, W   \n1202016  J                                   Zhang, Z; Jia, M   \n1202017  C                                    Zhu, CF; Li, YZ   \n\n                                                        TI  \\\n0        Multi-hazard disaster resilient housing with b...   \n1        Does credit access lead to expansion of income...   \n2        Inferior Access to Allogeneic Transplant in Di...   \n3        School Breakfast Receipt and Obesity among Ame...   \n4        Socioeconomic predictors of suicide risk among...   \n...                                                    ...   \n1202013  Research on the Financing Model for Demonstrat...   \n1202014  THE DRIVING FACTORS OF CHINA'S PUBLIC-PRIVATE ...   \n1202015  An Innovative Pricing Model for Satisfaction o...   \n1202016  Procedural fairness and cooperation in public-...   \n1202017  Effect Analysis on Railway Productivity Distri...   \n\n                                                        SO  \\\n0        7TH INTERNATIONAL CONFERENCE ON BUILDING RESIL...   \n1                INTERNATIONAL JOURNAL OF SOCIAL ECONOMICS   \n2              BIOLOGY OF BLOOD AND MARROW TRANSPLANTATION   \n3        JOURNAL OF THE ACADEMY OF NUTRITION AND DIETETICS   \n4                                      CANCER EPIDEMIOLOGY   \n...                                                    ...   \n1202013  PROCEEDINGS OF 2010 INTERNATIONAL CONFERENCE O...   \n1202014        JOURNAL OF CIVIL ENGINEERING AND MANAGEMENT   \n1202015  PROCEEDINGS OF 2010 INTERNATIONAL SYMPOSIUM ON...   \n1202016                   JOURNAL OF MANAGERIAL PSYCHOLOGY   \n1202017  ADVANCED FORUM ON TRANSPORTATION OF CHINA: PRO...   \n\n                                                        DE  \\\n0        Amphibious foundation; Assam-type building; Ba...   \n1        Rural credit; Heckit procedure; Income poverty...   \n2        Access to transplantation; Health services res...   \n3           Childhood obesity; School breakfast; Nutrition   \n4        Suicide; Socioeconomic status; SES; United States   \n...                                                    ...   \n1202013             renewable energy; BOT; financing model   \n1202014  public private partnership; metropolitan trans...   \n1202015  Public Private Partnerships (PPPs); Balance of...   \n1202016  Partnership; Economic cooperation; Contracts; ...   \n1202017  railway; productivity distribution; forwarding...   \n\n                                                        AB  \\\n0        The state of Assam in the Brahmaputra valley i...   \n1        Purpose The purpose of this paper is to evalua...   \n2        Allogeneic hematopoietic cell transplantation ...   \n3        Background School breakfast consumption can im...   \n4        Objective: To assess the socioeconomic predict...   \n...                                                    ...   \n1202013  Since 2009 demonstration cities of constructio...   \n1202014  In recent years, China needs far more financin...   \n1202015  Aiming to balance the interests of the public ...   \n1202016  Purpose - The paper aims to extend research on...   \n1202017  In order to analyze the effects of railway pro...   \n\n                                                        C1  \\\n0        [Das, Sutapa] Indian Inst Technol Kharagpur, D...   \n1        [Das, Tiken] Indian Inst Publ Hlth, Shillong, ...   \n2        [Paulson, Kristjan; Szwajcer, David; Seftel, M...   \n3        [Sudharsanan, Nikkil] Univ Penn, Ctr Populat S...   \n4        [Abdel-Rahman, Omar] Univ Alberta, Cross Canc ...   \n...                                                    ...   \n1202013  [Yin, Shuai; Liu, Yisheng] Beijing Jiaotong Un...   \n1202014  [Yuan, Jing-Feng] Southeast Univ, Dept Constru...   \n1202015  [Yuan Jingfeng; Li Qiming; Xiong Wei] Southeas...   \n1202016  [Jia, Ming] Northwestern Polytech Univ, Sch Ma...   \n1202017  [Zhu, Changfeng; Li, Yinzhen] Lanzhou Jiaotong...   \n\n                                                        EM  TC    PY  ...  \\\n0                               sutapa@arp.iitkgp.ernet.in   8  2018  ...   \n1                                       tikenhyd@gmail.com   6  2019  ...   \n2                                kpaulson@cancercare.mb.ca  15  2019  ...   \n3                                       nsud@sas.upenn.edu   6  2016  ...   \n4                                   omar.abdelsalam@ahs.ca  20  2019  ...   \n...                                                    ...  ..   ...  ...   \n1202013                                   yshxbyhl@126.com   0  2010  ...   \n1202014  jfyuan@seu.edu.cn; mirek@umd.edu; njlqming@163...  48  2010  ...   \n1202015  jfyuan@seu.edu.cn; mirek@umd.edu; lqming@163.c...   0  2010  ...   \n1202016                              mingazhe@yahoo.com.cn  22  2010  ...   \n1202017                                   cfzhu003@126.com   0  2010  ...   \n\n        big_data    IOT computing_infrastructure blockchain robotics  \\\n0          False  False                    False      False    False   \n1          False  False                    False      False    False   \n2          False  False                    False      False    False   \n3          False  False                    False      False    False   \n4          False  False                    False      False    False   \n...          ...    ...                      ...        ...      ...   \n1202013    False  False                    False      False    False   \n1202014    False  False                    False      False    False   \n1202015    False  False                    False      False    False   \n1202016    False  False                    False      False    False   \n1202017    False  False                    False      False    False   \n\n        additive_manufacturing Society Economy Environment    DST  \n0                        False    True   False        True  False  \n1                        False    True    True       False  False  \n2                        False    True   False       False  False  \n3                        False    True   False       False  False  \n4                        False    True   False       False  False  \n...                        ...     ...     ...         ...    ...  \n1202013                  False   False    True       False  False  \n1202014                  False   False    True       False  False  \n1202015                  False   False    True       False  False  \n1202016                  False   False    True       False  False  \n1202017                  False   False    True       False  False  \n\n[1202018 rows x 41 columns]",
      "text/html": "<div>\n<style scoped>\n    .dataframe tbody tr th:only-of-type {\n        vertical-align: middle;\n    }\n\n    .dataframe tbody tr th {\n        vertical-align: top;\n    }\n\n    .dataframe thead th {\n        text-align: right;\n    }\n</style>\n<table border=\"1\" class=\"dataframe\">\n  <thead>\n    <tr style=\"text-align: right;\">\n      <th></th>\n      <th>PT</th>\n      <th>AU</th>\n      <th>TI</th>\n      <th>SO</th>\n      <th>DE</th>\n      <th>AB</th>\n      <th>C1</th>\n      <th>EM</th>\n      <th>TC</th>\n      <th>PY</th>\n      <th>...</th>\n      <th>big_data</th>\n      <th>IOT</th>\n      <th>computing_infrastructure</th>\n      <th>blockchain</th>\n      <th>robotics</th>\n      <th>additive_manufacturing</th>\n      <th>Society</th>\n      <th>Economy</th>\n      <th>Environment</th>\n      <th>DST</th>\n    </tr>\n  </thead>\n  <tbody>\n    <tr>\n      <th>0</th>\n      <td>C</td>\n      <td>Das, S; Mukhopadhyay, P</td>\n      <td>Multi-hazard disaster resilient housing with b...</td>\n      <td>7TH INTERNATIONAL CONFERENCE ON BUILDING RESIL...</td>\n      <td>Amphibious foundation; Assam-type building; Ba...</td>\n      <td>The state of Assam in the Brahmaputra valley i...</td>\n      <td>[Das, Sutapa] Indian Inst Technol Kharagpur, D...</td>\n      <td>sutapa@arp.iitkgp.ernet.in</td>\n      <td>8</td>\n      <td>2018</td>\n      <td>...</td>\n      <td>False</td>\n      <td>False</td>\n      <td>False</td>\n      <td>False</td>\n      <td>False</td>\n      <td>False</td>\n      <td>True</td>\n      <td>False</td>\n      <td>True</td>\n      <td>False</td>\n    </tr>\n    <tr>\n      <th>1</th>\n      <td>J</td>\n      <td>Das, T</td>\n      <td>Does credit access lead to expansion of income...</td>\n      <td>INTERNATIONAL JOURNAL OF SOCIAL ECONOMICS</td>\n      <td>Rural credit; Heckit procedure; Income poverty...</td>\n      <td>Purpose The purpose of this paper is to evalua...</td>\n      <td>[Das, Tiken] Indian Inst Publ Hlth, Shillong, ...</td>\n      <td>tikenhyd@gmail.com</td>\n      <td>6</td>\n      <td>2019</td>\n      <td>...</td>\n      <td>False</td>\n      <td>False</td>\n      <td>False</td>\n      <td>False</td>\n      <td>False</td>\n      <td>False</td>\n      <td>True</td>\n      <td>True</td>\n      <td>False</td>\n      <td>False</td>\n    </tr>\n    <tr>\n      <th>2</th>\n      <td>J</td>\n      <td>Paulson, K; Brazauskas, R; Khera, N; He, N; Ma...</td>\n      <td>Inferior Access to Allogeneic Transplant in Di...</td>\n      <td>BIOLOGY OF BLOOD AND MARROW TRANSPLANTATION</td>\n      <td>Access to transplantation; Health services res...</td>\n      <td>Allogeneic hematopoietic cell transplantation ...</td>\n      <td>[Paulson, Kristjan; Szwajcer, David; Seftel, M...</td>\n      <td>kpaulson@cancercare.mb.ca</td>\n      <td>15</td>\n      <td>2019</td>\n      <td>...</td>\n      <td>False</td>\n      <td>False</td>\n      <td>False</td>\n      <td>False</td>\n      <td>False</td>\n      <td>False</td>\n      <td>True</td>\n      <td>False</td>\n      <td>False</td>\n      <td>False</td>\n    </tr>\n    <tr>\n      <th>3</th>\n      <td>J</td>\n      <td>Sudharsanan, N; Romano, S; Cunningham, SA</td>\n      <td>School Breakfast Receipt and Obesity among Ame...</td>\n      <td>JOURNAL OF THE ACADEMY OF NUTRITION AND DIETETICS</td>\n      <td>Childhood obesity; School breakfast; Nutrition</td>\n      <td>Background School breakfast consumption can im...</td>\n      <td>[Sudharsanan, Nikkil] Univ Penn, Ctr Populat S...</td>\n      <td>nsud@sas.upenn.edu</td>\n      <td>6</td>\n      <td>2016</td>\n      <td>...</td>\n      <td>False</td>\n      <td>False</td>\n      <td>False</td>\n      <td>False</td>\n      <td>False</td>\n      <td>False</td>\n      <td>True</td>\n      <td>False</td>\n      <td>False</td>\n      <td>False</td>\n    </tr>\n    <tr>\n      <th>4</th>\n      <td>J</td>\n      <td>Abdel-Rahman, O</td>\n      <td>Socioeconomic predictors of suicide risk among...</td>\n      <td>CANCER EPIDEMIOLOGY</td>\n      <td>Suicide; Socioeconomic status; SES; United States</td>\n      <td>Objective: To assess the socioeconomic predict...</td>\n      <td>[Abdel-Rahman, Omar] Univ Alberta, Cross Canc ...</td>\n      <td>omar.abdelsalam@ahs.ca</td>\n      <td>20</td>\n      <td>2019</td>\n      <td>...</td>\n      <td>False</td>\n      <td>False</td>\n      <td>False</td>\n      <td>False</td>\n      <td>False</td>\n      <td>False</td>\n      <td>True</td>\n      <td>False</td>\n      <td>False</td>\n      <td>False</td>\n    </tr>\n    <tr>\n      <th>...</th>\n      <td>...</td>\n      <td>...</td>\n      <td>...</td>\n      <td>...</td>\n      <td>...</td>\n      <td>...</td>\n      <td>...</td>\n      <td>...</td>\n      <td>...</td>\n      <td>...</td>\n      <td>...</td>\n      <td>...</td>\n      <td>...</td>\n      <td>...</td>\n      <td>...</td>\n      <td>...</td>\n      <td>...</td>\n      <td>...</td>\n      <td>...</td>\n      <td>...</td>\n      <td>...</td>\n    </tr>\n    <tr>\n      <th>1202013</th>\n      <td>C</td>\n      <td>Yin, S; Liu, YS</td>\n      <td>Research on the Financing Model for Demonstrat...</td>\n      <td>PROCEEDINGS OF 2010 INTERNATIONAL CONFERENCE O...</td>\n      <td>renewable energy; BOT; financing model</td>\n      <td>Since 2009 demonstration cities of constructio...</td>\n      <td>[Yin, Shuai; Liu, Yisheng] Beijing Jiaotong Un...</td>\n      <td>yshxbyhl@126.com</td>\n      <td>0</td>\n      <td>2010</td>\n      <td>...</td>\n      <td>False</td>\n      <td>False</td>\n      <td>False</td>\n      <td>False</td>\n      <td>False</td>\n      <td>False</td>\n      <td>False</td>\n      <td>True</td>\n      <td>False</td>\n      <td>False</td>\n    </tr>\n    <tr>\n      <th>1202014</th>\n      <td>J</td>\n      <td>Yuan, JF; Skibniewski, MJ; Li, QM; Shan, J</td>\n      <td>THE DRIVING FACTORS OF CHINA'S PUBLIC-PRIVATE ...</td>\n      <td>JOURNAL OF CIVIL ENGINEERING AND MANAGEMENT</td>\n      <td>public private partnership; metropolitan trans...</td>\n      <td>In recent years, China needs far more financin...</td>\n      <td>[Yuan, Jing-Feng] Southeast Univ, Dept Constru...</td>\n      <td>jfyuan@seu.edu.cn; mirek@umd.edu; njlqming@163...</td>\n      <td>48</td>\n      <td>2010</td>\n      <td>...</td>\n      <td>False</td>\n      <td>False</td>\n      <td>False</td>\n      <td>False</td>\n      <td>False</td>\n      <td>False</td>\n      <td>False</td>\n      <td>True</td>\n      <td>False</td>\n      <td>False</td>\n    </tr>\n    <tr>\n      <th>1202015</th>\n      <td>C</td>\n      <td>Yuan, JF; Skibniewski, MJ; Li, QM; Xiong, W</td>\n      <td>An Innovative Pricing Model for Satisfaction o...</td>\n      <td>PROCEEDINGS OF 2010 INTERNATIONAL SYMPOSIUM ON...</td>\n      <td>Public Private Partnerships (PPPs); Balance of...</td>\n      <td>Aiming to balance the interests of the public ...</td>\n      <td>[Yuan Jingfeng; Li Qiming; Xiong Wei] Southeas...</td>\n      <td>jfyuan@seu.edu.cn; mirek@umd.edu; lqming@163.c...</td>\n      <td>0</td>\n      <td>2010</td>\n      <td>...</td>\n      <td>False</td>\n      <td>False</td>\n      <td>False</td>\n      <td>False</td>\n      <td>False</td>\n      <td>False</td>\n      <td>False</td>\n      <td>True</td>\n      <td>False</td>\n      <td>False</td>\n    </tr>\n    <tr>\n      <th>1202016</th>\n      <td>J</td>\n      <td>Zhang, Z; Jia, M</td>\n      <td>Procedural fairness and cooperation in public-...</td>\n      <td>JOURNAL OF MANAGERIAL PSYCHOLOGY</td>\n      <td>Partnership; Economic cooperation; Contracts; ...</td>\n      <td>Purpose - The paper aims to extend research on...</td>\n      <td>[Jia, Ming] Northwestern Polytech Univ, Sch Ma...</td>\n      <td>mingazhe@yahoo.com.cn</td>\n      <td>22</td>\n      <td>2010</td>\n      <td>...</td>\n      <td>False</td>\n      <td>False</td>\n      <td>False</td>\n      <td>False</td>\n      <td>False</td>\n      <td>False</td>\n      <td>False</td>\n      <td>True</td>\n      <td>False</td>\n      <td>False</td>\n    </tr>\n    <tr>\n      <th>1202017</th>\n      <td>C</td>\n      <td>Zhu, CF; Li, YZ</td>\n      <td>Effect Analysis on Railway Productivity Distri...</td>\n      <td>ADVANCED FORUM ON TRANSPORTATION OF CHINA: PRO...</td>\n      <td>railway; productivity distribution; forwarding...</td>\n      <td>In order to analyze the effects of railway pro...</td>\n      <td>[Zhu, Changfeng; Li, Yinzhen] Lanzhou Jiaotong...</td>\n      <td>cfzhu003@126.com</td>\n      <td>0</td>\n      <td>2010</td>\n      <td>...</td>\n      <td>False</td>\n      <td>False</td>\n      <td>False</td>\n      <td>False</td>\n      <td>False</td>\n      <td>False</td>\n      <td>False</td>\n      <td>True</td>\n      <td>False</td>\n      <td>False</td>\n    </tr>\n  </tbody>\n</table>\n<p>1202018 rows × 41 columns</p>\n</div>"
     },
     "execution_count": 3,
     "metadata": {},
     "output_type": "execute_result"
    }
   ],
   "source": [
    "df"
   ],
   "metadata": {
    "collapsed": false,
    "pycharm": {
     "name": "#%%\n"
    }
   }
  },
  {
   "cell_type": "code",
   "execution_count": 6,
   "outputs": [
    {
     "name": "stdout",
     "output_type": "stream",
     "text": [
      "Guidelines for the use and interpretation of assays for monitoring autophagy\n",
      "1164\n",
      "\n",
      "\n",
      "Guidelines for the use and interpretation of assays for monitoring autophagy (4th edition)\n",
      "2573\n",
      "\n",
      "\n"
     ]
    }
   ],
   "source": [
    "c_year_edge = Counter()\n",
    "c_year_mention = Counter()\n",
    "\n",
    "for row in df.itertuples(index=False):\n",
    "    if \"Greece\" in row.CN :\n",
    "        lst_actor_in_row = sorted(row.CN.split(\", \"))\n",
    "        c_year_mention[row.PY] += lst_actor_in_row.count(\"Greece\")\n",
    "        if len(lst_actor_in_row) > 1000:\n",
    "            print(row.TI)\n",
    "            print(len(lst_actor_in_row))\n",
    "            print(\"\\n\")\n",
    "        for edge in list(combinations(lst_actor_in_row, 2)):\n",
    "            if edge == (\"Greece\", \"United Kingdom\") or edge == (\"United Kingdom\", \"Greece\"):\n",
    "                c_year_edge[row.PY] += 1\n"
   ],
   "metadata": {
    "collapsed": false,
    "pycharm": {
     "name": "#%%\n"
    }
   }
  },
  {
   "cell_type": "code",
   "execution_count": 72,
   "outputs": [],
   "source": [
    "\n",
    "def counter_to_series(counter):\n",
    "    if not counter:\n",
    "        return pd.Series()\n",
    "    counter_as_tuples = counter.most_common(len(counter))\n",
    "\n",
    "    items, counts = zip(*counter_as_tuples)\n",
    "    return pd.Series(counts, index=items)\n",
    "df_edge = counter_to_series(c_year_edge)\n",
    "df_mention = counter_to_series(c_year_mention)"
   ],
   "metadata": {
    "collapsed": false,
    "pycharm": {
     "name": "#%%\n"
    }
   }
  },
  {
   "cell_type": "code",
   "execution_count": 73,
   "outputs": [
    {
     "data": {
      "text/plain": "21006"
     },
     "execution_count": 73,
     "metadata": {},
     "output_type": "execute_result"
    }
   ],
   "source": [
    "df_mention.sum()"
   ],
   "metadata": {
    "collapsed": false,
    "pycharm": {
     "name": "#%%\n"
    }
   }
  },
  {
   "cell_type": "code",
   "execution_count": 74,
   "outputs": [
    {
     "data": {
      "text/plain": "year\n2021    4022\n2020    2906\n2019    2203\n2018    1915\n2017    1903\n2016    1669\n2015    1393\n2014    1173\n2013    1171\n2012     992\n2011     850\n2010     809\nName: mention, dtype: int64"
     },
     "execution_count": 74,
     "metadata": {},
     "output_type": "execute_result"
    }
   ],
   "source": [
    "df_edge.rename_axis(\"year\", inplace=True)\n",
    "df_mention.rename_axis(\"year\", inplace=True)\n",
    "df_edge.rename(\"edge_w_uk\", inplace=True)\n",
    "df_mention.rename(\"mention\", inplace=True)\n"
   ],
   "metadata": {
    "collapsed": false,
    "pycharm": {
     "name": "#%%\n"
    }
   }
  },
  {
   "cell_type": "code",
   "execution_count": 75,
   "outputs": [
    {
     "data": {
      "text/plain": "      mention  edge_w_uk\nyear                    \n2010      809        116\n2011      850         96\n2012      992        538\n2013     1171        167\n2014     1173        217\n2015     1393        340\n2016     1669       4396\n2017     1903       4205\n2018     1915       1250\n2019     2203        717\n2020     2906        885\n2021     4022       2802",
      "text/html": "<div>\n<style scoped>\n    .dataframe tbody tr th:only-of-type {\n        vertical-align: middle;\n    }\n\n    .dataframe tbody tr th {\n        vertical-align: top;\n    }\n\n    .dataframe thead th {\n        text-align: right;\n    }\n</style>\n<table border=\"1\" class=\"dataframe\">\n  <thead>\n    <tr style=\"text-align: right;\">\n      <th></th>\n      <th>mention</th>\n      <th>edge_w_uk</th>\n    </tr>\n    <tr>\n      <th>year</th>\n      <th></th>\n      <th></th>\n    </tr>\n  </thead>\n  <tbody>\n    <tr>\n      <th>2010</th>\n      <td>809</td>\n      <td>116</td>\n    </tr>\n    <tr>\n      <th>2011</th>\n      <td>850</td>\n      <td>96</td>\n    </tr>\n    <tr>\n      <th>2012</th>\n      <td>992</td>\n      <td>538</td>\n    </tr>\n    <tr>\n      <th>2013</th>\n      <td>1171</td>\n      <td>167</td>\n    </tr>\n    <tr>\n      <th>2014</th>\n      <td>1173</td>\n      <td>217</td>\n    </tr>\n    <tr>\n      <th>2015</th>\n      <td>1393</td>\n      <td>340</td>\n    </tr>\n    <tr>\n      <th>2016</th>\n      <td>1669</td>\n      <td>4396</td>\n    </tr>\n    <tr>\n      <th>2017</th>\n      <td>1903</td>\n      <td>4205</td>\n    </tr>\n    <tr>\n      <th>2018</th>\n      <td>1915</td>\n      <td>1250</td>\n    </tr>\n    <tr>\n      <th>2019</th>\n      <td>2203</td>\n      <td>717</td>\n    </tr>\n    <tr>\n      <th>2020</th>\n      <td>2906</td>\n      <td>885</td>\n    </tr>\n    <tr>\n      <th>2021</th>\n      <td>4022</td>\n      <td>2802</td>\n    </tr>\n  </tbody>\n</table>\n</div>"
     },
     "execution_count": 75,
     "metadata": {},
     "output_type": "execute_result"
    }
   ],
   "source": [
    "df_both = pd.concat([df_mention, df_edge], axis=1)\n",
    "df_both"
   ],
   "metadata": {
    "collapsed": false,
    "pycharm": {
     "name": "#%%\n"
    }
   }
  },
  {
   "cell_type": "code",
   "execution_count": 76,
   "outputs": [
    {
     "data": {
      "text/plain": "       variable  value\nyear                  \n2010    mention    809\n2011    mention    850\n2012    mention    992\n2013    mention   1171\n2014    mention   1173\n2015    mention   1393\n2016    mention   1669\n2017    mention   1903\n2018    mention   1915\n2019    mention   2203\n2020    mention   2906\n2021    mention   4022\n2010  edge_w_uk    116\n2011  edge_w_uk     96\n2012  edge_w_uk    538\n2013  edge_w_uk    167\n2014  edge_w_uk    217\n2015  edge_w_uk    340\n2016  edge_w_uk   4396\n2017  edge_w_uk   4205\n2018  edge_w_uk   1250\n2019  edge_w_uk    717\n2020  edge_w_uk    885\n2021  edge_w_uk   2802",
      "text/html": "<div>\n<style scoped>\n    .dataframe tbody tr th:only-of-type {\n        vertical-align: middle;\n    }\n\n    .dataframe tbody tr th {\n        vertical-align: top;\n    }\n\n    .dataframe thead th {\n        text-align: right;\n    }\n</style>\n<table border=\"1\" class=\"dataframe\">\n  <thead>\n    <tr style=\"text-align: right;\">\n      <th></th>\n      <th>variable</th>\n      <th>value</th>\n    </tr>\n    <tr>\n      <th>year</th>\n      <th></th>\n      <th></th>\n    </tr>\n  </thead>\n  <tbody>\n    <tr>\n      <th>2010</th>\n      <td>mention</td>\n      <td>809</td>\n    </tr>\n    <tr>\n      <th>2011</th>\n      <td>mention</td>\n      <td>850</td>\n    </tr>\n    <tr>\n      <th>2012</th>\n      <td>mention</td>\n      <td>992</td>\n    </tr>\n    <tr>\n      <th>2013</th>\n      <td>mention</td>\n      <td>1171</td>\n    </tr>\n    <tr>\n      <th>2014</th>\n      <td>mention</td>\n      <td>1173</td>\n    </tr>\n    <tr>\n      <th>2015</th>\n      <td>mention</td>\n      <td>1393</td>\n    </tr>\n    <tr>\n      <th>2016</th>\n      <td>mention</td>\n      <td>1669</td>\n    </tr>\n    <tr>\n      <th>2017</th>\n      <td>mention</td>\n      <td>1903</td>\n    </tr>\n    <tr>\n      <th>2018</th>\n      <td>mention</td>\n      <td>1915</td>\n    </tr>\n    <tr>\n      <th>2019</th>\n      <td>mention</td>\n      <td>2203</td>\n    </tr>\n    <tr>\n      <th>2020</th>\n      <td>mention</td>\n      <td>2906</td>\n    </tr>\n    <tr>\n      <th>2021</th>\n      <td>mention</td>\n      <td>4022</td>\n    </tr>\n    <tr>\n      <th>2010</th>\n      <td>edge_w_uk</td>\n      <td>116</td>\n    </tr>\n    <tr>\n      <th>2011</th>\n      <td>edge_w_uk</td>\n      <td>96</td>\n    </tr>\n    <tr>\n      <th>2012</th>\n      <td>edge_w_uk</td>\n      <td>538</td>\n    </tr>\n    <tr>\n      <th>2013</th>\n      <td>edge_w_uk</td>\n      <td>167</td>\n    </tr>\n    <tr>\n      <th>2014</th>\n      <td>edge_w_uk</td>\n      <td>217</td>\n    </tr>\n    <tr>\n      <th>2015</th>\n      <td>edge_w_uk</td>\n      <td>340</td>\n    </tr>\n    <tr>\n      <th>2016</th>\n      <td>edge_w_uk</td>\n      <td>4396</td>\n    </tr>\n    <tr>\n      <th>2017</th>\n      <td>edge_w_uk</td>\n      <td>4205</td>\n    </tr>\n    <tr>\n      <th>2018</th>\n      <td>edge_w_uk</td>\n      <td>1250</td>\n    </tr>\n    <tr>\n      <th>2019</th>\n      <td>edge_w_uk</td>\n      <td>717</td>\n    </tr>\n    <tr>\n      <th>2020</th>\n      <td>edge_w_uk</td>\n      <td>885</td>\n    </tr>\n    <tr>\n      <th>2021</th>\n      <td>edge_w_uk</td>\n      <td>2802</td>\n    </tr>\n  </tbody>\n</table>\n</div>"
     },
     "execution_count": 76,
     "metadata": {},
     "output_type": "execute_result"
    }
   ],
   "source": [
    "df_melt = df_both.melt(ignore_index=False)\n",
    "df_melt.rename(columns={\"value\":\"number of publications\"})\n",
    "df_melt"
   ],
   "metadata": {
    "collapsed": false,
    "pycharm": {
     "name": "#%%\n"
    }
   }
  },
  {
   "cell_type": "code",
   "execution_count": 77,
   "outputs": [
    {
     "data": {
      "application/vnd.plotly.v1+json": {
       "data": [
        {
         "alignmentgroup": "True",
         "hovertemplate": "variable=mention<br>year=%{x}<br>value=%{y}<extra></extra>",
         "legendgroup": "mention",
         "marker": {
          "color": "#636efa",
          "pattern": {
           "shape": ""
          }
         },
         "name": "mention",
         "offsetgroup": "mention",
         "orientation": "v",
         "showlegend": true,
         "textposition": "auto",
         "x": [
          2010,
          2011,
          2012,
          2013,
          2014,
          2015,
          2016,
          2017,
          2018,
          2019,
          2020,
          2021
         ],
         "xaxis": "x",
         "y": [
          809,
          850,
          992,
          1171,
          1173,
          1393,
          1669,
          1903,
          1915,
          2203,
          2906,
          4022
         ],
         "yaxis": "y",
         "type": "bar"
        },
        {
         "alignmentgroup": "True",
         "hovertemplate": "variable=edge_w_uk<br>year=%{x}<br>value=%{y}<extra></extra>",
         "legendgroup": "edge_w_uk",
         "marker": {
          "color": "#EF553B",
          "pattern": {
           "shape": ""
          }
         },
         "name": "edge_w_uk",
         "offsetgroup": "edge_w_uk",
         "orientation": "v",
         "showlegend": true,
         "textposition": "auto",
         "x": [
          2010,
          2011,
          2012,
          2013,
          2014,
          2015,
          2016,
          2017,
          2018,
          2019,
          2020,
          2021
         ],
         "xaxis": "x",
         "y": [
          116,
          96,
          538,
          167,
          217,
          340,
          4396,
          4205,
          1250,
          717,
          885,
          2802
         ],
         "yaxis": "y",
         "type": "bar"
        }
       ],
       "layout": {
        "template": {
         "data": {
          "barpolar": [
           {
            "marker": {
             "line": {
              "color": "#E5ECF6",
              "width": 0.5
             },
             "pattern": {
              "fillmode": "overlay",
              "size": 10,
              "solidity": 0.2
             }
            },
            "type": "barpolar"
           }
          ],
          "bar": [
           {
            "error_x": {
             "color": "#2a3f5f"
            },
            "error_y": {
             "color": "#2a3f5f"
            },
            "marker": {
             "line": {
              "color": "#E5ECF6",
              "width": 0.5
             },
             "pattern": {
              "fillmode": "overlay",
              "size": 10,
              "solidity": 0.2
             }
            },
            "type": "bar"
           }
          ],
          "carpet": [
           {
            "aaxis": {
             "endlinecolor": "#2a3f5f",
             "gridcolor": "white",
             "linecolor": "white",
             "minorgridcolor": "white",
             "startlinecolor": "#2a3f5f"
            },
            "baxis": {
             "endlinecolor": "#2a3f5f",
             "gridcolor": "white",
             "linecolor": "white",
             "minorgridcolor": "white",
             "startlinecolor": "#2a3f5f"
            },
            "type": "carpet"
           }
          ],
          "choropleth": [
           {
            "colorbar": {
             "outlinewidth": 0,
             "ticks": ""
            },
            "type": "choropleth"
           }
          ],
          "contourcarpet": [
           {
            "colorbar": {
             "outlinewidth": 0,
             "ticks": ""
            },
            "type": "contourcarpet"
           }
          ],
          "contour": [
           {
            "colorbar": {
             "outlinewidth": 0,
             "ticks": ""
            },
            "colorscale": [
             [
              0.0,
              "#0d0887"
             ],
             [
              0.1111111111111111,
              "#46039f"
             ],
             [
              0.2222222222222222,
              "#7201a8"
             ],
             [
              0.3333333333333333,
              "#9c179e"
             ],
             [
              0.4444444444444444,
              "#bd3786"
             ],
             [
              0.5555555555555556,
              "#d8576b"
             ],
             [
              0.6666666666666666,
              "#ed7953"
             ],
             [
              0.7777777777777778,
              "#fb9f3a"
             ],
             [
              0.8888888888888888,
              "#fdca26"
             ],
             [
              1.0,
              "#f0f921"
             ]
            ],
            "type": "contour"
           }
          ],
          "heatmapgl": [
           {
            "colorbar": {
             "outlinewidth": 0,
             "ticks": ""
            },
            "colorscale": [
             [
              0.0,
              "#0d0887"
             ],
             [
              0.1111111111111111,
              "#46039f"
             ],
             [
              0.2222222222222222,
              "#7201a8"
             ],
             [
              0.3333333333333333,
              "#9c179e"
             ],
             [
              0.4444444444444444,
              "#bd3786"
             ],
             [
              0.5555555555555556,
              "#d8576b"
             ],
             [
              0.6666666666666666,
              "#ed7953"
             ],
             [
              0.7777777777777778,
              "#fb9f3a"
             ],
             [
              0.8888888888888888,
              "#fdca26"
             ],
             [
              1.0,
              "#f0f921"
             ]
            ],
            "type": "heatmapgl"
           }
          ],
          "heatmap": [
           {
            "colorbar": {
             "outlinewidth": 0,
             "ticks": ""
            },
            "colorscale": [
             [
              0.0,
              "#0d0887"
             ],
             [
              0.1111111111111111,
              "#46039f"
             ],
             [
              0.2222222222222222,
              "#7201a8"
             ],
             [
              0.3333333333333333,
              "#9c179e"
             ],
             [
              0.4444444444444444,
              "#bd3786"
             ],
             [
              0.5555555555555556,
              "#d8576b"
             ],
             [
              0.6666666666666666,
              "#ed7953"
             ],
             [
              0.7777777777777778,
              "#fb9f3a"
             ],
             [
              0.8888888888888888,
              "#fdca26"
             ],
             [
              1.0,
              "#f0f921"
             ]
            ],
            "type": "heatmap"
           }
          ],
          "histogram2dcontour": [
           {
            "colorbar": {
             "outlinewidth": 0,
             "ticks": ""
            },
            "colorscale": [
             [
              0.0,
              "#0d0887"
             ],
             [
              0.1111111111111111,
              "#46039f"
             ],
             [
              0.2222222222222222,
              "#7201a8"
             ],
             [
              0.3333333333333333,
              "#9c179e"
             ],
             [
              0.4444444444444444,
              "#bd3786"
             ],
             [
              0.5555555555555556,
              "#d8576b"
             ],
             [
              0.6666666666666666,
              "#ed7953"
             ],
             [
              0.7777777777777778,
              "#fb9f3a"
             ],
             [
              0.8888888888888888,
              "#fdca26"
             ],
             [
              1.0,
              "#f0f921"
             ]
            ],
            "type": "histogram2dcontour"
           }
          ],
          "histogram2d": [
           {
            "colorbar": {
             "outlinewidth": 0,
             "ticks": ""
            },
            "colorscale": [
             [
              0.0,
              "#0d0887"
             ],
             [
              0.1111111111111111,
              "#46039f"
             ],
             [
              0.2222222222222222,
              "#7201a8"
             ],
             [
              0.3333333333333333,
              "#9c179e"
             ],
             [
              0.4444444444444444,
              "#bd3786"
             ],
             [
              0.5555555555555556,
              "#d8576b"
             ],
             [
              0.6666666666666666,
              "#ed7953"
             ],
             [
              0.7777777777777778,
              "#fb9f3a"
             ],
             [
              0.8888888888888888,
              "#fdca26"
             ],
             [
              1.0,
              "#f0f921"
             ]
            ],
            "type": "histogram2d"
           }
          ],
          "histogram": [
           {
            "marker": {
             "pattern": {
              "fillmode": "overlay",
              "size": 10,
              "solidity": 0.2
             }
            },
            "type": "histogram"
           }
          ],
          "mesh3d": [
           {
            "colorbar": {
             "outlinewidth": 0,
             "ticks": ""
            },
            "type": "mesh3d"
           }
          ],
          "parcoords": [
           {
            "line": {
             "colorbar": {
              "outlinewidth": 0,
              "ticks": ""
             }
            },
            "type": "parcoords"
           }
          ],
          "pie": [
           {
            "automargin": true,
            "type": "pie"
           }
          ],
          "scatter3d": [
           {
            "line": {
             "colorbar": {
              "outlinewidth": 0,
              "ticks": ""
             }
            },
            "marker": {
             "colorbar": {
              "outlinewidth": 0,
              "ticks": ""
             }
            },
            "type": "scatter3d"
           }
          ],
          "scattercarpet": [
           {
            "marker": {
             "colorbar": {
              "outlinewidth": 0,
              "ticks": ""
             }
            },
            "type": "scattercarpet"
           }
          ],
          "scattergeo": [
           {
            "marker": {
             "colorbar": {
              "outlinewidth": 0,
              "ticks": ""
             }
            },
            "type": "scattergeo"
           }
          ],
          "scattergl": [
           {
            "marker": {
             "colorbar": {
              "outlinewidth": 0,
              "ticks": ""
             }
            },
            "type": "scattergl"
           }
          ],
          "scattermapbox": [
           {
            "marker": {
             "colorbar": {
              "outlinewidth": 0,
              "ticks": ""
             }
            },
            "type": "scattermapbox"
           }
          ],
          "scatterpolargl": [
           {
            "marker": {
             "colorbar": {
              "outlinewidth": 0,
              "ticks": ""
             }
            },
            "type": "scatterpolargl"
           }
          ],
          "scatterpolar": [
           {
            "marker": {
             "colorbar": {
              "outlinewidth": 0,
              "ticks": ""
             }
            },
            "type": "scatterpolar"
           }
          ],
          "scatter": [
           {
            "marker": {
             "colorbar": {
              "outlinewidth": 0,
              "ticks": ""
             }
            },
            "type": "scatter"
           }
          ],
          "scatterternary": [
           {
            "marker": {
             "colorbar": {
              "outlinewidth": 0,
              "ticks": ""
             }
            },
            "type": "scatterternary"
           }
          ],
          "surface": [
           {
            "colorbar": {
             "outlinewidth": 0,
             "ticks": ""
            },
            "colorscale": [
             [
              0.0,
              "#0d0887"
             ],
             [
              0.1111111111111111,
              "#46039f"
             ],
             [
              0.2222222222222222,
              "#7201a8"
             ],
             [
              0.3333333333333333,
              "#9c179e"
             ],
             [
              0.4444444444444444,
              "#bd3786"
             ],
             [
              0.5555555555555556,
              "#d8576b"
             ],
             [
              0.6666666666666666,
              "#ed7953"
             ],
             [
              0.7777777777777778,
              "#fb9f3a"
             ],
             [
              0.8888888888888888,
              "#fdca26"
             ],
             [
              1.0,
              "#f0f921"
             ]
            ],
            "type": "surface"
           }
          ],
          "table": [
           {
            "cells": {
             "fill": {
              "color": "#EBF0F8"
             },
             "line": {
              "color": "white"
             }
            },
            "header": {
             "fill": {
              "color": "#C8D4E3"
             },
             "line": {
              "color": "white"
             }
            },
            "type": "table"
           }
          ]
         },
         "layout": {
          "annotationdefaults": {
           "arrowcolor": "#2a3f5f",
           "arrowhead": 0,
           "arrowwidth": 1
          },
          "autotypenumbers": "strict",
          "coloraxis": {
           "colorbar": {
            "outlinewidth": 0,
            "ticks": ""
           }
          },
          "colorscale": {
           "diverging": [
            [
             0,
             "#8e0152"
            ],
            [
             0.1,
             "#c51b7d"
            ],
            [
             0.2,
             "#de77ae"
            ],
            [
             0.3,
             "#f1b6da"
            ],
            [
             0.4,
             "#fde0ef"
            ],
            [
             0.5,
             "#f7f7f7"
            ],
            [
             0.6,
             "#e6f5d0"
            ],
            [
             0.7,
             "#b8e186"
            ],
            [
             0.8,
             "#7fbc41"
            ],
            [
             0.9,
             "#4d9221"
            ],
            [
             1,
             "#276419"
            ]
           ],
           "sequential": [
            [
             0.0,
             "#0d0887"
            ],
            [
             0.1111111111111111,
             "#46039f"
            ],
            [
             0.2222222222222222,
             "#7201a8"
            ],
            [
             0.3333333333333333,
             "#9c179e"
            ],
            [
             0.4444444444444444,
             "#bd3786"
            ],
            [
             0.5555555555555556,
             "#d8576b"
            ],
            [
             0.6666666666666666,
             "#ed7953"
            ],
            [
             0.7777777777777778,
             "#fb9f3a"
            ],
            [
             0.8888888888888888,
             "#fdca26"
            ],
            [
             1.0,
             "#f0f921"
            ]
           ],
           "sequentialminus": [
            [
             0.0,
             "#0d0887"
            ],
            [
             0.1111111111111111,
             "#46039f"
            ],
            [
             0.2222222222222222,
             "#7201a8"
            ],
            [
             0.3333333333333333,
             "#9c179e"
            ],
            [
             0.4444444444444444,
             "#bd3786"
            ],
            [
             0.5555555555555556,
             "#d8576b"
            ],
            [
             0.6666666666666666,
             "#ed7953"
            ],
            [
             0.7777777777777778,
             "#fb9f3a"
            ],
            [
             0.8888888888888888,
             "#fdca26"
            ],
            [
             1.0,
             "#f0f921"
            ]
           ]
          },
          "colorway": [
           "#636efa",
           "#EF553B",
           "#00cc96",
           "#ab63fa",
           "#FFA15A",
           "#19d3f3",
           "#FF6692",
           "#B6E880",
           "#FF97FF",
           "#FECB52"
          ],
          "font": {
           "color": "#2a3f5f"
          },
          "geo": {
           "bgcolor": "white",
           "lakecolor": "white",
           "landcolor": "#E5ECF6",
           "showlakes": true,
           "showland": true,
           "subunitcolor": "white"
          },
          "hoverlabel": {
           "align": "left"
          },
          "hovermode": "closest",
          "mapbox": {
           "style": "light"
          },
          "paper_bgcolor": "white",
          "plot_bgcolor": "#E5ECF6",
          "polar": {
           "angularaxis": {
            "gridcolor": "white",
            "linecolor": "white",
            "ticks": ""
           },
           "bgcolor": "#E5ECF6",
           "radialaxis": {
            "gridcolor": "white",
            "linecolor": "white",
            "ticks": ""
           }
          },
          "scene": {
           "xaxis": {
            "backgroundcolor": "#E5ECF6",
            "gridcolor": "white",
            "gridwidth": 2,
            "linecolor": "white",
            "showbackground": true,
            "ticks": "",
            "zerolinecolor": "white"
           },
           "yaxis": {
            "backgroundcolor": "#E5ECF6",
            "gridcolor": "white",
            "gridwidth": 2,
            "linecolor": "white",
            "showbackground": true,
            "ticks": "",
            "zerolinecolor": "white"
           },
           "zaxis": {
            "backgroundcolor": "#E5ECF6",
            "gridcolor": "white",
            "gridwidth": 2,
            "linecolor": "white",
            "showbackground": true,
            "ticks": "",
            "zerolinecolor": "white"
           }
          },
          "shapedefaults": {
           "line": {
            "color": "#2a3f5f"
           }
          },
          "ternary": {
           "aaxis": {
            "gridcolor": "white",
            "linecolor": "white",
            "ticks": ""
           },
           "baxis": {
            "gridcolor": "white",
            "linecolor": "white",
            "ticks": ""
           },
           "bgcolor": "#E5ECF6",
           "caxis": {
            "gridcolor": "white",
            "linecolor": "white",
            "ticks": ""
           }
          },
          "title": {
           "x": 0.05
          },
          "xaxis": {
           "automargin": true,
           "gridcolor": "white",
           "linecolor": "white",
           "ticks": "",
           "title": {
            "standoff": 15
           },
           "zerolinecolor": "white",
           "zerolinewidth": 2
          },
          "yaxis": {
           "automargin": true,
           "gridcolor": "white",
           "linecolor": "white",
           "ticks": "",
           "title": {
            "standoff": 15
           },
           "zerolinecolor": "white",
           "zerolinewidth": 2
          }
         }
        },
        "xaxis": {
         "anchor": "y",
         "domain": [
          0.0,
          1.0
         ],
         "title": {
          "text": "year"
         }
        },
        "yaxis": {
         "anchor": "x",
         "domain": [
          0.0,
          1.0
         ],
         "title": {
          "text": "value"
         }
        },
        "legend": {
         "title": {
          "text": "variable"
         },
         "tracegroupgap": 0
        },
        "title": {
         "text": "Greek publications, and collaborations with the UK, for publications related to SDGs over the years"
        },
        "barmode": "group"
       },
       "config": {
        "plotlyServerURL": "https://plot.ly"
       }
      },
      "text/html": "<div>                            <div id=\"de8f4182-0dd1-42ac-9261-d9179c791f02\" class=\"plotly-graph-div\" style=\"height:525px; width:100%;\"></div>            <script type=\"text/javascript\">                require([\"plotly\"], function(Plotly) {                    window.PLOTLYENV=window.PLOTLYENV || {};                                    if (document.getElementById(\"de8f4182-0dd1-42ac-9261-d9179c791f02\")) {                    Plotly.newPlot(                        \"de8f4182-0dd1-42ac-9261-d9179c791f02\",                        [{\"alignmentgroup\":\"True\",\"hovertemplate\":\"variable=mention<br>year=%{x}<br>value=%{y}<extra></extra>\",\"legendgroup\":\"mention\",\"marker\":{\"color\":\"#636efa\",\"pattern\":{\"shape\":\"\"}},\"name\":\"mention\",\"offsetgroup\":\"mention\",\"orientation\":\"v\",\"showlegend\":true,\"textposition\":\"auto\",\"x\":[2010,2011,2012,2013,2014,2015,2016,2017,2018,2019,2020,2021],\"xaxis\":\"x\",\"y\":[809,850,992,1171,1173,1393,1669,1903,1915,2203,2906,4022],\"yaxis\":\"y\",\"type\":\"bar\"},{\"alignmentgroup\":\"True\",\"hovertemplate\":\"variable=edge_w_uk<br>year=%{x}<br>value=%{y}<extra></extra>\",\"legendgroup\":\"edge_w_uk\",\"marker\":{\"color\":\"#EF553B\",\"pattern\":{\"shape\":\"\"}},\"name\":\"edge_w_uk\",\"offsetgroup\":\"edge_w_uk\",\"orientation\":\"v\",\"showlegend\":true,\"textposition\":\"auto\",\"x\":[2010,2011,2012,2013,2014,2015,2016,2017,2018,2019,2020,2021],\"xaxis\":\"x\",\"y\":[116,96,538,167,217,340,4396,4205,1250,717,885,2802],\"yaxis\":\"y\",\"type\":\"bar\"}],                        {\"template\":{\"data\":{\"barpolar\":[{\"marker\":{\"line\":{\"color\":\"#E5ECF6\",\"width\":0.5},\"pattern\":{\"fillmode\":\"overlay\",\"size\":10,\"solidity\":0.2}},\"type\":\"barpolar\"}],\"bar\":[{\"error_x\":{\"color\":\"#2a3f5f\"},\"error_y\":{\"color\":\"#2a3f5f\"},\"marker\":{\"line\":{\"color\":\"#E5ECF6\",\"width\":0.5},\"pattern\":{\"fillmode\":\"overlay\",\"size\":10,\"solidity\":0.2}},\"type\":\"bar\"}],\"carpet\":[{\"aaxis\":{\"endlinecolor\":\"#2a3f5f\",\"gridcolor\":\"white\",\"linecolor\":\"white\",\"minorgridcolor\":\"white\",\"startlinecolor\":\"#2a3f5f\"},\"baxis\":{\"endlinecolor\":\"#2a3f5f\",\"gridcolor\":\"white\",\"linecolor\":\"white\",\"minorgridcolor\":\"white\",\"startlinecolor\":\"#2a3f5f\"},\"type\":\"carpet\"}],\"choropleth\":[{\"colorbar\":{\"outlinewidth\":0,\"ticks\":\"\"},\"type\":\"choropleth\"}],\"contourcarpet\":[{\"colorbar\":{\"outlinewidth\":0,\"ticks\":\"\"},\"type\":\"contourcarpet\"}],\"contour\":[{\"colorbar\":{\"outlinewidth\":0,\"ticks\":\"\"},\"colorscale\":[[0.0,\"#0d0887\"],[0.1111111111111111,\"#46039f\"],[0.2222222222222222,\"#7201a8\"],[0.3333333333333333,\"#9c179e\"],[0.4444444444444444,\"#bd3786\"],[0.5555555555555556,\"#d8576b\"],[0.6666666666666666,\"#ed7953\"],[0.7777777777777778,\"#fb9f3a\"],[0.8888888888888888,\"#fdca26\"],[1.0,\"#f0f921\"]],\"type\":\"contour\"}],\"heatmapgl\":[{\"colorbar\":{\"outlinewidth\":0,\"ticks\":\"\"},\"colorscale\":[[0.0,\"#0d0887\"],[0.1111111111111111,\"#46039f\"],[0.2222222222222222,\"#7201a8\"],[0.3333333333333333,\"#9c179e\"],[0.4444444444444444,\"#bd3786\"],[0.5555555555555556,\"#d8576b\"],[0.6666666666666666,\"#ed7953\"],[0.7777777777777778,\"#fb9f3a\"],[0.8888888888888888,\"#fdca26\"],[1.0,\"#f0f921\"]],\"type\":\"heatmapgl\"}],\"heatmap\":[{\"colorbar\":{\"outlinewidth\":0,\"ticks\":\"\"},\"colorscale\":[[0.0,\"#0d0887\"],[0.1111111111111111,\"#46039f\"],[0.2222222222222222,\"#7201a8\"],[0.3333333333333333,\"#9c179e\"],[0.4444444444444444,\"#bd3786\"],[0.5555555555555556,\"#d8576b\"],[0.6666666666666666,\"#ed7953\"],[0.7777777777777778,\"#fb9f3a\"],[0.8888888888888888,\"#fdca26\"],[1.0,\"#f0f921\"]],\"type\":\"heatmap\"}],\"histogram2dcontour\":[{\"colorbar\":{\"outlinewidth\":0,\"ticks\":\"\"},\"colorscale\":[[0.0,\"#0d0887\"],[0.1111111111111111,\"#46039f\"],[0.2222222222222222,\"#7201a8\"],[0.3333333333333333,\"#9c179e\"],[0.4444444444444444,\"#bd3786\"],[0.5555555555555556,\"#d8576b\"],[0.6666666666666666,\"#ed7953\"],[0.7777777777777778,\"#fb9f3a\"],[0.8888888888888888,\"#fdca26\"],[1.0,\"#f0f921\"]],\"type\":\"histogram2dcontour\"}],\"histogram2d\":[{\"colorbar\":{\"outlinewidth\":0,\"ticks\":\"\"},\"colorscale\":[[0.0,\"#0d0887\"],[0.1111111111111111,\"#46039f\"],[0.2222222222222222,\"#7201a8\"],[0.3333333333333333,\"#9c179e\"],[0.4444444444444444,\"#bd3786\"],[0.5555555555555556,\"#d8576b\"],[0.6666666666666666,\"#ed7953\"],[0.7777777777777778,\"#fb9f3a\"],[0.8888888888888888,\"#fdca26\"],[1.0,\"#f0f921\"]],\"type\":\"histogram2d\"}],\"histogram\":[{\"marker\":{\"pattern\":{\"fillmode\":\"overlay\",\"size\":10,\"solidity\":0.2}},\"type\":\"histogram\"}],\"mesh3d\":[{\"colorbar\":{\"outlinewidth\":0,\"ticks\":\"\"},\"type\":\"mesh3d\"}],\"parcoords\":[{\"line\":{\"colorbar\":{\"outlinewidth\":0,\"ticks\":\"\"}},\"type\":\"parcoords\"}],\"pie\":[{\"automargin\":true,\"type\":\"pie\"}],\"scatter3d\":[{\"line\":{\"colorbar\":{\"outlinewidth\":0,\"ticks\":\"\"}},\"marker\":{\"colorbar\":{\"outlinewidth\":0,\"ticks\":\"\"}},\"type\":\"scatter3d\"}],\"scattercarpet\":[{\"marker\":{\"colorbar\":{\"outlinewidth\":0,\"ticks\":\"\"}},\"type\":\"scattercarpet\"}],\"scattergeo\":[{\"marker\":{\"colorbar\":{\"outlinewidth\":0,\"ticks\":\"\"}},\"type\":\"scattergeo\"}],\"scattergl\":[{\"marker\":{\"colorbar\":{\"outlinewidth\":0,\"ticks\":\"\"}},\"type\":\"scattergl\"}],\"scattermapbox\":[{\"marker\":{\"colorbar\":{\"outlinewidth\":0,\"ticks\":\"\"}},\"type\":\"scattermapbox\"}],\"scatterpolargl\":[{\"marker\":{\"colorbar\":{\"outlinewidth\":0,\"ticks\":\"\"}},\"type\":\"scatterpolargl\"}],\"scatterpolar\":[{\"marker\":{\"colorbar\":{\"outlinewidth\":0,\"ticks\":\"\"}},\"type\":\"scatterpolar\"}],\"scatter\":[{\"marker\":{\"colorbar\":{\"outlinewidth\":0,\"ticks\":\"\"}},\"type\":\"scatter\"}],\"scatterternary\":[{\"marker\":{\"colorbar\":{\"outlinewidth\":0,\"ticks\":\"\"}},\"type\":\"scatterternary\"}],\"surface\":[{\"colorbar\":{\"outlinewidth\":0,\"ticks\":\"\"},\"colorscale\":[[0.0,\"#0d0887\"],[0.1111111111111111,\"#46039f\"],[0.2222222222222222,\"#7201a8\"],[0.3333333333333333,\"#9c179e\"],[0.4444444444444444,\"#bd3786\"],[0.5555555555555556,\"#d8576b\"],[0.6666666666666666,\"#ed7953\"],[0.7777777777777778,\"#fb9f3a\"],[0.8888888888888888,\"#fdca26\"],[1.0,\"#f0f921\"]],\"type\":\"surface\"}],\"table\":[{\"cells\":{\"fill\":{\"color\":\"#EBF0F8\"},\"line\":{\"color\":\"white\"}},\"header\":{\"fill\":{\"color\":\"#C8D4E3\"},\"line\":{\"color\":\"white\"}},\"type\":\"table\"}]},\"layout\":{\"annotationdefaults\":{\"arrowcolor\":\"#2a3f5f\",\"arrowhead\":0,\"arrowwidth\":1},\"autotypenumbers\":\"strict\",\"coloraxis\":{\"colorbar\":{\"outlinewidth\":0,\"ticks\":\"\"}},\"colorscale\":{\"diverging\":[[0,\"#8e0152\"],[0.1,\"#c51b7d\"],[0.2,\"#de77ae\"],[0.3,\"#f1b6da\"],[0.4,\"#fde0ef\"],[0.5,\"#f7f7f7\"],[0.6,\"#e6f5d0\"],[0.7,\"#b8e186\"],[0.8,\"#7fbc41\"],[0.9,\"#4d9221\"],[1,\"#276419\"]],\"sequential\":[[0.0,\"#0d0887\"],[0.1111111111111111,\"#46039f\"],[0.2222222222222222,\"#7201a8\"],[0.3333333333333333,\"#9c179e\"],[0.4444444444444444,\"#bd3786\"],[0.5555555555555556,\"#d8576b\"],[0.6666666666666666,\"#ed7953\"],[0.7777777777777778,\"#fb9f3a\"],[0.8888888888888888,\"#fdca26\"],[1.0,\"#f0f921\"]],\"sequentialminus\":[[0.0,\"#0d0887\"],[0.1111111111111111,\"#46039f\"],[0.2222222222222222,\"#7201a8\"],[0.3333333333333333,\"#9c179e\"],[0.4444444444444444,\"#bd3786\"],[0.5555555555555556,\"#d8576b\"],[0.6666666666666666,\"#ed7953\"],[0.7777777777777778,\"#fb9f3a\"],[0.8888888888888888,\"#fdca26\"],[1.0,\"#f0f921\"]]},\"colorway\":[\"#636efa\",\"#EF553B\",\"#00cc96\",\"#ab63fa\",\"#FFA15A\",\"#19d3f3\",\"#FF6692\",\"#B6E880\",\"#FF97FF\",\"#FECB52\"],\"font\":{\"color\":\"#2a3f5f\"},\"geo\":{\"bgcolor\":\"white\",\"lakecolor\":\"white\",\"landcolor\":\"#E5ECF6\",\"showlakes\":true,\"showland\":true,\"subunitcolor\":\"white\"},\"hoverlabel\":{\"align\":\"left\"},\"hovermode\":\"closest\",\"mapbox\":{\"style\":\"light\"},\"paper_bgcolor\":\"white\",\"plot_bgcolor\":\"#E5ECF6\",\"polar\":{\"angularaxis\":{\"gridcolor\":\"white\",\"linecolor\":\"white\",\"ticks\":\"\"},\"bgcolor\":\"#E5ECF6\",\"radialaxis\":{\"gridcolor\":\"white\",\"linecolor\":\"white\",\"ticks\":\"\"}},\"scene\":{\"xaxis\":{\"backgroundcolor\":\"#E5ECF6\",\"gridcolor\":\"white\",\"gridwidth\":2,\"linecolor\":\"white\",\"showbackground\":true,\"ticks\":\"\",\"zerolinecolor\":\"white\"},\"yaxis\":{\"backgroundcolor\":\"#E5ECF6\",\"gridcolor\":\"white\",\"gridwidth\":2,\"linecolor\":\"white\",\"showbackground\":true,\"ticks\":\"\",\"zerolinecolor\":\"white\"},\"zaxis\":{\"backgroundcolor\":\"#E5ECF6\",\"gridcolor\":\"white\",\"gridwidth\":2,\"linecolor\":\"white\",\"showbackground\":true,\"ticks\":\"\",\"zerolinecolor\":\"white\"}},\"shapedefaults\":{\"line\":{\"color\":\"#2a3f5f\"}},\"ternary\":{\"aaxis\":{\"gridcolor\":\"white\",\"linecolor\":\"white\",\"ticks\":\"\"},\"baxis\":{\"gridcolor\":\"white\",\"linecolor\":\"white\",\"ticks\":\"\"},\"bgcolor\":\"#E5ECF6\",\"caxis\":{\"gridcolor\":\"white\",\"linecolor\":\"white\",\"ticks\":\"\"}},\"title\":{\"x\":0.05},\"xaxis\":{\"automargin\":true,\"gridcolor\":\"white\",\"linecolor\":\"white\",\"ticks\":\"\",\"title\":{\"standoff\":15},\"zerolinecolor\":\"white\",\"zerolinewidth\":2},\"yaxis\":{\"automargin\":true,\"gridcolor\":\"white\",\"linecolor\":\"white\",\"ticks\":\"\",\"title\":{\"standoff\":15},\"zerolinecolor\":\"white\",\"zerolinewidth\":2}}},\"xaxis\":{\"anchor\":\"y\",\"domain\":[0.0,1.0],\"title\":{\"text\":\"year\"}},\"yaxis\":{\"anchor\":\"x\",\"domain\":[0.0,1.0],\"title\":{\"text\":\"value\"}},\"legend\":{\"title\":{\"text\":\"variable\"},\"tracegroupgap\":0},\"title\":{\"text\":\"Greek publications, and collaborations with the UK, for publications related to SDGs over the years\"},\"barmode\":\"group\"},                        {\"responsive\": true}                    ).then(function(){\n                            \nvar gd = document.getElementById('de8f4182-0dd1-42ac-9261-d9179c791f02');\nvar x = new MutationObserver(function (mutations, observer) {{\n        var display = window.getComputedStyle(gd).display;\n        if (!display || display === 'none') {{\n            console.log([gd, 'removed!']);\n            Plotly.purge(gd);\n            observer.disconnect();\n        }}\n}});\n\n// Listen for the removal of the full notebook cells\nvar notebookContainer = gd.closest('#notebook-container');\nif (notebookContainer) {{\n    x.observe(notebookContainer, {childList: true});\n}}\n\n// Listen for the clearing of the current output cell\nvar outputEl = gd.closest('.output');\nif (outputEl) {{\n    x.observe(outputEl, {childList: true});\n}}\n\n                        })                };                });            </script>        </div>"
     },
     "metadata": {},
     "output_type": "display_data"
    }
   ],
   "source": [
    "fig = px.bar(df_melt, x=df_melt.index, y='value', barmode='group',color=\"variable\", template=\"plotly\", title=\"Greek publications, and collaborations with the UK, for publications related to SDGs over the years\")\n",
    "fig.write_image(\"focus_on_greece.jpg\")\n",
    "fig.show()"
   ],
   "metadata": {
    "collapsed": false,
    "pycharm": {
     "name": "#%%\n"
    }
   }
  },
  {
   "cell_type": "code",
   "execution_count": 70,
   "outputs": [],
   "source": [],
   "metadata": {
    "collapsed": false,
    "pycharm": {
     "name": "#%%\n"
    }
   }
  },
  {
   "cell_type": "code",
   "execution_count": null,
   "outputs": [],
   "source": [],
   "metadata": {
    "collapsed": false,
    "pycharm": {
     "name": "#%%\n"
    }
   }
  }
 ],
 "metadata": {
  "kernelspec": {
   "display_name": "Python 3",
   "language": "python",
   "name": "python3"
  },
  "language_info": {
   "codemirror_mode": {
    "name": "ipython",
    "version": 2
   },
   "file_extension": ".py",
   "mimetype": "text/x-python",
   "name": "python",
   "nbconvert_exporter": "python",
   "pygments_lexer": "ipython2",
   "version": "2.7.6"
  }
 },
 "nbformat": 4,
 "nbformat_minor": 0
}