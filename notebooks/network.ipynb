{
 "cells": [
  {
   "cell_type": "code",
   "execution_count": 1,
   "outputs": [],
   "source": [
    "import pandas as pd\n",
    "def unique_actors(df):\n",
    "    \"\"\"\n",
    "    return a list with all unique actors in the df\n",
    "    :param support:\n",
    "        Either \"all\", \"sup\", or \"opp\"\n",
    "    :param df:\n",
    "    :return:\n",
    "    \"\"\"\n",
    "\n",
    "    return_list = []\n",
    "    for ind, row in df.iterrows():\n",
    "            return_list += row.CN.split(\", \")\n",
    "\n",
    "\n",
    "    return_list = list(set(return_list))\n",
    "    if \"\" in return_list:\n",
    "        return_list.remove(\"\")\n",
    "    return return_list"
   ],
   "metadata": {
    "collapsed": false,
    "pycharm": {
     "name": "#%%\n"
    }
   }
  },
  {
   "cell_type": "code",
   "execution_count": 1,
   "outputs": [],
   "source": [
    "\n",
    "from collections import Counter\n",
    "from itertools import combinations, product\n",
    "\n",
    "import networkx as nx\n",
    "\n",
    "import plotly.express as px\n",
    "import plotly.graph_objects as go\n",
    "\n",
    "def network_graph(df, total_actors):\n",
    "    \"\"\"\n",
    "    :param total_actors:\n",
    "    :param df:\n",
    "    :return:\n",
    "    \"\"\"\n",
    "    df_unique_actors = pd.DataFrame(unique_actors(df), columns=[\"Country\"])\n",
    "    total_mention = Counter()\n",
    "\n",
    "    for ind, row in df.iterrows():\n",
    "        lst_actor_in_row = sorted(row.CN.split(\", \"))\n",
    "        for mention in lst_actor_in_row:\n",
    "            total_mention[mention] += 1\n",
    "    df_unique_actors['total'] = df_unique_actors['Country'].apply(lambda x: total_mention[x])\n",
    "\n",
    "\n",
    "    # EDGE\n",
    "    total_edge = Counter()\n",
    "\n",
    "    for ind, row in df.iterrows():\n",
    "        lst_actor_in_row = sorted(row.CN.split(\", \"))\n",
    "        for edge in list(combinations(lst_actor_in_row, 2)):\n",
    "            total_edge[edge] += 1\n",
    "\n",
    "\n",
    "    df_edge = pd.DataFrame.from_dict(total_edge, orient=\"index\").reset_index()\n",
    "    df_edge = df_edge.rename(columns={'index': 'country_pair', 0: 'edge'})\n",
    "\n",
    "    df_edge[\"c1\"] = df_edge.country_pair.apply(lambda x: x[0])\n",
    "    df_edge[\"c2\"] = df_edge.country_pair.apply(lambda x: x[1])\n",
    "    df_edge = df_edge.drop(columns=\"country_pair\")\n",
    "\n",
    "    # return df_edge\n",
    "    # df_unique_actors = df_unique_actors.nlargest(total_actors, \"total\").reset_index(drop=True)\n",
    "    # print(df_unique_actors)\n",
    "    # cond_c1 = df_edge[\"c1\"].isin(df_actors.Actor.values.tolist())\n",
    "    # cond_c2 = df_edge[\"c2\"].isin(df_actors.Actor.values.tolist())\n",
    "    # df_edge = df_edge[cond_c1 & cond_c2]\n",
    "    # return df_unique_actors\n",
    "    # Networkx\n",
    "    g = nx.Graph()\n",
    "    nodesize = []\n",
    "    for ind, row in df_unique_actors.iterrows():\n",
    "        g.add_node(row[\"Country\"])\n",
    "        nodesize.append(row.total)\n",
    "    maxi_node = max(nodesize)\n",
    "    node_size = [100 * node / maxi_node for node in nodesize]\n",
    "    for ind, row in df_edge.iterrows():\n",
    "        c1 = row[\"c1\"]\n",
    "        c2 = row[\"c2\"]\n",
    "        count_edge = row[\"edge\"]\n",
    "        g.add_edge(c1, c2, weight=count_edge)\n",
    "\n",
    "    pos = nx.spring_layout(g, k=1, iterations=200)\n",
    "\n",
    "    edges = g.edges()\n",
    "\n",
    "\n",
    "    # w = [g[u][v]['weight'] for u, v in edges]\n",
    "    # maxi = max(w) if len(w) > 0 else 0\n",
    "\n",
    "    for node in g.nodes:\n",
    "        g.nodes[node]['pos'] = list(pos[node])\n",
    "\n",
    "    # Middle point for hovering\n",
    "    # middle_hover_trace = go.Scatter(x=[], y=[], hovertext=[], mode='markers', hoverinfo=\"text\",\n",
    "    #                                 marker={'size': 20, 'color': 'LightSkyBlue'}, opacity=0)\n",
    "\n",
    "    # Edges = Lines logic\n",
    "    edge_trace = []\n",
    "    for ind, edge in enumerate(g.edges()):\n",
    "        x0, y0 = pos[edge[0]]\n",
    "        x1, y1 = pos[edge[1]]\n",
    "        weight = 4 * (g[edge[0]][edge[1]][\"weight\"]) / maxi\n",
    "\n",
    "        # # Color of the edge, blue or red or mix depending on support/opposition\n",
    "        # red = g[edge[0]][edge[1]][\"disagree\"]\n",
    "        # blue = g[edge[0]][edge[1]][\"agree\"]\n",
    "        # red_blue = red + blue\n",
    "        # red_color = red * 255 / red_blue\n",
    "        # blue_color = blue * 255 * red_blue\n",
    "\n",
    "        # Line logic\n",
    "        trace = go.Scatter(\n",
    "            x=[x0, x1, None], y=[y0, y1, None],\n",
    "            line=dict(width=weight),\n",
    "            # hovertext='Support = ' + str(blue) + '\\nOpposition = ' + str(red),\n",
    "            mode='lines')\n",
    "        edge_trace.append(trace)\n",
    "        #\n",
    "        # # Middle-point logic\n",
    "        # hovertext = str(edge) + ' :<br>Support = ' + str(blue) + '<br>Opposition = ' + str(red)\n",
    "        # middle_hover_trace['x'] += tuple([(x0 + x1) / 2])\n",
    "        # middle_hover_trace['y'] += tuple([(y0 + y1) / 2])\n",
    "        # middle_hover_trace['hovertext'] += tuple([hovertext])\n",
    "\n",
    "    # Nodes logic\n",
    "    node_x = []\n",
    "    node_y = []\n",
    "    node_name = []\n",
    "    for node in g.nodes():\n",
    "        x, y = pos[node]\n",
    "        node_x.append(x)\n",
    "        node_y.append(y)\n",
    "        node_name.append(str(node))\n",
    "\n",
    "    node_trace = go.Scatter(\n",
    "        x=node_x, y=node_y,\n",
    "        mode='markers+text',\n",
    "        hovertext=nodesize,\n",
    "        # hoverinfo='',\n",
    "        text=node_name,\n",
    "        marker=dict(\n",
    "            showscale=True,\n",
    "            # colorscale options\n",
    "            # 'Greys' | 'YlGnBu' | 'Greens' | 'YlOrRd' | 'Bluered' | 'RdBu' |\n",
    "            # 'Reds' | 'Blues' | 'Picnic' | 'Rainbow' | 'Portland' | 'Jet' |\n",
    "            # 'Hot' | 'Blackbody' | 'Earth' | 'Electric' | 'Viridis' |\n",
    "            colorscale='YlGnBu',\n",
    "            reversescale=True,\n",
    "            color=[],\n",
    "            size=node_size,\n",
    "            colorbar=dict(\n",
    "                thickness=15,\n",
    "                title='Node Connections',\n",
    "                xanchor='left',\n",
    "                titleside='right'\n",
    "            ),\n",
    "            line_width=2))\n",
    "\n",
    "    node_adjacencies = []\n",
    "    node_text = []\n",
    "    for node, adjacencies in enumerate(g.adjacency()):\n",
    "        node_adjacencies.append(len(adjacencies[1]))\n",
    "        node_text.append('# of connections: ' + str(len(adjacencies[1])))\n",
    "\n",
    "    node_trace.marker.color = node_adjacencies\n",
    "    # node_trace.text = node_text\n",
    "    edge_trace.append(node_trace)\n",
    "    # edge_trace.append(middle_hover_trace)\n",
    "    fig = go.Figure(data=edge_trace,\n",
    "                    layout=go.Layout(\n",
    "                        title='<br>Network graph showing actors collaborations',\n",
    "                        titlefont_size=16,\n",
    "                        showlegend=False,\n",
    "                        hovermode='closest',\n",
    "                        margin=dict(b=20, l=5, r=5, t=40),\n",
    "                        annotations=[dict(\n",
    "                            text=str(len(df)) + \"</a>\",\n",
    "                            showarrow=False,\n",
    "                            xref=\"paper\", yref=\"paper\",\n",
    "                            x=0.005, y=-0.002)],\n",
    "                        xaxis=dict(showgrid=False, zeroline=False, showticklabels=False),\n",
    "                        yaxis=dict(showgrid=False, zeroline=False, showticklabels=False))\n",
    "                    )\n",
    "\n",
    "    fig.update_traces(textposition='top center', textfont=dict(family='sans-serif', size=15, color='#000'))\n",
    "    return fig"
   ],
   "metadata": {
    "collapsed": false,
    "pycharm": {
     "name": "#%%\n"
    }
   }
  },
  {
   "cell_type": "code",
   "execution_count": 8,
   "outputs": [],
   "source": [
    "df = pd.read_pickle(\"../data/output/WoS_SDG.pkl\")"
   ],
   "metadata": {
    "collapsed": false,
    "pycharm": {
     "name": "#%%\n"
    }
   }
  },
  {
   "cell_type": "code",
   "execution_count": 35,
   "outputs": [],
   "source": [
    "\n",
    "df_edge = network_graph(df, total_actors=15)"
   ],
   "metadata": {
    "collapsed": false,
    "pycharm": {
     "name": "#%%\n"
    }
   }
  },
  {
   "cell_type": "code",
   "execution_count": null,
   "outputs": [],
   "source": [],
   "metadata": {
    "collapsed": false,
    "pycharm": {
     "name": "#%%\n"
    }
   }
  },
  {
   "cell_type": "code",
   "execution_count": 53,
   "outputs": [],
   "source": [
    "df_sorted = df_edge.sort_values(by=['edge'], ascending=False)"
   ],
   "metadata": {
    "collapsed": false,
    "pycharm": {
     "name": "#%%\n"
    }
   }
  },
  {
   "cell_type": "code",
   "execution_count": 54,
   "outputs": [],
   "source": [
    "df_sorted = df_sorted.reset_index(drop=True)\n"
   ],
   "metadata": {
    "collapsed": false,
    "pycharm": {
     "name": "#%%\n"
    }
   }
  },
  {
   "cell_type": "code",
   "execution_count": 55,
   "outputs": [
    {
     "data": {
      "text/plain": "          edge              c1              c2\n0      1247758   United States   United States\n1       544572           China           China\n2       358522           China   United States\n3       198150  United Kingdom  United Kingdom\n4       194510  United Kingdom   United States\n...        ...             ...             ...\n10808        1           Gabon          Zambia\n10809        1           Gabon          Mexico\n10810        1      Costa Rica           Gabon\n10811        1            Chad          Kosovo\n10812        1   Liechtenstein         Romania\n\n[10813 rows x 3 columns]",
      "text/html": "<div>\n<style scoped>\n    .dataframe tbody tr th:only-of-type {\n        vertical-align: middle;\n    }\n\n    .dataframe tbody tr th {\n        vertical-align: top;\n    }\n\n    .dataframe thead th {\n        text-align: right;\n    }\n</style>\n<table border=\"1\" class=\"dataframe\">\n  <thead>\n    <tr style=\"text-align: right;\">\n      <th></th>\n      <th>edge</th>\n      <th>c1</th>\n      <th>c2</th>\n    </tr>\n  </thead>\n  <tbody>\n    <tr>\n      <th>0</th>\n      <td>1247758</td>\n      <td>United States</td>\n      <td>United States</td>\n    </tr>\n    <tr>\n      <th>1</th>\n      <td>544572</td>\n      <td>China</td>\n      <td>China</td>\n    </tr>\n    <tr>\n      <th>2</th>\n      <td>358522</td>\n      <td>China</td>\n      <td>United States</td>\n    </tr>\n    <tr>\n      <th>3</th>\n      <td>198150</td>\n      <td>United Kingdom</td>\n      <td>United Kingdom</td>\n    </tr>\n    <tr>\n      <th>4</th>\n      <td>194510</td>\n      <td>United Kingdom</td>\n      <td>United States</td>\n    </tr>\n    <tr>\n      <th>...</th>\n      <td>...</td>\n      <td>...</td>\n      <td>...</td>\n    </tr>\n    <tr>\n      <th>10808</th>\n      <td>1</td>\n      <td>Gabon</td>\n      <td>Zambia</td>\n    </tr>\n    <tr>\n      <th>10809</th>\n      <td>1</td>\n      <td>Gabon</td>\n      <td>Mexico</td>\n    </tr>\n    <tr>\n      <th>10810</th>\n      <td>1</td>\n      <td>Costa Rica</td>\n      <td>Gabon</td>\n    </tr>\n    <tr>\n      <th>10811</th>\n      <td>1</td>\n      <td>Chad</td>\n      <td>Kosovo</td>\n    </tr>\n    <tr>\n      <th>10812</th>\n      <td>1</td>\n      <td>Liechtenstein</td>\n      <td>Romania</td>\n    </tr>\n  </tbody>\n</table>\n<p>10813 rows × 3 columns</p>\n</div>"
     },
     "execution_count": 55,
     "metadata": {},
     "output_type": "execute_result"
    }
   ],
   "source": [
    "df_sorted"
   ],
   "metadata": {
    "collapsed": false,
    "pycharm": {
     "name": "#%%\n"
    }
   }
  },
  {
   "cell_type": "code",
   "execution_count": null,
   "outputs": [],
   "source": [],
   "metadata": {
    "collapsed": false,
    "pycharm": {
     "name": "#%%\n"
    }
   }
  }
 ],
 "metadata": {
  "kernelspec": {
   "display_name": "Python 3",
   "language": "python",
   "name": "python3"
  },
  "language_info": {
   "codemirror_mode": {
    "name": "ipython",
    "version": 2
   },
   "file_extension": ".py",
   "mimetype": "text/x-python",
   "name": "python",
   "nbconvert_exporter": "python",
   "pygments_lexer": "ipython2",
   "version": "2.7.6"
  }
 },
 "nbformat": 4,
 "nbformat_minor": 0
}