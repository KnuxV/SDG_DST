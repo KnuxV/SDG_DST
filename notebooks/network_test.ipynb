{
 "cells": [
  {
   "cell_type": "code",
   "execution_count": 33,
   "outputs": [],
   "source": [
    "\"\"\"\n",
    "functions to create network graph on maps with plotly depending on a dataframe.\n",
    "3 options: World, Europe, or Continent\n",
    "\"\"\"\n",
    "import os\n",
    "from typing import Tuple, Any\n",
    "\n",
    "import pandas as pd\n",
    "import plotly.graph_objects as go\n",
    "from itertools import combinations\n",
    "from collections import Counter\n",
    "\n",
    "# LOADING STUFF\n",
    "from numpy import nan, NaN\n",
    "\n",
    "df_country = pd.read_excel(\"../data/countries_full.xls\", sheet_name=0)\n",
    "\n",
    "df_country_eu = pd.read_excel(\"../data/countries_eu.xlsx\", sheet_name=0)\n",
    "df_country_w_continent = pd.read_excel(\"../data/countries_w_continent.xlsx\", sheet_name=0)\n",
    "df_country_w_continent = df_country_w_continent[['Country','Region', 'latitude', 'longitude']]\n",
    "df_continent = pd.read_excel(\"../data/continents.xls\", sheet_name=0)\n",
    "\n",
    "# dic of pair Country: Continent\n",
    "# df_country_w_continent = df_country.dropna(subset=['Region'])\n",
    "dic_country_continent = dict(zip(df_country_w_continent.Country, df_country_w_continent.Region))\n",
    "list_eu_countries = df_country_eu.Country.tolist()"
   ],
   "metadata": {
    "collapsed": false,
    "pycharm": {
     "name": "#%%\n"
    }
   }
  },
  {
   "cell_type": "code",
   "execution_count": 34,
   "outputs": [
    {
     "data": {
      "text/plain": "            Country                      Region   latitude   longitude\n0       Afghanistan                  South Asia  33.939110   67.709953\n1           Albania       Europe & Central Asia  41.153332   20.168331\n2           Algeria  Middle East & North Africa  28.033886    1.659626\n3    American Samoa         East Asia & Pacific -14.270972 -170.132217\n4           Andorra       Europe & Central Asia  42.546245    1.601554\n..              ...                         ...        ...         ...\n222       Venezuela   Latin America & Caribbean   6.423750  -66.589730\n223         Vietnam         East Asia & Pacific  14.058324  108.277199\n224           Yemen  Middle East & North Africa  15.552727   48.516388\n225          Zambia          Sub-Saharan Africa -13.133897   27.849332\n226        Zimbabwe          Sub-Saharan Africa -19.015438   29.154857\n\n[227 rows x 4 columns]",
      "text/html": "<div>\n<style scoped>\n    .dataframe tbody tr th:only-of-type {\n        vertical-align: middle;\n    }\n\n    .dataframe tbody tr th {\n        vertical-align: top;\n    }\n\n    .dataframe thead th {\n        text-align: right;\n    }\n</style>\n<table border=\"1\" class=\"dataframe\">\n  <thead>\n    <tr style=\"text-align: right;\">\n      <th></th>\n      <th>Country</th>\n      <th>Region</th>\n      <th>latitude</th>\n      <th>longitude</th>\n    </tr>\n  </thead>\n  <tbody>\n    <tr>\n      <th>0</th>\n      <td>Afghanistan</td>\n      <td>South Asia</td>\n      <td>33.939110</td>\n      <td>67.709953</td>\n    </tr>\n    <tr>\n      <th>1</th>\n      <td>Albania</td>\n      <td>Europe &amp; Central Asia</td>\n      <td>41.153332</td>\n      <td>20.168331</td>\n    </tr>\n    <tr>\n      <th>2</th>\n      <td>Algeria</td>\n      <td>Middle East &amp; North Africa</td>\n      <td>28.033886</td>\n      <td>1.659626</td>\n    </tr>\n    <tr>\n      <th>3</th>\n      <td>American Samoa</td>\n      <td>East Asia &amp; Pacific</td>\n      <td>-14.270972</td>\n      <td>-170.132217</td>\n    </tr>\n    <tr>\n      <th>4</th>\n      <td>Andorra</td>\n      <td>Europe &amp; Central Asia</td>\n      <td>42.546245</td>\n      <td>1.601554</td>\n    </tr>\n    <tr>\n      <th>...</th>\n      <td>...</td>\n      <td>...</td>\n      <td>...</td>\n      <td>...</td>\n    </tr>\n    <tr>\n      <th>222</th>\n      <td>Venezuela</td>\n      <td>Latin America &amp; Caribbean</td>\n      <td>6.423750</td>\n      <td>-66.589730</td>\n    </tr>\n    <tr>\n      <th>223</th>\n      <td>Vietnam</td>\n      <td>East Asia &amp; Pacific</td>\n      <td>14.058324</td>\n      <td>108.277199</td>\n    </tr>\n    <tr>\n      <th>224</th>\n      <td>Yemen</td>\n      <td>Middle East &amp; North Africa</td>\n      <td>15.552727</td>\n      <td>48.516388</td>\n    </tr>\n    <tr>\n      <th>225</th>\n      <td>Zambia</td>\n      <td>Sub-Saharan Africa</td>\n      <td>-13.133897</td>\n      <td>27.849332</td>\n    </tr>\n    <tr>\n      <th>226</th>\n      <td>Zimbabwe</td>\n      <td>Sub-Saharan Africa</td>\n      <td>-19.015438</td>\n      <td>29.154857</td>\n    </tr>\n  </tbody>\n</table>\n<p>227 rows × 4 columns</p>\n</div>"
     },
     "execution_count": 34,
     "metadata": {},
     "output_type": "execute_result"
    }
   ],
   "source": [
    "df_country_w_continent"
   ],
   "metadata": {
    "collapsed": false,
    "pycharm": {
     "name": "#%%\n"
    }
   }
  },
  {
   "cell_type": "code",
   "execution_count": 35,
   "outputs": [],
   "source": [
    "def unique_actors(dataframe, map_filter='World') -> pd.DataFrame:\n",
    "    \"\"\"\n",
    "    this function creates a list of unique actors present in the CN column of\n",
    "    the dataframe. CN column is a made a str such as 'France, United States'\n",
    "    Args:\n",
    "        dataframe (pd.Dataframe): input dataframe\n",
    "        map_filter (str): choose between World, Europe or Continent which\n",
    "        affects the displays\n",
    "\n",
    "    Returns:\n",
    "        list: a list with all actors present in the df (only European countries)\n",
    "        if map_filter=Europe, only continents if map_filter=Continent.\n",
    "    \"\"\"\n",
    "    return_set = set()\n",
    "    # df_lst_country = pd.read_csv(\"data/country_continent.csv\", index_col=0)\n",
    "\n",
    "    if map_filter == 'World':\n",
    "        for ind, row in dataframe.iterrows():\n",
    "            if row.CN.split(\", \"):\n",
    "                return_set |= set(row.CN.split(\", \"))\n",
    "\n",
    "    elif map_filter == 'Europe':\n",
    "        for ind, row in dataframe.iterrows():\n",
    "            countries = row.CN.split(\", \")\n",
    "            countries_from_eu = [elem for elem in countries if elem in list_eu_countries]\n",
    "            return_set |= set(countries_from_eu)\n",
    "\n",
    "    elif map_filter == 'Continent':\n",
    "        for ind, row in dataframe.iterrows():\n",
    "            countries = row.CN.split(\", \")\n",
    "            try:\n",
    "                lst_countries_as_continent = [dic_country_continent[elem] for elem in countries]\n",
    "                return_set |= set(lst_countries_as_continent)\n",
    "            except KeyError:\n",
    "                for elem in countries:\n",
    "                    if elem not in dic_country_continent.keys():\n",
    "                        print(elem)\n",
    "\n",
    "    if \"\" in return_set:\n",
    "        return_set.remove(\"\")\n",
    "    if return_set:\n",
    "        return_lst = list(return_set)\n",
    "    else:\n",
    "        print(\"return list is empty\")\n",
    "        return pd.DataFrame(data=None)\n",
    "\n",
    "    if map_filter in [\"World\", \"Europe\"]:\n",
    "        df_unique_actors = pd.DataFrame(return_lst, columns=[\"Country\"])\n",
    "        df_unique_actors.sort_values(by=\"Country\", inplace=True)\n",
    "    elif map_filter == \"Continent\":\n",
    "        df_unique_actors = pd.DataFrame(return_lst, columns=[\"Continent\"])\n",
    "        df_unique_actors.sort_values(by=\"Continent\", inplace=True)\n",
    "    else:\n",
    "        df_unique_actors = pd.DataFrame(data=None, columns=[\"Country\"])\n",
    "\n",
    "    return df_unique_actors.reset_index(drop=True)\n",
    "\n",
    "\n",
    "def give_lat_long(country: str, map_filter=\"World\") -> tuple:\n",
    "    \"\"\"\n",
    "    Args:\n",
    "        country (str): name of the country\n",
    "\n",
    "    Returns:\n",
    "        tuple: a tuple made of (latitude, longitude) of a given country\n",
    "        according to a csv file\n",
    "        :param map_filter:\n",
    "    \"\"\"\n",
    "    # df_lst_country = pd.read_csv(country_csv_path, sep=sep)\n",
    "    quer = df_country_w_continent.query('Country == \"%s\"' % country)[['latitude', 'longitude']]\n",
    "\n",
    "    if map_filter == \"Continent\":\n",
    "        quer = df_continent.query('Continent == \"%s\"' % country)[['latitude', 'longitude']]\n",
    "    return tuple(quer.values[0])"
   ],
   "metadata": {
    "collapsed": false,
    "pycharm": {
     "name": "#%%\n"
    }
   }
  },
  {
   "cell_type": "code",
   "execution_count": 36,
   "outputs": [],
   "source": [
    "def actors_mention(dataframe: pd.DataFrame, map_filter=\"World\",\n",
    "                   max_num_actors=\"max\") -> pd.DataFrame:\n",
    "    \"\"\"\n",
    "\n",
    "    Args:\n",
    "        max_num_actors:\n",
    "        dataframe (pd.Dataframe): Dataframe with a CN column\n",
    "        map_filter (str): World, Europe or Continent\n",
    "\n",
    "    Returns:\n",
    "        pd.Dataframe: a dataframe with columns (Country, total_mention, latitude, longitude,\n",
    "        continent, percentage (= mention / sum(mentions))\n",
    "    \"\"\"\n",
    "    # getting the list of unique countries/continent and sorting them\n",
    "    df_mentions = unique_actors(dataframe, map_filter=map_filter)\n",
    "    if df_mentions is None:\n",
    "        return pd.DataFrame(data=None)\n",
    "    if max_num_actors == \"max\":\n",
    "        max_num_actors = len(df_mentions)\n",
    "    else:\n",
    "        try:\n",
    "            max_num_actors = int(max_num_actors)\n",
    "        except ValueError:\n",
    "            max_num_actors = len(df_mentions)\n",
    "\n",
    "    # Computing total_mention per actor\n",
    "    total_mention = Counter()\n",
    "    for ind, row in dataframe.iterrows():\n",
    "        if map_filter in ['World', 'Europe']:\n",
    "            lst_actor_in_row = sorted(row.CN.split(\", \"))\n",
    "            if \"\" in lst_actor_in_row:\n",
    "                lst_actor_in_row.remove(\"\")\n",
    "            if lst_actor_in_row:\n",
    "                for mention in lst_actor_in_row:\n",
    "                    total_mention[mention] += 1\n",
    "\n",
    "        elif map_filter == 'Continent':\n",
    "            # For continent, we convert the country to its continent using the dic\n",
    "            lst_actor_in_row = sorted(row.CN.split(\", \"))\n",
    "            if lst_actor_in_row:\n",
    "                for mention in lst_actor_in_row:\n",
    "                    if mention != \"\":\n",
    "                        total_mention[dic_country_continent[mention]] += 1\n",
    "\n",
    "    if map_filter in ['World', 'Europe']:\n",
    "        df_mentions['total_mention'] = df_mentions['Country'].apply(lambda x: total_mention[x])\n",
    "    df_mentions = df_mentions.merge(df_country_w_continent, left_on=\"Country\", right_on='Country')\n",
    "    if map_filter == \"Continent\":\n",
    "        df_mentions['total_mention'] = df_mentions['Continent'].apply(lambda x: total_mention[x])\n",
    "        df_mentions = df_mentions.merge(df_continent, left_on=\"Continent\", right_on='Continent')\n",
    "    # df_mentions.drop(columns=['name', 'country'], axis=1, inplace=True)\n",
    "    max_total = df_mentions['total_mention'].sum()\n",
    "    df_mentions['percentage'] = df_mentions['total_mention'].apply(\n",
    "        lambda x: round(100 * float(x) / max_total, 2))\n",
    "    return df_mentions.nlargest(max_num_actors, columns=['total_mention']).reset_index(drop=True)\n"
   ],
   "metadata": {
    "collapsed": false,
    "pycharm": {
     "name": "#%%\n"
    }
   }
  },
  {
   "cell_type": "code",
   "execution_count": 37,
   "outputs": [],
   "source": [
    "def actors_edge(dataframe: pd.DataFrame, dataframe_mentions: pd.DataFrame, map_filter=\"World\", ) :\n",
    "    \"\"\"\n",
    "\n",
    "    Args:\n",
    "        dataframe_mentions:\n",
    "        dataframe:\n",
    "        map_filter: World, Europe or Continent\n",
    "\n",
    "    Returns: a df with the following columns: edge (number of collab between actors),\n",
    "    c1,c2 (the two actors), latitude_c1, longitude_c1, latitude_c2, longitude_c2\n",
    "    (their localisations)\n",
    "    \"\"\"\n",
    "    total_edge = Counter()\n",
    "    for ind, row in dataframe.iterrows():\n",
    "        if map_filter in ['World', 'Europe']:\n",
    "            lst_actor_in_row = sorted(row.CN.split(\", \"))\n",
    "            # For collaborations, we do not take into account publications with more than 10 authors\n",
    "            if len(lst_actor_in_row) <= 10:\n",
    "                for edge in list(combinations(lst_actor_in_row, 2)):\n",
    "                    if len(set(edge)) > 1:\n",
    "                        res = tuple(sorted(list(edge)))\n",
    "                        total_edge[res] += 1\n",
    "\n",
    "        if map_filter == \"Continent\":\n",
    "            lst_actor_in_row = row.CN.split(\", \")\n",
    "            # For collaborations, we do not take into account publications with more than 10 authors\n",
    "            if len(lst_actor_in_row) <= 10:\n",
    "                if \"\" in lst_actor_in_row:\n",
    "                    lst_actor_in_row = lst_actor_in_row.remove(\"\")\n",
    "\n",
    "                if not lst_actor_in_row:\n",
    "                    continue\n",
    "                lst_actor_in_row = sorted([dic_country_continent[actor] for actor in lst_actor_in_row])\n",
    "                for edge in list(combinations(lst_actor_in_row, 2)):\n",
    "                    if len(set(edge)) > 1:\n",
    "                        res = tuple(sorted(list(edge)))\n",
    "                        total_edge[res] += 1\n",
    "\n",
    "    df_edge = pd.DataFrame.from_dict(total_edge, orient=\"index\").reset_index()\n",
    "    df_edge = df_edge.rename(columns={'index': 'country_pair', 0: 'edge'})\n",
    "\n",
    "    # Transform tuple (c1, c2) into two columns\n",
    "    df_edge[\"c1\"] = df_edge.country_pair.apply(lambda x: x[0])\n",
    "    df_edge[\"c2\"] = df_edge.country_pair.apply(lambda x: x[1])\n",
    "    df_edge = df_edge.drop(columns=\"country_pair\")\n",
    "\n",
    "    # df_unique_actors = unique_actors(dataframe, map_filter=map_filter) \\\n",
    "    #     .nlargest(max_actors, \"total\").reset_index(drop=True)\n",
    "    if map_filter in [\"World\", \"Europe\"]:\n",
    "        cond_c1 = df_edge[\"c1\"].isin(dataframe_mentions.Country.values.tolist())\n",
    "        cond_c2 = df_edge[\"c2\"].isin(dataframe_mentions.Country.values.tolist())\n",
    "        df_edge = df_edge[cond_c1 & cond_c2]\n",
    "        df_edge['latitude_c1'] = df_edge['c1'].apply(lambda x: give_lat_long(x)[0])\n",
    "        df_edge['longitude_c1'] = df_edge['c1'].apply(lambda x: give_lat_long(x)[1])\n",
    "        df_edge['latitude_c2'] = df_edge['c2'].apply(lambda x: give_lat_long(x)[0])\n",
    "        df_edge['longitude_c2'] = df_edge['c2'].apply(lambda x: give_lat_long(x)[1])\n",
    "        max_total_edge = df_edge[\"edge\"].max()\n",
    "        df_edge.reset_index(drop=True, inplace=True)\n",
    "\n",
    "    elif map_filter == \"Continent\":\n",
    "        cond_c1 = df_edge[\"c1\"].isin(dataframe_mentions.Continent.values.tolist())\n",
    "        cond_c2 = df_edge[\"c2\"].isin(dataframe_mentions.Continent.values.tolist())\n",
    "        df_edge = df_edge[cond_c1 & cond_c2]\n",
    "        df_edge['latitude_c1'] = df_edge['c1'].apply(lambda x: give_lat_long(x, map_filter=\"Continent\")[0])\n",
    "        df_edge['longitude_c1'] = df_edge['c1'].apply(lambda x: give_lat_long(x, map_filter=\"Continent\")[1])\n",
    "        df_edge['latitude_c2'] = df_edge['c2'].apply(lambda x: give_lat_long(x, map_filter=\"Continent\")[0])\n",
    "        df_edge['longitude_c2'] = df_edge['c2'].apply(lambda x: give_lat_long(x, map_filter=\"Continent\")[1])\n",
    "        max_total_edge = df_edge[\"edge\"].max()\n",
    "        df_edge.reset_index(drop=True, inplace=True)\n",
    "    else:\n",
    "        df_edge = pd.DataFrame(data=None)\n",
    "        max_total_edge = 0\n",
    "    return df_edge, max_total_edge\n",
    "\n",
    "\n"
   ],
   "metadata": {
    "collapsed": false,
    "pycharm": {
     "name": "#%%\n"
    }
   }
  },
  {
   "cell_type": "code",
   "execution_count": 75,
   "outputs": [],
   "source": [
    "import networkx as nx\n",
    "\n",
    "\n",
    "def draw_network_map(dataframe, map_filter=\"World\", save=False,\n",
    "                     folder=\"/media/kevin-main/My Passport/SDG/img/network_map/\",\n",
    "                     name=\"all_pubs\",\n",
    "                     max_num_actors=\"max\"):\n",
    "    \"\"\"\n",
    "    this function draws the graph with countries mentions and collaborations\n",
    "    :param dataframe:\n",
    "    :param map_filter: World, Europe or Continent as a string\n",
    "    :param save: if True, the function saves said graph as a jpeg else just it displays it\n",
    "    :param folder: folder where to save file\n",
    "    :param name: name of the file\n",
    "    :param max_num_actors: number of countries which should be displayed\n",
    "    :return: a plotly graph\n",
    "    \"\"\"\n",
    "    df_mentions = actors_mention(\n",
    "        dataframe=dataframe, map_filter=map_filter, max_num_actors=max_num_actors\n",
    "    )\n",
    "\n",
    "    print(\"df_mentions ok\")\n",
    "    df_edges, max_total_edge = actors_edge(dataframe=dataframe, dataframe_mentions=df_mentions, map_filter=map_filter)\n",
    "    print(\"df_edge_ok\")\n",
    "    if map_filter == \"Continent\":\n",
    "        df_mentions = df_mentions.rename(columns={\"Continent\": \"Country\"})\n",
    "    # Plotting\n",
    "    # Networkx\n",
    "    g = nx.Graph()\n",
    "    nodesize = []\n",
    "    for ind, row in df_mentions.iterrows():\n",
    "        g.add_node(row[\"Country\"])\n",
    "        nodesize.append(row.total_mention)\n",
    "    maxi_node = max(nodesize)\n",
    "    node_size = [100 * node / maxi_node for node in nodesize]\n",
    "\n",
    "    for ind, row in df_edges.iterrows():\n",
    "        c1 = row[\"c1\"]\n",
    "        c2 = row[\"c2\"]\n",
    "        count = row[\"edge\"]\n",
    "\n",
    "        g.add_edge(c1, c2, weight=count, agree=row[\"edge\"])\n",
    "\n",
    "\n",
    "\n",
    "\n",
    "    edges = g.edges()\n",
    "    w = [g[u][v]['weight'] for u, v in edges]\n",
    "    maxi = max(w) if len(w) > 0 else 0\n",
    "    # Edges = Lines logic\n",
    "    edge_trace = []\n",
    "    for ind, edge in enumerate(g.edges()):\n",
    "        x0, y0 = pos[edge[0]]\n",
    "        x1, y1 = pos[edge[1]]\n",
    "        weight = 4 * (g[edge[0]][edge[1]][\"weight\"]) / maxi\n",
    "\n",
    "\n",
    "        # Line logic\n",
    "        trace = go.Scatter(\n",
    "            x=[x0, x1, None], y=[y0, y1, None],\n",
    "            line=dict(width=weight),\n",
    "        )\n",
    "        edge_trace.append(trace)\n",
    "\n",
    "    # Nodes logic\n",
    "    node_x = []\n",
    "    node_y = []\n",
    "    node_name = []\n",
    "    for node in g.nodes():\n",
    "        x, y = pos[node]\n",
    "        node_x.append(x)\n",
    "        node_y.append(y)\n",
    "        node_name.append(str(node))\n",
    "\n",
    "    node_trace = go.Scatter(\n",
    "        x=node_x, y=node_y,\n",
    "        mode='markers+text',\n",
    "        hovertext=nodesize,\n",
    "        # hoverinfo='',\n",
    "        text=node_name,\n",
    "        marker=dict(\n",
    "            showscale=True,\n",
    "            # colorscale options\n",
    "            # 'Greys' | 'YlGnBu' | 'Greens' | 'YlOrRd' | 'Bluered' | 'RdBu' |\n",
    "            # 'Reds' | 'Blues' | 'Picnic' | 'Rainbow' | 'Portland' | 'Jet' |\n",
    "            # 'Hot' | 'Blackbody' | 'Earth' | 'Electric' | 'Viridis' |\n",
    "            colorscale='YlGnBu',\n",
    "            reversescale=True,\n",
    "            color=[],\n",
    "            size=node_size,\n",
    "            colorbar=dict(\n",
    "                thickness=15,\n",
    "                title='Node Connections',\n",
    "                xanchor='left',\n",
    "                titleside='right'\n",
    "            ),\n",
    "            line_width=2))\n",
    "\n",
    "    node_adjacencies = []\n",
    "    node_text = []\n",
    "    for node, adjacencies in enumerate(g.adjacency()):\n",
    "        node_adjacencies.append(len(adjacencies[1]))\n",
    "        node_text.append('# of connections: ' + str(len(adjacencies[1])))\n",
    "\n",
    "    node_trace.marker.color = node_adjacencies\n",
    "    # node_trace.text = node_text\n",
    "    edge_trace.append(node_trace)\n",
    "\n",
    "    fig = go.Figure(data=edge_trace,\n",
    "\n",
    "                    layout=go.Layout(\n",
    "                        title='<br>Network graph showing actors collaborations',\n",
    "                        titlefont_size=16,\n",
    "                        showlegend=False,\n",
    "                        hovermode='closest',\n",
    "                        margin=dict(b=20, l=5, r=5, t=40),\n",
    "                        xaxis=dict(showgrid=False, zeroline=False, showticklabels=False),\n",
    "                        yaxis=dict(showgrid=False, zeroline=False, showticklabels=False))\n",
    "                    )\n",
    "    fig.update_layout(template=\"ggplot2\")\n",
    "    fig.update_traces(textposition='top center', textfont=dict(family='sans-serif', size=15, color='#000'))\n",
    "    return fig"
   ],
   "metadata": {
    "collapsed": false,
    "pycharm": {
     "name": "#%%\n"
    }
   }
  },
  {
   "cell_type": "code",
   "execution_count": 76,
   "outputs": [
    {
     "data": {
      "text/plain": "        PT                                                 AU  \\\n0        J       Pauw, WP; Castro, P; Pickering, J; Bhasin, S   \n1        C  Morozova, IM; Litvinova, TN; Przhedetskaya, NV...   \n2        J               Hourcade, JC; Dasgupta, D; Ghersi, F   \n3        J                         Larionova, M; Safonkina, E   \n4        J        Kim, DH; Kim, DH; Lee, DH; Park, S; Kim, SI   \n...     ..                                                ...   \n1200662  J                                 Zhang, H; Smith, M   \n1200663  C                                  Zhang, HF; Wu, YZ   \n1200664  C                                  Zhang, J; Chen, S   \n1200665  J                   Zhou, YJ; Dominici, F; Louis, TA   \n1200666  J                                         Zoomers, A   \n\n                                                        TI  \\\n0        Conditional nationally determined contribution...   \n1        The Problems of Financing of Entrepreneurship ...   \n2        Accelerating the speed and scale of climate fi...   \n3        The First Five Decades of Cooperation for Deve...   \n4        Centralization of the Global REDD plus Financi...   \n...                                                    ...   \n1200662  EXPOSURE TO GLOBAL MARKETS, INTERNAL LABOUR MA...   \n1200663  WHY THE LAND OWNERSHIP CANNOT PRODUCE HIGH INC...   \n1200664  Does Technology Disparities Affect the Regiona...   \n1200665  Racial disparities in risks of mortality in a ...   \n1200666  Globalisation and the foreignisation of space:...   \n\n                                                        SO  \\\n0                                           CLIMATE POLICY   \n1                   IMPACT OF INFORMATION ON MODERN HUMANS   \n2                                           CLIMATE POLICY   \n3        VESTNIK MEZHDUNARODNYKH ORGANIZATSII-INTERNATI...   \n4                                                  FORESTS   \n...                                                    ...   \n1200662  CANADIAN JOURNAL OF SOCIOLOGY-CAHIERS CANADIEN...   \n1200663  PROCEEDINGS OF THE SECOND INTERNATIONAL POSTGR...   \n1200664  PROCEEDINGS OF SHANGHAI CONFERENCE ON MANAGEME...   \n1200665  JOURNAL OF THE ROYAL STATISTICAL SOCIETY SERIE...   \n1200666                         JOURNAL OF PEASANT STUDIES   \n\n                                                        DE  \\\n0        Nationally determined contributions; UNFCCC; c...   \n1        Problems of financing; Entrepreneurship infras...   \n2        Climate finance; public guarantees; de-risking...   \n3        cooperation for development; United Nations; G...   \n4        REDD plus; Global Governance Network; global R...   \n...                                                    ...   \n1200662  globalization; exporting; foreign ownership; c...   \n1200663        Land Property; property Income; land Reform   \n1200664  technology disparities; income difference; eco...   \n1200665  Hierarchical model; Markov chain Monte Carlo m...   \n1200666  globalisation; land grab; local development; e...   \n\n                                                        AB  \\\n0        The Paris Agreement's success depends on parti...   \n1        The purpose of the research is to determine th...   \n2        In this paper, we examine how to trigger a wav...   \n3        The sustainable development goals (SDGs) adopt...   \n4        With the institutionalization of reducing emis...   \n...                                                    ...   \n1200662  In this paper we address two bodies of sociolo...   \n1200663  In China, the urban land belongs to the state ...   \n1200664  In this paper, we examine China's regional gro...   \n1200665  Racial disparities in risks of mortality adjus...   \n1200666  The current global land grab is causing radica...   \n\n                                                        C1  \\\n0        [Pauw, W. P.] Frankfurt Sch Finance & Manageme...   \n1        [Morozova, Irina M.] Volgograd State Tech Univ...   \n2        [Hourcade, Jean-Charles] CNRS, CIRED, EHESS, N...   \n3        [Larionova, M.; Safonkina, E.] Natl Econ & Pub...   \n4        [Kim, Do-hun; Kim, Dong-hwan; Park, Sunjoo; Ki...   \n...                                                    ...   \n1200662  [Smith, Michael] McGill Univ, Montreal, PQ H3A...   \n1200663  [Zhang Huifang; Wu Yuzhe] Zhejiang Univ, Dept ...   \n1200664  [Zhang Jian; Chen Song] Tongji Univ, Sch Econ ...   \n1200665  [Zhou, Yijie] Merck Res Labs, Rahway, NJ 07065...   \n1200666      Univ Utrecht, NL-3508 TC Utrecht, Netherlands   \n\n                                                        EM   TC    PY  ...  \\\n0                                             p.pauw@fs.de   22  2020  ...   \n1        morozovaira@list.ru; litvinova1358@yandex.ru; ...    0  2018  ...   \n2                                   ghersi@centre-cired.fr    1  2021  ...   \n3           larionova-mv@ranepa.ru; safonkina-ea@ranepa.ru    3  2018  ...   \n4                                        seongil@snu.ac.kr    8  2019  ...   \n...                                                    ...  ...   ...  ...   \n1200662  heather.zhang@mail.mcgill.ca; michael.smith@mc...    0  2010  ...   \n1200663                                                NaN   11  2010  ...   \n1200664                                                NaN    1  2010  ...   \n1200665                               yijie_zhou@merck.com    1  2010  ...   \n1200666                                a.zoomers@geo.uu.nl  432  2010  ...   \n\n           IOT computing_infrastructure blockchain robotics  \\\n0        False                    False      False    False   \n1        False                    False      False    False   \n2        False                    False      False    False   \n3        False                    False      False    False   \n4        False                    False      False    False   \n...        ...                      ...        ...      ...   \n1200662  False                    False      False    False   \n1200663  False                    False      False    False   \n1200664  False                    False      False    False   \n1200665  False                    False      False    False   \n1200666  False                    False      False    False   \n\n        additive_manufacturing Society Economy Environment     EU    DST  \n0                        False    True    True       False   True  False  \n1                        False   False    True       False  False  False  \n2                        False    True    True       False   True  False  \n3                        False    True    True       False  False  False  \n4                        False    True    True       False  False  False  \n...                        ...     ...     ...         ...    ...    ...  \n1200662                  False    True   False       False  False  False  \n1200663                  False    True   False       False  False  False  \n1200664                  False    True   False       False  False  False  \n1200665                  False    True   False       False  False  False  \n1200666                  False    True   False       False   True  False  \n\n[1200667 rows x 42 columns]",
      "text/html": "<div>\n<style scoped>\n    .dataframe tbody tr th:only-of-type {\n        vertical-align: middle;\n    }\n\n    .dataframe tbody tr th {\n        vertical-align: top;\n    }\n\n    .dataframe thead th {\n        text-align: right;\n    }\n</style>\n<table border=\"1\" class=\"dataframe\">\n  <thead>\n    <tr style=\"text-align: right;\">\n      <th></th>\n      <th>PT</th>\n      <th>AU</th>\n      <th>TI</th>\n      <th>SO</th>\n      <th>DE</th>\n      <th>AB</th>\n      <th>C1</th>\n      <th>EM</th>\n      <th>TC</th>\n      <th>PY</th>\n      <th>...</th>\n      <th>IOT</th>\n      <th>computing_infrastructure</th>\n      <th>blockchain</th>\n      <th>robotics</th>\n      <th>additive_manufacturing</th>\n      <th>Society</th>\n      <th>Economy</th>\n      <th>Environment</th>\n      <th>EU</th>\n      <th>DST</th>\n    </tr>\n  </thead>\n  <tbody>\n    <tr>\n      <th>0</th>\n      <td>J</td>\n      <td>Pauw, WP; Castro, P; Pickering, J; Bhasin, S</td>\n      <td>Conditional nationally determined contribution...</td>\n      <td>CLIMATE POLICY</td>\n      <td>Nationally determined contributions; UNFCCC; c...</td>\n      <td>The Paris Agreement's success depends on parti...</td>\n      <td>[Pauw, W. P.] Frankfurt Sch Finance &amp; Manageme...</td>\n      <td>p.pauw@fs.de</td>\n      <td>22</td>\n      <td>2020</td>\n      <td>...</td>\n      <td>False</td>\n      <td>False</td>\n      <td>False</td>\n      <td>False</td>\n      <td>False</td>\n      <td>True</td>\n      <td>True</td>\n      <td>False</td>\n      <td>True</td>\n      <td>False</td>\n    </tr>\n    <tr>\n      <th>1</th>\n      <td>C</td>\n      <td>Morozova, IM; Litvinova, TN; Przhedetskaya, NV...</td>\n      <td>The Problems of Financing of Entrepreneurship ...</td>\n      <td>IMPACT OF INFORMATION ON MODERN HUMANS</td>\n      <td>Problems of financing; Entrepreneurship infras...</td>\n      <td>The purpose of the research is to determine th...</td>\n      <td>[Morozova, Irina M.] Volgograd State Tech Univ...</td>\n      <td>morozovaira@list.ru; litvinova1358@yandex.ru; ...</td>\n      <td>0</td>\n      <td>2018</td>\n      <td>...</td>\n      <td>False</td>\n      <td>False</td>\n      <td>False</td>\n      <td>False</td>\n      <td>False</td>\n      <td>False</td>\n      <td>True</td>\n      <td>False</td>\n      <td>False</td>\n      <td>False</td>\n    </tr>\n    <tr>\n      <th>2</th>\n      <td>J</td>\n      <td>Hourcade, JC; Dasgupta, D; Ghersi, F</td>\n      <td>Accelerating the speed and scale of climate fi...</td>\n      <td>CLIMATE POLICY</td>\n      <td>Climate finance; public guarantees; de-risking...</td>\n      <td>In this paper, we examine how to trigger a wav...</td>\n      <td>[Hourcade, Jean-Charles] CNRS, CIRED, EHESS, N...</td>\n      <td>ghersi@centre-cired.fr</td>\n      <td>1</td>\n      <td>2021</td>\n      <td>...</td>\n      <td>False</td>\n      <td>False</td>\n      <td>False</td>\n      <td>False</td>\n      <td>False</td>\n      <td>True</td>\n      <td>True</td>\n      <td>False</td>\n      <td>True</td>\n      <td>False</td>\n    </tr>\n    <tr>\n      <th>3</th>\n      <td>J</td>\n      <td>Larionova, M; Safonkina, E</td>\n      <td>The First Five Decades of Cooperation for Deve...</td>\n      <td>VESTNIK MEZHDUNARODNYKH ORGANIZATSII-INTERNATI...</td>\n      <td>cooperation for development; United Nations; G...</td>\n      <td>The sustainable development goals (SDGs) adopt...</td>\n      <td>[Larionova, M.; Safonkina, E.] Natl Econ &amp; Pub...</td>\n      <td>larionova-mv@ranepa.ru; safonkina-ea@ranepa.ru</td>\n      <td>3</td>\n      <td>2018</td>\n      <td>...</td>\n      <td>False</td>\n      <td>False</td>\n      <td>False</td>\n      <td>False</td>\n      <td>False</td>\n      <td>True</td>\n      <td>True</td>\n      <td>False</td>\n      <td>False</td>\n      <td>False</td>\n    </tr>\n    <tr>\n      <th>4</th>\n      <td>J</td>\n      <td>Kim, DH; Kim, DH; Lee, DH; Park, S; Kim, SI</td>\n      <td>Centralization of the Global REDD plus Financi...</td>\n      <td>FORESTS</td>\n      <td>REDD plus; Global Governance Network; global R...</td>\n      <td>With the institutionalization of reducing emis...</td>\n      <td>[Kim, Do-hun; Kim, Dong-hwan; Park, Sunjoo; Ki...</td>\n      <td>seongil@snu.ac.kr</td>\n      <td>8</td>\n      <td>2019</td>\n      <td>...</td>\n      <td>False</td>\n      <td>False</td>\n      <td>False</td>\n      <td>False</td>\n      <td>False</td>\n      <td>True</td>\n      <td>True</td>\n      <td>False</td>\n      <td>False</td>\n      <td>False</td>\n    </tr>\n    <tr>\n      <th>...</th>\n      <td>...</td>\n      <td>...</td>\n      <td>...</td>\n      <td>...</td>\n      <td>...</td>\n      <td>...</td>\n      <td>...</td>\n      <td>...</td>\n      <td>...</td>\n      <td>...</td>\n      <td>...</td>\n      <td>...</td>\n      <td>...</td>\n      <td>...</td>\n      <td>...</td>\n      <td>...</td>\n      <td>...</td>\n      <td>...</td>\n      <td>...</td>\n      <td>...</td>\n      <td>...</td>\n    </tr>\n    <tr>\n      <th>1200662</th>\n      <td>J</td>\n      <td>Zhang, H; Smith, M</td>\n      <td>EXPOSURE TO GLOBAL MARKETS, INTERNAL LABOUR MA...</td>\n      <td>CANADIAN JOURNAL OF SOCIOLOGY-CAHIERS CANADIEN...</td>\n      <td>globalization; exporting; foreign ownership; c...</td>\n      <td>In this paper we address two bodies of sociolo...</td>\n      <td>[Smith, Michael] McGill Univ, Montreal, PQ H3A...</td>\n      <td>heather.zhang@mail.mcgill.ca; michael.smith@mc...</td>\n      <td>0</td>\n      <td>2010</td>\n      <td>...</td>\n      <td>False</td>\n      <td>False</td>\n      <td>False</td>\n      <td>False</td>\n      <td>False</td>\n      <td>True</td>\n      <td>False</td>\n      <td>False</td>\n      <td>False</td>\n      <td>False</td>\n    </tr>\n    <tr>\n      <th>1200663</th>\n      <td>C</td>\n      <td>Zhang, HF; Wu, YZ</td>\n      <td>WHY THE LAND OWNERSHIP CANNOT PRODUCE HIGH INC...</td>\n      <td>PROCEEDINGS OF THE SECOND INTERNATIONAL POSTGR...</td>\n      <td>Land Property; property Income; land Reform</td>\n      <td>In China, the urban land belongs to the state ...</td>\n      <td>[Zhang Huifang; Wu Yuzhe] Zhejiang Univ, Dept ...</td>\n      <td>NaN</td>\n      <td>11</td>\n      <td>2010</td>\n      <td>...</td>\n      <td>False</td>\n      <td>False</td>\n      <td>False</td>\n      <td>False</td>\n      <td>False</td>\n      <td>True</td>\n      <td>False</td>\n      <td>False</td>\n      <td>False</td>\n      <td>False</td>\n    </tr>\n    <tr>\n      <th>1200664</th>\n      <td>C</td>\n      <td>Zhang, J; Chen, S</td>\n      <td>Does Technology Disparities Affect the Regiona...</td>\n      <td>PROCEEDINGS OF SHANGHAI CONFERENCE ON MANAGEME...</td>\n      <td>technology disparities; income difference; eco...</td>\n      <td>In this paper, we examine China's regional gro...</td>\n      <td>[Zhang Jian; Chen Song] Tongji Univ, Sch Econ ...</td>\n      <td>NaN</td>\n      <td>1</td>\n      <td>2010</td>\n      <td>...</td>\n      <td>False</td>\n      <td>False</td>\n      <td>False</td>\n      <td>False</td>\n      <td>False</td>\n      <td>True</td>\n      <td>False</td>\n      <td>False</td>\n      <td>False</td>\n      <td>False</td>\n    </tr>\n    <tr>\n      <th>1200665</th>\n      <td>J</td>\n      <td>Zhou, YJ; Dominici, F; Louis, TA</td>\n      <td>Racial disparities in risks of mortality in a ...</td>\n      <td>JOURNAL OF THE ROYAL STATISTICAL SOCIETY SERIE...</td>\n      <td>Hierarchical model; Markov chain Monte Carlo m...</td>\n      <td>Racial disparities in risks of mortality adjus...</td>\n      <td>[Zhou, Yijie] Merck Res Labs, Rahway, NJ 07065...</td>\n      <td>yijie_zhou@merck.com</td>\n      <td>1</td>\n      <td>2010</td>\n      <td>...</td>\n      <td>False</td>\n      <td>False</td>\n      <td>False</td>\n      <td>False</td>\n      <td>False</td>\n      <td>True</td>\n      <td>False</td>\n      <td>False</td>\n      <td>False</td>\n      <td>False</td>\n    </tr>\n    <tr>\n      <th>1200666</th>\n      <td>J</td>\n      <td>Zoomers, A</td>\n      <td>Globalisation and the foreignisation of space:...</td>\n      <td>JOURNAL OF PEASANT STUDIES</td>\n      <td>globalisation; land grab; local development; e...</td>\n      <td>The current global land grab is causing radica...</td>\n      <td>Univ Utrecht, NL-3508 TC Utrecht, Netherlands</td>\n      <td>a.zoomers@geo.uu.nl</td>\n      <td>432</td>\n      <td>2010</td>\n      <td>...</td>\n      <td>False</td>\n      <td>False</td>\n      <td>False</td>\n      <td>False</td>\n      <td>False</td>\n      <td>True</td>\n      <td>False</td>\n      <td>False</td>\n      <td>True</td>\n      <td>False</td>\n    </tr>\n  </tbody>\n</table>\n<p>1200667 rows × 42 columns</p>\n</div>"
     },
     "execution_count": 76,
     "metadata": {},
     "output_type": "execute_result"
    }
   ],
   "source": [
    "df_inter = pd.read_pickle(\"../data/dataframes/SDG/all_sdg_fixed_dst.pkl\")\n",
    "df_inter"
   ],
   "metadata": {
    "collapsed": false,
    "pycharm": {
     "name": "#%%\n"
    }
   }
  },
  {
   "cell_type": "code",
   "execution_count": 173,
   "outputs": [
    {
     "data": {
      "text/plain": "           Country  total_mention                      Region   latitude  \\\n0    United States         909183               North America  37.090240   \n1            China         908048         East Asia & Pacific  35.861660   \n2   United Kingdom         279394       Europe & Central Asia  55.378051   \n3            Italy         228257       Europe & Central Asia  41.871940   \n4        Australia         217674         East Asia & Pacific -25.274398   \n5            India         197658                  South Asia  20.593684   \n6          Germany         195309       Europe & Central Asia  51.165691   \n7            Spain         192200       Europe & Central Asia  40.463667   \n8           Canada         169566               North America  56.130366   \n9           Brazil         167254   Latin America & Caribbean -14.235004   \n10          France         151425       Europe & Central Asia  46.227638   \n11           Japan         110726         East Asia & Pacific  36.204824   \n12     South Korea          91674         East Asia & Pacific  35.907757   \n13     Netherlands          88007       Europe & Central Asia  52.132633   \n14            Iran          72997  Middle East & North Africa  35.715298   \n15        Portugal          67138       Europe & Central Asia  39.399872   \n16          Sweden          63831       Europe & Central Asia  60.128161   \n17        Malaysia          61178         East Asia & Pacific   4.210484   \n18    South Africa          59925          Sub-Saharan Africa -30.559482   \n19          Turkey          56611       Europe & Central Asia  38.963745   \n\n     longitude  percentage  \n0   -95.712891       16.31  \n1   104.195397       16.29  \n2    -3.435973        5.01  \n3    12.567380        4.10  \n4   133.775136        3.91  \n5    78.962880        3.55  \n6    10.451526        3.50  \n7    -3.749220        3.45  \n8  -106.346771        3.04  \n9   -51.925280        3.00  \n10    2.213749        2.72  \n11  138.252924        1.99  \n12  127.766922        1.64  \n13    5.291266        1.58  \n14   51.404343        1.31  \n15   -8.224454        1.20  \n16   18.643501        1.15  \n17  101.975766        1.10  \n18   22.937506        1.08  \n19   35.243322        1.02  ",
      "text/html": "<div>\n<style scoped>\n    .dataframe tbody tr th:only-of-type {\n        vertical-align: middle;\n    }\n\n    .dataframe tbody tr th {\n        vertical-align: top;\n    }\n\n    .dataframe thead th {\n        text-align: right;\n    }\n</style>\n<table border=\"1\" class=\"dataframe\">\n  <thead>\n    <tr style=\"text-align: right;\">\n      <th></th>\n      <th>Country</th>\n      <th>total_mention</th>\n      <th>Region</th>\n      <th>latitude</th>\n      <th>longitude</th>\n      <th>percentage</th>\n    </tr>\n  </thead>\n  <tbody>\n    <tr>\n      <th>0</th>\n      <td>United States</td>\n      <td>909183</td>\n      <td>North America</td>\n      <td>37.090240</td>\n      <td>-95.712891</td>\n      <td>16.31</td>\n    </tr>\n    <tr>\n      <th>1</th>\n      <td>China</td>\n      <td>908048</td>\n      <td>East Asia &amp; Pacific</td>\n      <td>35.861660</td>\n      <td>104.195397</td>\n      <td>16.29</td>\n    </tr>\n    <tr>\n      <th>2</th>\n      <td>United Kingdom</td>\n      <td>279394</td>\n      <td>Europe &amp; Central Asia</td>\n      <td>55.378051</td>\n      <td>-3.435973</td>\n      <td>5.01</td>\n    </tr>\n    <tr>\n      <th>3</th>\n      <td>Italy</td>\n      <td>228257</td>\n      <td>Europe &amp; Central Asia</td>\n      <td>41.871940</td>\n      <td>12.567380</td>\n      <td>4.10</td>\n    </tr>\n    <tr>\n      <th>4</th>\n      <td>Australia</td>\n      <td>217674</td>\n      <td>East Asia &amp; Pacific</td>\n      <td>-25.274398</td>\n      <td>133.775136</td>\n      <td>3.91</td>\n    </tr>\n    <tr>\n      <th>5</th>\n      <td>India</td>\n      <td>197658</td>\n      <td>South Asia</td>\n      <td>20.593684</td>\n      <td>78.962880</td>\n      <td>3.55</td>\n    </tr>\n    <tr>\n      <th>6</th>\n      <td>Germany</td>\n      <td>195309</td>\n      <td>Europe &amp; Central Asia</td>\n      <td>51.165691</td>\n      <td>10.451526</td>\n      <td>3.50</td>\n    </tr>\n    <tr>\n      <th>7</th>\n      <td>Spain</td>\n      <td>192200</td>\n      <td>Europe &amp; Central Asia</td>\n      <td>40.463667</td>\n      <td>-3.749220</td>\n      <td>3.45</td>\n    </tr>\n    <tr>\n      <th>8</th>\n      <td>Canada</td>\n      <td>169566</td>\n      <td>North America</td>\n      <td>56.130366</td>\n      <td>-106.346771</td>\n      <td>3.04</td>\n    </tr>\n    <tr>\n      <th>9</th>\n      <td>Brazil</td>\n      <td>167254</td>\n      <td>Latin America &amp; Caribbean</td>\n      <td>-14.235004</td>\n      <td>-51.925280</td>\n      <td>3.00</td>\n    </tr>\n    <tr>\n      <th>10</th>\n      <td>France</td>\n      <td>151425</td>\n      <td>Europe &amp; Central Asia</td>\n      <td>46.227638</td>\n      <td>2.213749</td>\n      <td>2.72</td>\n    </tr>\n    <tr>\n      <th>11</th>\n      <td>Japan</td>\n      <td>110726</td>\n      <td>East Asia &amp; Pacific</td>\n      <td>36.204824</td>\n      <td>138.252924</td>\n      <td>1.99</td>\n    </tr>\n    <tr>\n      <th>12</th>\n      <td>South Korea</td>\n      <td>91674</td>\n      <td>East Asia &amp; Pacific</td>\n      <td>35.907757</td>\n      <td>127.766922</td>\n      <td>1.64</td>\n    </tr>\n    <tr>\n      <th>13</th>\n      <td>Netherlands</td>\n      <td>88007</td>\n      <td>Europe &amp; Central Asia</td>\n      <td>52.132633</td>\n      <td>5.291266</td>\n      <td>1.58</td>\n    </tr>\n    <tr>\n      <th>14</th>\n      <td>Iran</td>\n      <td>72997</td>\n      <td>Middle East &amp; North Africa</td>\n      <td>35.715298</td>\n      <td>51.404343</td>\n      <td>1.31</td>\n    </tr>\n    <tr>\n      <th>15</th>\n      <td>Portugal</td>\n      <td>67138</td>\n      <td>Europe &amp; Central Asia</td>\n      <td>39.399872</td>\n      <td>-8.224454</td>\n      <td>1.20</td>\n    </tr>\n    <tr>\n      <th>16</th>\n      <td>Sweden</td>\n      <td>63831</td>\n      <td>Europe &amp; Central Asia</td>\n      <td>60.128161</td>\n      <td>18.643501</td>\n      <td>1.15</td>\n    </tr>\n    <tr>\n      <th>17</th>\n      <td>Malaysia</td>\n      <td>61178</td>\n      <td>East Asia &amp; Pacific</td>\n      <td>4.210484</td>\n      <td>101.975766</td>\n      <td>1.10</td>\n    </tr>\n    <tr>\n      <th>18</th>\n      <td>South Africa</td>\n      <td>59925</td>\n      <td>Sub-Saharan Africa</td>\n      <td>-30.559482</td>\n      <td>22.937506</td>\n      <td>1.08</td>\n    </tr>\n    <tr>\n      <th>19</th>\n      <td>Turkey</td>\n      <td>56611</td>\n      <td>Europe &amp; Central Asia</td>\n      <td>38.963745</td>\n      <td>35.243322</td>\n      <td>1.02</td>\n    </tr>\n  </tbody>\n</table>\n</div>"
     },
     "execution_count": 173,
     "metadata": {},
     "output_type": "execute_result"
    }
   ],
   "source": [
    "a = actors_mention(df_inter, max_num_actors=20)\n",
    "a"
   ],
   "metadata": {
    "collapsed": false,
    "pycharm": {
     "name": "#%%\n"
    }
   }
  },
  {
   "cell_type": "code",
   "execution_count": 174,
   "outputs": [
    {
     "data": {
      "text/plain": "     edge         c1           c2  latitude_c1  longitude_c1  latitude_c2  \\\n0    6359  Australia      Germany   -25.274398    133.775136    51.165691   \n1    4758  Australia        India   -25.274398    133.775136    20.593684   \n2    4191  Australia  Netherlands   -25.274398    133.775136    52.132633   \n3    2726  Australia       Sweden   -25.274398    133.775136    60.128161   \n4    2569    Germany        India    51.165691     10.451526    20.593684   \n..    ...        ...          ...          ...           ...          ...   \n185    73     Brazil       Turkey   -14.235004    -51.925280    38.963745   \n186   106   Malaysia     Portugal     4.210484    101.975766    39.399872   \n187   420   Malaysia  Netherlands     4.210484    101.975766    52.132633   \n188   201      Japan       Turkey    36.204824    138.252924    38.963745   \n189   116   Portugal  South Korea    39.399872     -8.224454    35.907757   \n\n     longitude_c2  \n0       10.451526  \n1       78.962880  \n2        5.291266  \n3       18.643501  \n4       78.962880  \n..            ...  \n185     35.243322  \n186     -8.224454  \n187      5.291266  \n188     35.243322  \n189    127.766922  \n\n[190 rows x 7 columns]",
      "text/html": "<div>\n<style scoped>\n    .dataframe tbody tr th:only-of-type {\n        vertical-align: middle;\n    }\n\n    .dataframe tbody tr th {\n        vertical-align: top;\n    }\n\n    .dataframe thead th {\n        text-align: right;\n    }\n</style>\n<table border=\"1\" class=\"dataframe\">\n  <thead>\n    <tr style=\"text-align: right;\">\n      <th></th>\n      <th>edge</th>\n      <th>c1</th>\n      <th>c2</th>\n      <th>latitude_c1</th>\n      <th>longitude_c1</th>\n      <th>latitude_c2</th>\n      <th>longitude_c2</th>\n    </tr>\n  </thead>\n  <tbody>\n    <tr>\n      <th>0</th>\n      <td>6359</td>\n      <td>Australia</td>\n      <td>Germany</td>\n      <td>-25.274398</td>\n      <td>133.775136</td>\n      <td>51.165691</td>\n      <td>10.451526</td>\n    </tr>\n    <tr>\n      <th>1</th>\n      <td>4758</td>\n      <td>Australia</td>\n      <td>India</td>\n      <td>-25.274398</td>\n      <td>133.775136</td>\n      <td>20.593684</td>\n      <td>78.962880</td>\n    </tr>\n    <tr>\n      <th>2</th>\n      <td>4191</td>\n      <td>Australia</td>\n      <td>Netherlands</td>\n      <td>-25.274398</td>\n      <td>133.775136</td>\n      <td>52.132633</td>\n      <td>5.291266</td>\n    </tr>\n    <tr>\n      <th>3</th>\n      <td>2726</td>\n      <td>Australia</td>\n      <td>Sweden</td>\n      <td>-25.274398</td>\n      <td>133.775136</td>\n      <td>60.128161</td>\n      <td>18.643501</td>\n    </tr>\n    <tr>\n      <th>4</th>\n      <td>2569</td>\n      <td>Germany</td>\n      <td>India</td>\n      <td>51.165691</td>\n      <td>10.451526</td>\n      <td>20.593684</td>\n      <td>78.962880</td>\n    </tr>\n    <tr>\n      <th>...</th>\n      <td>...</td>\n      <td>...</td>\n      <td>...</td>\n      <td>...</td>\n      <td>...</td>\n      <td>...</td>\n      <td>...</td>\n    </tr>\n    <tr>\n      <th>185</th>\n      <td>73</td>\n      <td>Brazil</td>\n      <td>Turkey</td>\n      <td>-14.235004</td>\n      <td>-51.925280</td>\n      <td>38.963745</td>\n      <td>35.243322</td>\n    </tr>\n    <tr>\n      <th>186</th>\n      <td>106</td>\n      <td>Malaysia</td>\n      <td>Portugal</td>\n      <td>4.210484</td>\n      <td>101.975766</td>\n      <td>39.399872</td>\n      <td>-8.224454</td>\n    </tr>\n    <tr>\n      <th>187</th>\n      <td>420</td>\n      <td>Malaysia</td>\n      <td>Netherlands</td>\n      <td>4.210484</td>\n      <td>101.975766</td>\n      <td>52.132633</td>\n      <td>5.291266</td>\n    </tr>\n    <tr>\n      <th>188</th>\n      <td>201</td>\n      <td>Japan</td>\n      <td>Turkey</td>\n      <td>36.204824</td>\n      <td>138.252924</td>\n      <td>38.963745</td>\n      <td>35.243322</td>\n    </tr>\n    <tr>\n      <th>189</th>\n      <td>116</td>\n      <td>Portugal</td>\n      <td>South Korea</td>\n      <td>39.399872</td>\n      <td>-8.224454</td>\n      <td>35.907757</td>\n      <td>127.766922</td>\n    </tr>\n  </tbody>\n</table>\n<p>190 rows × 7 columns</p>\n</div>"
     },
     "execution_count": 174,
     "metadata": {},
     "output_type": "execute_result"
    }
   ],
   "source": [
    "b = actors_edge(df_inter, a)\n",
    "b[0]"
   ],
   "metadata": {
    "collapsed": false,
    "pycharm": {
     "name": "#%%\n"
    }
   }
  },
  {
   "cell_type": "code",
   "execution_count": 174,
   "outputs": [],
   "source": [],
   "metadata": {
    "collapsed": false,
    "pycharm": {
     "name": "#%%\n"
    }
   }
  },
  {
   "cell_type": "code",
   "execution_count": 282,
   "outputs": [],
   "source": [
    "# Networkx\n",
    "g = nx.Graph()\n",
    "nodesize_raw_numbers = []\n",
    "for ind, row in a.iterrows():\n",
    "    g.add_node(row[\"Country\"])\n",
    "    nodesize_raw_numbers.append(row.total_mention)\n",
    "maxi_node = max(nodesize_raw_numbers)\n",
    "node_size = [100 * node / maxi_node for node in nodesize_raw_numbers]\n",
    "for ind, row in b[0].iterrows():\n",
    "    c1 = row[\"c1\"]\n",
    "    c2 = row[\"c2\"]\n",
    "    count = row[\"edge\"]\n",
    "\n",
    "    g.add_edge(c1, c2, weight=count)"
   ],
   "metadata": {
    "collapsed": false,
    "pycharm": {
     "name": "#%%\n"
    }
   }
  },
  {
   "cell_type": "code",
   "execution_count": 283,
   "outputs": [],
   "source": [
    "pos = nx.spring_layout(g, k=1, iterations=1000)\n",
    "edges = g.edges()\n",
    "w = [g[u][v]['weight'] for u, v in edges]\n",
    "maxi = max(w) if len(w) > 0 else 0"
   ],
   "metadata": {
    "collapsed": false,
    "pycharm": {
     "name": "#%%\n"
    }
   }
  },
  {
   "cell_type": "code",
   "execution_count": 284,
   "outputs": [],
   "source": [
    "for node in g.nodes:\n",
    "    g.nodes[node]['pos'] = list(pos[node])"
   ],
   "metadata": {
    "collapsed": false,
    "pycharm": {
     "name": "#%%\n"
    }
   }
  },
  {
   "cell_type": "code",
   "execution_count": 285,
   "outputs": [],
   "source": [
    "# Edges = Lines logic\n",
    "edge_trace = []\n",
    "for ind, edge in enumerate(g.edges()):\n",
    "    x0, y0 = pos[edge[0]]\n",
    "    x1, y1 = pos[edge[1]]\n",
    "    weight = 10 * (g[edge[0]][edge[1]][\"weight\"]) / maxi\n",
    "\n",
    "    # Line logic\n",
    "    trace = go.Scatter(\n",
    "        x=[x0, x1, None], y=[y0, y1, None],\n",
    "        line=dict(width=weight, color=\"black\"),\n",
    "\n",
    "        mode='lines')\n",
    "    edge_trace.append(trace)\n"
   ],
   "metadata": {
    "collapsed": false,
    "pycharm": {
     "name": "#%%\n"
    }
   }
  },
  {
   "cell_type": "code",
   "execution_count": 286,
   "outputs": [],
   "source": [
    " # Nodes logic\n",
    "node_x = []\n",
    "node_y = []\n",
    "node_name = []\n",
    "for node in g.nodes():\n",
    "    x, y = pos[node]\n",
    "    node_x.append(x)\n",
    "    node_y.append(y)\n",
    "    node_name.append(str(node))\n",
    "\n",
    "    node_trace = go.Scatter(\n",
    "        x=node_x, y=node_y,\n",
    "        mode='markers+text',\n",
    "        hovertext=node_size,\n",
    "        # hoverinfo='',\n",
    "        text=node_name,\n",
    "        textposition=\"bottom center\",\n",
    "        marker=dict(\n",
    "            showscale=True,\n",
    "            # colorscale options\n",
    "            # 'Greys' | 'YlGnBu' | 'Greens' | 'YlOrRd' | 'Bluered' | 'RdBu' |\n",
    "            # 'Reds' | 'Blues' | 'Picnic' | 'Rainbow' | 'Portland' | 'Jet' |\n",
    "            # 'Hot' | 'Blackbody' | 'Earth' | 'Electric' | 'Viridis' |\n",
    "            colorscale='YlGnBu',\n",
    "            reversescale=True,\n",
    "            color=[],\n",
    "            size=node_size,\n",
    "            colorbar=dict(\n",
    "                thickness=15,\n",
    "                title='Number of publications',\n",
    "                xanchor='left',\n",
    "                titleside='right'\n",
    "            ),\n",
    "            line_width=2))"
   ],
   "metadata": {
    "collapsed": false,
    "pycharm": {
     "name": "#%%\n"
    }
   }
  },
  {
   "cell_type": "code",
   "execution_count": 287,
   "outputs": [],
   "source": [
    "node_adjacencies = []\n",
    "node_text = []\n",
    "for node, adjacencies in enumerate(g.adjacency()):\n",
    "    node_adjacencies.append(len(adjacencies[1]))\n",
    "    node_text.append('# of connections: ' + str(len(adjacencies[1])))\n",
    "\n",
    "node_trace.marker.color = nodesize_raw_numbers"
   ],
   "metadata": {
    "collapsed": false,
    "pycharm": {
     "name": "#%%\n"
    }
   }
  },
  {
   "cell_type": "code",
   "execution_count": 288,
   "outputs": [
    {
     "data": {
      "application/vnd.plotly.v1+json": {
       "data": [
        {
         "line": {
          "color": "black",
          "width": 3.2081187268885367
         },
         "mode": "lines",
         "x": [
          -0.04049963222039865,
          0.038571066760352476,
          null
         ],
         "y": [
          0.07579040760147024,
          -0.11498599279636586,
          null
         ],
         "type": "scatter",
         "textfont": {
          "color": "#000",
          "family": "sans-serif",
          "size": 15
         },
         "textposition": "top center"
        },
        {
         "line": {
          "color": "black",
          "width": 3.372375198098257
         },
         "mode": "lines",
         "x": [
          -0.04049963222039865,
          -0.14349322707097778,
          null
         ],
         "y": [
          0.07579040760147024,
          0.318332637992017,
          null
         ],
         "type": "scatter",
         "textfont": {
          "color": "#000",
          "family": "sans-serif",
          "size": 15
         },
         "textposition": "top center"
        },
        {
         "line": {
          "color": "black",
          "width": 1.2712130216587427
         },
         "mode": "lines",
         "x": [
          -0.04049963222039865,
          -0.5288327016885052,
          null
         ],
         "y": [
          0.07579040760147024,
          0.13440336808060474,
          null
         ],
         "type": "scatter",
         "textfont": {
          "color": "#000",
          "family": "sans-serif",
          "size": 15
         },
         "textposition": "top center"
        },
        {
         "line": {
          "color": "black",
          "width": 0.8613147120972002
         },
         "mode": "lines",
         "x": [
          -0.04049963222039865,
          0.3411143684533935,
          null
         ],
         "y": [
          0.07579040760147024,
          -0.36272226615246356,
          null
         ],
         "type": "scatter",
         "textfont": {
          "color": "#000",
          "family": "sans-serif",
          "size": 15
         },
         "textposition": "top center"
        },
        {
         "line": {
          "color": "black",
          "width": 0.7843040147913365
         },
         "mode": "lines",
         "x": [
          -0.04049963222039865,
          -0.2620678005516446,
          null
         ],
         "y": [
          0.07579040760147024,
          -0.6553653967632671,
          null
         ],
         "type": "scatter",
         "textfont": {
          "color": "#000",
          "family": "sans-serif",
          "size": 15
         },
         "textposition": "top center"
        },
        {
         "line": {
          "color": "black",
          "width": 1.1361760433174855
         },
         "mode": "lines",
         "x": [
          -0.04049963222039865,
          0.5332409408215548,
          null
         ],
         "y": [
          0.07579040760147024,
          -0.03063483225945785,
          null
         ],
         "type": "scatter",
         "textfont": {
          "color": "#000",
          "family": "sans-serif",
          "size": 15
         },
         "textposition": "top center"
        },
        {
         "line": {
          "color": "black",
          "width": 1.7317089276281035
         },
         "mode": "lines",
         "x": [
          -0.04049963222039865,
          0.2313756331603892,
          null
         ],
         "y": [
          0.07579040760147024,
          -0.09616699308363867,
          null
         ],
         "type": "scatter",
         "textfont": {
          "color": "#000",
          "family": "sans-serif",
          "size": 15
         },
         "textposition": "top center"
        },
        {
         "line": {
          "color": "black",
          "width": 1.2273012414157423
         },
         "mode": "lines",
         "x": [
          -0.04049963222039865,
          0.1870509695756255,
          null
         ],
         "y": [
          0.07579040760147024,
          0.2850962102450899,
          null
         ],
         "type": "scatter",
         "textfont": {
          "color": "#000",
          "family": "sans-serif",
          "size": 15
         },
         "textposition": "top center"
        },
        {
         "line": {
          "color": "black",
          "width": 0.26569928684627575
         },
         "mode": "lines",
         "x": [
          -0.04049963222039865,
          0.7959096741617092,
          null
         ],
         "y": [
          0.07579040760147024,
          -0.6855439637144494,
          null
         ],
         "type": "scatter",
         "textfont": {
          "color": "#000",
          "family": "sans-serif",
          "size": 15
         },
         "textposition": "top center"
        },
        {
         "line": {
          "color": "black",
          "width": 0.7438589540412044
         },
         "mode": "lines",
         "x": [
          -0.04049963222039865,
          -0.6547368570731635,
          null
         ],
         "y": [
          0.07579040760147024,
          -0.25553298733629803,
          null
         ],
         "type": "scatter",
         "textfont": {
          "color": "#000",
          "family": "sans-serif",
          "size": 15
         },
         "textposition": "top center"
        },
        {
         "line": {
          "color": "black",
          "width": 2.281844294770206
         },
         "mode": "lines",
         "x": [
          -0.04049963222039865,
          -0.22973436424070404,
          null
         ],
         "y": [
          0.07579040760147024,
          -0.20127845970980535,
          null
         ],
         "type": "scatter",
         "textfont": {
          "color": "#000",
          "family": "sans-serif",
          "size": 15
         },
         "textposition": "top center"
        },
        {
         "line": {
          "color": "black",
          "width": 1.224742472266244
         },
         "mode": "lines",
         "x": [
          -0.04049963222039865,
          0.4235642368429511,
          null
         ],
         "y": [
          0.07579040760147024,
          0.16275329130810923,
          null
         ],
         "type": "scatter",
         "textfont": {
          "color": "#000",
          "family": "sans-serif",
          "size": 15
         },
         "textposition": "top center"
        },
        {
         "line": {
          "color": "black",
          "width": 10.0
         },
         "mode": "lines",
         "x": [
          -0.04049963222039865,
          -0.21762344645144172,
          null
         ],
         "y": [
          0.07579040760147024,
          -0.005098423290695858,
          null
         ],
         "type": "scatter",
         "textfont": {
          "color": "#000",
          "family": "sans-serif",
          "size": 15
         },
         "textposition": "top center"
        },
        {
         "line": {
          "color": "black",
          "width": 0.4492703380876915
         },
         "mode": "lines",
         "x": [
          -0.04049963222039865,
          -0.1836055864827983,
          null
         ],
         "y": [
          0.07579040760147024,
          0.7530407983373302,
          null
         ],
         "type": "scatter",
         "textfont": {
          "color": "#000",
          "family": "sans-serif",
          "size": 15
         },
         "textposition": "top center"
        },
        {
         "line": {
          "color": "black",
          "width": 1.1111661384046487
         },
         "mode": "lines",
         "x": [
          -0.04049963222039865,
          -0.6660689491024661,
          null
         ],
         "y": [
          0.07579040760147024,
          0.49120751431113974,
          null
         ],
         "type": "scatter",
         "textfont": {
          "color": "#000",
          "family": "sans-serif",
          "size": 15
         },
         "textposition": "top center"
        },
        {
         "line": {
          "color": "black",
          "width": 0.3072999207606973
         },
         "mode": "lines",
         "x": [
          -0.04049963222039865,
          0.8600606285048379,
          null
         ],
         "y": [
          0.07579040760147024,
          0.229247729136116,
          null
         ],
         "type": "scatter",
         "textfont": {
          "color": "#000",
          "family": "sans-serif",
          "size": 15
         },
         "textposition": "top center"
        },
        {
         "line": {
          "color": "black",
          "width": 0.6185618066561014
         },
         "mode": "lines",
         "x": [
          -0.04049963222039865,
          0.10669220116081675,
          null
         ],
         "y": [
          0.07579040760147024,
          -0.5940375399136042,
          null
         ],
         "type": "scatter",
         "textfont": {
          "color": "#000",
          "family": "sans-serif",
          "size": 15
         },
         "textposition": "top center"
        },
        {
         "line": {
          "color": "black",
          "width": 0.199418911780243
         },
         "mode": "lines",
         "x": [
          -0.04049963222039865,
          -1.0,
          null
         ],
         "y": [
          0.07579040760147024,
          0.07561785837524528,
          null
         ],
         "type": "scatter",
         "textfont": {
          "color": "#000",
          "family": "sans-serif",
          "size": 15
         },
         "textposition": "top center"
        },
        {
         "line": {
          "color": "black",
          "width": 1.5503664817749603
         },
         "mode": "lines",
         "x": [
          -0.04049963222039865,
          0.40908284544047235,
          null
         ],
         "y": [
          0.07579040760147024,
          0.47587703963293004,
          null
         ],
         "type": "scatter",
         "textfont": {
          "color": "#000",
          "family": "sans-serif",
          "size": 15
         },
         "textposition": "top center"
        },
        {
         "line": {
          "color": "black",
          "width": 2.6072206814580032
         },
         "mode": "lines",
         "x": [
          -0.21762344645144172,
          0.038571066760352476,
          null
         ],
         "y": [
          -0.005098423290695858,
          -0.11498599279636586,
          null
         ],
         "type": "scatter",
         "textfont": {
          "color": "#000",
          "family": "sans-serif",
          "size": 15
         },
         "textposition": "top center"
        },
        {
         "line": {
          "color": "black",
          "width": 0.14345615425250924
         },
         "mode": "lines",
         "x": [
          -0.21762344645144172,
          -0.1836055864827983,
          null
         ],
         "y": [
          -0.005098423290695858,
          0.7530407983373302,
          null
         ],
         "type": "scatter",
         "textfont": {
          "color": "#000",
          "family": "sans-serif",
          "size": 15
         },
         "textposition": "top center"
        },
        {
         "line": {
          "color": "black",
          "width": 0.4040379027997887
         },
         "mode": "lines",
         "x": [
          -0.21762344645144172,
          0.4235642368429511,
          null
         ],
         "y": [
          -0.005098423290695858,
          0.16275329130810923,
          null
         ],
         "type": "scatter",
         "textfont": {
          "color": "#000",
          "family": "sans-serif",
          "size": 15
         },
         "textposition": "top center"
        },
        {
         "line": {
          "color": "black",
          "width": 0.5781167459059694
         },
         "mode": "lines",
         "x": [
          -0.21762344645144172,
          -0.6660689491024661,
          null
         ],
         "y": [
          -0.005098423290695858,
          0.49120751431113974,
          null
         ],
         "type": "scatter",
         "textfont": {
          "color": "#000",
          "family": "sans-serif",
          "size": 15
         },
         "textposition": "top center"
        },
        {
         "line": {
          "color": "black",
          "width": 3.095367802430005
         },
         "mode": "lines",
         "x": [
          -0.21762344645144172,
          -0.22973436424070404,
          null
         ],
         "y": [
          -0.005098423290695858,
          -0.20127845970980535,
          null
         ],
         "type": "scatter",
         "textfont": {
          "color": "#000",
          "family": "sans-serif",
          "size": 15
         },
         "textposition": "top center"
        },
        {
         "line": {
          "color": "black",
          "width": 0.2865821447437929
         },
         "mode": "lines",
         "x": [
          -0.21762344645144172,
          -1.0,
          null
         ],
         "y": [
          -0.005098423290695858,
          0.07561785837524528,
          null
         ],
         "type": "scatter",
         "textfont": {
          "color": "#000",
          "family": "sans-serif",
          "size": 15
         },
         "textposition": "top center"
        },
        {
         "line": {
          "color": "black",
          "width": 0.5500528262017961
         },
         "mode": "lines",
         "x": [
          -0.21762344645144172,
          0.1870509695756255,
          null
         ],
         "y": [
          -0.005098423290695858,
          0.2850962102450899,
          null
         ],
         "type": "scatter",
         "textfont": {
          "color": "#000",
          "family": "sans-serif",
          "size": 15
         },
         "textposition": "top center"
        },
        {
         "line": {
          "color": "black",
          "width": 0.7384112519809826
         },
         "mode": "lines",
         "x": [
          -0.21762344645144172,
          0.3411143684533935,
          null
         ],
         "y": [
          -0.005098423290695858,
          -0.36272226615246356,
          null
         ],
         "type": "scatter",
         "textfont": {
          "color": "#000",
          "family": "sans-serif",
          "size": 15
         },
         "textposition": "top center"
        },
        {
         "line": {
          "color": "black",
          "width": 1.334439381933439
         },
         "mode": "lines",
         "x": [
          -0.21762344645144172,
          0.2313756331603892,
          null
         ],
         "y": [
          -0.005098423290695858,
          -0.09616699308363867,
          null
         ],
         "type": "scatter",
         "textfont": {
          "color": "#000",
          "family": "sans-serif",
          "size": 15
         },
         "textposition": "top center"
        },
        {
         "line": {
          "color": "black",
          "width": 1.3856973058637083
         },
         "mode": "lines",
         "x": [
          -0.21762344645144172,
          -0.6547368570731635,
          null
         ],
         "y": [
          -0.005098423290695858,
          -0.25553298733629803,
          null
         ],
         "type": "scatter",
         "textfont": {
          "color": "#000",
          "family": "sans-serif",
          "size": 15
         },
         "textposition": "top center"
        },
        {
         "line": {
          "color": "black",
          "width": 0.45281959852086634
         },
         "mode": "lines",
         "x": [
          -0.21762344645144172,
          0.10669220116081675,
          null
         ],
         "y": [
          -0.005098423290695858,
          -0.5940375399136042,
          null
         ],
         "type": "scatter",
         "textfont": {
          "color": "#000",
          "family": "sans-serif",
          "size": 15
         },
         "textposition": "top center"
        },
        {
         "line": {
          "color": "black",
          "width": 2.0140814844162707
         },
         "mode": "lines",
         "x": [
          -0.21762344645144172,
          -0.14349322707097778,
          null
         ],
         "y": [
          -0.005098423290695858,
          0.318332637992017,
          null
         ],
         "type": "scatter",
         "textfont": {
          "color": "#000",
          "family": "sans-serif",
          "size": 15
         },
         "textposition": "top center"
        },
        {
         "line": {
          "color": "black",
          "width": 0.2753565768621236
         },
         "mode": "lines",
         "x": [
          -0.21762344645144172,
          0.5332409408215548,
          null
         ],
         "y": [
          -0.005098423290695858,
          -0.03063483225945785,
          null
         ],
         "type": "scatter",
         "textfont": {
          "color": "#000",
          "family": "sans-serif",
          "size": 15
         },
         "textposition": "top center"
        },
        {
         "line": {
          "color": "black",
          "width": 0.12892894875858427
         },
         "mode": "lines",
         "x": [
          -0.21762344645144172,
          -0.2620678005516446,
          null
         ],
         "y": [
          -0.005098423290695858,
          -0.6553653967632671,
          null
         ],
         "type": "scatter",
         "textfont": {
          "color": "#000",
          "family": "sans-serif",
          "size": 15
         },
         "textposition": "top center"
        },
        {
         "line": {
          "color": "black",
          "width": 0.06454701531959853
         },
         "mode": "lines",
         "x": [
          -0.21762344645144172,
          0.8600606285048379,
          null
         ],
         "y": [
          -0.005098423290695858,
          0.229247729136116,
          null
         ],
         "type": "scatter",
         "textfont": {
          "color": "#000",
          "family": "sans-serif",
          "size": 15
         },
         "textposition": "top center"
        },
        {
         "line": {
          "color": "black",
          "width": 0.1078810089804543
         },
         "mode": "lines",
         "x": [
          -0.21762344645144172,
          0.7959096741617092,
          null
         ],
         "y": [
          -0.005098423290695858,
          -0.6855439637144494,
          null
         ],
         "type": "scatter",
         "textfont": {
          "color": "#000",
          "family": "sans-serif",
          "size": 15
         },
         "textposition": "top center"
        },
        {
         "line": {
          "color": "black",
          "width": 0.39726954569466455
         },
         "mode": "lines",
         "x": [
          -0.21762344645144172,
          -0.5288327016885052,
          null
         ],
         "y": [
          -0.005098423290695858,
          0.13440336808060474,
          null
         ],
         "type": "scatter",
         "textfont": {
          "color": "#000",
          "family": "sans-serif",
          "size": 15
         },
         "textposition": "top center"
        },
        {
         "line": {
          "color": "black",
          "width": 0.08402667723190703
         },
         "mode": "lines",
         "x": [
          -0.21762344645144172,
          0.40908284544047235,
          null
         ],
         "y": [
          -0.005098423290695858,
          0.47587703963293004,
          null
         ],
         "type": "scatter",
         "textfont": {
          "color": "#000",
          "family": "sans-serif",
          "size": 15
         },
         "textposition": "top center"
        },
        {
         "line": {
          "color": "black",
          "width": 0.9195060750132066
         },
         "mode": "lines",
         "x": [
          0.038571066760352476,
          0.3411143684533935,
          null
         ],
         "y": [
          -0.11498599279636586,
          -0.36272226615246356,
          null
         ],
         "type": "scatter",
         "textfont": {
          "color": "#000",
          "family": "sans-serif",
          "size": 15
         },
         "textposition": "top center"
        },
        {
         "line": {
          "color": "black",
          "width": 0.8277205493924987
         },
         "mode": "lines",
         "x": [
          0.038571066760352476,
          -0.14349322707097778,
          null
         ],
         "y": [
          -0.11498599279636586,
          0.318332637992017,
          null
         ],
         "type": "scatter",
         "textfont": {
          "color": "#000",
          "family": "sans-serif",
          "size": 15
         },
         "textposition": "top center"
        },
        {
         "line": {
          "color": "black",
          "width": 0.6287143423137876
         },
         "mode": "lines",
         "x": [
          0.038571066760352476,
          -0.5288327016885052,
          null
         ],
         "y": [
          -0.11498599279636586,
          0.13440336808060474,
          null
         ],
         "type": "scatter",
         "textfont": {
          "color": "#000",
          "family": "sans-serif",
          "size": 15
         },
         "textposition": "top center"
        },
        {
         "line": {
          "color": "black",
          "width": 0.3195159799260433
         },
         "mode": "lines",
         "x": [
          0.038571066760352476,
          -1.0,
          null
         ],
         "y": [
          -0.11498599279636586,
          0.07561785837524528,
          null
         ],
         "type": "scatter",
         "textfont": {
          "color": "#000",
          "family": "sans-serif",
          "size": 15
         },
         "textposition": "top center"
        },
        {
         "line": {
          "color": "black",
          "width": 0.6257428684627575
         },
         "mode": "lines",
         "x": [
          0.038571066760352476,
          -0.2620678005516446,
          null
         ],
         "y": [
          -0.11498599279636586,
          -0.6553653967632671,
          null
         ],
         "type": "scatter",
         "textfont": {
          "color": "#000",
          "family": "sans-serif",
          "size": 15
         },
         "textposition": "top center"
        },
        {
         "line": {
          "color": "black",
          "width": 1.1249504754358162
         },
         "mode": "lines",
         "x": [
          0.038571066760352476,
          0.5332409408215548,
          null
         ],
         "y": [
          -0.11498599279636586,
          -0.03063483225945785,
          null
         ],
         "type": "scatter",
         "textfont": {
          "color": "#000",
          "family": "sans-serif",
          "size": 15
         },
         "textposition": "top center"
        },
        {
         "line": {
          "color": "black",
          "width": 0.15889131008980453
         },
         "mode": "lines",
         "x": [
          0.038571066760352476,
          0.7959096741617092,
          null
         ],
         "y": [
          -0.11498599279636586,
          -0.6855439637144494,
          null
         ],
         "type": "scatter",
         "textfont": {
          "color": "#000",
          "family": "sans-serif",
          "size": 15
         },
         "textposition": "top center"
        },
        {
         "line": {
          "color": "black",
          "width": 0.14056722134178554
         },
         "mode": "lines",
         "x": [
          0.038571066760352476,
          -0.1836055864827983,
          null
         ],
         "y": [
          -0.11498599279636586,
          0.7530407983373302,
          null
         ],
         "type": "scatter",
         "textfont": {
          "color": "#000",
          "family": "sans-serif",
          "size": 15
         },
         "textposition": "top center"
        },
        {
         "line": {
          "color": "black",
          "width": 1.338896592709984
         },
         "mode": "lines",
         "x": [
          0.038571066760352476,
          0.2313756331603892,
          null
         ],
         "y": [
          -0.11498599279636586,
          -0.09616699308363867,
          null
         ],
         "type": "scatter",
         "textfont": {
          "color": "#000",
          "family": "sans-serif",
          "size": 15
         },
         "textposition": "top center"
        },
        {
         "line": {
          "color": "black",
          "width": 1.045546090861067
         },
         "mode": "lines",
         "x": [
          0.038571066760352476,
          0.4235642368429511,
          null
         ],
         "y": [
          -0.11498599279636586,
          0.16275329130810923,
          null
         ],
         "type": "scatter",
         "textfont": {
          "color": "#000",
          "family": "sans-serif",
          "size": 15
         },
         "textposition": "top center"
        },
        {
         "line": {
          "color": "black",
          "width": 1.567122292657158
         },
         "mode": "lines",
         "x": [
          0.038571066760352476,
          -0.22973436424070404,
          null
         ],
         "y": [
          -0.11498599279636586,
          -0.20127845970980535,
          null
         ],
         "type": "scatter",
         "textfont": {
          "color": "#000",
          "family": "sans-serif",
          "size": 15
         },
         "textposition": "top center"
        },
        {
         "line": {
          "color": "black",
          "width": 0.9237156629688326
         },
         "mode": "lines",
         "x": [
          0.038571066760352476,
          0.1870509695756255,
          null
         ],
         "y": [
          -0.11498599279636586,
          0.2850962102450899,
          null
         ],
         "type": "scatter",
         "textfont": {
          "color": "#000",
          "family": "sans-serif",
          "size": 15
         },
         "textposition": "top center"
        },
        {
         "line": {
          "color": "black",
          "width": 0.3935552033808769
         },
         "mode": "lines",
         "x": [
          0.038571066760352476,
          0.8600606285048379,
          null
         ],
         "y": [
          -0.11498599279636586,
          0.229247729136116,
          null
         ],
         "type": "scatter",
         "textfont": {
          "color": "#000",
          "family": "sans-serif",
          "size": 15
         },
         "textposition": "top center"
        },
        {
         "line": {
          "color": "black",
          "width": 0.5513734812466984
         },
         "mode": "lines",
         "x": [
          0.038571066760352476,
          0.10669220116081675,
          null
         ],
         "y": [
          -0.11498599279636586,
          -0.5940375399136042,
          null
         ],
         "type": "scatter",
         "textfont": {
          "color": "#000",
          "family": "sans-serif",
          "size": 15
         },
         "textposition": "top center"
        },
        {
         "line": {
          "color": "black",
          "width": 0.12678288431061807
         },
         "mode": "lines",
         "x": [
          0.038571066760352476,
          -0.6660689491024661,
          null
         ],
         "y": [
          -0.11498599279636586,
          0.49120751431113974,
          null
         ],
         "type": "scatter",
         "textfont": {
          "color": "#000",
          "family": "sans-serif",
          "size": 15
         },
         "textposition": "top center"
        },
        {
         "line": {
          "color": "black",
          "width": 0.6155077918647649
         },
         "mode": "lines",
         "x": [
          0.038571066760352476,
          0.40908284544047235,
          null
         ],
         "y": [
          -0.11498599279636586,
          0.47587703963293004,
          null
         ],
         "type": "scatter",
         "textfont": {
          "color": "#000",
          "family": "sans-serif",
          "size": 15
         },
         "textposition": "top center"
        },
        {
         "line": {
          "color": "black",
          "width": 0.2722200211304807
         },
         "mode": "lines",
         "x": [
          0.038571066760352476,
          -0.6547368570731635,
          null
         ],
         "y": [
          -0.11498599279636586,
          -0.25553298733629803,
          null
         ],
         "type": "scatter",
         "textfont": {
          "color": "#000",
          "family": "sans-serif",
          "size": 15
         },
         "textposition": "top center"
        },
        {
         "line": {
          "color": "black",
          "width": 0.14642762810353935
         },
         "mode": "lines",
         "x": [
          0.4235642368429511,
          -0.1836055864827983,
          null
         ],
         "y": [
          0.16275329130810923,
          0.7530407983373302,
          null
         ],
         "type": "scatter",
         "textfont": {
          "color": "#000",
          "family": "sans-serif",
          "size": 15
         },
         "textposition": "top center"
        },
        {
         "line": {
          "color": "black",
          "width": 0.21832078711040676
         },
         "mode": "lines",
         "x": [
          0.4235642368429511,
          -0.14349322707097778,
          null
         ],
         "y": [
          0.16275329130810923,
          0.318332637992017,
          null
         ],
         "type": "scatter",
         "textfont": {
          "color": "#000",
          "family": "sans-serif",
          "size": 15
         },
         "textposition": "top center"
        },
        {
         "line": {
          "color": "black",
          "width": 0.722068145800317
         },
         "mode": "lines",
         "x": [
          0.4235642368429511,
          0.2313756331603892,
          null
         ],
         "y": [
          0.16275329130810923,
          -0.09616699308363867,
          null
         ],
         "type": "scatter",
         "textfont": {
          "color": "#000",
          "family": "sans-serif",
          "size": 15
         },
         "textposition": "top center"
        },
        {
         "line": {
          "color": "black",
          "width": 0.842743000528262
         },
         "mode": "lines",
         "x": [
          0.4235642368429511,
          0.1870509695756255,
          null
         ],
         "y": [
          0.16275329130810923,
          0.2850962102450899,
          null
         ],
         "type": "scatter",
         "textfont": {
          "color": "#000",
          "family": "sans-serif",
          "size": 15
         },
         "textposition": "top center"
        },
        {
         "line": {
          "color": "black",
          "width": 0.2950013206550449
         },
         "mode": "lines",
         "x": [
          0.4235642368429511,
          0.8600606285048379,
          null
         ],
         "y": [
          0.16275329130810923,
          0.229247729136116,
          null
         ],
         "type": "scatter",
         "textfont": {
          "color": "#000",
          "family": "sans-serif",
          "size": 15
         },
         "textposition": "top center"
        },
        {
         "line": {
          "color": "black",
          "width": 1.1852879027997887
         },
         "mode": "lines",
         "x": [
          0.4235642368429511,
          0.5332409408215548,
          null
         ],
         "y": [
          0.16275329130810923,
          -0.03063483225945785,
          null
         ],
         "type": "scatter",
         "textfont": {
          "color": "#000",
          "family": "sans-serif",
          "size": 15
         },
         "textposition": "top center"
        },
        {
         "line": {
          "color": "black",
          "width": 0.39520602218700474
         },
         "mode": "lines",
         "x": [
          0.4235642368429511,
          0.3411143684533935,
          null
         ],
         "y": [
          0.16275329130810923,
          -0.36272226615246356,
          null
         ],
         "type": "scatter",
         "textfont": {
          "color": "#000",
          "family": "sans-serif",
          "size": 15
         },
         "textposition": "top center"
        },
        {
         "line": {
          "color": "black",
          "width": 0.11076994189117803
         },
         "mode": "lines",
         "x": [
          0.4235642368429511,
          -0.5288327016885052,
          null
         ],
         "y": [
          0.16275329130810923,
          0.13440336808060474,
          null
         ],
         "type": "scatter",
         "textfont": {
          "color": "#000",
          "family": "sans-serif",
          "size": 15
         },
         "textposition": "top center"
        },
        {
         "line": {
          "color": "black",
          "width": 0.07370905969360803
         },
         "mode": "lines",
         "x": [
          0.4235642368429511,
          -0.6547368570731635,
          null
         ],
         "y": [
          0.16275329130810923,
          -0.25553298733629803,
          null
         ],
         "type": "scatter",
         "textfont": {
          "color": "#000",
          "family": "sans-serif",
          "size": 15
         },
         "textposition": "top center"
        },
        {
         "line": {
          "color": "black",
          "width": 0.23507659799260433
         },
         "mode": "lines",
         "x": [
          0.4235642368429511,
          -0.22973436424070404,
          null
         ],
         "y": [
          0.16275329130810923,
          -0.20127845970980535,
          null
         ],
         "type": "scatter",
         "textfont": {
          "color": "#000",
          "family": "sans-serif",
          "size": 15
         },
         "textposition": "top center"
        },
        {
         "line": {
          "color": "black",
          "width": 0.08914421553090333
         },
         "mode": "lines",
         "x": [
          0.4235642368429511,
          0.7959096741617092,
          null
         ],
         "y": [
          0.16275329130810923,
          -0.6855439637144494,
          null
         ],
         "type": "scatter",
         "textfont": {
          "color": "#000",
          "family": "sans-serif",
          "size": 15
         },
         "textposition": "top center"
        },
        {
         "line": {
          "color": "black",
          "width": 0.22781299524564183
         },
         "mode": "lines",
         "x": [
          0.4235642368429511,
          0.40908284544047235,
          null
         ],
         "y": [
          0.16275329130810923,
          0.47587703963293004,
          null
         ],
         "type": "scatter",
         "textfont": {
          "color": "#000",
          "family": "sans-serif",
          "size": 15
         },
         "textposition": "top center"
        },
        {
         "line": {
          "color": "black",
          "width": 0.0246797411516112
         },
         "mode": "lines",
         "x": [
          0.4235642368429511,
          -1.0,
          null
         ],
         "y": [
          0.16275329130810923,
          0.07561785837524528,
          null
         ],
         "type": "scatter",
         "textfont": {
          "color": "#000",
          "family": "sans-serif",
          "size": 15
         },
         "textposition": "top center"
        },
        {
         "line": {
          "color": "black",
          "width": 0.07725832012678288
         },
         "mode": "lines",
         "x": [
          0.4235642368429511,
          -0.2620678005516446,
          null
         ],
         "y": [
          0.16275329130810923,
          -0.6553653967632671,
          null
         ],
         "type": "scatter",
         "textfont": {
          "color": "#000",
          "family": "sans-serif",
          "size": 15
         },
         "textposition": "top center"
        },
        {
         "line": {
          "color": "black",
          "width": 0.2085809561542525
         },
         "mode": "lines",
         "x": [
          0.4235642368429511,
          0.10669220116081675,
          null
         ],
         "y": [
          0.16275329130810923,
          -0.5940375399136042,
          null
         ],
         "type": "scatter",
         "textfont": {
          "color": "#000",
          "family": "sans-serif",
          "size": 15
         },
         "textposition": "top center"
        },
        {
         "line": {
          "color": "black",
          "width": 0.03656563655573164
         },
         "mode": "lines",
         "x": [
          0.4235642368429511,
          -0.6660689491024661,
          null
         ],
         "y": [
          0.16275329130810923,
          0.49120751431113974,
          null
         ],
         "type": "scatter",
         "textfont": {
          "color": "#000",
          "family": "sans-serif",
          "size": 15
         },
         "textposition": "top center"
        },
        {
         "line": {
          "color": "black",
          "width": 0.5248778394083465
         },
         "mode": "lines",
         "x": [
          -0.22973436424070404,
          0.2313756331603892,
          null
         ],
         "y": [
          -0.20127845970980535,
          -0.09616699308363867,
          null
         ],
         "type": "scatter",
         "textfont": {
          "color": "#000",
          "family": "sans-serif",
          "size": 15
         },
         "textposition": "top center"
        },
        {
         "line": {
          "color": "black",
          "width": 0.392729793977813
         },
         "mode": "lines",
         "x": [
          -0.22973436424070404,
          -0.5288327016885052,
          null
         ],
         "y": [
          -0.20127845970980535,
          0.13440336808060474,
          null
         ],
         "type": "scatter",
         "textfont": {
          "color": "#000",
          "family": "sans-serif",
          "size": 15
         },
         "textposition": "top center"
        },
        {
         "line": {
          "color": "black",
          "width": 0.34592908082408874
         },
         "mode": "lines",
         "x": [
          -0.22973436424070404,
          0.3411143684533935,
          null
         ],
         "y": [
          -0.20127845970980535,
          -0.36272226615246356,
          null
         ],
         "type": "scatter",
         "textfont": {
          "color": "#000",
          "family": "sans-serif",
          "size": 15
         },
         "textposition": "top center"
        },
        {
         "line": {
          "color": "black",
          "width": 0.2250066032752245
         },
         "mode": "lines",
         "x": [
          -0.22973436424070404,
          0.10669220116081675,
          null
         ],
         "y": [
          -0.20127845970980535,
          -0.5940375399136042,
          null
         ],
         "type": "scatter",
         "textfont": {
          "color": "#000",
          "family": "sans-serif",
          "size": 15
         },
         "textposition": "top center"
        },
        {
         "line": {
          "color": "black",
          "width": 0.26974379292128897
         },
         "mode": "lines",
         "x": [
          -0.22973436424070404,
          -1.0,
          null
         ],
         "y": [
          -0.20127845970980535,
          0.07561785837524528,
          null
         ],
         "type": "scatter",
         "textfont": {
          "color": "#000",
          "family": "sans-serif",
          "size": 15
         },
         "textposition": "top center"
        },
        {
         "line": {
          "color": "black",
          "width": 0.3317320390913893
         },
         "mode": "lines",
         "x": [
          -0.22973436424070404,
          0.5332409408215548,
          null
         ],
         "y": [
          -0.20127845970980535,
          -0.03063483225945785,
          null
         ],
         "type": "scatter",
         "textfont": {
          "color": "#000",
          "family": "sans-serif",
          "size": 15
         },
         "textposition": "top center"
        },
        {
         "line": {
          "color": "black",
          "width": 0.6119585314315901
         },
         "mode": "lines",
         "x": [
          -0.22973436424070404,
          -0.14349322707097778,
          null
         ],
         "y": [
          -0.20127845970980535,
          0.318332637992017,
          null
         ],
         "type": "scatter",
         "textfont": {
          "color": "#000",
          "family": "sans-serif",
          "size": 15
         },
         "textposition": "top center"
        },
        {
         "line": {
          "color": "black",
          "width": 0.2869948494453249
         },
         "mode": "lines",
         "x": [
          -0.22973436424070404,
          -0.2620678005516446,
          null
         ],
         "y": [
          -0.20127845970980535,
          -0.6553653967632671,
          null
         ],
         "type": "scatter",
         "textfont": {
          "color": "#000",
          "family": "sans-serif",
          "size": 15
         },
         "textposition": "top center"
        },
        {
         "line": {
          "color": "black",
          "width": 0.28831550449022714
         },
         "mode": "lines",
         "x": [
          -0.22973436424070404,
          0.40908284544047235,
          null
         ],
         "y": [
          -0.20127845970980535,
          0.47587703963293004,
          null
         ],
         "type": "scatter",
         "textfont": {
          "color": "#000",
          "family": "sans-serif",
          "size": 15
         },
         "textposition": "top center"
        },
        {
         "line": {
          "color": "black",
          "width": 0.26891838351822506
         },
         "mode": "lines",
         "x": [
          -0.22973436424070404,
          -0.6547368570731635,
          null
         ],
         "y": [
          -0.20127845970980535,
          -0.25553298733629803,
          null
         ],
         "type": "scatter",
         "textfont": {
          "color": "#000",
          "family": "sans-serif",
          "size": 15
         },
         "textposition": "top center"
        },
        {
         "line": {
          "color": "black",
          "width": 0.18125990491283678
         },
         "mode": "lines",
         "x": [
          -0.22973436424070404,
          -0.6660689491024661,
          null
         ],
         "y": [
          -0.20127845970980535,
          0.49120751431113974,
          null
         ],
         "type": "scatter",
         "textfont": {
          "color": "#000",
          "family": "sans-serif",
          "size": 15
         },
         "textposition": "top center"
        },
        {
         "line": {
          "color": "black",
          "width": 0.4368891970417327
         },
         "mode": "lines",
         "x": [
          -0.22973436424070404,
          0.1870509695756255,
          null
         ],
         "y": [
          -0.20127845970980535,
          0.2850962102450899,
          null
         ],
         "type": "scatter",
         "textfont": {
          "color": "#000",
          "family": "sans-serif",
          "size": 15
         },
         "textposition": "top center"
        },
        {
         "line": {
          "color": "black",
          "width": 0.21526677231907027
         },
         "mode": "lines",
         "x": [
          -0.22973436424070404,
          -0.1836055864827983,
          null
         ],
         "y": [
          -0.20127845970980535,
          0.7530407983373302,
          null
         ],
         "type": "scatter",
         "textfont": {
          "color": "#000",
          "family": "sans-serif",
          "size": 15
         },
         "textposition": "top center"
        },
        {
         "line": {
          "color": "black",
          "width": 0.09318872160591654
         },
         "mode": "lines",
         "x": [
          -0.22973436424070404,
          0.8600606285048379,
          null
         ],
         "y": [
          -0.20127845970980535,
          0.229247729136116,
          null
         ],
         "type": "scatter",
         "textfont": {
          "color": "#000",
          "family": "sans-serif",
          "size": 15
         },
         "textposition": "top center"
        },
        {
         "line": {
          "color": "black",
          "width": 0.037803750660327526
         },
         "mode": "lines",
         "x": [
          -0.22973436424070404,
          0.7959096741617092,
          null
         ],
         "y": [
          -0.20127845970980535,
          -0.6855439637144494,
          null
         ],
         "type": "scatter",
         "textfont": {
          "color": "#000",
          "family": "sans-serif",
          "size": 15
         },
         "textposition": "top center"
        },
        {
         "line": {
          "color": "black",
          "width": 0.21204767564712096
         },
         "mode": "lines",
         "x": [
          -0.5288327016885052,
          0.2313756331603892,
          null
         ],
         "y": [
          0.13440336808060474,
          -0.09616699308363867,
          null
         ],
         "type": "scatter",
         "textfont": {
          "color": "#000",
          "family": "sans-serif",
          "size": 15
         },
         "textposition": "top center"
        },
        {
         "line": {
          "color": "black",
          "width": 0.09120773903856312
         },
         "mode": "lines",
         "x": [
          -0.5288327016885052,
          0.3411143684533935,
          null
         ],
         "y": [
          0.13440336808060474,
          -0.36272226615246356,
          null
         ],
         "type": "scatter",
         "textfont": {
          "color": "#000",
          "family": "sans-serif",
          "size": 15
         },
         "textposition": "top center"
        },
        {
         "line": {
          "color": "black",
          "width": 0.1099445324881141
         },
         "mode": "lines",
         "x": [
          -0.5288327016885052,
          0.10669220116081675,
          null
         ],
         "y": [
          0.13440336808060474,
          -0.5940375399136042,
          null
         ],
         "type": "scatter",
         "textfont": {
          "color": "#000",
          "family": "sans-serif",
          "size": 15
         },
         "textposition": "top center"
        },
        {
         "line": {
          "color": "black",
          "width": 0.17308835182250396
         },
         "mode": "lines",
         "x": [
          -0.5288327016885052,
          0.1870509695756255,
          null
         ],
         "y": [
          0.13440336808060474,
          0.2850962102450899,
          null
         ],
         "type": "scatter",
         "textfont": {
          "color": "#000",
          "family": "sans-serif",
          "size": 15
         },
         "textposition": "top center"
        },
        {
         "line": {
          "color": "black",
          "width": 0.20255546751188588
         },
         "mode": "lines",
         "x": [
          -0.5288327016885052,
          -0.14349322707097778,
          null
         ],
         "y": [
          0.13440336808060474,
          0.318332637992017,
          null
         ],
         "type": "scatter",
         "textfont": {
          "color": "#000",
          "family": "sans-serif",
          "size": 15
         },
         "textposition": "top center"
        },
        {
         "line": {
          "color": "black",
          "width": 0.17614236661384047
         },
         "mode": "lines",
         "x": [
          -0.5288327016885052,
          -0.6547368570731635,
          null
         ],
         "y": [
          0.13440336808060474,
          -0.25553298733629803,
          null
         ],
         "type": "scatter",
         "textfont": {
          "color": "#000",
          "family": "sans-serif",
          "size": 15
         },
         "textposition": "top center"
        },
        {
         "line": {
          "color": "black",
          "width": 0.34196711568938193
         },
         "mode": "lines",
         "x": [
          -0.5288327016885052,
          -0.6660689491024661,
          null
         ],
         "y": [
          0.13440336808060474,
          0.49120751431113974,
          null
         ],
         "type": "scatter",
         "textfont": {
          "color": "#000",
          "family": "sans-serif",
          "size": 15
         },
         "textposition": "top center"
        },
        {
         "line": {
          "color": "black",
          "width": 0.1736661384046487
         },
         "mode": "lines",
         "x": [
          -0.5288327016885052,
          -1.0,
          null
         ],
         "y": [
          0.13440336808060474,
          0.07561785837524528,
          null
         ],
         "type": "scatter",
         "textfont": {
          "color": "#000",
          "family": "sans-serif",
          "size": 15
         },
         "textposition": "top center"
        },
        {
         "line": {
          "color": "black",
          "width": 0.07866151611199154
         },
         "mode": "lines",
         "x": [
          -0.5288327016885052,
          0.40908284544047235,
          null
         ],
         "y": [
          0.13440336808060474,
          0.47587703963293004,
          null
         ],
         "type": "scatter",
         "textfont": {
          "color": "#000",
          "family": "sans-serif",
          "size": 15
         },
         "textposition": "top center"
        },
        {
         "line": {
          "color": "black",
          "width": 0.034171949286846276
         },
         "mode": "lines",
         "x": [
          -0.5288327016885052,
          0.7959096741617092,
          null
         ],
         "y": [
          0.13440336808060474,
          -0.6855439637144494,
          null
         ],
         "type": "scatter",
         "textfont": {
          "color": "#000",
          "family": "sans-serif",
          "size": 15
         },
         "textposition": "top center"
        },
        {
         "line": {
          "color": "black",
          "width": 0.08774101954569466
         },
         "mode": "lines",
         "x": [
          -0.5288327016885052,
          0.5332409408215548,
          null
         ],
         "y": [
          0.13440336808060474,
          -0.03063483225945785,
          null
         ],
         "type": "scatter",
         "textfont": {
          "color": "#000",
          "family": "sans-serif",
          "size": 15
         },
         "textposition": "top center"
        },
        {
         "line": {
          "color": "black",
          "width": 0.04399432118330692
         },
         "mode": "lines",
         "x": [
          -0.5288327016885052,
          0.8600606285048379,
          null
         ],
         "y": [
          0.13440336808060474,
          0.229247729136116,
          null
         ],
         "type": "scatter",
         "textfont": {
          "color": "#000",
          "family": "sans-serif",
          "size": 15
         },
         "textposition": "top center"
        },
        {
         "line": {
          "color": "black",
          "width": 0.12694796619123086
         },
         "mode": "lines",
         "x": [
          -0.5288327016885052,
          -0.2620678005516446,
          null
         ],
         "y": [
          0.13440336808060474,
          -0.6553653967632671,
          null
         ],
         "type": "scatter",
         "textfont": {
          "color": "#000",
          "family": "sans-serif",
          "size": 15
         },
         "textposition": "top center"
        },
        {
         "line": {
          "color": "black",
          "width": 0.06949947173798204
         },
         "mode": "lines",
         "x": [
          -0.5288327016885052,
          -0.1836055864827983,
          null
         ],
         "y": [
          0.13440336808060474,
          0.7530407983373302,
          null
         ],
         "type": "scatter",
         "textfont": {
          "color": "#000",
          "family": "sans-serif",
          "size": 15
         },
         "textposition": "top center"
        },
        {
         "line": {
          "color": "black",
          "width": 0.8203744057052298
         },
         "mode": "lines",
         "x": [
          0.2313756331603892,
          0.3411143684533935,
          null
         ],
         "y": [
          -0.09616699308363867,
          -0.36272226615246356,
          null
         ],
         "type": "scatter",
         "textfont": {
          "color": "#000",
          "family": "sans-serif",
          "size": 15
         },
         "textposition": "top center"
        },
        {
         "line": {
          "color": "black",
          "width": 0.458432382461701
         },
         "mode": "lines",
         "x": [
          0.2313756331603892,
          0.10669220116081675,
          null
         ],
         "y": [
          -0.09616699308363867,
          -0.5940375399136042,
          null
         ],
         "type": "scatter",
         "textfont": {
          "color": "#000",
          "family": "sans-serif",
          "size": 15
         },
         "textposition": "top center"
        },
        {
         "line": {
          "color": "black",
          "width": 0.09607765451664026
         },
         "mode": "lines",
         "x": [
          0.2313756331603892,
          0.7959096741617092,
          null
         ],
         "y": [
          -0.09616699308363867,
          -0.6855439637144494,
          null
         ],
         "type": "scatter",
         "textfont": {
          "color": "#000",
          "family": "sans-serif",
          "size": 15
         },
         "textposition": "top center"
        },
        {
         "line": {
          "color": "black",
          "width": 0.17622490755414685
         },
         "mode": "lines",
         "x": [
          0.2313756331603892,
          -0.1836055864827983,
          null
         ],
         "y": [
          -0.09616699308363867,
          0.7530407983373302,
          null
         ],
         "type": "scatter",
         "textfont": {
          "color": "#000",
          "family": "sans-serif",
          "size": 15
         },
         "textposition": "top center"
        },
        {
         "line": {
          "color": "black",
          "width": 0.4033775752773376
         },
         "mode": "lines",
         "x": [
          0.2313756331603892,
          0.40908284544047235,
          null
         ],
         "y": [
          -0.09616699308363867,
          0.47587703963293004,
          null
         ],
         "type": "scatter",
         "textfont": {
          "color": "#000",
          "family": "sans-serif",
          "size": 15
         },
         "textposition": "top center"
        },
        {
         "line": {
          "color": "black",
          "width": 0.6842643951399895
         },
         "mode": "lines",
         "x": [
          0.2313756331603892,
          0.1870509695756255,
          null
         ],
         "y": [
          -0.09616699308363867,
          0.2850962102450899,
          null
         ],
         "type": "scatter",
         "textfont": {
          "color": "#000",
          "family": "sans-serif",
          "size": 15
         },
         "textposition": "top center"
        },
        {
         "line": {
          "color": "black",
          "width": 0.166567617538299
         },
         "mode": "lines",
         "x": [
          0.2313756331603892,
          -0.6547368570731635,
          null
         ],
         "y": [
          -0.09616699308363867,
          -0.25553298733629803,
          null
         ],
         "type": "scatter",
         "textfont": {
          "color": "#000",
          "family": "sans-serif",
          "size": 15
         },
         "textposition": "top center"
        },
        {
         "line": {
          "color": "black",
          "width": 0.38356774960380347
         },
         "mode": "lines",
         "x": [
          0.2313756331603892,
          -0.14349322707097778,
          null
         ],
         "y": [
          -0.09616699308363867,
          0.318332637992017,
          null
         ],
         "type": "scatter",
         "textfont": {
          "color": "#000",
          "family": "sans-serif",
          "size": 15
         },
         "textposition": "top center"
        },
        {
         "line": {
          "color": "black",
          "width": 0.6649498151082938
         },
         "mode": "lines",
         "x": [
          0.2313756331603892,
          0.5332409408215548,
          null
         ],
         "y": [
          -0.09616699308363867,
          -0.03063483225945785,
          null
         ],
         "type": "scatter",
         "textfont": {
          "color": "#000",
          "family": "sans-serif",
          "size": 15
         },
         "textposition": "top center"
        },
        {
         "line": {
          "color": "black",
          "width": 0.08782356048600105
         },
         "mode": "lines",
         "x": [
          0.2313756331603892,
          -0.6660689491024661,
          null
         ],
         "y": [
          -0.09616699308363867,
          0.49120751431113974,
          null
         ],
         "type": "scatter",
         "textfont": {
          "color": "#000",
          "family": "sans-serif",
          "size": 15
         },
         "textposition": "top center"
        },
        {
         "line": {
          "color": "black",
          "width": 0.03656563655573164
         },
         "mode": "lines",
         "x": [
          0.2313756331603892,
          -1.0,
          null
         ],
         "y": [
          -0.09616699308363867,
          0.07561785837524528,
          null
         ],
         "type": "scatter",
         "textfont": {
          "color": "#000",
          "family": "sans-serif",
          "size": 15
         },
         "textposition": "top center"
        },
        {
         "line": {
          "color": "black",
          "width": 0.21394611727416799
         },
         "mode": "lines",
         "x": [
          0.2313756331603892,
          -0.2620678005516446,
          null
         ],
         "y": [
          -0.09616699308363867,
          -0.6553653967632671,
          null
         ],
         "type": "scatter",
         "textfont": {
          "color": "#000",
          "family": "sans-serif",
          "size": 15
         },
         "textposition": "top center"
        },
        {
         "line": {
          "color": "black",
          "width": 0.20222530375066033
         },
         "mode": "lines",
         "x": [
          0.2313756331603892,
          0.8600606285048379,
          null
         ],
         "y": [
          -0.09616699308363867,
          0.229247729136116,
          null
         ],
         "type": "scatter",
         "textfont": {
          "color": "#000",
          "family": "sans-serif",
          "size": 15
         },
         "textposition": "top center"
        },
        {
         "line": {
          "color": "black",
          "width": 0.34592908082408874
         },
         "mode": "lines",
         "x": [
          0.5332409408215548,
          0.3411143684533935,
          null
         ],
         "y": [
          -0.03063483225945785,
          -0.36272226615246356,
          null
         ],
         "type": "scatter",
         "textfont": {
          "color": "#000",
          "family": "sans-serif",
          "size": 15
         },
         "textposition": "top center"
        },
        {
         "line": {
          "color": "black",
          "width": 0.06413431061806656
         },
         "mode": "lines",
         "x": [
          0.5332409408215548,
          -0.2620678005516446,
          null
         ],
         "y": [
          -0.03063483225945785,
          -0.6553653967632671,
          null
         ],
         "type": "scatter",
         "textfont": {
          "color": "#000",
          "family": "sans-serif",
          "size": 15
         },
         "textposition": "top center"
        },
        {
         "line": {
          "color": "black",
          "width": 0.7983359746434231
         },
         "mode": "lines",
         "x": [
          0.5332409408215548,
          0.1870509695756255,
          null
         ],
         "y": [
          -0.03063483225945785,
          0.2850962102450899,
          null
         ],
         "type": "scatter",
         "textfont": {
          "color": "#000",
          "family": "sans-serif",
          "size": 15
         },
         "textposition": "top center"
        },
        {
         "line": {
          "color": "black",
          "width": 0.4946678552562071
         },
         "mode": "lines",
         "x": [
          0.5332409408215548,
          0.40908284544047235,
          null
         ],
         "y": [
          -0.03063483225945785,
          0.47587703963293004,
          null
         ],
         "type": "scatter",
         "textfont": {
          "color": "#000",
          "family": "sans-serif",
          "size": 15
         },
         "textposition": "top center"
        },
        {
         "line": {
          "color": "black",
          "width": 0.19487916006339145
         },
         "mode": "lines",
         "x": [
          0.5332409408215548,
          0.10669220116081675,
          null
         ],
         "y": [
          -0.03063483225945785,
          -0.5940375399136042,
          null
         ],
         "type": "scatter",
         "textfont": {
          "color": "#000",
          "family": "sans-serif",
          "size": 15
         },
         "textposition": "top center"
        },
        {
         "line": {
          "color": "black",
          "width": 0.02930203380876915
         },
         "mode": "lines",
         "x": [
          0.5332409408215548,
          -0.6660689491024661,
          null
         ],
         "y": [
          -0.03063483225945785,
          0.49120751431113974,
          null
         ],
         "type": "scatter",
         "textfont": {
          "color": "#000",
          "family": "sans-serif",
          "size": 15
         },
         "textposition": "top center"
        },
        {
         "line": {
          "color": "black",
          "width": 0.2427529054410988
         },
         "mode": "lines",
         "x": [
          0.5332409408215548,
          -0.14349322707097778,
          null
         ],
         "y": [
          -0.03063483225945785,
          0.318332637992017,
          null
         ],
         "type": "scatter",
         "textfont": {
          "color": "#000",
          "family": "sans-serif",
          "size": 15
         },
         "textposition": "top center"
        },
        {
         "line": {
          "color": "black",
          "width": 1.0684099313259376
         },
         "mode": "lines",
         "x": [
          0.5332409408215548,
          0.8600606285048379,
          null
         ],
         "y": [
          -0.03063483225945785,
          0.229247729136116,
          null
         ],
         "type": "scatter",
         "textfont": {
          "color": "#000",
          "family": "sans-serif",
          "size": 15
         },
         "textposition": "top center"
        },
        {
         "line": {
          "color": "black",
          "width": 0.10301109350237718
         },
         "mode": "lines",
         "x": [
          0.5332409408215548,
          -0.1836055864827983,
          null
         ],
         "y": [
          -0.03063483225945785,
          0.7530407983373302,
          null
         ],
         "type": "scatter",
         "textfont": {
          "color": "#000",
          "family": "sans-serif",
          "size": 15
         },
         "textposition": "top center"
        },
        {
         "line": {
          "color": "black",
          "width": 0.06157554146856841
         },
         "mode": "lines",
         "x": [
          0.5332409408215548,
          -0.6547368570731635,
          null
         ],
         "y": [
          -0.03063483225945785,
          -0.25553298733629803,
          null
         ],
         "type": "scatter",
         "textfont": {
          "color": "#000",
          "family": "sans-serif",
          "size": 15
         },
         "textposition": "top center"
        },
        {
         "line": {
          "color": "black",
          "width": 0.020222530375066033
         },
         "mode": "lines",
         "x": [
          0.5332409408215548,
          -1.0,
          null
         ],
         "y": [
          -0.03063483225945785,
          0.07561785837524528,
          null
         ],
         "type": "scatter",
         "textfont": {
          "color": "#000",
          "family": "sans-serif",
          "size": 15
         },
         "textposition": "top center"
        },
        {
         "line": {
          "color": "black",
          "width": 0.056623085050184895
         },
         "mode": "lines",
         "x": [
          0.5332409408215548,
          0.7959096741617092,
          null
         ],
         "y": [
          -0.03063483225945785,
          -0.6855439637144494,
          null
         ],
         "type": "scatter",
         "textfont": {
          "color": "#000",
          "family": "sans-serif",
          "size": 15
         },
         "textposition": "top center"
        },
        {
         "line": {
          "color": "black",
          "width": 0.2722200211304807
         },
         "mode": "lines",
         "x": [
          -0.14349322707097778,
          0.40908284544047235,
          null
         ],
         "y": [
          0.318332637992017,
          0.47587703963293004,
          null
         ],
         "type": "scatter",
         "textfont": {
          "color": "#000",
          "family": "sans-serif",
          "size": 15
         },
         "textposition": "top center"
        },
        {
         "line": {
          "color": "black",
          "width": 0.16846605916534602
         },
         "mode": "lines",
         "x": [
          -0.14349322707097778,
          0.3411143684533935,
          null
         ],
         "y": [
          0.318332637992017,
          -0.36272226615246356,
          null
         ],
         "type": "scatter",
         "textfont": {
          "color": "#000",
          "family": "sans-serif",
          "size": 15
         },
         "textposition": "top center"
        },
        {
         "line": {
          "color": "black",
          "width": 0.1389989434759641
         },
         "mode": "lines",
         "x": [
          -0.14349322707097778,
          -0.2620678005516446,
          null
         ],
         "y": [
          0.318332637992017,
          -0.6553653967632671,
          null
         ],
         "type": "scatter",
         "textfont": {
          "color": "#000",
          "family": "sans-serif",
          "size": 15
         },
         "textposition": "top center"
        },
        {
         "line": {
          "color": "black",
          "width": 0.5941296883254094
         },
         "mode": "lines",
         "x": [
          -0.14349322707097778,
          0.1870509695756255,
          null
         ],
         "y": [
          0.318332637992017,
          0.2850962102450899,
          null
         ],
         "type": "scatter",
         "textfont": {
          "color": "#000",
          "family": "sans-serif",
          "size": 15
         },
         "textposition": "top center"
        },
        {
         "line": {
          "color": "black",
          "width": 0.10036978341257263
         },
         "mode": "lines",
         "x": [
          -0.14349322707097778,
          -0.6660689491024661,
          null
         ],
         "y": [
          0.318332637992017,
          0.49120751431113974,
          null
         ],
         "type": "scatter",
         "textfont": {
          "color": "#000",
          "family": "sans-serif",
          "size": 15
         },
         "textposition": "top center"
        },
        {
         "line": {
          "color": "black",
          "width": 0.06413431061806656
         },
         "mode": "lines",
         "x": [
          -0.14349322707097778,
          0.8600606285048379,
          null
         ],
         "y": [
          0.318332637992017,
          0.229247729136116,
          null
         ],
         "type": "scatter",
         "textfont": {
          "color": "#000",
          "family": "sans-serif",
          "size": 15
         },
         "textposition": "top center"
        },
        {
         "line": {
          "color": "black",
          "width": 0.20189513998943476
         },
         "mode": "lines",
         "x": [
          -0.14349322707097778,
          0.10669220116081675,
          null
         ],
         "y": [
          0.318332637992017,
          -0.5940375399136042,
          null
         ],
         "type": "scatter",
         "textfont": {
          "color": "#000",
          "family": "sans-serif",
          "size": 15
         },
         "textposition": "top center"
        },
        {
         "line": {
          "color": "black",
          "width": 0.057696117274167985
         },
         "mode": "lines",
         "x": [
          -0.14349322707097778,
          -1.0,
          null
         ],
         "y": [
          0.318332637992017,
          0.07561785837524528,
          null
         ],
         "type": "scatter",
         "textfont": {
          "color": "#000",
          "family": "sans-serif",
          "size": 15
         },
         "textposition": "top center"
        },
        {
         "line": {
          "color": "black",
          "width": 0.05290874273639725
         },
         "mode": "lines",
         "x": [
          -0.14349322707097778,
          0.7959096741617092,
          null
         ],
         "y": [
          0.318332637992017,
          -0.6855439637144494,
          null
         ],
         "type": "scatter",
         "textfont": {
          "color": "#000",
          "family": "sans-serif",
          "size": 15
         },
         "textposition": "top center"
        },
        {
         "line": {
          "color": "black",
          "width": 0.13008452192287376
         },
         "mode": "lines",
         "x": [
          -0.14349322707097778,
          -0.6547368570731635,
          null
         ],
         "y": [
          0.318332637992017,
          -0.25553298733629803,
          null
         ],
         "type": "scatter",
         "textfont": {
          "color": "#000",
          "family": "sans-serif",
          "size": 15
         },
         "textposition": "top center"
        },
        {
         "line": {
          "color": "black",
          "width": 0.20907620179609085
         },
         "mode": "lines",
         "x": [
          -0.14349322707097778,
          -0.1836055864827983,
          null
         ],
         "y": [
          0.318332637992017,
          0.7530407983373302,
          null
         ],
         "type": "scatter",
         "textfont": {
          "color": "#000",
          "family": "sans-serif",
          "size": 15
         },
         "textposition": "top center"
        },
        {
         "line": {
          "color": "black",
          "width": 0.1880282620179609
         },
         "mode": "lines",
         "x": [
          0.40908284544047235,
          0.3411143684533935,
          null
         ],
         "y": [
          0.47587703963293004,
          -0.36272226615246356,
          null
         ],
         "type": "scatter",
         "textfont": {
          "color": "#000",
          "family": "sans-serif",
          "size": 15
         },
         "textposition": "top center"
        },
        {
         "line": {
          "color": "black",
          "width": 0.6023012414157423
         },
         "mode": "lines",
         "x": [
          0.40908284544047235,
          0.8600606285048379,
          null
         ],
         "y": [
          0.47587703963293004,
          0.229247729136116,
          null
         ],
         "type": "scatter",
         "textfont": {
          "color": "#000",
          "family": "sans-serif",
          "size": 15
         },
         "textposition": "top center"
        },
        {
         "line": {
          "color": "black",
          "width": 0.04300382989963022
         },
         "mode": "lines",
         "x": [
          0.40908284544047235,
          -0.2620678005516446,
          null
         ],
         "y": [
          0.47587703963293004,
          -0.6553653967632671,
          null
         ],
         "type": "scatter",
         "textfont": {
          "color": "#000",
          "family": "sans-serif",
          "size": 15
         },
         "textposition": "top center"
        },
        {
         "line": {
          "color": "black",
          "width": 0.10317617538298997
         },
         "mode": "lines",
         "x": [
          0.40908284544047235,
          0.10669220116081675,
          null
         ],
         "y": [
          0.47587703963293004,
          -0.5940375399136042,
          null
         ],
         "type": "scatter",
         "textfont": {
          "color": "#000",
          "family": "sans-serif",
          "size": 15
         },
         "textposition": "top center"
        },
        {
         "line": {
          "color": "black",
          "width": 0.009987453777073428
         },
         "mode": "lines",
         "x": [
          0.40908284544047235,
          -0.6660689491024661,
          null
         ],
         "y": [
          0.47587703963293004,
          0.49120751431113974,
          null
         ],
         "type": "scatter",
         "textfont": {
          "color": "#000",
          "family": "sans-serif",
          "size": 15
         },
         "textposition": "top center"
        },
        {
         "line": {
          "color": "black",
          "width": 0.41253961965134706
         },
         "mode": "lines",
         "x": [
          0.40908284544047235,
          0.1870509695756255,
          null
         ],
         "y": [
          0.47587703963293004,
          0.2850962102450899,
          null
         ],
         "type": "scatter",
         "textfont": {
          "color": "#000",
          "family": "sans-serif",
          "size": 15
         },
         "textposition": "top center"
        },
        {
         "line": {
          "color": "black",
          "width": 0.040775224511357636
         },
         "mode": "lines",
         "x": [
          0.40908284544047235,
          -0.6547368570731635,
          null
         ],
         "y": [
          0.47587703963293004,
          -0.25553298733629803,
          null
         ],
         "type": "scatter",
         "textfont": {
          "color": "#000",
          "family": "sans-serif",
          "size": 15
         },
         "textposition": "top center"
        },
        {
         "line": {
          "color": "black",
          "width": 0.021543185419968303
         },
         "mode": "lines",
         "x": [
          0.40908284544047235,
          -0.1836055864827983,
          null
         ],
         "y": [
          0.47587703963293004,
          0.7530407983373302,
          null
         ],
         "type": "scatter",
         "textfont": {
          "color": "#000",
          "family": "sans-serif",
          "size": 15
         },
         "textposition": "top center"
        },
        {
         "line": {
          "color": "black",
          "width": 0.010317617538298997
         },
         "mode": "lines",
         "x": [
          0.40908284544047235,
          -1.0,
          null
         ],
         "y": [
          0.47587703963293004,
          0.07561785837524528,
          null
         ],
         "type": "scatter",
         "textfont": {
          "color": "#000",
          "family": "sans-serif",
          "size": 15
         },
         "textposition": "top center"
        },
        {
         "line": {
          "color": "black",
          "width": 0.006025488642366614
         },
         "mode": "lines",
         "x": [
          0.40908284544047235,
          0.7959096741617092,
          null
         ],
         "y": [
          0.47587703963293004,
          -0.6855439637144494,
          null
         ],
         "type": "scatter",
         "textfont": {
          "color": "#000",
          "family": "sans-serif",
          "size": 15
         },
         "textposition": "top center"
        },
        {
         "line": {
          "color": "black",
          "width": 0.23408610670892763
         },
         "mode": "lines",
         "x": [
          0.1870509695756255,
          0.8600606285048379,
          null
         ],
         "y": [
          0.2850962102450899,
          0.229247729136116,
          null
         ],
         "type": "scatter",
         "textfont": {
          "color": "#000",
          "family": "sans-serif",
          "size": 15
         },
         "textposition": "top center"
        },
        {
         "line": {
          "color": "black",
          "width": 0.12521460644479662
         },
         "mode": "lines",
         "x": [
          0.1870509695756255,
          -0.6547368570731635,
          null
         ],
         "y": [
          0.2850962102450899,
          -0.25553298733629803,
          null
         ],
         "type": "scatter",
         "textfont": {
          "color": "#000",
          "family": "sans-serif",
          "size": 15
         },
         "textposition": "top center"
        },
        {
         "line": {
          "color": "black",
          "width": 0.3259541732699419
         },
         "mode": "lines",
         "x": [
          0.1870509695756255,
          0.3411143684533935,
          null
         ],
         "y": [
          0.2850962102450899,
          -0.36272226615246356,
          null
         ],
         "type": "scatter",
         "textfont": {
          "color": "#000",
          "family": "sans-serif",
          "size": 15
         },
         "textposition": "top center"
        },
        {
         "line": {
          "color": "black",
          "width": 0.19339342313787639
         },
         "mode": "lines",
         "x": [
          0.1870509695756255,
          -0.2620678005516446,
          null
         ],
         "y": [
          0.2850962102450899,
          -0.6553653967632671,
          null
         ],
         "type": "scatter",
         "textfont": {
          "color": "#000",
          "family": "sans-serif",
          "size": 15
         },
         "textposition": "top center"
        },
        {
         "line": {
          "color": "black",
          "width": 0.042591125198098254
         },
         "mode": "lines",
         "x": [
          0.1870509695756255,
          -0.6660689491024661,
          null
         ],
         "y": [
          0.2850962102450899,
          0.49120751431113974,
          null
         ],
         "type": "scatter",
         "textfont": {
          "color": "#000",
          "family": "sans-serif",
          "size": 15
         },
         "textposition": "top center"
        },
        {
         "line": {
          "color": "black",
          "width": 0.1583135235076598
         },
         "mode": "lines",
         "x": [
          0.1870509695756255,
          0.10669220116081675,
          null
         ],
         "y": [
          0.2850962102450899,
          -0.5940375399136042,
          null
         ],
         "type": "scatter",
         "textfont": {
          "color": "#000",
          "family": "sans-serif",
          "size": 15
         },
         "textposition": "top center"
        },
        {
         "line": {
          "color": "black",
          "width": 0.07767102482831484
         },
         "mode": "lines",
         "x": [
          0.1870509695756255,
          -0.1836055864827983,
          null
         ],
         "y": [
          0.2850962102450899,
          0.7530407983373302,
          null
         ],
         "type": "scatter",
         "textfont": {
          "color": "#000",
          "family": "sans-serif",
          "size": 15
         },
         "textposition": "top center"
        },
        {
         "line": {
          "color": "black",
          "width": 0.029054410987849975
         },
         "mode": "lines",
         "x": [
          0.1870509695756255,
          -1.0,
          null
         ],
         "y": [
          0.2850962102450899,
          0.07561785837524528,
          null
         ],
         "type": "scatter",
         "textfont": {
          "color": "#000",
          "family": "sans-serif",
          "size": 15
         },
         "textposition": "top center"
        },
        {
         "line": {
          "color": "black",
          "width": 0.05497226624405705
         },
         "mode": "lines",
         "x": [
          0.1870509695756255,
          0.7959096741617092,
          null
         ],
         "y": [
          0.2850962102450899,
          -0.6855439637144494,
          null
         ],
         "type": "scatter",
         "textfont": {
          "color": "#000",
          "family": "sans-serif",
          "size": 15
         },
         "textposition": "top center"
        },
        {
         "line": {
          "color": "black",
          "width": 0.24778790279978868
         },
         "mode": "lines",
         "x": [
          -0.6547368570731635,
          -0.6660689491024661,
          null
         ],
         "y": [
          -0.25553298733629803,
          0.49120751431113974,
          null
         ],
         "type": "scatter",
         "textfont": {
          "color": "#000",
          "family": "sans-serif",
          "size": 15
         },
         "textposition": "top center"
        },
        {
         "line": {
          "color": "black",
          "width": 0.04300382989963022
         },
         "mode": "lines",
         "x": [
          -0.6547368570731635,
          -0.1836055864827983,
          null
         ],
         "y": [
          -0.25553298733629803,
          0.7530407983373302,
          null
         ],
         "type": "scatter",
         "textfont": {
          "color": "#000",
          "family": "sans-serif",
          "size": 15
         },
         "textposition": "top center"
        },
        {
         "line": {
          "color": "black",
          "width": 0.06025488642366614
         },
         "mode": "lines",
         "x": [
          -0.6547368570731635,
          0.10669220116081675,
          null
         ],
         "y": [
          -0.25553298733629803,
          -0.5940375399136042,
          null
         ],
         "type": "scatter",
         "textfont": {
          "color": "#000",
          "family": "sans-serif",
          "size": 15
         },
         "textposition": "top center"
        },
        {
         "line": {
          "color": "black",
          "width": 0.0555500528262018
         },
         "mode": "lines",
         "x": [
          -0.6547368570731635,
          0.3411143684533935,
          null
         ],
         "y": [
          -0.25553298733629803,
          -0.36272226615246356,
          null
         ],
         "type": "scatter",
         "textfont": {
          "color": "#000",
          "family": "sans-serif",
          "size": 15
         },
         "textposition": "top center"
        },
        {
         "line": {
          "color": "black",
          "width": 0.21609218172213418
         },
         "mode": "lines",
         "x": [
          -0.6547368570731635,
          -1.0,
          null
         ],
         "y": [
          -0.25553298733629803,
          0.07561785837524528,
          null
         ],
         "type": "scatter",
         "textfont": {
          "color": "#000",
          "family": "sans-serif",
          "size": 15
         },
         "textposition": "top center"
        },
        {
         "line": {
          "color": "black",
          "width": 0.02608293713681986
         },
         "mode": "lines",
         "x": [
          -0.6547368570731635,
          -0.2620678005516446,
          null
         ],
         "y": [
          -0.25553298733629803,
          -0.6553653967632671,
          null
         ],
         "type": "scatter",
         "textfont": {
          "color": "#000",
          "family": "sans-serif",
          "size": 15
         },
         "textposition": "top center"
        },
        {
         "line": {
          "color": "black",
          "width": 0.011390649762282093
         },
         "mode": "lines",
         "x": [
          -0.6547368570731635,
          0.8600606285048379,
          null
         ],
         "y": [
          -0.25553298733629803,
          0.229247729136116,
          null
         ],
         "type": "scatter",
         "textfont": {
          "color": "#000",
          "family": "sans-serif",
          "size": 15
         },
         "textposition": "top center"
        },
        {
         "line": {
          "color": "black",
          "width": 0.016590729001584786
         },
         "mode": "lines",
         "x": [
          -0.6547368570731635,
          0.7959096741617092,
          null
         ],
         "y": [
          -0.25553298733629803,
          -0.6855439637144494,
          null
         ],
         "type": "scatter",
         "textfont": {
          "color": "#000",
          "family": "sans-serif",
          "size": 15
         },
         "textposition": "top center"
        },
        {
         "line": {
          "color": "black",
          "width": 0.025009904912836767
         },
         "mode": "lines",
         "x": [
          -0.6660689491024661,
          0.3411143684533935,
          null
         ],
         "y": [
          0.49120751431113974,
          -0.36272226615246356,
          null
         ],
         "type": "scatter",
         "textfont": {
          "color": "#000",
          "family": "sans-serif",
          "size": 15
         },
         "textposition": "top center"
        },
        {
         "line": {
          "color": "black",
          "width": 0.006025488642366614
         },
         "mode": "lines",
         "x": [
          -0.6660689491024661,
          -0.2620678005516446,
          null
         ],
         "y": [
          0.49120751431113974,
          -0.6553653967632671,
          null
         ],
         "type": "scatter",
         "textfont": {
          "color": "#000",
          "family": "sans-serif",
          "size": 15
         },
         "textposition": "top center"
        },
        {
         "line": {
          "color": "black",
          "width": 0.019809825673534072
         },
         "mode": "lines",
         "x": [
          -0.6660689491024661,
          0.10669220116081675,
          null
         ],
         "y": [
          0.49120751431113974,
          -0.5940375399136042,
          null
         ],
         "type": "scatter",
         "textfont": {
          "color": "#000",
          "family": "sans-serif",
          "size": 15
         },
         "textposition": "top center"
        },
        {
         "line": {
          "color": "black",
          "width": 0.04605784469096672
         },
         "mode": "lines",
         "x": [
          -0.6660689491024661,
          -0.1836055864827983,
          null
         ],
         "y": [
          0.49120751431113974,
          0.7530407983373302,
          null
         ],
         "type": "scatter",
         "textfont": {
          "color": "#000",
          "family": "sans-serif",
          "size": 15
         },
         "textposition": "top center"
        },
        {
         "line": {
          "color": "black",
          "width": 0.07824881141045958
         },
         "mode": "lines",
         "x": [
          -0.6660689491024661,
          -1.0,
          null
         ],
         "y": [
          0.49120751431113974,
          0.07561785837524528,
          null
         ],
         "type": "scatter",
         "textfont": {
          "color": "#000",
          "family": "sans-serif",
          "size": 15
         },
         "textposition": "top center"
        },
        {
         "line": {
          "color": "black",
          "width": 0.013619255150554675
         },
         "mode": "lines",
         "x": [
          -0.6660689491024661,
          0.7959096741617092,
          null
         ],
         "y": [
          0.49120751431113974,
          -0.6855439637144494,
          null
         ],
         "type": "scatter",
         "textfont": {
          "color": "#000",
          "family": "sans-serif",
          "size": 15
         },
         "textposition": "top center"
        },
        {
         "line": {
          "color": "black",
          "width": 0.00957474907554147
         },
         "mode": "lines",
         "x": [
          -0.6660689491024661,
          0.8600606285048379,
          null
         ],
         "y": [
          0.49120751431113974,
          0.229247729136116,
          null
         ],
         "type": "scatter",
         "textfont": {
          "color": "#000",
          "family": "sans-serif",
          "size": 15
         },
         "textposition": "top center"
        },
        {
         "line": {
          "color": "black",
          "width": 0.22459389857369255
         },
         "mode": "lines",
         "x": [
          0.3411143684533935,
          0.10669220116081675,
          null
         ],
         "y": [
          -0.36272226615246356,
          -0.5940375399136042,
          null
         ],
         "type": "scatter",
         "textfont": {
          "color": "#000",
          "family": "sans-serif",
          "size": 15
         },
         "textposition": "top center"
        },
        {
         "line": {
          "color": "black",
          "width": 0.1531134442683571
         },
         "mode": "lines",
         "x": [
          0.3411143684533935,
          -0.2620678005516446,
          null
         ],
         "y": [
          -0.36272226615246356,
          -0.6553653967632671,
          null
         ],
         "type": "scatter",
         "textfont": {
          "color": "#000",
          "family": "sans-serif",
          "size": 15
         },
         "textposition": "top center"
        },
        {
         "line": {
          "color": "black",
          "width": 0.07668053354463814
         },
         "mode": "lines",
         "x": [
          0.3411143684533935,
          -0.1836055864827983,
          null
         ],
         "y": [
          -0.36272226615246356,
          0.7530407983373302,
          null
         ],
         "type": "scatter",
         "textfont": {
          "color": "#000",
          "family": "sans-serif",
          "size": 15
         },
         "textposition": "top center"
        },
        {
         "line": {
          "color": "black",
          "width": 0.05356907025884839
         },
         "mode": "lines",
         "x": [
          0.3411143684533935,
          0.7959096741617092,
          null
         ],
         "y": [
          -0.36272226615246356,
          -0.6855439637144494,
          null
         ],
         "type": "scatter",
         "textfont": {
          "color": "#000",
          "family": "sans-serif",
          "size": 15
         },
         "textposition": "top center"
        },
        {
         "line": {
          "color": "black",
          "width": 0.13817353407290014
         },
         "mode": "lines",
         "x": [
          0.3411143684533935,
          0.8600606285048379,
          null
         ],
         "y": [
          -0.36272226615246356,
          0.229247729136116,
          null
         ],
         "type": "scatter",
         "textfont": {
          "color": "#000",
          "family": "sans-serif",
          "size": 15
         },
         "textposition": "top center"
        },
        {
         "line": {
          "color": "black",
          "width": 0.03466719492868463
         },
         "mode": "lines",
         "x": [
          0.3411143684533935,
          -1.0,
          null
         ],
         "y": [
          -0.36272226615246356,
          0.07561785837524528,
          null
         ],
         "type": "scatter",
         "textfont": {
          "color": "#000",
          "family": "sans-serif",
          "size": 15
         },
         "textposition": "top center"
        },
        {
         "line": {
          "color": "black",
          "width": 0.21559693608029581
         },
         "mode": "lines",
         "x": [
          -0.1836055864827983,
          -1.0,
          null
         ],
         "y": [
          0.7530407983373302,
          0.07561785837524528,
          null
         ],
         "type": "scatter",
         "textfont": {
          "color": "#000",
          "family": "sans-serif",
          "size": 15
         },
         "textposition": "top center"
        },
        {
         "line": {
          "color": "black",
          "width": 0.0677661119915478
         },
         "mode": "lines",
         "x": [
          -0.1836055864827983,
          0.7959096741617092,
          null
         ],
         "y": [
          0.7530407983373302,
          -0.6855439637144494,
          null
         ],
         "type": "scatter",
         "textfont": {
          "color": "#000",
          "family": "sans-serif",
          "size": 15
         },
         "textposition": "top center"
        },
        {
         "line": {
          "color": "black",
          "width": 0.02806391970417327
         },
         "mode": "lines",
         "x": [
          -0.1836055864827983,
          -0.2620678005516446,
          null
         ],
         "y": [
          0.7530407983373302,
          -0.6553653967632671,
          null
         ],
         "type": "scatter",
         "textfont": {
          "color": "#000",
          "family": "sans-serif",
          "size": 15
         },
         "textposition": "top center"
        },
        {
         "line": {
          "color": "black",
          "width": 0.02847662440570523
         },
         "mode": "lines",
         "x": [
          -0.1836055864827983,
          0.8600606285048379,
          null
         ],
         "y": [
          0.7530407983373302,
          0.229247729136116,
          null
         ],
         "type": "scatter",
         "textfont": {
          "color": "#000",
          "family": "sans-serif",
          "size": 15
         },
         "textposition": "top center"
        },
        {
         "line": {
          "color": "black",
          "width": 0.06875660327522451
         },
         "mode": "lines",
         "x": [
          -0.1836055864827983,
          0.10669220116081675,
          null
         ],
         "y": [
          0.7530407983373302,
          -0.5940375399136042,
          null
         ],
         "type": "scatter",
         "textfont": {
          "color": "#000",
          "family": "sans-serif",
          "size": 15
         },
         "textposition": "top center"
        },
        {
         "line": {
          "color": "black",
          "width": 0.03722596407818278
         },
         "mode": "lines",
         "x": [
          0.8600606285048379,
          -0.2620678005516446,
          null
         ],
         "y": [
          0.229247729136116,
          -0.6553653967632671,
          null
         ],
         "type": "scatter",
         "textfont": {
          "color": "#000",
          "family": "sans-serif",
          "size": 15
         },
         "textposition": "top center"
        },
        {
         "line": {
          "color": "black",
          "width": 0.019974907554146857
         },
         "mode": "lines",
         "x": [
          0.8600606285048379,
          0.7959096741617092,
          null
         ],
         "y": [
          0.229247729136116,
          -0.6855439637144494,
          null
         ],
         "type": "scatter",
         "textfont": {
          "color": "#000",
          "family": "sans-serif",
          "size": 15
         },
         "textposition": "top center"
        },
        {
         "line": {
          "color": "black",
          "width": 0.06636291600633915
         },
         "mode": "lines",
         "x": [
          0.8600606285048379,
          0.10669220116081675,
          null
         ],
         "y": [
          0.229247729136116,
          -0.5940375399136042,
          null
         ],
         "type": "scatter",
         "textfont": {
          "color": "#000",
          "family": "sans-serif",
          "size": 15
         },
         "textposition": "top center"
        },
        {
         "line": {
          "color": "black",
          "width": 0.00874933967247755
         },
         "mode": "lines",
         "x": [
          0.8600606285048379,
          -1.0,
          null
         ],
         "y": [
          0.229247729136116,
          0.07561785837524528,
          null
         ],
         "type": "scatter",
         "textfont": {
          "color": "#000",
          "family": "sans-serif",
          "size": 15
         },
         "textposition": "top center"
        },
        {
         "line": {
          "color": "black",
          "width": 0.12397649234020074
         },
         "mode": "lines",
         "x": [
          0.10669220116081675,
          -0.2620678005516446,
          null
         ],
         "y": [
          -0.5940375399136042,
          -0.6553653967632671,
          null
         ],
         "type": "scatter",
         "textfont": {
          "color": "#000",
          "family": "sans-serif",
          "size": 15
         },
         "textposition": "top center"
        },
        {
         "line": {
          "color": "black",
          "width": 0.021213021658742736
         },
         "mode": "lines",
         "x": [
          0.10669220116081675,
          -1.0,
          null
         ],
         "y": [
          -0.5940375399136042,
          0.07561785837524528,
          null
         ],
         "type": "scatter",
         "textfont": {
          "color": "#000",
          "family": "sans-serif",
          "size": 15
         },
         "textposition": "top center"
        },
        {
         "line": {
          "color": "black",
          "width": 0.020717776016904384
         },
         "mode": "lines",
         "x": [
          0.10669220116081675,
          0.7959096741617092,
          null
         ],
         "y": [
          -0.5940375399136042,
          -0.6855439637144494,
          null
         ],
         "type": "scatter",
         "textfont": {
          "color": "#000",
          "family": "sans-serif",
          "size": 15
         },
         "textposition": "top center"
        },
        {
         "line": {
          "color": "black",
          "width": 0.023524167987321713
         },
         "mode": "lines",
         "x": [
          -1.0,
          0.7959096741617092,
          null
         ],
         "y": [
          0.07561785837524528,
          -0.6855439637144494,
          null
         ],
         "type": "scatter",
         "textfont": {
          "color": "#000",
          "family": "sans-serif",
          "size": 15
         },
         "textposition": "top center"
        },
        {
         "line": {
          "color": "black",
          "width": 0.020057448494453248
         },
         "mode": "lines",
         "x": [
          -1.0,
          -0.2620678005516446,
          null
         ],
         "y": [
          0.07561785837524528,
          -0.6553653967632671,
          null
         ],
         "type": "scatter",
         "textfont": {
          "color": "#000",
          "family": "sans-serif",
          "size": 15
         },
         "textposition": "top center"
        },
        {
         "line": {
          "color": "black",
          "width": 0.01172081352350766
         },
         "mode": "lines",
         "x": [
          -0.2620678005516446,
          0.7959096741617092,
          null
         ],
         "y": [
          -0.6553653967632671,
          -0.6855439637144494,
          null
         ],
         "type": "scatter",
         "textfont": {
          "color": "#000",
          "family": "sans-serif",
          "size": 15
         },
         "textposition": "top center"
        },
        {
         "hovertext": [
          "100.0",
          "99.87516264602395",
          "30.730227028002062",
          "25.105726789876186",
          "23.941714704300455",
          "21.740177719996964",
          "21.481813892252713",
          "21.139858532330674",
          "18.65037071744632",
          "18.396076477452834",
          "16.655062842134093",
          "12.178626305155287",
          "10.083118580087836",
          "9.67978943733",
          "8.028856676818638",
          "7.384431957042752",
          "7.020698803211235",
          "6.728898362595869",
          "6.591082323360643",
          "6.226579247522226"
         ],
         "marker": {
          "color": [
           909183,
           908048,
           279394,
           228257,
           217674,
           197658,
           195309,
           192200,
           169566,
           167254,
           151425,
           110726,
           91674,
           88007,
           72997,
           67138,
           63831,
           61178,
           59925,
           56611
          ],
          "colorbar": {
           "thickness": 15,
           "title": {
            "side": "right",
            "text": "Number of publications"
           },
           "xanchor": "left"
          },
          "colorscale": [
           [
            0.0,
            "rgb(255,255,217)"
           ],
           [
            0.125,
            "rgb(237,248,177)"
           ],
           [
            0.25,
            "rgb(199,233,180)"
           ],
           [
            0.375,
            "rgb(127,205,187)"
           ],
           [
            0.5,
            "rgb(65,182,196)"
           ],
           [
            0.625,
            "rgb(29,145,192)"
           ],
           [
            0.75,
            "rgb(34,94,168)"
           ],
           [
            0.875,
            "rgb(37,52,148)"
           ],
           [
            1.0,
            "rgb(8,29,88)"
           ]
          ],
          "line": {
           "width": 2
          },
          "reversescale": true,
          "showscale": true,
          "size": [
           100.0,
           99.87516264602395,
           30.730227028002062,
           25.105726789876186,
           23.941714704300455,
           21.740177719996964,
           21.481813892252713,
           21.139858532330674,
           18.65037071744632,
           18.396076477452834,
           16.655062842134093,
           12.178626305155287,
           10.083118580087836,
           9.67978943733,
           8.028856676818638,
           7.384431957042752,
           7.020698803211235,
           6.728898362595869,
           6.591082323360643,
           6.226579247522226
          ]
         },
         "mode": "markers+text",
         "text": [
          "United States",
          "China",
          "United Kingdom",
          "Italy",
          "Australia",
          "India",
          "Germany",
          "Spain",
          "Canada",
          "Brazil",
          "France",
          "Japan",
          "South Korea",
          "Netherlands",
          "Iran",
          "Portugal",
          "Sweden",
          "Malaysia",
          "South Africa",
          "Turkey"
         ],
         "textposition": "top center",
         "x": [
          -0.04049963222039865,
          -0.21762344645144172,
          0.038571066760352476,
          0.4235642368429511,
          -0.22973436424070404,
          -0.5288327016885052,
          0.2313756331603892,
          0.5332409408215548,
          -0.14349322707097778,
          0.40908284544047235,
          0.1870509695756255,
          -0.6547368570731635,
          -0.6660689491024661,
          0.3411143684533935,
          -0.1836055864827983,
          0.8600606285048379,
          0.10669220116081675,
          -1.0,
          -0.2620678005516446,
          0.7959096741617092
         ],
         "y": [
          0.07579040760147024,
          -0.005098423290695858,
          -0.11498599279636586,
          0.16275329130810923,
          -0.20127845970980535,
          0.13440336808060474,
          -0.09616699308363867,
          -0.03063483225945785,
          0.318332637992017,
          0.47587703963293004,
          0.2850962102450899,
          -0.25553298733629803,
          0.49120751431113974,
          -0.36272226615246356,
          0.7530407983373302,
          0.229247729136116,
          -0.5940375399136042,
          0.07561785837524528,
          -0.6553653967632671,
          -0.6855439637144494
         ],
         "type": "scatter",
         "textfont": {
          "color": "#000",
          "family": "sans-serif",
          "size": 15
         }
        }
       ],
       "layout": {
        "hovermode": "closest",
        "margin": {
         "b": 20,
         "l": 5,
         "r": 5,
         "t": 40
        },
        "showlegend": false,
        "title": {
         "font": {
          "size": 16
         },
         "text": "<br>Network graph showing actors collaborations"
        },
        "xaxis": {
         "showgrid": false,
         "showticklabels": false,
         "zeroline": false
        },
        "yaxis": {
         "showgrid": false,
         "showticklabels": false,
         "zeroline": false
        },
        "template": {
         "data": {
          "barpolar": [
           {
            "marker": {
             "line": {
              "color": "rgb(237,237,237)",
              "width": 0.5
             },
             "pattern": {
              "fillmode": "overlay",
              "size": 10,
              "solidity": 0.2
             }
            },
            "type": "barpolar"
           }
          ],
          "bar": [
           {
            "error_x": {
             "color": "rgb(51,51,51)"
            },
            "error_y": {
             "color": "rgb(51,51,51)"
            },
            "marker": {
             "line": {
              "color": "rgb(237,237,237)",
              "width": 0.5
             },
             "pattern": {
              "fillmode": "overlay",
              "size": 10,
              "solidity": 0.2
             }
            },
            "type": "bar"
           }
          ],
          "carpet": [
           {
            "aaxis": {
             "endlinecolor": "rgb(51,51,51)",
             "gridcolor": "white",
             "linecolor": "white",
             "minorgridcolor": "white",
             "startlinecolor": "rgb(51,51,51)"
            },
            "baxis": {
             "endlinecolor": "rgb(51,51,51)",
             "gridcolor": "white",
             "linecolor": "white",
             "minorgridcolor": "white",
             "startlinecolor": "rgb(51,51,51)"
            },
            "type": "carpet"
           }
          ],
          "choropleth": [
           {
            "colorbar": {
             "outlinewidth": 0,
             "tickcolor": "rgb(237,237,237)",
             "ticklen": 6,
             "ticks": "inside"
            },
            "type": "choropleth"
           }
          ],
          "contourcarpet": [
           {
            "colorbar": {
             "outlinewidth": 0,
             "tickcolor": "rgb(237,237,237)",
             "ticklen": 6,
             "ticks": "inside"
            },
            "type": "contourcarpet"
           }
          ],
          "contour": [
           {
            "colorbar": {
             "outlinewidth": 0,
             "tickcolor": "rgb(237,237,237)",
             "ticklen": 6,
             "ticks": "inside"
            },
            "colorscale": [
             [
              0,
              "rgb(20,44,66)"
             ],
             [
              1,
              "rgb(90,179,244)"
             ]
            ],
            "type": "contour"
           }
          ],
          "heatmapgl": [
           {
            "colorbar": {
             "outlinewidth": 0,
             "tickcolor": "rgb(237,237,237)",
             "ticklen": 6,
             "ticks": "inside"
            },
            "colorscale": [
             [
              0,
              "rgb(20,44,66)"
             ],
             [
              1,
              "rgb(90,179,244)"
             ]
            ],
            "type": "heatmapgl"
           }
          ],
          "heatmap": [
           {
            "colorbar": {
             "outlinewidth": 0,
             "tickcolor": "rgb(237,237,237)",
             "ticklen": 6,
             "ticks": "inside"
            },
            "colorscale": [
             [
              0,
              "rgb(20,44,66)"
             ],
             [
              1,
              "rgb(90,179,244)"
             ]
            ],
            "type": "heatmap"
           }
          ],
          "histogram2dcontour": [
           {
            "colorbar": {
             "outlinewidth": 0,
             "tickcolor": "rgb(237,237,237)",
             "ticklen": 6,
             "ticks": "inside"
            },
            "colorscale": [
             [
              0,
              "rgb(20,44,66)"
             ],
             [
              1,
              "rgb(90,179,244)"
             ]
            ],
            "type": "histogram2dcontour"
           }
          ],
          "histogram2d": [
           {
            "colorbar": {
             "outlinewidth": 0,
             "tickcolor": "rgb(237,237,237)",
             "ticklen": 6,
             "ticks": "inside"
            },
            "colorscale": [
             [
              0,
              "rgb(20,44,66)"
             ],
             [
              1,
              "rgb(90,179,244)"
             ]
            ],
            "type": "histogram2d"
           }
          ],
          "histogram": [
           {
            "marker": {
             "pattern": {
              "fillmode": "overlay",
              "size": 10,
              "solidity": 0.2
             }
            },
            "type": "histogram"
           }
          ],
          "mesh3d": [
           {
            "colorbar": {
             "outlinewidth": 0,
             "tickcolor": "rgb(237,237,237)",
             "ticklen": 6,
             "ticks": "inside"
            },
            "type": "mesh3d"
           }
          ],
          "parcoords": [
           {
            "line": {
             "colorbar": {
              "outlinewidth": 0,
              "tickcolor": "rgb(237,237,237)",
              "ticklen": 6,
              "ticks": "inside"
             }
            },
            "type": "parcoords"
           }
          ],
          "pie": [
           {
            "automargin": true,
            "type": "pie"
           }
          ],
          "scatter3d": [
           {
            "line": {
             "colorbar": {
              "outlinewidth": 0,
              "tickcolor": "rgb(237,237,237)",
              "ticklen": 6,
              "ticks": "inside"
             }
            },
            "marker": {
             "colorbar": {
              "outlinewidth": 0,
              "tickcolor": "rgb(237,237,237)",
              "ticklen": 6,
              "ticks": "inside"
             }
            },
            "type": "scatter3d"
           }
          ],
          "scattercarpet": [
           {
            "marker": {
             "colorbar": {
              "outlinewidth": 0,
              "tickcolor": "rgb(237,237,237)",
              "ticklen": 6,
              "ticks": "inside"
             }
            },
            "type": "scattercarpet"
           }
          ],
          "scattergeo": [
           {
            "marker": {
             "colorbar": {
              "outlinewidth": 0,
              "tickcolor": "rgb(237,237,237)",
              "ticklen": 6,
              "ticks": "inside"
             }
            },
            "type": "scattergeo"
           }
          ],
          "scattergl": [
           {
            "marker": {
             "colorbar": {
              "outlinewidth": 0,
              "tickcolor": "rgb(237,237,237)",
              "ticklen": 6,
              "ticks": "inside"
             }
            },
            "type": "scattergl"
           }
          ],
          "scattermapbox": [
           {
            "marker": {
             "colorbar": {
              "outlinewidth": 0,
              "tickcolor": "rgb(237,237,237)",
              "ticklen": 6,
              "ticks": "inside"
             }
            },
            "type": "scattermapbox"
           }
          ],
          "scatterpolargl": [
           {
            "marker": {
             "colorbar": {
              "outlinewidth": 0,
              "tickcolor": "rgb(237,237,237)",
              "ticklen": 6,
              "ticks": "inside"
             }
            },
            "type": "scatterpolargl"
           }
          ],
          "scatterpolar": [
           {
            "marker": {
             "colorbar": {
              "outlinewidth": 0,
              "tickcolor": "rgb(237,237,237)",
              "ticklen": 6,
              "ticks": "inside"
             }
            },
            "type": "scatterpolar"
           }
          ],
          "scatter": [
           {
            "fillpattern": {
             "fillmode": "overlay",
             "size": 10,
             "solidity": 0.2
            },
            "type": "scatter"
           }
          ],
          "scatterternary": [
           {
            "marker": {
             "colorbar": {
              "outlinewidth": 0,
              "tickcolor": "rgb(237,237,237)",
              "ticklen": 6,
              "ticks": "inside"
             }
            },
            "type": "scatterternary"
           }
          ],
          "surface": [
           {
            "colorbar": {
             "outlinewidth": 0,
             "tickcolor": "rgb(237,237,237)",
             "ticklen": 6,
             "ticks": "inside"
            },
            "colorscale": [
             [
              0,
              "rgb(20,44,66)"
             ],
             [
              1,
              "rgb(90,179,244)"
             ]
            ],
            "type": "surface"
           }
          ],
          "table": [
           {
            "cells": {
             "fill": {
              "color": "rgb(237,237,237)"
             },
             "line": {
              "color": "white"
             }
            },
            "header": {
             "fill": {
              "color": "rgb(217,217,217)"
             },
             "line": {
              "color": "white"
             }
            },
            "type": "table"
           }
          ]
         },
         "layout": {
          "annotationdefaults": {
           "arrowhead": 0,
           "arrowwidth": 1
          },
          "autotypenumbers": "strict",
          "coloraxis": {
           "colorbar": {
            "outlinewidth": 0,
            "tickcolor": "rgb(237,237,237)",
            "ticklen": 6,
            "ticks": "inside"
           }
          },
          "colorscale": {
           "sequential": [
            [
             0,
             "rgb(20,44,66)"
            ],
            [
             1,
             "rgb(90,179,244)"
            ]
           ],
           "sequentialminus": [
            [
             0,
             "rgb(20,44,66)"
            ],
            [
             1,
             "rgb(90,179,244)"
            ]
           ]
          },
          "colorway": [
           "#F8766D",
           "#A3A500",
           "#00BF7D",
           "#00B0F6",
           "#E76BF3"
          ],
          "font": {
           "color": "rgb(51,51,51)"
          },
          "geo": {
           "bgcolor": "white",
           "lakecolor": "white",
           "landcolor": "rgb(237,237,237)",
           "showlakes": true,
           "showland": true,
           "subunitcolor": "white"
          },
          "hoverlabel": {
           "align": "left"
          },
          "hovermode": "closest",
          "paper_bgcolor": "white",
          "plot_bgcolor": "rgb(237,237,237)",
          "polar": {
           "angularaxis": {
            "gridcolor": "white",
            "linecolor": "white",
            "showgrid": true,
            "tickcolor": "rgb(51,51,51)",
            "ticks": "outside"
           },
           "bgcolor": "rgb(237,237,237)",
           "radialaxis": {
            "gridcolor": "white",
            "linecolor": "white",
            "showgrid": true,
            "tickcolor": "rgb(51,51,51)",
            "ticks": "outside"
           }
          },
          "scene": {
           "xaxis": {
            "backgroundcolor": "rgb(237,237,237)",
            "gridcolor": "white",
            "gridwidth": 2,
            "linecolor": "white",
            "showbackground": true,
            "showgrid": true,
            "tickcolor": "rgb(51,51,51)",
            "ticks": "outside",
            "zerolinecolor": "white"
           },
           "yaxis": {
            "backgroundcolor": "rgb(237,237,237)",
            "gridcolor": "white",
            "gridwidth": 2,
            "linecolor": "white",
            "showbackground": true,
            "showgrid": true,
            "tickcolor": "rgb(51,51,51)",
            "ticks": "outside",
            "zerolinecolor": "white"
           },
           "zaxis": {
            "backgroundcolor": "rgb(237,237,237)",
            "gridcolor": "white",
            "gridwidth": 2,
            "linecolor": "white",
            "showbackground": true,
            "showgrid": true,
            "tickcolor": "rgb(51,51,51)",
            "ticks": "outside",
            "zerolinecolor": "white"
           }
          },
          "shapedefaults": {
           "fillcolor": "black",
           "line": {
            "width": 0
           },
           "opacity": 0.3
          },
          "ternary": {
           "aaxis": {
            "gridcolor": "white",
            "linecolor": "white",
            "showgrid": true,
            "tickcolor": "rgb(51,51,51)",
            "ticks": "outside"
           },
           "baxis": {
            "gridcolor": "white",
            "linecolor": "white",
            "showgrid": true,
            "tickcolor": "rgb(51,51,51)",
            "ticks": "outside"
           },
           "bgcolor": "rgb(237,237,237)",
           "caxis": {
            "gridcolor": "white",
            "linecolor": "white",
            "showgrid": true,
            "tickcolor": "rgb(51,51,51)",
            "ticks": "outside"
           }
          },
          "xaxis": {
           "automargin": true,
           "gridcolor": "white",
           "linecolor": "white",
           "showgrid": true,
           "tickcolor": "rgb(51,51,51)",
           "ticks": "outside",
           "title": {
            "standoff": 15
           },
           "zerolinecolor": "white"
          },
          "yaxis": {
           "automargin": true,
           "gridcolor": "white",
           "linecolor": "white",
           "showgrid": true,
           "tickcolor": "rgb(51,51,51)",
           "ticks": "outside",
           "title": {
            "standoff": 15
           },
           "zerolinecolor": "white"
          }
         }
        }
       },
       "config": {
        "plotlyServerURL": "https://plot.ly"
       }
      },
      "text/html": "<div>                            <div id=\"bca3f4bd-b418-437b-866c-4be3e5f4c3ad\" class=\"plotly-graph-div\" style=\"height:525px; width:100%;\"></div>            <script type=\"text/javascript\">                require([\"plotly\"], function(Plotly) {                    window.PLOTLYENV=window.PLOTLYENV || {};                                    if (document.getElementById(\"bca3f4bd-b418-437b-866c-4be3e5f4c3ad\")) {                    Plotly.newPlot(                        \"bca3f4bd-b418-437b-866c-4be3e5f4c3ad\",                        [{\"line\":{\"color\":\"black\",\"width\":3.2081187268885367},\"mode\":\"lines\",\"x\":[-0.04049963222039865,0.038571066760352476,null],\"y\":[0.07579040760147024,-0.11498599279636586,null],\"type\":\"scatter\",\"textfont\":{\"color\":\"#000\",\"family\":\"sans-serif\",\"size\":15},\"textposition\":\"top center\"},{\"line\":{\"color\":\"black\",\"width\":3.372375198098257},\"mode\":\"lines\",\"x\":[-0.04049963222039865,-0.14349322707097778,null],\"y\":[0.07579040760147024,0.318332637992017,null],\"type\":\"scatter\",\"textfont\":{\"color\":\"#000\",\"family\":\"sans-serif\",\"size\":15},\"textposition\":\"top center\"},{\"line\":{\"color\":\"black\",\"width\":1.2712130216587427},\"mode\":\"lines\",\"x\":[-0.04049963222039865,-0.5288327016885052,null],\"y\":[0.07579040760147024,0.13440336808060474,null],\"type\":\"scatter\",\"textfont\":{\"color\":\"#000\",\"family\":\"sans-serif\",\"size\":15},\"textposition\":\"top center\"},{\"line\":{\"color\":\"black\",\"width\":0.8613147120972002},\"mode\":\"lines\",\"x\":[-0.04049963222039865,0.3411143684533935,null],\"y\":[0.07579040760147024,-0.36272226615246356,null],\"type\":\"scatter\",\"textfont\":{\"color\":\"#000\",\"family\":\"sans-serif\",\"size\":15},\"textposition\":\"top center\"},{\"line\":{\"color\":\"black\",\"width\":0.7843040147913365},\"mode\":\"lines\",\"x\":[-0.04049963222039865,-0.2620678005516446,null],\"y\":[0.07579040760147024,-0.6553653967632671,null],\"type\":\"scatter\",\"textfont\":{\"color\":\"#000\",\"family\":\"sans-serif\",\"size\":15},\"textposition\":\"top center\"},{\"line\":{\"color\":\"black\",\"width\":1.1361760433174855},\"mode\":\"lines\",\"x\":[-0.04049963222039865,0.5332409408215548,null],\"y\":[0.07579040760147024,-0.03063483225945785,null],\"type\":\"scatter\",\"textfont\":{\"color\":\"#000\",\"family\":\"sans-serif\",\"size\":15},\"textposition\":\"top center\"},{\"line\":{\"color\":\"black\",\"width\":1.7317089276281035},\"mode\":\"lines\",\"x\":[-0.04049963222039865,0.2313756331603892,null],\"y\":[0.07579040760147024,-0.09616699308363867,null],\"type\":\"scatter\",\"textfont\":{\"color\":\"#000\",\"family\":\"sans-serif\",\"size\":15},\"textposition\":\"top center\"},{\"line\":{\"color\":\"black\",\"width\":1.2273012414157423},\"mode\":\"lines\",\"x\":[-0.04049963222039865,0.1870509695756255,null],\"y\":[0.07579040760147024,0.2850962102450899,null],\"type\":\"scatter\",\"textfont\":{\"color\":\"#000\",\"family\":\"sans-serif\",\"size\":15},\"textposition\":\"top center\"},{\"line\":{\"color\":\"black\",\"width\":0.26569928684627575},\"mode\":\"lines\",\"x\":[-0.04049963222039865,0.7959096741617092,null],\"y\":[0.07579040760147024,-0.6855439637144494,null],\"type\":\"scatter\",\"textfont\":{\"color\":\"#000\",\"family\":\"sans-serif\",\"size\":15},\"textposition\":\"top center\"},{\"line\":{\"color\":\"black\",\"width\":0.7438589540412044},\"mode\":\"lines\",\"x\":[-0.04049963222039865,-0.6547368570731635,null],\"y\":[0.07579040760147024,-0.25553298733629803,null],\"type\":\"scatter\",\"textfont\":{\"color\":\"#000\",\"family\":\"sans-serif\",\"size\":15},\"textposition\":\"top center\"},{\"line\":{\"color\":\"black\",\"width\":2.281844294770206},\"mode\":\"lines\",\"x\":[-0.04049963222039865,-0.22973436424070404,null],\"y\":[0.07579040760147024,-0.20127845970980535,null],\"type\":\"scatter\",\"textfont\":{\"color\":\"#000\",\"family\":\"sans-serif\",\"size\":15},\"textposition\":\"top center\"},{\"line\":{\"color\":\"black\",\"width\":1.224742472266244},\"mode\":\"lines\",\"x\":[-0.04049963222039865,0.4235642368429511,null],\"y\":[0.07579040760147024,0.16275329130810923,null],\"type\":\"scatter\",\"textfont\":{\"color\":\"#000\",\"family\":\"sans-serif\",\"size\":15},\"textposition\":\"top center\"},{\"line\":{\"color\":\"black\",\"width\":10.0},\"mode\":\"lines\",\"x\":[-0.04049963222039865,-0.21762344645144172,null],\"y\":[0.07579040760147024,-0.005098423290695858,null],\"type\":\"scatter\",\"textfont\":{\"color\":\"#000\",\"family\":\"sans-serif\",\"size\":15},\"textposition\":\"top center\"},{\"line\":{\"color\":\"black\",\"width\":0.4492703380876915},\"mode\":\"lines\",\"x\":[-0.04049963222039865,-0.1836055864827983,null],\"y\":[0.07579040760147024,0.7530407983373302,null],\"type\":\"scatter\",\"textfont\":{\"color\":\"#000\",\"family\":\"sans-serif\",\"size\":15},\"textposition\":\"top center\"},{\"line\":{\"color\":\"black\",\"width\":1.1111661384046487},\"mode\":\"lines\",\"x\":[-0.04049963222039865,-0.6660689491024661,null],\"y\":[0.07579040760147024,0.49120751431113974,null],\"type\":\"scatter\",\"textfont\":{\"color\":\"#000\",\"family\":\"sans-serif\",\"size\":15},\"textposition\":\"top center\"},{\"line\":{\"color\":\"black\",\"width\":0.3072999207606973},\"mode\":\"lines\",\"x\":[-0.04049963222039865,0.8600606285048379,null],\"y\":[0.07579040760147024,0.229247729136116,null],\"type\":\"scatter\",\"textfont\":{\"color\":\"#000\",\"family\":\"sans-serif\",\"size\":15},\"textposition\":\"top center\"},{\"line\":{\"color\":\"black\",\"width\":0.6185618066561014},\"mode\":\"lines\",\"x\":[-0.04049963222039865,0.10669220116081675,null],\"y\":[0.07579040760147024,-0.5940375399136042,null],\"type\":\"scatter\",\"textfont\":{\"color\":\"#000\",\"family\":\"sans-serif\",\"size\":15},\"textposition\":\"top center\"},{\"line\":{\"color\":\"black\",\"width\":0.199418911780243},\"mode\":\"lines\",\"x\":[-0.04049963222039865,-1.0,null],\"y\":[0.07579040760147024,0.07561785837524528,null],\"type\":\"scatter\",\"textfont\":{\"color\":\"#000\",\"family\":\"sans-serif\",\"size\":15},\"textposition\":\"top center\"},{\"line\":{\"color\":\"black\",\"width\":1.5503664817749603},\"mode\":\"lines\",\"x\":[-0.04049963222039865,0.40908284544047235,null],\"y\":[0.07579040760147024,0.47587703963293004,null],\"type\":\"scatter\",\"textfont\":{\"color\":\"#000\",\"family\":\"sans-serif\",\"size\":15},\"textposition\":\"top center\"},{\"line\":{\"color\":\"black\",\"width\":2.6072206814580032},\"mode\":\"lines\",\"x\":[-0.21762344645144172,0.038571066760352476,null],\"y\":[-0.005098423290695858,-0.11498599279636586,null],\"type\":\"scatter\",\"textfont\":{\"color\":\"#000\",\"family\":\"sans-serif\",\"size\":15},\"textposition\":\"top center\"},{\"line\":{\"color\":\"black\",\"width\":0.14345615425250924},\"mode\":\"lines\",\"x\":[-0.21762344645144172,-0.1836055864827983,null],\"y\":[-0.005098423290695858,0.7530407983373302,null],\"type\":\"scatter\",\"textfont\":{\"color\":\"#000\",\"family\":\"sans-serif\",\"size\":15},\"textposition\":\"top center\"},{\"line\":{\"color\":\"black\",\"width\":0.4040379027997887},\"mode\":\"lines\",\"x\":[-0.21762344645144172,0.4235642368429511,null],\"y\":[-0.005098423290695858,0.16275329130810923,null],\"type\":\"scatter\",\"textfont\":{\"color\":\"#000\",\"family\":\"sans-serif\",\"size\":15},\"textposition\":\"top center\"},{\"line\":{\"color\":\"black\",\"width\":0.5781167459059694},\"mode\":\"lines\",\"x\":[-0.21762344645144172,-0.6660689491024661,null],\"y\":[-0.005098423290695858,0.49120751431113974,null],\"type\":\"scatter\",\"textfont\":{\"color\":\"#000\",\"family\":\"sans-serif\",\"size\":15},\"textposition\":\"top center\"},{\"line\":{\"color\":\"black\",\"width\":3.095367802430005},\"mode\":\"lines\",\"x\":[-0.21762344645144172,-0.22973436424070404,null],\"y\":[-0.005098423290695858,-0.20127845970980535,null],\"type\":\"scatter\",\"textfont\":{\"color\":\"#000\",\"family\":\"sans-serif\",\"size\":15},\"textposition\":\"top center\"},{\"line\":{\"color\":\"black\",\"width\":0.2865821447437929},\"mode\":\"lines\",\"x\":[-0.21762344645144172,-1.0,null],\"y\":[-0.005098423290695858,0.07561785837524528,null],\"type\":\"scatter\",\"textfont\":{\"color\":\"#000\",\"family\":\"sans-serif\",\"size\":15},\"textposition\":\"top center\"},{\"line\":{\"color\":\"black\",\"width\":0.5500528262017961},\"mode\":\"lines\",\"x\":[-0.21762344645144172,0.1870509695756255,null],\"y\":[-0.005098423290695858,0.2850962102450899,null],\"type\":\"scatter\",\"textfont\":{\"color\":\"#000\",\"family\":\"sans-serif\",\"size\":15},\"textposition\":\"top center\"},{\"line\":{\"color\":\"black\",\"width\":0.7384112519809826},\"mode\":\"lines\",\"x\":[-0.21762344645144172,0.3411143684533935,null],\"y\":[-0.005098423290695858,-0.36272226615246356,null],\"type\":\"scatter\",\"textfont\":{\"color\":\"#000\",\"family\":\"sans-serif\",\"size\":15},\"textposition\":\"top center\"},{\"line\":{\"color\":\"black\",\"width\":1.334439381933439},\"mode\":\"lines\",\"x\":[-0.21762344645144172,0.2313756331603892,null],\"y\":[-0.005098423290695858,-0.09616699308363867,null],\"type\":\"scatter\",\"textfont\":{\"color\":\"#000\",\"family\":\"sans-serif\",\"size\":15},\"textposition\":\"top center\"},{\"line\":{\"color\":\"black\",\"width\":1.3856973058637083},\"mode\":\"lines\",\"x\":[-0.21762344645144172,-0.6547368570731635,null],\"y\":[-0.005098423290695858,-0.25553298733629803,null],\"type\":\"scatter\",\"textfont\":{\"color\":\"#000\",\"family\":\"sans-serif\",\"size\":15},\"textposition\":\"top center\"},{\"line\":{\"color\":\"black\",\"width\":0.45281959852086634},\"mode\":\"lines\",\"x\":[-0.21762344645144172,0.10669220116081675,null],\"y\":[-0.005098423290695858,-0.5940375399136042,null],\"type\":\"scatter\",\"textfont\":{\"color\":\"#000\",\"family\":\"sans-serif\",\"size\":15},\"textposition\":\"top center\"},{\"line\":{\"color\":\"black\",\"width\":2.0140814844162707},\"mode\":\"lines\",\"x\":[-0.21762344645144172,-0.14349322707097778,null],\"y\":[-0.005098423290695858,0.318332637992017,null],\"type\":\"scatter\",\"textfont\":{\"color\":\"#000\",\"family\":\"sans-serif\",\"size\":15},\"textposition\":\"top center\"},{\"line\":{\"color\":\"black\",\"width\":0.2753565768621236},\"mode\":\"lines\",\"x\":[-0.21762344645144172,0.5332409408215548,null],\"y\":[-0.005098423290695858,-0.03063483225945785,null],\"type\":\"scatter\",\"textfont\":{\"color\":\"#000\",\"family\":\"sans-serif\",\"size\":15},\"textposition\":\"top center\"},{\"line\":{\"color\":\"black\",\"width\":0.12892894875858427},\"mode\":\"lines\",\"x\":[-0.21762344645144172,-0.2620678005516446,null],\"y\":[-0.005098423290695858,-0.6553653967632671,null],\"type\":\"scatter\",\"textfont\":{\"color\":\"#000\",\"family\":\"sans-serif\",\"size\":15},\"textposition\":\"top center\"},{\"line\":{\"color\":\"black\",\"width\":0.06454701531959853},\"mode\":\"lines\",\"x\":[-0.21762344645144172,0.8600606285048379,null],\"y\":[-0.005098423290695858,0.229247729136116,null],\"type\":\"scatter\",\"textfont\":{\"color\":\"#000\",\"family\":\"sans-serif\",\"size\":15},\"textposition\":\"top center\"},{\"line\":{\"color\":\"black\",\"width\":0.1078810089804543},\"mode\":\"lines\",\"x\":[-0.21762344645144172,0.7959096741617092,null],\"y\":[-0.005098423290695858,-0.6855439637144494,null],\"type\":\"scatter\",\"textfont\":{\"color\":\"#000\",\"family\":\"sans-serif\",\"size\":15},\"textposition\":\"top center\"},{\"line\":{\"color\":\"black\",\"width\":0.39726954569466455},\"mode\":\"lines\",\"x\":[-0.21762344645144172,-0.5288327016885052,null],\"y\":[-0.005098423290695858,0.13440336808060474,null],\"type\":\"scatter\",\"textfont\":{\"color\":\"#000\",\"family\":\"sans-serif\",\"size\":15},\"textposition\":\"top center\"},{\"line\":{\"color\":\"black\",\"width\":0.08402667723190703},\"mode\":\"lines\",\"x\":[-0.21762344645144172,0.40908284544047235,null],\"y\":[-0.005098423290695858,0.47587703963293004,null],\"type\":\"scatter\",\"textfont\":{\"color\":\"#000\",\"family\":\"sans-serif\",\"size\":15},\"textposition\":\"top center\"},{\"line\":{\"color\":\"black\",\"width\":0.9195060750132066},\"mode\":\"lines\",\"x\":[0.038571066760352476,0.3411143684533935,null],\"y\":[-0.11498599279636586,-0.36272226615246356,null],\"type\":\"scatter\",\"textfont\":{\"color\":\"#000\",\"family\":\"sans-serif\",\"size\":15},\"textposition\":\"top center\"},{\"line\":{\"color\":\"black\",\"width\":0.8277205493924987},\"mode\":\"lines\",\"x\":[0.038571066760352476,-0.14349322707097778,null],\"y\":[-0.11498599279636586,0.318332637992017,null],\"type\":\"scatter\",\"textfont\":{\"color\":\"#000\",\"family\":\"sans-serif\",\"size\":15},\"textposition\":\"top center\"},{\"line\":{\"color\":\"black\",\"width\":0.6287143423137876},\"mode\":\"lines\",\"x\":[0.038571066760352476,-0.5288327016885052,null],\"y\":[-0.11498599279636586,0.13440336808060474,null],\"type\":\"scatter\",\"textfont\":{\"color\":\"#000\",\"family\":\"sans-serif\",\"size\":15},\"textposition\":\"top center\"},{\"line\":{\"color\":\"black\",\"width\":0.3195159799260433},\"mode\":\"lines\",\"x\":[0.038571066760352476,-1.0,null],\"y\":[-0.11498599279636586,0.07561785837524528,null],\"type\":\"scatter\",\"textfont\":{\"color\":\"#000\",\"family\":\"sans-serif\",\"size\":15},\"textposition\":\"top center\"},{\"line\":{\"color\":\"black\",\"width\":0.6257428684627575},\"mode\":\"lines\",\"x\":[0.038571066760352476,-0.2620678005516446,null],\"y\":[-0.11498599279636586,-0.6553653967632671,null],\"type\":\"scatter\",\"textfont\":{\"color\":\"#000\",\"family\":\"sans-serif\",\"size\":15},\"textposition\":\"top center\"},{\"line\":{\"color\":\"black\",\"width\":1.1249504754358162},\"mode\":\"lines\",\"x\":[0.038571066760352476,0.5332409408215548,null],\"y\":[-0.11498599279636586,-0.03063483225945785,null],\"type\":\"scatter\",\"textfont\":{\"color\":\"#000\",\"family\":\"sans-serif\",\"size\":15},\"textposition\":\"top center\"},{\"line\":{\"color\":\"black\",\"width\":0.15889131008980453},\"mode\":\"lines\",\"x\":[0.038571066760352476,0.7959096741617092,null],\"y\":[-0.11498599279636586,-0.6855439637144494,null],\"type\":\"scatter\",\"textfont\":{\"color\":\"#000\",\"family\":\"sans-serif\",\"size\":15},\"textposition\":\"top center\"},{\"line\":{\"color\":\"black\",\"width\":0.14056722134178554},\"mode\":\"lines\",\"x\":[0.038571066760352476,-0.1836055864827983,null],\"y\":[-0.11498599279636586,0.7530407983373302,null],\"type\":\"scatter\",\"textfont\":{\"color\":\"#000\",\"family\":\"sans-serif\",\"size\":15},\"textposition\":\"top center\"},{\"line\":{\"color\":\"black\",\"width\":1.338896592709984},\"mode\":\"lines\",\"x\":[0.038571066760352476,0.2313756331603892,null],\"y\":[-0.11498599279636586,-0.09616699308363867,null],\"type\":\"scatter\",\"textfont\":{\"color\":\"#000\",\"family\":\"sans-serif\",\"size\":15},\"textposition\":\"top center\"},{\"line\":{\"color\":\"black\",\"width\":1.045546090861067},\"mode\":\"lines\",\"x\":[0.038571066760352476,0.4235642368429511,null],\"y\":[-0.11498599279636586,0.16275329130810923,null],\"type\":\"scatter\",\"textfont\":{\"color\":\"#000\",\"family\":\"sans-serif\",\"size\":15},\"textposition\":\"top center\"},{\"line\":{\"color\":\"black\",\"width\":1.567122292657158},\"mode\":\"lines\",\"x\":[0.038571066760352476,-0.22973436424070404,null],\"y\":[-0.11498599279636586,-0.20127845970980535,null],\"type\":\"scatter\",\"textfont\":{\"color\":\"#000\",\"family\":\"sans-serif\",\"size\":15},\"textposition\":\"top center\"},{\"line\":{\"color\":\"black\",\"width\":0.9237156629688326},\"mode\":\"lines\",\"x\":[0.038571066760352476,0.1870509695756255,null],\"y\":[-0.11498599279636586,0.2850962102450899,null],\"type\":\"scatter\",\"textfont\":{\"color\":\"#000\",\"family\":\"sans-serif\",\"size\":15},\"textposition\":\"top center\"},{\"line\":{\"color\":\"black\",\"width\":0.3935552033808769},\"mode\":\"lines\",\"x\":[0.038571066760352476,0.8600606285048379,null],\"y\":[-0.11498599279636586,0.229247729136116,null],\"type\":\"scatter\",\"textfont\":{\"color\":\"#000\",\"family\":\"sans-serif\",\"size\":15},\"textposition\":\"top center\"},{\"line\":{\"color\":\"black\",\"width\":0.5513734812466984},\"mode\":\"lines\",\"x\":[0.038571066760352476,0.10669220116081675,null],\"y\":[-0.11498599279636586,-0.5940375399136042,null],\"type\":\"scatter\",\"textfont\":{\"color\":\"#000\",\"family\":\"sans-serif\",\"size\":15},\"textposition\":\"top center\"},{\"line\":{\"color\":\"black\",\"width\":0.12678288431061807},\"mode\":\"lines\",\"x\":[0.038571066760352476,-0.6660689491024661,null],\"y\":[-0.11498599279636586,0.49120751431113974,null],\"type\":\"scatter\",\"textfont\":{\"color\":\"#000\",\"family\":\"sans-serif\",\"size\":15},\"textposition\":\"top center\"},{\"line\":{\"color\":\"black\",\"width\":0.6155077918647649},\"mode\":\"lines\",\"x\":[0.038571066760352476,0.40908284544047235,null],\"y\":[-0.11498599279636586,0.47587703963293004,null],\"type\":\"scatter\",\"textfont\":{\"color\":\"#000\",\"family\":\"sans-serif\",\"size\":15},\"textposition\":\"top center\"},{\"line\":{\"color\":\"black\",\"width\":0.2722200211304807},\"mode\":\"lines\",\"x\":[0.038571066760352476,-0.6547368570731635,null],\"y\":[-0.11498599279636586,-0.25553298733629803,null],\"type\":\"scatter\",\"textfont\":{\"color\":\"#000\",\"family\":\"sans-serif\",\"size\":15},\"textposition\":\"top center\"},{\"line\":{\"color\":\"black\",\"width\":0.14642762810353935},\"mode\":\"lines\",\"x\":[0.4235642368429511,-0.1836055864827983,null],\"y\":[0.16275329130810923,0.7530407983373302,null],\"type\":\"scatter\",\"textfont\":{\"color\":\"#000\",\"family\":\"sans-serif\",\"size\":15},\"textposition\":\"top center\"},{\"line\":{\"color\":\"black\",\"width\":0.21832078711040676},\"mode\":\"lines\",\"x\":[0.4235642368429511,-0.14349322707097778,null],\"y\":[0.16275329130810923,0.318332637992017,null],\"type\":\"scatter\",\"textfont\":{\"color\":\"#000\",\"family\":\"sans-serif\",\"size\":15},\"textposition\":\"top center\"},{\"line\":{\"color\":\"black\",\"width\":0.722068145800317},\"mode\":\"lines\",\"x\":[0.4235642368429511,0.2313756331603892,null],\"y\":[0.16275329130810923,-0.09616699308363867,null],\"type\":\"scatter\",\"textfont\":{\"color\":\"#000\",\"family\":\"sans-serif\",\"size\":15},\"textposition\":\"top center\"},{\"line\":{\"color\":\"black\",\"width\":0.842743000528262},\"mode\":\"lines\",\"x\":[0.4235642368429511,0.1870509695756255,null],\"y\":[0.16275329130810923,0.2850962102450899,null],\"type\":\"scatter\",\"textfont\":{\"color\":\"#000\",\"family\":\"sans-serif\",\"size\":15},\"textposition\":\"top center\"},{\"line\":{\"color\":\"black\",\"width\":0.2950013206550449},\"mode\":\"lines\",\"x\":[0.4235642368429511,0.8600606285048379,null],\"y\":[0.16275329130810923,0.229247729136116,null],\"type\":\"scatter\",\"textfont\":{\"color\":\"#000\",\"family\":\"sans-serif\",\"size\":15},\"textposition\":\"top center\"},{\"line\":{\"color\":\"black\",\"width\":1.1852879027997887},\"mode\":\"lines\",\"x\":[0.4235642368429511,0.5332409408215548,null],\"y\":[0.16275329130810923,-0.03063483225945785,null],\"type\":\"scatter\",\"textfont\":{\"color\":\"#000\",\"family\":\"sans-serif\",\"size\":15},\"textposition\":\"top center\"},{\"line\":{\"color\":\"black\",\"width\":0.39520602218700474},\"mode\":\"lines\",\"x\":[0.4235642368429511,0.3411143684533935,null],\"y\":[0.16275329130810923,-0.36272226615246356,null],\"type\":\"scatter\",\"textfont\":{\"color\":\"#000\",\"family\":\"sans-serif\",\"size\":15},\"textposition\":\"top center\"},{\"line\":{\"color\":\"black\",\"width\":0.11076994189117803},\"mode\":\"lines\",\"x\":[0.4235642368429511,-0.5288327016885052,null],\"y\":[0.16275329130810923,0.13440336808060474,null],\"type\":\"scatter\",\"textfont\":{\"color\":\"#000\",\"family\":\"sans-serif\",\"size\":15},\"textposition\":\"top center\"},{\"line\":{\"color\":\"black\",\"width\":0.07370905969360803},\"mode\":\"lines\",\"x\":[0.4235642368429511,-0.6547368570731635,null],\"y\":[0.16275329130810923,-0.25553298733629803,null],\"type\":\"scatter\",\"textfont\":{\"color\":\"#000\",\"family\":\"sans-serif\",\"size\":15},\"textposition\":\"top center\"},{\"line\":{\"color\":\"black\",\"width\":0.23507659799260433},\"mode\":\"lines\",\"x\":[0.4235642368429511,-0.22973436424070404,null],\"y\":[0.16275329130810923,-0.20127845970980535,null],\"type\":\"scatter\",\"textfont\":{\"color\":\"#000\",\"family\":\"sans-serif\",\"size\":15},\"textposition\":\"top center\"},{\"line\":{\"color\":\"black\",\"width\":0.08914421553090333},\"mode\":\"lines\",\"x\":[0.4235642368429511,0.7959096741617092,null],\"y\":[0.16275329130810923,-0.6855439637144494,null],\"type\":\"scatter\",\"textfont\":{\"color\":\"#000\",\"family\":\"sans-serif\",\"size\":15},\"textposition\":\"top center\"},{\"line\":{\"color\":\"black\",\"width\":0.22781299524564183},\"mode\":\"lines\",\"x\":[0.4235642368429511,0.40908284544047235,null],\"y\":[0.16275329130810923,0.47587703963293004,null],\"type\":\"scatter\",\"textfont\":{\"color\":\"#000\",\"family\":\"sans-serif\",\"size\":15},\"textposition\":\"top center\"},{\"line\":{\"color\":\"black\",\"width\":0.0246797411516112},\"mode\":\"lines\",\"x\":[0.4235642368429511,-1.0,null],\"y\":[0.16275329130810923,0.07561785837524528,null],\"type\":\"scatter\",\"textfont\":{\"color\":\"#000\",\"family\":\"sans-serif\",\"size\":15},\"textposition\":\"top center\"},{\"line\":{\"color\":\"black\",\"width\":0.07725832012678288},\"mode\":\"lines\",\"x\":[0.4235642368429511,-0.2620678005516446,null],\"y\":[0.16275329130810923,-0.6553653967632671,null],\"type\":\"scatter\",\"textfont\":{\"color\":\"#000\",\"family\":\"sans-serif\",\"size\":15},\"textposition\":\"top center\"},{\"line\":{\"color\":\"black\",\"width\":0.2085809561542525},\"mode\":\"lines\",\"x\":[0.4235642368429511,0.10669220116081675,null],\"y\":[0.16275329130810923,-0.5940375399136042,null],\"type\":\"scatter\",\"textfont\":{\"color\":\"#000\",\"family\":\"sans-serif\",\"size\":15},\"textposition\":\"top center\"},{\"line\":{\"color\":\"black\",\"width\":0.03656563655573164},\"mode\":\"lines\",\"x\":[0.4235642368429511,-0.6660689491024661,null],\"y\":[0.16275329130810923,0.49120751431113974,null],\"type\":\"scatter\",\"textfont\":{\"color\":\"#000\",\"family\":\"sans-serif\",\"size\":15},\"textposition\":\"top center\"},{\"line\":{\"color\":\"black\",\"width\":0.5248778394083465},\"mode\":\"lines\",\"x\":[-0.22973436424070404,0.2313756331603892,null],\"y\":[-0.20127845970980535,-0.09616699308363867,null],\"type\":\"scatter\",\"textfont\":{\"color\":\"#000\",\"family\":\"sans-serif\",\"size\":15},\"textposition\":\"top center\"},{\"line\":{\"color\":\"black\",\"width\":0.392729793977813},\"mode\":\"lines\",\"x\":[-0.22973436424070404,-0.5288327016885052,null],\"y\":[-0.20127845970980535,0.13440336808060474,null],\"type\":\"scatter\",\"textfont\":{\"color\":\"#000\",\"family\":\"sans-serif\",\"size\":15},\"textposition\":\"top center\"},{\"line\":{\"color\":\"black\",\"width\":0.34592908082408874},\"mode\":\"lines\",\"x\":[-0.22973436424070404,0.3411143684533935,null],\"y\":[-0.20127845970980535,-0.36272226615246356,null],\"type\":\"scatter\",\"textfont\":{\"color\":\"#000\",\"family\":\"sans-serif\",\"size\":15},\"textposition\":\"top center\"},{\"line\":{\"color\":\"black\",\"width\":0.2250066032752245},\"mode\":\"lines\",\"x\":[-0.22973436424070404,0.10669220116081675,null],\"y\":[-0.20127845970980535,-0.5940375399136042,null],\"type\":\"scatter\",\"textfont\":{\"color\":\"#000\",\"family\":\"sans-serif\",\"size\":15},\"textposition\":\"top center\"},{\"line\":{\"color\":\"black\",\"width\":0.26974379292128897},\"mode\":\"lines\",\"x\":[-0.22973436424070404,-1.0,null],\"y\":[-0.20127845970980535,0.07561785837524528,null],\"type\":\"scatter\",\"textfont\":{\"color\":\"#000\",\"family\":\"sans-serif\",\"size\":15},\"textposition\":\"top center\"},{\"line\":{\"color\":\"black\",\"width\":0.3317320390913893},\"mode\":\"lines\",\"x\":[-0.22973436424070404,0.5332409408215548,null],\"y\":[-0.20127845970980535,-0.03063483225945785,null],\"type\":\"scatter\",\"textfont\":{\"color\":\"#000\",\"family\":\"sans-serif\",\"size\":15},\"textposition\":\"top center\"},{\"line\":{\"color\":\"black\",\"width\":0.6119585314315901},\"mode\":\"lines\",\"x\":[-0.22973436424070404,-0.14349322707097778,null],\"y\":[-0.20127845970980535,0.318332637992017,null],\"type\":\"scatter\",\"textfont\":{\"color\":\"#000\",\"family\":\"sans-serif\",\"size\":15},\"textposition\":\"top center\"},{\"line\":{\"color\":\"black\",\"width\":0.2869948494453249},\"mode\":\"lines\",\"x\":[-0.22973436424070404,-0.2620678005516446,null],\"y\":[-0.20127845970980535,-0.6553653967632671,null],\"type\":\"scatter\",\"textfont\":{\"color\":\"#000\",\"family\":\"sans-serif\",\"size\":15},\"textposition\":\"top center\"},{\"line\":{\"color\":\"black\",\"width\":0.28831550449022714},\"mode\":\"lines\",\"x\":[-0.22973436424070404,0.40908284544047235,null],\"y\":[-0.20127845970980535,0.47587703963293004,null],\"type\":\"scatter\",\"textfont\":{\"color\":\"#000\",\"family\":\"sans-serif\",\"size\":15},\"textposition\":\"top center\"},{\"line\":{\"color\":\"black\",\"width\":0.26891838351822506},\"mode\":\"lines\",\"x\":[-0.22973436424070404,-0.6547368570731635,null],\"y\":[-0.20127845970980535,-0.25553298733629803,null],\"type\":\"scatter\",\"textfont\":{\"color\":\"#000\",\"family\":\"sans-serif\",\"size\":15},\"textposition\":\"top center\"},{\"line\":{\"color\":\"black\",\"width\":0.18125990491283678},\"mode\":\"lines\",\"x\":[-0.22973436424070404,-0.6660689491024661,null],\"y\":[-0.20127845970980535,0.49120751431113974,null],\"type\":\"scatter\",\"textfont\":{\"color\":\"#000\",\"family\":\"sans-serif\",\"size\":15},\"textposition\":\"top center\"},{\"line\":{\"color\":\"black\",\"width\":0.4368891970417327},\"mode\":\"lines\",\"x\":[-0.22973436424070404,0.1870509695756255,null],\"y\":[-0.20127845970980535,0.2850962102450899,null],\"type\":\"scatter\",\"textfont\":{\"color\":\"#000\",\"family\":\"sans-serif\",\"size\":15},\"textposition\":\"top center\"},{\"line\":{\"color\":\"black\",\"width\":0.21526677231907027},\"mode\":\"lines\",\"x\":[-0.22973436424070404,-0.1836055864827983,null],\"y\":[-0.20127845970980535,0.7530407983373302,null],\"type\":\"scatter\",\"textfont\":{\"color\":\"#000\",\"family\":\"sans-serif\",\"size\":15},\"textposition\":\"top center\"},{\"line\":{\"color\":\"black\",\"width\":0.09318872160591654},\"mode\":\"lines\",\"x\":[-0.22973436424070404,0.8600606285048379,null],\"y\":[-0.20127845970980535,0.229247729136116,null],\"type\":\"scatter\",\"textfont\":{\"color\":\"#000\",\"family\":\"sans-serif\",\"size\":15},\"textposition\":\"top center\"},{\"line\":{\"color\":\"black\",\"width\":0.037803750660327526},\"mode\":\"lines\",\"x\":[-0.22973436424070404,0.7959096741617092,null],\"y\":[-0.20127845970980535,-0.6855439637144494,null],\"type\":\"scatter\",\"textfont\":{\"color\":\"#000\",\"family\":\"sans-serif\",\"size\":15},\"textposition\":\"top center\"},{\"line\":{\"color\":\"black\",\"width\":0.21204767564712096},\"mode\":\"lines\",\"x\":[-0.5288327016885052,0.2313756331603892,null],\"y\":[0.13440336808060474,-0.09616699308363867,null],\"type\":\"scatter\",\"textfont\":{\"color\":\"#000\",\"family\":\"sans-serif\",\"size\":15},\"textposition\":\"top center\"},{\"line\":{\"color\":\"black\",\"width\":0.09120773903856312},\"mode\":\"lines\",\"x\":[-0.5288327016885052,0.3411143684533935,null],\"y\":[0.13440336808060474,-0.36272226615246356,null],\"type\":\"scatter\",\"textfont\":{\"color\":\"#000\",\"family\":\"sans-serif\",\"size\":15},\"textposition\":\"top center\"},{\"line\":{\"color\":\"black\",\"width\":0.1099445324881141},\"mode\":\"lines\",\"x\":[-0.5288327016885052,0.10669220116081675,null],\"y\":[0.13440336808060474,-0.5940375399136042,null],\"type\":\"scatter\",\"textfont\":{\"color\":\"#000\",\"family\":\"sans-serif\",\"size\":15},\"textposition\":\"top center\"},{\"line\":{\"color\":\"black\",\"width\":0.17308835182250396},\"mode\":\"lines\",\"x\":[-0.5288327016885052,0.1870509695756255,null],\"y\":[0.13440336808060474,0.2850962102450899,null],\"type\":\"scatter\",\"textfont\":{\"color\":\"#000\",\"family\":\"sans-serif\",\"size\":15},\"textposition\":\"top center\"},{\"line\":{\"color\":\"black\",\"width\":0.20255546751188588},\"mode\":\"lines\",\"x\":[-0.5288327016885052,-0.14349322707097778,null],\"y\":[0.13440336808060474,0.318332637992017,null],\"type\":\"scatter\",\"textfont\":{\"color\":\"#000\",\"family\":\"sans-serif\",\"size\":15},\"textposition\":\"top center\"},{\"line\":{\"color\":\"black\",\"width\":0.17614236661384047},\"mode\":\"lines\",\"x\":[-0.5288327016885052,-0.6547368570731635,null],\"y\":[0.13440336808060474,-0.25553298733629803,null],\"type\":\"scatter\",\"textfont\":{\"color\":\"#000\",\"family\":\"sans-serif\",\"size\":15},\"textposition\":\"top center\"},{\"line\":{\"color\":\"black\",\"width\":0.34196711568938193},\"mode\":\"lines\",\"x\":[-0.5288327016885052,-0.6660689491024661,null],\"y\":[0.13440336808060474,0.49120751431113974,null],\"type\":\"scatter\",\"textfont\":{\"color\":\"#000\",\"family\":\"sans-serif\",\"size\":15},\"textposition\":\"top center\"},{\"line\":{\"color\":\"black\",\"width\":0.1736661384046487},\"mode\":\"lines\",\"x\":[-0.5288327016885052,-1.0,null],\"y\":[0.13440336808060474,0.07561785837524528,null],\"type\":\"scatter\",\"textfont\":{\"color\":\"#000\",\"family\":\"sans-serif\",\"size\":15},\"textposition\":\"top center\"},{\"line\":{\"color\":\"black\",\"width\":0.07866151611199154},\"mode\":\"lines\",\"x\":[-0.5288327016885052,0.40908284544047235,null],\"y\":[0.13440336808060474,0.47587703963293004,null],\"type\":\"scatter\",\"textfont\":{\"color\":\"#000\",\"family\":\"sans-serif\",\"size\":15},\"textposition\":\"top center\"},{\"line\":{\"color\":\"black\",\"width\":0.034171949286846276},\"mode\":\"lines\",\"x\":[-0.5288327016885052,0.7959096741617092,null],\"y\":[0.13440336808060474,-0.6855439637144494,null],\"type\":\"scatter\",\"textfont\":{\"color\":\"#000\",\"family\":\"sans-serif\",\"size\":15},\"textposition\":\"top center\"},{\"line\":{\"color\":\"black\",\"width\":0.08774101954569466},\"mode\":\"lines\",\"x\":[-0.5288327016885052,0.5332409408215548,null],\"y\":[0.13440336808060474,-0.03063483225945785,null],\"type\":\"scatter\",\"textfont\":{\"color\":\"#000\",\"family\":\"sans-serif\",\"size\":15},\"textposition\":\"top center\"},{\"line\":{\"color\":\"black\",\"width\":0.04399432118330692},\"mode\":\"lines\",\"x\":[-0.5288327016885052,0.8600606285048379,null],\"y\":[0.13440336808060474,0.229247729136116,null],\"type\":\"scatter\",\"textfont\":{\"color\":\"#000\",\"family\":\"sans-serif\",\"size\":15},\"textposition\":\"top center\"},{\"line\":{\"color\":\"black\",\"width\":0.12694796619123086},\"mode\":\"lines\",\"x\":[-0.5288327016885052,-0.2620678005516446,null],\"y\":[0.13440336808060474,-0.6553653967632671,null],\"type\":\"scatter\",\"textfont\":{\"color\":\"#000\",\"family\":\"sans-serif\",\"size\":15},\"textposition\":\"top center\"},{\"line\":{\"color\":\"black\",\"width\":0.06949947173798204},\"mode\":\"lines\",\"x\":[-0.5288327016885052,-0.1836055864827983,null],\"y\":[0.13440336808060474,0.7530407983373302,null],\"type\":\"scatter\",\"textfont\":{\"color\":\"#000\",\"family\":\"sans-serif\",\"size\":15},\"textposition\":\"top center\"},{\"line\":{\"color\":\"black\",\"width\":0.8203744057052298},\"mode\":\"lines\",\"x\":[0.2313756331603892,0.3411143684533935,null],\"y\":[-0.09616699308363867,-0.36272226615246356,null],\"type\":\"scatter\",\"textfont\":{\"color\":\"#000\",\"family\":\"sans-serif\",\"size\":15},\"textposition\":\"top center\"},{\"line\":{\"color\":\"black\",\"width\":0.458432382461701},\"mode\":\"lines\",\"x\":[0.2313756331603892,0.10669220116081675,null],\"y\":[-0.09616699308363867,-0.5940375399136042,null],\"type\":\"scatter\",\"textfont\":{\"color\":\"#000\",\"family\":\"sans-serif\",\"size\":15},\"textposition\":\"top center\"},{\"line\":{\"color\":\"black\",\"width\":0.09607765451664026},\"mode\":\"lines\",\"x\":[0.2313756331603892,0.7959096741617092,null],\"y\":[-0.09616699308363867,-0.6855439637144494,null],\"type\":\"scatter\",\"textfont\":{\"color\":\"#000\",\"family\":\"sans-serif\",\"size\":15},\"textposition\":\"top center\"},{\"line\":{\"color\":\"black\",\"width\":0.17622490755414685},\"mode\":\"lines\",\"x\":[0.2313756331603892,-0.1836055864827983,null],\"y\":[-0.09616699308363867,0.7530407983373302,null],\"type\":\"scatter\",\"textfont\":{\"color\":\"#000\",\"family\":\"sans-serif\",\"size\":15},\"textposition\":\"top center\"},{\"line\":{\"color\":\"black\",\"width\":0.4033775752773376},\"mode\":\"lines\",\"x\":[0.2313756331603892,0.40908284544047235,null],\"y\":[-0.09616699308363867,0.47587703963293004,null],\"type\":\"scatter\",\"textfont\":{\"color\":\"#000\",\"family\":\"sans-serif\",\"size\":15},\"textposition\":\"top center\"},{\"line\":{\"color\":\"black\",\"width\":0.6842643951399895},\"mode\":\"lines\",\"x\":[0.2313756331603892,0.1870509695756255,null],\"y\":[-0.09616699308363867,0.2850962102450899,null],\"type\":\"scatter\",\"textfont\":{\"color\":\"#000\",\"family\":\"sans-serif\",\"size\":15},\"textposition\":\"top center\"},{\"line\":{\"color\":\"black\",\"width\":0.166567617538299},\"mode\":\"lines\",\"x\":[0.2313756331603892,-0.6547368570731635,null],\"y\":[-0.09616699308363867,-0.25553298733629803,null],\"type\":\"scatter\",\"textfont\":{\"color\":\"#000\",\"family\":\"sans-serif\",\"size\":15},\"textposition\":\"top center\"},{\"line\":{\"color\":\"black\",\"width\":0.38356774960380347},\"mode\":\"lines\",\"x\":[0.2313756331603892,-0.14349322707097778,null],\"y\":[-0.09616699308363867,0.318332637992017,null],\"type\":\"scatter\",\"textfont\":{\"color\":\"#000\",\"family\":\"sans-serif\",\"size\":15},\"textposition\":\"top center\"},{\"line\":{\"color\":\"black\",\"width\":0.6649498151082938},\"mode\":\"lines\",\"x\":[0.2313756331603892,0.5332409408215548,null],\"y\":[-0.09616699308363867,-0.03063483225945785,null],\"type\":\"scatter\",\"textfont\":{\"color\":\"#000\",\"family\":\"sans-serif\",\"size\":15},\"textposition\":\"top center\"},{\"line\":{\"color\":\"black\",\"width\":0.08782356048600105},\"mode\":\"lines\",\"x\":[0.2313756331603892,-0.6660689491024661,null],\"y\":[-0.09616699308363867,0.49120751431113974,null],\"type\":\"scatter\",\"textfont\":{\"color\":\"#000\",\"family\":\"sans-serif\",\"size\":15},\"textposition\":\"top center\"},{\"line\":{\"color\":\"black\",\"width\":0.03656563655573164},\"mode\":\"lines\",\"x\":[0.2313756331603892,-1.0,null],\"y\":[-0.09616699308363867,0.07561785837524528,null],\"type\":\"scatter\",\"textfont\":{\"color\":\"#000\",\"family\":\"sans-serif\",\"size\":15},\"textposition\":\"top center\"},{\"line\":{\"color\":\"black\",\"width\":0.21394611727416799},\"mode\":\"lines\",\"x\":[0.2313756331603892,-0.2620678005516446,null],\"y\":[-0.09616699308363867,-0.6553653967632671,null],\"type\":\"scatter\",\"textfont\":{\"color\":\"#000\",\"family\":\"sans-serif\",\"size\":15},\"textposition\":\"top center\"},{\"line\":{\"color\":\"black\",\"width\":0.20222530375066033},\"mode\":\"lines\",\"x\":[0.2313756331603892,0.8600606285048379,null],\"y\":[-0.09616699308363867,0.229247729136116,null],\"type\":\"scatter\",\"textfont\":{\"color\":\"#000\",\"family\":\"sans-serif\",\"size\":15},\"textposition\":\"top center\"},{\"line\":{\"color\":\"black\",\"width\":0.34592908082408874},\"mode\":\"lines\",\"x\":[0.5332409408215548,0.3411143684533935,null],\"y\":[-0.03063483225945785,-0.36272226615246356,null],\"type\":\"scatter\",\"textfont\":{\"color\":\"#000\",\"family\":\"sans-serif\",\"size\":15},\"textposition\":\"top center\"},{\"line\":{\"color\":\"black\",\"width\":0.06413431061806656},\"mode\":\"lines\",\"x\":[0.5332409408215548,-0.2620678005516446,null],\"y\":[-0.03063483225945785,-0.6553653967632671,null],\"type\":\"scatter\",\"textfont\":{\"color\":\"#000\",\"family\":\"sans-serif\",\"size\":15},\"textposition\":\"top center\"},{\"line\":{\"color\":\"black\",\"width\":0.7983359746434231},\"mode\":\"lines\",\"x\":[0.5332409408215548,0.1870509695756255,null],\"y\":[-0.03063483225945785,0.2850962102450899,null],\"type\":\"scatter\",\"textfont\":{\"color\":\"#000\",\"family\":\"sans-serif\",\"size\":15},\"textposition\":\"top center\"},{\"line\":{\"color\":\"black\",\"width\":0.4946678552562071},\"mode\":\"lines\",\"x\":[0.5332409408215548,0.40908284544047235,null],\"y\":[-0.03063483225945785,0.47587703963293004,null],\"type\":\"scatter\",\"textfont\":{\"color\":\"#000\",\"family\":\"sans-serif\",\"size\":15},\"textposition\":\"top center\"},{\"line\":{\"color\":\"black\",\"width\":0.19487916006339145},\"mode\":\"lines\",\"x\":[0.5332409408215548,0.10669220116081675,null],\"y\":[-0.03063483225945785,-0.5940375399136042,null],\"type\":\"scatter\",\"textfont\":{\"color\":\"#000\",\"family\":\"sans-serif\",\"size\":15},\"textposition\":\"top center\"},{\"line\":{\"color\":\"black\",\"width\":0.02930203380876915},\"mode\":\"lines\",\"x\":[0.5332409408215548,-0.6660689491024661,null],\"y\":[-0.03063483225945785,0.49120751431113974,null],\"type\":\"scatter\",\"textfont\":{\"color\":\"#000\",\"family\":\"sans-serif\",\"size\":15},\"textposition\":\"top center\"},{\"line\":{\"color\":\"black\",\"width\":0.2427529054410988},\"mode\":\"lines\",\"x\":[0.5332409408215548,-0.14349322707097778,null],\"y\":[-0.03063483225945785,0.318332637992017,null],\"type\":\"scatter\",\"textfont\":{\"color\":\"#000\",\"family\":\"sans-serif\",\"size\":15},\"textposition\":\"top center\"},{\"line\":{\"color\":\"black\",\"width\":1.0684099313259376},\"mode\":\"lines\",\"x\":[0.5332409408215548,0.8600606285048379,null],\"y\":[-0.03063483225945785,0.229247729136116,null],\"type\":\"scatter\",\"textfont\":{\"color\":\"#000\",\"family\":\"sans-serif\",\"size\":15},\"textposition\":\"top center\"},{\"line\":{\"color\":\"black\",\"width\":0.10301109350237718},\"mode\":\"lines\",\"x\":[0.5332409408215548,-0.1836055864827983,null],\"y\":[-0.03063483225945785,0.7530407983373302,null],\"type\":\"scatter\",\"textfont\":{\"color\":\"#000\",\"family\":\"sans-serif\",\"size\":15},\"textposition\":\"top center\"},{\"line\":{\"color\":\"black\",\"width\":0.06157554146856841},\"mode\":\"lines\",\"x\":[0.5332409408215548,-0.6547368570731635,null],\"y\":[-0.03063483225945785,-0.25553298733629803,null],\"type\":\"scatter\",\"textfont\":{\"color\":\"#000\",\"family\":\"sans-serif\",\"size\":15},\"textposition\":\"top center\"},{\"line\":{\"color\":\"black\",\"width\":0.020222530375066033},\"mode\":\"lines\",\"x\":[0.5332409408215548,-1.0,null],\"y\":[-0.03063483225945785,0.07561785837524528,null],\"type\":\"scatter\",\"textfont\":{\"color\":\"#000\",\"family\":\"sans-serif\",\"size\":15},\"textposition\":\"top center\"},{\"line\":{\"color\":\"black\",\"width\":0.056623085050184895},\"mode\":\"lines\",\"x\":[0.5332409408215548,0.7959096741617092,null],\"y\":[-0.03063483225945785,-0.6855439637144494,null],\"type\":\"scatter\",\"textfont\":{\"color\":\"#000\",\"family\":\"sans-serif\",\"size\":15},\"textposition\":\"top center\"},{\"line\":{\"color\":\"black\",\"width\":0.2722200211304807},\"mode\":\"lines\",\"x\":[-0.14349322707097778,0.40908284544047235,null],\"y\":[0.318332637992017,0.47587703963293004,null],\"type\":\"scatter\",\"textfont\":{\"color\":\"#000\",\"family\":\"sans-serif\",\"size\":15},\"textposition\":\"top center\"},{\"line\":{\"color\":\"black\",\"width\":0.16846605916534602},\"mode\":\"lines\",\"x\":[-0.14349322707097778,0.3411143684533935,null],\"y\":[0.318332637992017,-0.36272226615246356,null],\"type\":\"scatter\",\"textfont\":{\"color\":\"#000\",\"family\":\"sans-serif\",\"size\":15},\"textposition\":\"top center\"},{\"line\":{\"color\":\"black\",\"width\":0.1389989434759641},\"mode\":\"lines\",\"x\":[-0.14349322707097778,-0.2620678005516446,null],\"y\":[0.318332637992017,-0.6553653967632671,null],\"type\":\"scatter\",\"textfont\":{\"color\":\"#000\",\"family\":\"sans-serif\",\"size\":15},\"textposition\":\"top center\"},{\"line\":{\"color\":\"black\",\"width\":0.5941296883254094},\"mode\":\"lines\",\"x\":[-0.14349322707097778,0.1870509695756255,null],\"y\":[0.318332637992017,0.2850962102450899,null],\"type\":\"scatter\",\"textfont\":{\"color\":\"#000\",\"family\":\"sans-serif\",\"size\":15},\"textposition\":\"top center\"},{\"line\":{\"color\":\"black\",\"width\":0.10036978341257263},\"mode\":\"lines\",\"x\":[-0.14349322707097778,-0.6660689491024661,null],\"y\":[0.318332637992017,0.49120751431113974,null],\"type\":\"scatter\",\"textfont\":{\"color\":\"#000\",\"family\":\"sans-serif\",\"size\":15},\"textposition\":\"top center\"},{\"line\":{\"color\":\"black\",\"width\":0.06413431061806656},\"mode\":\"lines\",\"x\":[-0.14349322707097778,0.8600606285048379,null],\"y\":[0.318332637992017,0.229247729136116,null],\"type\":\"scatter\",\"textfont\":{\"color\":\"#000\",\"family\":\"sans-serif\",\"size\":15},\"textposition\":\"top center\"},{\"line\":{\"color\":\"black\",\"width\":0.20189513998943476},\"mode\":\"lines\",\"x\":[-0.14349322707097778,0.10669220116081675,null],\"y\":[0.318332637992017,-0.5940375399136042,null],\"type\":\"scatter\",\"textfont\":{\"color\":\"#000\",\"family\":\"sans-serif\",\"size\":15},\"textposition\":\"top center\"},{\"line\":{\"color\":\"black\",\"width\":0.057696117274167985},\"mode\":\"lines\",\"x\":[-0.14349322707097778,-1.0,null],\"y\":[0.318332637992017,0.07561785837524528,null],\"type\":\"scatter\",\"textfont\":{\"color\":\"#000\",\"family\":\"sans-serif\",\"size\":15},\"textposition\":\"top center\"},{\"line\":{\"color\":\"black\",\"width\":0.05290874273639725},\"mode\":\"lines\",\"x\":[-0.14349322707097778,0.7959096741617092,null],\"y\":[0.318332637992017,-0.6855439637144494,null],\"type\":\"scatter\",\"textfont\":{\"color\":\"#000\",\"family\":\"sans-serif\",\"size\":15},\"textposition\":\"top center\"},{\"line\":{\"color\":\"black\",\"width\":0.13008452192287376},\"mode\":\"lines\",\"x\":[-0.14349322707097778,-0.6547368570731635,null],\"y\":[0.318332637992017,-0.25553298733629803,null],\"type\":\"scatter\",\"textfont\":{\"color\":\"#000\",\"family\":\"sans-serif\",\"size\":15},\"textposition\":\"top center\"},{\"line\":{\"color\":\"black\",\"width\":0.20907620179609085},\"mode\":\"lines\",\"x\":[-0.14349322707097778,-0.1836055864827983,null],\"y\":[0.318332637992017,0.7530407983373302,null],\"type\":\"scatter\",\"textfont\":{\"color\":\"#000\",\"family\":\"sans-serif\",\"size\":15},\"textposition\":\"top center\"},{\"line\":{\"color\":\"black\",\"width\":0.1880282620179609},\"mode\":\"lines\",\"x\":[0.40908284544047235,0.3411143684533935,null],\"y\":[0.47587703963293004,-0.36272226615246356,null],\"type\":\"scatter\",\"textfont\":{\"color\":\"#000\",\"family\":\"sans-serif\",\"size\":15},\"textposition\":\"top center\"},{\"line\":{\"color\":\"black\",\"width\":0.6023012414157423},\"mode\":\"lines\",\"x\":[0.40908284544047235,0.8600606285048379,null],\"y\":[0.47587703963293004,0.229247729136116,null],\"type\":\"scatter\",\"textfont\":{\"color\":\"#000\",\"family\":\"sans-serif\",\"size\":15},\"textposition\":\"top center\"},{\"line\":{\"color\":\"black\",\"width\":0.04300382989963022},\"mode\":\"lines\",\"x\":[0.40908284544047235,-0.2620678005516446,null],\"y\":[0.47587703963293004,-0.6553653967632671,null],\"type\":\"scatter\",\"textfont\":{\"color\":\"#000\",\"family\":\"sans-serif\",\"size\":15},\"textposition\":\"top center\"},{\"line\":{\"color\":\"black\",\"width\":0.10317617538298997},\"mode\":\"lines\",\"x\":[0.40908284544047235,0.10669220116081675,null],\"y\":[0.47587703963293004,-0.5940375399136042,null],\"type\":\"scatter\",\"textfont\":{\"color\":\"#000\",\"family\":\"sans-serif\",\"size\":15},\"textposition\":\"top center\"},{\"line\":{\"color\":\"black\",\"width\":0.009987453777073428},\"mode\":\"lines\",\"x\":[0.40908284544047235,-0.6660689491024661,null],\"y\":[0.47587703963293004,0.49120751431113974,null],\"type\":\"scatter\",\"textfont\":{\"color\":\"#000\",\"family\":\"sans-serif\",\"size\":15},\"textposition\":\"top center\"},{\"line\":{\"color\":\"black\",\"width\":0.41253961965134706},\"mode\":\"lines\",\"x\":[0.40908284544047235,0.1870509695756255,null],\"y\":[0.47587703963293004,0.2850962102450899,null],\"type\":\"scatter\",\"textfont\":{\"color\":\"#000\",\"family\":\"sans-serif\",\"size\":15},\"textposition\":\"top center\"},{\"line\":{\"color\":\"black\",\"width\":0.040775224511357636},\"mode\":\"lines\",\"x\":[0.40908284544047235,-0.6547368570731635,null],\"y\":[0.47587703963293004,-0.25553298733629803,null],\"type\":\"scatter\",\"textfont\":{\"color\":\"#000\",\"family\":\"sans-serif\",\"size\":15},\"textposition\":\"top center\"},{\"line\":{\"color\":\"black\",\"width\":0.021543185419968303},\"mode\":\"lines\",\"x\":[0.40908284544047235,-0.1836055864827983,null],\"y\":[0.47587703963293004,0.7530407983373302,null],\"type\":\"scatter\",\"textfont\":{\"color\":\"#000\",\"family\":\"sans-serif\",\"size\":15},\"textposition\":\"top center\"},{\"line\":{\"color\":\"black\",\"width\":0.010317617538298997},\"mode\":\"lines\",\"x\":[0.40908284544047235,-1.0,null],\"y\":[0.47587703963293004,0.07561785837524528,null],\"type\":\"scatter\",\"textfont\":{\"color\":\"#000\",\"family\":\"sans-serif\",\"size\":15},\"textposition\":\"top center\"},{\"line\":{\"color\":\"black\",\"width\":0.006025488642366614},\"mode\":\"lines\",\"x\":[0.40908284544047235,0.7959096741617092,null],\"y\":[0.47587703963293004,-0.6855439637144494,null],\"type\":\"scatter\",\"textfont\":{\"color\":\"#000\",\"family\":\"sans-serif\",\"size\":15},\"textposition\":\"top center\"},{\"line\":{\"color\":\"black\",\"width\":0.23408610670892763},\"mode\":\"lines\",\"x\":[0.1870509695756255,0.8600606285048379,null],\"y\":[0.2850962102450899,0.229247729136116,null],\"type\":\"scatter\",\"textfont\":{\"color\":\"#000\",\"family\":\"sans-serif\",\"size\":15},\"textposition\":\"top center\"},{\"line\":{\"color\":\"black\",\"width\":0.12521460644479662},\"mode\":\"lines\",\"x\":[0.1870509695756255,-0.6547368570731635,null],\"y\":[0.2850962102450899,-0.25553298733629803,null],\"type\":\"scatter\",\"textfont\":{\"color\":\"#000\",\"family\":\"sans-serif\",\"size\":15},\"textposition\":\"top center\"},{\"line\":{\"color\":\"black\",\"width\":0.3259541732699419},\"mode\":\"lines\",\"x\":[0.1870509695756255,0.3411143684533935,null],\"y\":[0.2850962102450899,-0.36272226615246356,null],\"type\":\"scatter\",\"textfont\":{\"color\":\"#000\",\"family\":\"sans-serif\",\"size\":15},\"textposition\":\"top center\"},{\"line\":{\"color\":\"black\",\"width\":0.19339342313787639},\"mode\":\"lines\",\"x\":[0.1870509695756255,-0.2620678005516446,null],\"y\":[0.2850962102450899,-0.6553653967632671,null],\"type\":\"scatter\",\"textfont\":{\"color\":\"#000\",\"family\":\"sans-serif\",\"size\":15},\"textposition\":\"top center\"},{\"line\":{\"color\":\"black\",\"width\":0.042591125198098254},\"mode\":\"lines\",\"x\":[0.1870509695756255,-0.6660689491024661,null],\"y\":[0.2850962102450899,0.49120751431113974,null],\"type\":\"scatter\",\"textfont\":{\"color\":\"#000\",\"family\":\"sans-serif\",\"size\":15},\"textposition\":\"top center\"},{\"line\":{\"color\":\"black\",\"width\":0.1583135235076598},\"mode\":\"lines\",\"x\":[0.1870509695756255,0.10669220116081675,null],\"y\":[0.2850962102450899,-0.5940375399136042,null],\"type\":\"scatter\",\"textfont\":{\"color\":\"#000\",\"family\":\"sans-serif\",\"size\":15},\"textposition\":\"top center\"},{\"line\":{\"color\":\"black\",\"width\":0.07767102482831484},\"mode\":\"lines\",\"x\":[0.1870509695756255,-0.1836055864827983,null],\"y\":[0.2850962102450899,0.7530407983373302,null],\"type\":\"scatter\",\"textfont\":{\"color\":\"#000\",\"family\":\"sans-serif\",\"size\":15},\"textposition\":\"top center\"},{\"line\":{\"color\":\"black\",\"width\":0.029054410987849975},\"mode\":\"lines\",\"x\":[0.1870509695756255,-1.0,null],\"y\":[0.2850962102450899,0.07561785837524528,null],\"type\":\"scatter\",\"textfont\":{\"color\":\"#000\",\"family\":\"sans-serif\",\"size\":15},\"textposition\":\"top center\"},{\"line\":{\"color\":\"black\",\"width\":0.05497226624405705},\"mode\":\"lines\",\"x\":[0.1870509695756255,0.7959096741617092,null],\"y\":[0.2850962102450899,-0.6855439637144494,null],\"type\":\"scatter\",\"textfont\":{\"color\":\"#000\",\"family\":\"sans-serif\",\"size\":15},\"textposition\":\"top center\"},{\"line\":{\"color\":\"black\",\"width\":0.24778790279978868},\"mode\":\"lines\",\"x\":[-0.6547368570731635,-0.6660689491024661,null],\"y\":[-0.25553298733629803,0.49120751431113974,null],\"type\":\"scatter\",\"textfont\":{\"color\":\"#000\",\"family\":\"sans-serif\",\"size\":15},\"textposition\":\"top center\"},{\"line\":{\"color\":\"black\",\"width\":0.04300382989963022},\"mode\":\"lines\",\"x\":[-0.6547368570731635,-0.1836055864827983,null],\"y\":[-0.25553298733629803,0.7530407983373302,null],\"type\":\"scatter\",\"textfont\":{\"color\":\"#000\",\"family\":\"sans-serif\",\"size\":15},\"textposition\":\"top center\"},{\"line\":{\"color\":\"black\",\"width\":0.06025488642366614},\"mode\":\"lines\",\"x\":[-0.6547368570731635,0.10669220116081675,null],\"y\":[-0.25553298733629803,-0.5940375399136042,null],\"type\":\"scatter\",\"textfont\":{\"color\":\"#000\",\"family\":\"sans-serif\",\"size\":15},\"textposition\":\"top center\"},{\"line\":{\"color\":\"black\",\"width\":0.0555500528262018},\"mode\":\"lines\",\"x\":[-0.6547368570731635,0.3411143684533935,null],\"y\":[-0.25553298733629803,-0.36272226615246356,null],\"type\":\"scatter\",\"textfont\":{\"color\":\"#000\",\"family\":\"sans-serif\",\"size\":15},\"textposition\":\"top center\"},{\"line\":{\"color\":\"black\",\"width\":0.21609218172213418},\"mode\":\"lines\",\"x\":[-0.6547368570731635,-1.0,null],\"y\":[-0.25553298733629803,0.07561785837524528,null],\"type\":\"scatter\",\"textfont\":{\"color\":\"#000\",\"family\":\"sans-serif\",\"size\":15},\"textposition\":\"top center\"},{\"line\":{\"color\":\"black\",\"width\":0.02608293713681986},\"mode\":\"lines\",\"x\":[-0.6547368570731635,-0.2620678005516446,null],\"y\":[-0.25553298733629803,-0.6553653967632671,null],\"type\":\"scatter\",\"textfont\":{\"color\":\"#000\",\"family\":\"sans-serif\",\"size\":15},\"textposition\":\"top center\"},{\"line\":{\"color\":\"black\",\"width\":0.011390649762282093},\"mode\":\"lines\",\"x\":[-0.6547368570731635,0.8600606285048379,null],\"y\":[-0.25553298733629803,0.229247729136116,null],\"type\":\"scatter\",\"textfont\":{\"color\":\"#000\",\"family\":\"sans-serif\",\"size\":15},\"textposition\":\"top center\"},{\"line\":{\"color\":\"black\",\"width\":0.016590729001584786},\"mode\":\"lines\",\"x\":[-0.6547368570731635,0.7959096741617092,null],\"y\":[-0.25553298733629803,-0.6855439637144494,null],\"type\":\"scatter\",\"textfont\":{\"color\":\"#000\",\"family\":\"sans-serif\",\"size\":15},\"textposition\":\"top center\"},{\"line\":{\"color\":\"black\",\"width\":0.025009904912836767},\"mode\":\"lines\",\"x\":[-0.6660689491024661,0.3411143684533935,null],\"y\":[0.49120751431113974,-0.36272226615246356,null],\"type\":\"scatter\",\"textfont\":{\"color\":\"#000\",\"family\":\"sans-serif\",\"size\":15},\"textposition\":\"top center\"},{\"line\":{\"color\":\"black\",\"width\":0.006025488642366614},\"mode\":\"lines\",\"x\":[-0.6660689491024661,-0.2620678005516446,null],\"y\":[0.49120751431113974,-0.6553653967632671,null],\"type\":\"scatter\",\"textfont\":{\"color\":\"#000\",\"family\":\"sans-serif\",\"size\":15},\"textposition\":\"top center\"},{\"line\":{\"color\":\"black\",\"width\":0.019809825673534072},\"mode\":\"lines\",\"x\":[-0.6660689491024661,0.10669220116081675,null],\"y\":[0.49120751431113974,-0.5940375399136042,null],\"type\":\"scatter\",\"textfont\":{\"color\":\"#000\",\"family\":\"sans-serif\",\"size\":15},\"textposition\":\"top center\"},{\"line\":{\"color\":\"black\",\"width\":0.04605784469096672},\"mode\":\"lines\",\"x\":[-0.6660689491024661,-0.1836055864827983,null],\"y\":[0.49120751431113974,0.7530407983373302,null],\"type\":\"scatter\",\"textfont\":{\"color\":\"#000\",\"family\":\"sans-serif\",\"size\":15},\"textposition\":\"top center\"},{\"line\":{\"color\":\"black\",\"width\":0.07824881141045958},\"mode\":\"lines\",\"x\":[-0.6660689491024661,-1.0,null],\"y\":[0.49120751431113974,0.07561785837524528,null],\"type\":\"scatter\",\"textfont\":{\"color\":\"#000\",\"family\":\"sans-serif\",\"size\":15},\"textposition\":\"top center\"},{\"line\":{\"color\":\"black\",\"width\":0.013619255150554675},\"mode\":\"lines\",\"x\":[-0.6660689491024661,0.7959096741617092,null],\"y\":[0.49120751431113974,-0.6855439637144494,null],\"type\":\"scatter\",\"textfont\":{\"color\":\"#000\",\"family\":\"sans-serif\",\"size\":15},\"textposition\":\"top center\"},{\"line\":{\"color\":\"black\",\"width\":0.00957474907554147},\"mode\":\"lines\",\"x\":[-0.6660689491024661,0.8600606285048379,null],\"y\":[0.49120751431113974,0.229247729136116,null],\"type\":\"scatter\",\"textfont\":{\"color\":\"#000\",\"family\":\"sans-serif\",\"size\":15},\"textposition\":\"top center\"},{\"line\":{\"color\":\"black\",\"width\":0.22459389857369255},\"mode\":\"lines\",\"x\":[0.3411143684533935,0.10669220116081675,null],\"y\":[-0.36272226615246356,-0.5940375399136042,null],\"type\":\"scatter\",\"textfont\":{\"color\":\"#000\",\"family\":\"sans-serif\",\"size\":15},\"textposition\":\"top center\"},{\"line\":{\"color\":\"black\",\"width\":0.1531134442683571},\"mode\":\"lines\",\"x\":[0.3411143684533935,-0.2620678005516446,null],\"y\":[-0.36272226615246356,-0.6553653967632671,null],\"type\":\"scatter\",\"textfont\":{\"color\":\"#000\",\"family\":\"sans-serif\",\"size\":15},\"textposition\":\"top center\"},{\"line\":{\"color\":\"black\",\"width\":0.07668053354463814},\"mode\":\"lines\",\"x\":[0.3411143684533935,-0.1836055864827983,null],\"y\":[-0.36272226615246356,0.7530407983373302,null],\"type\":\"scatter\",\"textfont\":{\"color\":\"#000\",\"family\":\"sans-serif\",\"size\":15},\"textposition\":\"top center\"},{\"line\":{\"color\":\"black\",\"width\":0.05356907025884839},\"mode\":\"lines\",\"x\":[0.3411143684533935,0.7959096741617092,null],\"y\":[-0.36272226615246356,-0.6855439637144494,null],\"type\":\"scatter\",\"textfont\":{\"color\":\"#000\",\"family\":\"sans-serif\",\"size\":15},\"textposition\":\"top center\"},{\"line\":{\"color\":\"black\",\"width\":0.13817353407290014},\"mode\":\"lines\",\"x\":[0.3411143684533935,0.8600606285048379,null],\"y\":[-0.36272226615246356,0.229247729136116,null],\"type\":\"scatter\",\"textfont\":{\"color\":\"#000\",\"family\":\"sans-serif\",\"size\":15},\"textposition\":\"top center\"},{\"line\":{\"color\":\"black\",\"width\":0.03466719492868463},\"mode\":\"lines\",\"x\":[0.3411143684533935,-1.0,null],\"y\":[-0.36272226615246356,0.07561785837524528,null],\"type\":\"scatter\",\"textfont\":{\"color\":\"#000\",\"family\":\"sans-serif\",\"size\":15},\"textposition\":\"top center\"},{\"line\":{\"color\":\"black\",\"width\":0.21559693608029581},\"mode\":\"lines\",\"x\":[-0.1836055864827983,-1.0,null],\"y\":[0.7530407983373302,0.07561785837524528,null],\"type\":\"scatter\",\"textfont\":{\"color\":\"#000\",\"family\":\"sans-serif\",\"size\":15},\"textposition\":\"top center\"},{\"line\":{\"color\":\"black\",\"width\":0.0677661119915478},\"mode\":\"lines\",\"x\":[-0.1836055864827983,0.7959096741617092,null],\"y\":[0.7530407983373302,-0.6855439637144494,null],\"type\":\"scatter\",\"textfont\":{\"color\":\"#000\",\"family\":\"sans-serif\",\"size\":15},\"textposition\":\"top center\"},{\"line\":{\"color\":\"black\",\"width\":0.02806391970417327},\"mode\":\"lines\",\"x\":[-0.1836055864827983,-0.2620678005516446,null],\"y\":[0.7530407983373302,-0.6553653967632671,null],\"type\":\"scatter\",\"textfont\":{\"color\":\"#000\",\"family\":\"sans-serif\",\"size\":15},\"textposition\":\"top center\"},{\"line\":{\"color\":\"black\",\"width\":0.02847662440570523},\"mode\":\"lines\",\"x\":[-0.1836055864827983,0.8600606285048379,null],\"y\":[0.7530407983373302,0.229247729136116,null],\"type\":\"scatter\",\"textfont\":{\"color\":\"#000\",\"family\":\"sans-serif\",\"size\":15},\"textposition\":\"top center\"},{\"line\":{\"color\":\"black\",\"width\":0.06875660327522451},\"mode\":\"lines\",\"x\":[-0.1836055864827983,0.10669220116081675,null],\"y\":[0.7530407983373302,-0.5940375399136042,null],\"type\":\"scatter\",\"textfont\":{\"color\":\"#000\",\"family\":\"sans-serif\",\"size\":15},\"textposition\":\"top center\"},{\"line\":{\"color\":\"black\",\"width\":0.03722596407818278},\"mode\":\"lines\",\"x\":[0.8600606285048379,-0.2620678005516446,null],\"y\":[0.229247729136116,-0.6553653967632671,null],\"type\":\"scatter\",\"textfont\":{\"color\":\"#000\",\"family\":\"sans-serif\",\"size\":15},\"textposition\":\"top center\"},{\"line\":{\"color\":\"black\",\"width\":0.019974907554146857},\"mode\":\"lines\",\"x\":[0.8600606285048379,0.7959096741617092,null],\"y\":[0.229247729136116,-0.6855439637144494,null],\"type\":\"scatter\",\"textfont\":{\"color\":\"#000\",\"family\":\"sans-serif\",\"size\":15},\"textposition\":\"top center\"},{\"line\":{\"color\":\"black\",\"width\":0.06636291600633915},\"mode\":\"lines\",\"x\":[0.8600606285048379,0.10669220116081675,null],\"y\":[0.229247729136116,-0.5940375399136042,null],\"type\":\"scatter\",\"textfont\":{\"color\":\"#000\",\"family\":\"sans-serif\",\"size\":15},\"textposition\":\"top center\"},{\"line\":{\"color\":\"black\",\"width\":0.00874933967247755},\"mode\":\"lines\",\"x\":[0.8600606285048379,-1.0,null],\"y\":[0.229247729136116,0.07561785837524528,null],\"type\":\"scatter\",\"textfont\":{\"color\":\"#000\",\"family\":\"sans-serif\",\"size\":15},\"textposition\":\"top center\"},{\"line\":{\"color\":\"black\",\"width\":0.12397649234020074},\"mode\":\"lines\",\"x\":[0.10669220116081675,-0.2620678005516446,null],\"y\":[-0.5940375399136042,-0.6553653967632671,null],\"type\":\"scatter\",\"textfont\":{\"color\":\"#000\",\"family\":\"sans-serif\",\"size\":15},\"textposition\":\"top center\"},{\"line\":{\"color\":\"black\",\"width\":0.021213021658742736},\"mode\":\"lines\",\"x\":[0.10669220116081675,-1.0,null],\"y\":[-0.5940375399136042,0.07561785837524528,null],\"type\":\"scatter\",\"textfont\":{\"color\":\"#000\",\"family\":\"sans-serif\",\"size\":15},\"textposition\":\"top center\"},{\"line\":{\"color\":\"black\",\"width\":0.020717776016904384},\"mode\":\"lines\",\"x\":[0.10669220116081675,0.7959096741617092,null],\"y\":[-0.5940375399136042,-0.6855439637144494,null],\"type\":\"scatter\",\"textfont\":{\"color\":\"#000\",\"family\":\"sans-serif\",\"size\":15},\"textposition\":\"top center\"},{\"line\":{\"color\":\"black\",\"width\":0.023524167987321713},\"mode\":\"lines\",\"x\":[-1.0,0.7959096741617092,null],\"y\":[0.07561785837524528,-0.6855439637144494,null],\"type\":\"scatter\",\"textfont\":{\"color\":\"#000\",\"family\":\"sans-serif\",\"size\":15},\"textposition\":\"top center\"},{\"line\":{\"color\":\"black\",\"width\":0.020057448494453248},\"mode\":\"lines\",\"x\":[-1.0,-0.2620678005516446,null],\"y\":[0.07561785837524528,-0.6553653967632671,null],\"type\":\"scatter\",\"textfont\":{\"color\":\"#000\",\"family\":\"sans-serif\",\"size\":15},\"textposition\":\"top center\"},{\"line\":{\"color\":\"black\",\"width\":0.01172081352350766},\"mode\":\"lines\",\"x\":[-0.2620678005516446,0.7959096741617092,null],\"y\":[-0.6553653967632671,-0.6855439637144494,null],\"type\":\"scatter\",\"textfont\":{\"color\":\"#000\",\"family\":\"sans-serif\",\"size\":15},\"textposition\":\"top center\"},{\"hovertext\":[\"100.0\",\"99.87516264602395\",\"30.730227028002062\",\"25.105726789876186\",\"23.941714704300455\",\"21.740177719996964\",\"21.481813892252713\",\"21.139858532330674\",\"18.65037071744632\",\"18.396076477452834\",\"16.655062842134093\",\"12.178626305155287\",\"10.083118580087836\",\"9.67978943733\",\"8.028856676818638\",\"7.384431957042752\",\"7.020698803211235\",\"6.728898362595869\",\"6.591082323360643\",\"6.226579247522226\"],\"marker\":{\"color\":[909183,908048,279394,228257,217674,197658,195309,192200,169566,167254,151425,110726,91674,88007,72997,67138,63831,61178,59925,56611],\"colorbar\":{\"thickness\":15,\"title\":{\"side\":\"right\",\"text\":\"Number of publications\"},\"xanchor\":\"left\"},\"colorscale\":[[0.0,\"rgb(255,255,217)\"],[0.125,\"rgb(237,248,177)\"],[0.25,\"rgb(199,233,180)\"],[0.375,\"rgb(127,205,187)\"],[0.5,\"rgb(65,182,196)\"],[0.625,\"rgb(29,145,192)\"],[0.75,\"rgb(34,94,168)\"],[0.875,\"rgb(37,52,148)\"],[1.0,\"rgb(8,29,88)\"]],\"line\":{\"width\":2},\"reversescale\":true,\"showscale\":true,\"size\":[100.0,99.87516264602395,30.730227028002062,25.105726789876186,23.941714704300455,21.740177719996964,21.481813892252713,21.139858532330674,18.65037071744632,18.396076477452834,16.655062842134093,12.178626305155287,10.083118580087836,9.67978943733,8.028856676818638,7.384431957042752,7.020698803211235,6.728898362595869,6.591082323360643,6.226579247522226]},\"mode\":\"markers+text\",\"text\":[\"United States\",\"China\",\"United Kingdom\",\"Italy\",\"Australia\",\"India\",\"Germany\",\"Spain\",\"Canada\",\"Brazil\",\"France\",\"Japan\",\"South Korea\",\"Netherlands\",\"Iran\",\"Portugal\",\"Sweden\",\"Malaysia\",\"South Africa\",\"Turkey\"],\"textposition\":\"top center\",\"x\":[-0.04049963222039865,-0.21762344645144172,0.038571066760352476,0.4235642368429511,-0.22973436424070404,-0.5288327016885052,0.2313756331603892,0.5332409408215548,-0.14349322707097778,0.40908284544047235,0.1870509695756255,-0.6547368570731635,-0.6660689491024661,0.3411143684533935,-0.1836055864827983,0.8600606285048379,0.10669220116081675,-1.0,-0.2620678005516446,0.7959096741617092],\"y\":[0.07579040760147024,-0.005098423290695858,-0.11498599279636586,0.16275329130810923,-0.20127845970980535,0.13440336808060474,-0.09616699308363867,-0.03063483225945785,0.318332637992017,0.47587703963293004,0.2850962102450899,-0.25553298733629803,0.49120751431113974,-0.36272226615246356,0.7530407983373302,0.229247729136116,-0.5940375399136042,0.07561785837524528,-0.6553653967632671,-0.6855439637144494],\"type\":\"scatter\",\"textfont\":{\"color\":\"#000\",\"family\":\"sans-serif\",\"size\":15}}],                        {\"hovermode\":\"closest\",\"margin\":{\"b\":20,\"l\":5,\"r\":5,\"t\":40},\"showlegend\":false,\"title\":{\"font\":{\"size\":16},\"text\":\"<br>Network graph showing actors collaborations\"},\"xaxis\":{\"showgrid\":false,\"showticklabels\":false,\"zeroline\":false},\"yaxis\":{\"showgrid\":false,\"showticklabels\":false,\"zeroline\":false},\"template\":{\"data\":{\"barpolar\":[{\"marker\":{\"line\":{\"color\":\"rgb(237,237,237)\",\"width\":0.5},\"pattern\":{\"fillmode\":\"overlay\",\"size\":10,\"solidity\":0.2}},\"type\":\"barpolar\"}],\"bar\":[{\"error_x\":{\"color\":\"rgb(51,51,51)\"},\"error_y\":{\"color\":\"rgb(51,51,51)\"},\"marker\":{\"line\":{\"color\":\"rgb(237,237,237)\",\"width\":0.5},\"pattern\":{\"fillmode\":\"overlay\",\"size\":10,\"solidity\":0.2}},\"type\":\"bar\"}],\"carpet\":[{\"aaxis\":{\"endlinecolor\":\"rgb(51,51,51)\",\"gridcolor\":\"white\",\"linecolor\":\"white\",\"minorgridcolor\":\"white\",\"startlinecolor\":\"rgb(51,51,51)\"},\"baxis\":{\"endlinecolor\":\"rgb(51,51,51)\",\"gridcolor\":\"white\",\"linecolor\":\"white\",\"minorgridcolor\":\"white\",\"startlinecolor\":\"rgb(51,51,51)\"},\"type\":\"carpet\"}],\"choropleth\":[{\"colorbar\":{\"outlinewidth\":0,\"tickcolor\":\"rgb(237,237,237)\",\"ticklen\":6,\"ticks\":\"inside\"},\"type\":\"choropleth\"}],\"contourcarpet\":[{\"colorbar\":{\"outlinewidth\":0,\"tickcolor\":\"rgb(237,237,237)\",\"ticklen\":6,\"ticks\":\"inside\"},\"type\":\"contourcarpet\"}],\"contour\":[{\"colorbar\":{\"outlinewidth\":0,\"tickcolor\":\"rgb(237,237,237)\",\"ticklen\":6,\"ticks\":\"inside\"},\"colorscale\":[[0,\"rgb(20,44,66)\"],[1,\"rgb(90,179,244)\"]],\"type\":\"contour\"}],\"heatmapgl\":[{\"colorbar\":{\"outlinewidth\":0,\"tickcolor\":\"rgb(237,237,237)\",\"ticklen\":6,\"ticks\":\"inside\"},\"colorscale\":[[0,\"rgb(20,44,66)\"],[1,\"rgb(90,179,244)\"]],\"type\":\"heatmapgl\"}],\"heatmap\":[{\"colorbar\":{\"outlinewidth\":0,\"tickcolor\":\"rgb(237,237,237)\",\"ticklen\":6,\"ticks\":\"inside\"},\"colorscale\":[[0,\"rgb(20,44,66)\"],[1,\"rgb(90,179,244)\"]],\"type\":\"heatmap\"}],\"histogram2dcontour\":[{\"colorbar\":{\"outlinewidth\":0,\"tickcolor\":\"rgb(237,237,237)\",\"ticklen\":6,\"ticks\":\"inside\"},\"colorscale\":[[0,\"rgb(20,44,66)\"],[1,\"rgb(90,179,244)\"]],\"type\":\"histogram2dcontour\"}],\"histogram2d\":[{\"colorbar\":{\"outlinewidth\":0,\"tickcolor\":\"rgb(237,237,237)\",\"ticklen\":6,\"ticks\":\"inside\"},\"colorscale\":[[0,\"rgb(20,44,66)\"],[1,\"rgb(90,179,244)\"]],\"type\":\"histogram2d\"}],\"histogram\":[{\"marker\":{\"pattern\":{\"fillmode\":\"overlay\",\"size\":10,\"solidity\":0.2}},\"type\":\"histogram\"}],\"mesh3d\":[{\"colorbar\":{\"outlinewidth\":0,\"tickcolor\":\"rgb(237,237,237)\",\"ticklen\":6,\"ticks\":\"inside\"},\"type\":\"mesh3d\"}],\"parcoords\":[{\"line\":{\"colorbar\":{\"outlinewidth\":0,\"tickcolor\":\"rgb(237,237,237)\",\"ticklen\":6,\"ticks\":\"inside\"}},\"type\":\"parcoords\"}],\"pie\":[{\"automargin\":true,\"type\":\"pie\"}],\"scatter3d\":[{\"line\":{\"colorbar\":{\"outlinewidth\":0,\"tickcolor\":\"rgb(237,237,237)\",\"ticklen\":6,\"ticks\":\"inside\"}},\"marker\":{\"colorbar\":{\"outlinewidth\":0,\"tickcolor\":\"rgb(237,237,237)\",\"ticklen\":6,\"ticks\":\"inside\"}},\"type\":\"scatter3d\"}],\"scattercarpet\":[{\"marker\":{\"colorbar\":{\"outlinewidth\":0,\"tickcolor\":\"rgb(237,237,237)\",\"ticklen\":6,\"ticks\":\"inside\"}},\"type\":\"scattercarpet\"}],\"scattergeo\":[{\"marker\":{\"colorbar\":{\"outlinewidth\":0,\"tickcolor\":\"rgb(237,237,237)\",\"ticklen\":6,\"ticks\":\"inside\"}},\"type\":\"scattergeo\"}],\"scattergl\":[{\"marker\":{\"colorbar\":{\"outlinewidth\":0,\"tickcolor\":\"rgb(237,237,237)\",\"ticklen\":6,\"ticks\":\"inside\"}},\"type\":\"scattergl\"}],\"scattermapbox\":[{\"marker\":{\"colorbar\":{\"outlinewidth\":0,\"tickcolor\":\"rgb(237,237,237)\",\"ticklen\":6,\"ticks\":\"inside\"}},\"type\":\"scattermapbox\"}],\"scatterpolargl\":[{\"marker\":{\"colorbar\":{\"outlinewidth\":0,\"tickcolor\":\"rgb(237,237,237)\",\"ticklen\":6,\"ticks\":\"inside\"}},\"type\":\"scatterpolargl\"}],\"scatterpolar\":[{\"marker\":{\"colorbar\":{\"outlinewidth\":0,\"tickcolor\":\"rgb(237,237,237)\",\"ticklen\":6,\"ticks\":\"inside\"}},\"type\":\"scatterpolar\"}],\"scatter\":[{\"fillpattern\":{\"fillmode\":\"overlay\",\"size\":10,\"solidity\":0.2},\"type\":\"scatter\"}],\"scatterternary\":[{\"marker\":{\"colorbar\":{\"outlinewidth\":0,\"tickcolor\":\"rgb(237,237,237)\",\"ticklen\":6,\"ticks\":\"inside\"}},\"type\":\"scatterternary\"}],\"surface\":[{\"colorbar\":{\"outlinewidth\":0,\"tickcolor\":\"rgb(237,237,237)\",\"ticklen\":6,\"ticks\":\"inside\"},\"colorscale\":[[0,\"rgb(20,44,66)\"],[1,\"rgb(90,179,244)\"]],\"type\":\"surface\"}],\"table\":[{\"cells\":{\"fill\":{\"color\":\"rgb(237,237,237)\"},\"line\":{\"color\":\"white\"}},\"header\":{\"fill\":{\"color\":\"rgb(217,217,217)\"},\"line\":{\"color\":\"white\"}},\"type\":\"table\"}]},\"layout\":{\"annotationdefaults\":{\"arrowhead\":0,\"arrowwidth\":1},\"autotypenumbers\":\"strict\",\"coloraxis\":{\"colorbar\":{\"outlinewidth\":0,\"tickcolor\":\"rgb(237,237,237)\",\"ticklen\":6,\"ticks\":\"inside\"}},\"colorscale\":{\"sequential\":[[0,\"rgb(20,44,66)\"],[1,\"rgb(90,179,244)\"]],\"sequentialminus\":[[0,\"rgb(20,44,66)\"],[1,\"rgb(90,179,244)\"]]},\"colorway\":[\"#F8766D\",\"#A3A500\",\"#00BF7D\",\"#00B0F6\",\"#E76BF3\"],\"font\":{\"color\":\"rgb(51,51,51)\"},\"geo\":{\"bgcolor\":\"white\",\"lakecolor\":\"white\",\"landcolor\":\"rgb(237,237,237)\",\"showlakes\":true,\"showland\":true,\"subunitcolor\":\"white\"},\"hoverlabel\":{\"align\":\"left\"},\"hovermode\":\"closest\",\"paper_bgcolor\":\"white\",\"plot_bgcolor\":\"rgb(237,237,237)\",\"polar\":{\"angularaxis\":{\"gridcolor\":\"white\",\"linecolor\":\"white\",\"showgrid\":true,\"tickcolor\":\"rgb(51,51,51)\",\"ticks\":\"outside\"},\"bgcolor\":\"rgb(237,237,237)\",\"radialaxis\":{\"gridcolor\":\"white\",\"linecolor\":\"white\",\"showgrid\":true,\"tickcolor\":\"rgb(51,51,51)\",\"ticks\":\"outside\"}},\"scene\":{\"xaxis\":{\"backgroundcolor\":\"rgb(237,237,237)\",\"gridcolor\":\"white\",\"gridwidth\":2,\"linecolor\":\"white\",\"showbackground\":true,\"showgrid\":true,\"tickcolor\":\"rgb(51,51,51)\",\"ticks\":\"outside\",\"zerolinecolor\":\"white\"},\"yaxis\":{\"backgroundcolor\":\"rgb(237,237,237)\",\"gridcolor\":\"white\",\"gridwidth\":2,\"linecolor\":\"white\",\"showbackground\":true,\"showgrid\":true,\"tickcolor\":\"rgb(51,51,51)\",\"ticks\":\"outside\",\"zerolinecolor\":\"white\"},\"zaxis\":{\"backgroundcolor\":\"rgb(237,237,237)\",\"gridcolor\":\"white\",\"gridwidth\":2,\"linecolor\":\"white\",\"showbackground\":true,\"showgrid\":true,\"tickcolor\":\"rgb(51,51,51)\",\"ticks\":\"outside\",\"zerolinecolor\":\"white\"}},\"shapedefaults\":{\"fillcolor\":\"black\",\"line\":{\"width\":0},\"opacity\":0.3},\"ternary\":{\"aaxis\":{\"gridcolor\":\"white\",\"linecolor\":\"white\",\"showgrid\":true,\"tickcolor\":\"rgb(51,51,51)\",\"ticks\":\"outside\"},\"baxis\":{\"gridcolor\":\"white\",\"linecolor\":\"white\",\"showgrid\":true,\"tickcolor\":\"rgb(51,51,51)\",\"ticks\":\"outside\"},\"bgcolor\":\"rgb(237,237,237)\",\"caxis\":{\"gridcolor\":\"white\",\"linecolor\":\"white\",\"showgrid\":true,\"tickcolor\":\"rgb(51,51,51)\",\"ticks\":\"outside\"}},\"xaxis\":{\"automargin\":true,\"gridcolor\":\"white\",\"linecolor\":\"white\",\"showgrid\":true,\"tickcolor\":\"rgb(51,51,51)\",\"ticks\":\"outside\",\"title\":{\"standoff\":15},\"zerolinecolor\":\"white\"},\"yaxis\":{\"automargin\":true,\"gridcolor\":\"white\",\"linecolor\":\"white\",\"showgrid\":true,\"tickcolor\":\"rgb(51,51,51)\",\"ticks\":\"outside\",\"title\":{\"standoff\":15},\"zerolinecolor\":\"white\"}}}},                        {\"responsive\": true}                    ).then(function(){\n                            \nvar gd = document.getElementById('bca3f4bd-b418-437b-866c-4be3e5f4c3ad');\nvar x = new MutationObserver(function (mutations, observer) {{\n        var display = window.getComputedStyle(gd).display;\n        if (!display || display === 'none') {{\n            console.log([gd, 'removed!']);\n            Plotly.purge(gd);\n            observer.disconnect();\n        }}\n}});\n\n// Listen for the removal of the full notebook cells\nvar notebookContainer = gd.closest('#notebook-container');\nif (notebookContainer) {{\n    x.observe(notebookContainer, {childList: true});\n}}\n\n// Listen for the clearing of the current output cell\nvar outputEl = gd.closest('.output');\nif (outputEl) {{\n    x.observe(outputEl, {childList: true});\n}}\n\n                        })                };                });            </script>        </div>"
     },
     "metadata": {},
     "output_type": "display_data"
    }
   ],
   "source": [
    "edge_trace.append(node_trace)\n",
    "\n",
    "fig = go.Figure(data=edge_trace,\n",
    "                layout=go.Layout(\n",
    "                    title='<br>Network graph showing actors collaborations',\n",
    "                    titlefont_size=16,\n",
    "                    showlegend=False,\n",
    "                    hovermode='closest',\n",
    "                    margin=dict(b=20, l=5, r=5, t=40),\n",
    "                    xaxis=dict(showgrid=False, zeroline=False, showticklabels=False),\n",
    "                    yaxis=dict(showgrid=False, zeroline=False, showticklabels=False))\n",
    "                )\n",
    "fig.update_traces(textposition='top center', textfont=dict(family='sans-serif', size=15, color='#000'))\n",
    "fig.update_layout(template='ggplot2')\n",
    "fig.show()"
   ],
   "metadata": {
    "collapsed": false,
    "pycharm": {
     "name": "#%%\n"
    }
   }
  },
  {
   "cell_type": "code",
   "execution_count": 290,
   "outputs": [],
   "source": [
    "fig.write_image(\"../img/Commission/network.jpeg\", width=1900, height=800)"
   ],
   "metadata": {
    "collapsed": false,
    "pycharm": {
     "name": "#%%\n"
    }
   }
  },
  {
   "cell_type": "code",
   "execution_count": null,
   "outputs": [],
   "source": [],
   "metadata": {
    "collapsed": false,
    "pycharm": {
     "name": "#%%\n"
    }
   }
  }
 ],
 "metadata": {
  "kernelspec": {
   "display_name": "Python 3",
   "language": "python",
   "name": "python3"
  },
  "language_info": {
   "codemirror_mode": {
    "name": "ipython",
    "version": 2
   },
   "file_extension": ".py",
   "mimetype": "text/x-python",
   "name": "python",
   "nbconvert_exporter": "python",
   "pygments_lexer": "ipython2",
   "version": "2.7.6"
  }
 },
 "nbformat": 4,
 "nbformat_minor": 0
}